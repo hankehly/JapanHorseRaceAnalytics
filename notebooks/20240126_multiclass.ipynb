{
 "cells": [
  {
   "cell_type": "markdown",
   "metadata": {},
   "source": [
    "# Summary\n",
    "\n",
    "Use multiclass to predict the place of each horse.\n",
    "\n",
    "This way you can also make other types of bets.\n",
    "\n",
    "Choose a fixed number of classes equal to the maximum number of horses in any race (16 in your case). For races with fewer horses, you can treat the absent horses as an additional class or use a ‘no horse’ placeholder. This approach keeps the class number consistent but can introduce some artificial noise in your data."
   ]
  }
 ],
 "metadata": {
  "language_info": {
   "name": "python"
  }
 },
 "nbformat": 4,
 "nbformat_minor": 2
}
