{
 "cells": [
  {
   "cell_type": "markdown",
   "metadata": {},
   "source": [
    "# Summary\n",
    "\n",
    "Cluster training data on most important features. Train a model on each cluster. During prediction, use the model of the cluster with the closest centroid.\n",
    "\n",
    "## Insights\n",
    "\n",
    "Todo"
   ]
  },
  {
   "cell_type": "code",
   "execution_count": 1,
   "metadata": {},
   "outputs": [],
   "source": [
    "import re\n",
    "import tempfile\n",
    "\n",
    "import lightgbm as lgb\n",
    "import matplotlib.font_manager as fm\n",
    "import matplotlib.pyplot as plt\n",
    "import matplotlib.ticker as ticker\n",
    "import mlflow\n",
    "import numpy as np\n",
    "import pandas as pd\n",
    "import seaborn as sns\n",
    "from hyperopt import STATUS_OK, SparkTrials, Trials, fmin, hp, tpe\n",
    "from hyperopt.pyll.base import scope\n",
    "from mlflow.models.signature import ModelSignature\n",
    "from mlflow.types.schema import ColSpec, Schema\n",
    "from pyspark.sql import SparkSession\n",
    "from sklearn.base import BaseEstimator, ClassifierMixin\n",
    "from sklearn.cluster import KMeans\n",
    "from sklearn.compose import ColumnTransformer\n",
    "from sklearn.impute import SimpleImputer\n",
    "from sklearn.metrics import (\n",
    "    accuracy_score,\n",
    "    auc,\n",
    "    confusion_matrix,\n",
    "    f1_score,\n",
    "    log_loss,\n",
    "    precision_score,\n",
    "    recall_score,\n",
    "    roc_auc_score,\n",
    "    roc_curve,\n",
    ")\n",
    "from sklearn.model_selection import train_test_split\n",
    "from sklearn.pipeline import Pipeline\n",
    "from sklearn.preprocessing import OneHotEncoder, StandardScaler\n",
    "from sqlalchemy import create_engine\n",
    "\n",
    "from JapanHorseRaceAnalytics.models.features_20240120_v1 import Features\n",
    "from JapanHorseRaceAnalytics.utilities.base import get_data_dir, read_sql_table\n",
    "from JapanHorseRaceAnalytics.utilities.metrics import (\n",
    "    calculate_binary_classifier_statistics,\n",
    ")\n",
    "from JapanHorseRaceAnalytics.utilities.mlflow import get_colspecs\n",
    "from JapanHorseRaceAnalytics.utilities.structured_logger import logger\n",
    "\n",
    "pd.set_option(\"display.max_rows\", 100)\n",
    "pd.set_option(\"display.max_columns\", 100)"
   ]
  },
  {
   "cell_type": "markdown",
   "metadata": {},
   "source": [
    "# Load data"
   ]
  },
  {
   "cell_type": "code",
   "execution_count": 3,
   "metadata": {},
   "outputs": [
    {
     "name": "stderr",
     "output_type": "stream",
     "text": [
      "{\"event\": \"Read from parquet /Users/hankehly/Projects/JapanHorseRaceAnalytics/data/sql_tables/features_20240120_v1.snappy.parquet\", \"level\": \"info\", \"timestamp\": \"2024-01-31T22:27:49.462870Z\", \"logger\": \"JapanHorseRaceAnalytics.utilities.base\"}\n"
     ]
    }
   ],
   "source": [
    "data = read_sql_table(\"features_20240120_v1\", schema=\"jrdb_curated\").astype(\n",
    "    Features.get_pandas_dtypes()\n",
    ")\n",
    "\n",
    "# Only include races where トラック種別 is ダート or 芝\n",
    "data = data[data[\"トラック種別\"].isin([\"ダート\", \"芝\"])]"
   ]
  },
  {
   "cell_type": "markdown",
   "metadata": {},
   "source": [
    "# Cluster based on important features"
   ]
  },
  {
   "cell_type": "code",
   "execution_count": 11,
   "metadata": {},
   "outputs": [
    {
     "name": "stderr",
     "output_type": "stream",
     "text": [
      "{\"event\": \"Running kmeans with k=1\", \"level\": \"info\", \"timestamp\": \"2024-01-31T22:43:19.309392Z\", \"logger\": \"JapanHorseRaceAnalytics.utilities.base\"}\n",
      "/Users/hankehly/Projects/JapanHorseRaceAnalytics/.venv/lib/python3.11/site-packages/sklearn/cluster/_kmeans.py:1416: FutureWarning: The default value of `n_init` will change from 10 to 'auto' in 1.4. Set the value of `n_init` explicitly to suppress the warning\n",
      "  super()._check_params_vs_input(X, default_n_init=10)\n",
      "/var/folders/1p/ngsbv_gj3px52qmhqchv10j00000gn/T/ipykernel_4575/223805204.py:65: PerformanceWarning: DataFrame is highly fragmented.  This is usually the result of calling `frame.insert` many times, which has poor performance.  Consider joining all columns at once using pd.concat(axis=1) instead. To get a de-fragmented frame, use `newframe = frame.copy()`\n",
      "  data[\"clusters\"] = kmeans.labels_\n",
      "{\"event\": \"Running kmeans with k=2\", \"level\": \"info\", \"timestamp\": \"2024-01-31T22:43:21.108229Z\", \"logger\": \"JapanHorseRaceAnalytics.utilities.base\"}\n",
      "/Users/hankehly/Projects/JapanHorseRaceAnalytics/.venv/lib/python3.11/site-packages/sklearn/cluster/_kmeans.py:1416: FutureWarning: The default value of `n_init` will change from 10 to 'auto' in 1.4. Set the value of `n_init` explicitly to suppress the warning\n",
      "  super()._check_params_vs_input(X, default_n_init=10)\n",
      "{\"event\": \"Running kmeans with k=3\", \"level\": \"info\", \"timestamp\": \"2024-01-31T22:43:24.570075Z\", \"logger\": \"JapanHorseRaceAnalytics.utilities.base\"}\n",
      "/Users/hankehly/Projects/JapanHorseRaceAnalytics/.venv/lib/python3.11/site-packages/sklearn/cluster/_kmeans.py:1416: FutureWarning: The default value of `n_init` will change from 10 to 'auto' in 1.4. Set the value of `n_init` explicitly to suppress the warning\n",
      "  super()._check_params_vs_input(X, default_n_init=10)\n",
      "{\"event\": \"Running kmeans with k=4\", \"level\": \"info\", \"timestamp\": \"2024-01-31T22:43:29.021091Z\", \"logger\": \"JapanHorseRaceAnalytics.utilities.base\"}\n",
      "/Users/hankehly/Projects/JapanHorseRaceAnalytics/.venv/lib/python3.11/site-packages/sklearn/cluster/_kmeans.py:1416: FutureWarning: The default value of `n_init` will change from 10 to 'auto' in 1.4. Set the value of `n_init` explicitly to suppress the warning\n",
      "  super()._check_params_vs_input(X, default_n_init=10)\n",
      "{\"event\": \"Running kmeans with k=5\", \"level\": \"info\", \"timestamp\": \"2024-01-31T22:43:35.880456Z\", \"logger\": \"JapanHorseRaceAnalytics.utilities.base\"}\n",
      "/Users/hankehly/Projects/JapanHorseRaceAnalytics/.venv/lib/python3.11/site-packages/sklearn/cluster/_kmeans.py:1416: FutureWarning: The default value of `n_init` will change from 10 to 'auto' in 1.4. Set the value of `n_init` explicitly to suppress the warning\n",
      "  super()._check_params_vs_input(X, default_n_init=10)\n",
      "{\"event\": \"Running kmeans with k=6\", \"level\": \"info\", \"timestamp\": \"2024-01-31T22:43:42.655821Z\", \"logger\": \"JapanHorseRaceAnalytics.utilities.base\"}\n",
      "/Users/hankehly/Projects/JapanHorseRaceAnalytics/.venv/lib/python3.11/site-packages/sklearn/cluster/_kmeans.py:1416: FutureWarning: The default value of `n_init` will change from 10 to 'auto' in 1.4. Set the value of `n_init` explicitly to suppress the warning\n",
      "  super()._check_params_vs_input(X, default_n_init=10)\n",
      "{\"event\": \"Running kmeans with k=7\", \"level\": \"info\", \"timestamp\": \"2024-01-31T22:43:50.633293Z\", \"logger\": \"JapanHorseRaceAnalytics.utilities.base\"}\n",
      "/Users/hankehly/Projects/JapanHorseRaceAnalytics/.venv/lib/python3.11/site-packages/sklearn/cluster/_kmeans.py:1416: FutureWarning: The default value of `n_init` will change from 10 to 'auto' in 1.4. Set the value of `n_init` explicitly to suppress the warning\n",
      "  super()._check_params_vs_input(X, default_n_init=10)\n",
      "{\"event\": \"Running kmeans with k=8\", \"level\": \"info\", \"timestamp\": \"2024-01-31T22:44:00.032574Z\", \"logger\": \"JapanHorseRaceAnalytics.utilities.base\"}\n",
      "/Users/hankehly/Projects/JapanHorseRaceAnalytics/.venv/lib/python3.11/site-packages/sklearn/cluster/_kmeans.py:1416: FutureWarning: The default value of `n_init` will change from 10 to 'auto' in 1.4. Set the value of `n_init` explicitly to suppress the warning\n",
      "  super()._check_params_vs_input(X, default_n_init=10)\n",
      "{\"event\": \"Running kmeans with k=9\", \"level\": \"info\", \"timestamp\": \"2024-01-31T22:44:08.949576Z\", \"logger\": \"JapanHorseRaceAnalytics.utilities.base\"}\n",
      "/Users/hankehly/Projects/JapanHorseRaceAnalytics/.venv/lib/python3.11/site-packages/sklearn/cluster/_kmeans.py:1416: FutureWarning: The default value of `n_init` will change from 10 to 'auto' in 1.4. Set the value of `n_init` explicitly to suppress the warning\n",
      "  super()._check_params_vs_input(X, default_n_init=10)\n"
     ]
    },
    {
     "data": {
      "image/png": "[encoded data removed]",
      "text/plain": [
       "<Figure size 640x480 with 1 Axes>"
      ]
     },
     "metadata": {},
     "output_type": "display_data"
    }
   ],
   "source": [
    "important_features = [\n",
    "    \"トラック種別\",\n",
    "    \"入厩何日前\",\n",
    "    \"temperature\",\n",
    "    \"馬体重\",\n",
    "    \"中間降水量\",\n",
    "    \"騎手1位完走平均賞金\",\n",
    "    \"展開予想データ_テン指数\",\n",
    "    \"wind_speed\",\n",
    "    \"展開予想データ_位置指数\",\n",
    "    \"local_air_pressure\",\n",
    "    \"万券指数\",\n",
    "    \"調教指数\",\n",
    "    \"調教師1位完走平均賞金\",\n",
    "    \"馬場差\",\n",
    "    \"relative_humidity\",\n",
    "    \"展開予想データ_上がり指数\",\n",
    "    \"厩舎指数\",\n",
    "    \"激走指数\",\n",
    "    \"調教師場所1位完走率\",\n",
    "    \"展開予想データ_ペース指数\",\n",
    "    \"solar_radiation\",\n",
    "    \"IDM標準偏差\",\n",
    "    \"単勝オッズ\",\n",
    "    \"複勝オッズ\",\n",
    "    \"年齢\",\n",
    "    \"人気指数\",\n",
    "    \"展開予想データ_ゴール差\",\n",
    "    \"基準複勝オッズ\",\n",
    "]\n",
    "\n",
    "X_clustering = data[important_features]\n",
    "numeric_features = X_clustering.select_dtypes(\"number\").columns.tolist()\n",
    "categorical_features = X_clustering.select_dtypes(\"category\").columns.tolist()\n",
    "preprocessor = ColumnTransformer(\n",
    "    transformers=[\n",
    "        (\n",
    "            \"num\",\n",
    "            Pipeline(\n",
    "                [\n",
    "                    (\"imputer\", SimpleImputer(strategy=\"median\")),\n",
    "                    (\"std_scaler\", StandardScaler()),\n",
    "                ]\n",
    "            ),\n",
    "            numeric_features,\n",
    "        ),\n",
    "        (\n",
    "            \"cat\",\n",
    "            OneHotEncoder(handle_unknown=\"ignore\"),\n",
    "            categorical_features,\n",
    "        ),\n",
    "    ]\n",
    ")\n",
    "X_clustering_prep = preprocessor.fit_transform(X_clustering)\n",
    "sse = {}\n",
    "for k in range(1, 10):\n",
    "    logger.info(f\"Running kmeans with k={k}\")\n",
    "    kmeans = KMeans(n_clusters=k, max_iter=1000).fit(X_clustering_prep)\n",
    "    data[\"clusters\"] = kmeans.labels_\n",
    "    # Inertia: Sum of distances of samples to their closest cluster center\n",
    "    sse[k] = kmeans.inertia_\n",
    "plt.figure()\n",
    "plt.plot(list(sse.keys()), list(sse.values()))\n",
    "plt.xlabel(\"Number of cluster\")\n",
    "plt.ylabel(\"SSE\")\n",
    "plt.show()"
   ]
  },
  {
   "cell_type": "markdown",
   "metadata": {},
   "source": []
  },
  {
   "cell_type": "markdown",
   "metadata": {},
   "source": [
    "# Train/test split"
   ]
  },
  {
   "cell_type": "code",
   "execution_count": 4,
   "metadata": {},
   "outputs": [
    {
     "name": "stdout",
     "output_type": "stream",
     "text": [
      "X_train: (857061, 288)\n",
      "X_test: (214266, 288)\n",
      "y_train: (857061,)\n",
      "y_test: (214266,)\n"
     ]
    }
   ],
   "source": [
    "X = data.drop(Features.get_label(), axis=\"columns\")\n",
    "y = data[Features.get_label()]\n",
    "X_train, X_test, y_train, y_test = train_test_split(\n",
    "    X, y, test_size=0.2, random_state=42\n",
    ")\n",
    "print(f\"X_train: {X_train.shape}\")\n",
    "print(f\"X_test: {X_test.shape}\")\n",
    "print(f\"y_train: {y_train.shape}\")\n",
    "print(f\"y_test: {y_test.shape}\")"
   ]
  },
  {
   "cell_type": "code",
   "execution_count": null,
   "metadata": {},
   "outputs": [],
   "source": []
  }
 ],
 "metadata": {
  "kernelspec": {
   "display_name": ".venv",
   "language": "python",
   "name": "python3"
  },
  "language_info": {
   "codemirror_mode": {
    "name": "ipython",
    "version": 3
   },
   "file_extension": ".py",
   "mimetype": "text/x-python",
   "name": "python",
   "nbconvert_exporter": "python",
   "pygments_lexer": "ipython3",
   "version": "3.11.6"
  }
 },
 "nbformat": 4,
 "nbformat_minor": 2
}
