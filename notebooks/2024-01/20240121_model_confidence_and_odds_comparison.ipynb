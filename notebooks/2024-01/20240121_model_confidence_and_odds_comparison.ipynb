{
 "cells": [
  {
   "cell_type": "markdown",
   "metadata": {},
   "source": [
    "# Summary\n",
    "\n",
    "Model Confidence and Odds Comparison.\n",
    "\n",
    "Only bet when there is a significant difference between the odds and model probability.\n",
    "\n",
    "Compare your model’s confidence in its predictions with the odds provided by bookmakers. A good betting opportunity is often where there is a significant discrepancy between your model’s prediction and the odds offered. For instance, if your model strongly believes a horse with long odds will perform well, that might represent a good value bet."
   ]
  },
  {
   "cell_type": "code",
   "execution_count": null,
   "metadata": {},
   "outputs": [],
   "source": []
  }
 ],
 "metadata": {
  "language_info": {
   "name": "python"
  }
 },
 "nbformat": 4,
 "nbformat_minor": 2
}
