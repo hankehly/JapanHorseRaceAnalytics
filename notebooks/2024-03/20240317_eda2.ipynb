{
 "cells": [
  {
   "cell_type": "markdown",
   "metadata": {},
   "source": [
    "# TrueSkill\n",
    "\n",
    "Findings:\n",
    "* TrueSkill rating is highly correlated with 複勝率\n",
    "* Lower ratings show more predictive power according to SHAP values\n",
    "* Takees about 2.5 minutes to calculate ratings for all horses since 2000\n",
    "* Noticed a 1-2% improvement in precision, which is significant for us.\n",
    "* Next step would be to compare self rating with mean rating of opponents and see if that has any predictive power."
   ]
  },
  {
   "cell_type": "code",
   "execution_count": 15,
   "metadata": {},
   "outputs": [],
   "source": [
    "import pandas as pd\n",
    "import trueskill\n",
    "\n",
    "from JapanHorseRaceAnalytics.utilities.base import get_spark_session, read_hive_table\n",
    "from JapanHorseRaceAnalytics.utilities.structured_logger import logger"
   ]
  },
  {
   "cell_type": "code",
   "execution_count": 11,
   "metadata": {},
   "outputs": [
    {
     "name": "stderr",
     "output_type": "stream",
     "text": [
      "24/03/16 17:08:05 WARN Utils: Your hostname, Hanks-MacBook-Pro.local resolves to a loopback address: 127.0.0.1; using 172.20.6.115 instead (on interface en0)\n",
      "24/03/16 17:08:05 WARN Utils: Set SPARK_LOCAL_IP if you need to bind to another address\n",
      "24/03/16 17:08:05 WARN NativeCodeLoader: Unable to load native-hadoop library for your platform... using builtin-java classes where applicable\n",
      "Setting default log level to \"WARN\".\n",
      "To adjust logging level use sc.setLogLevel(newLevel). For SparkR, use setLogLevel(newLevel).\n",
      "24/03/16 17:08:06 WARN Utils: Service 'SparkUI' could not bind on port 4040. Attempting port 4041.\n"
     ]
    }
   ],
   "source": [
    "spark = get_spark_session()"
   ]
  },
  {
   "cell_type": "code",
   "execution_count": 25,
   "metadata": {},
   "outputs": [
    {
     "name": "stderr",
     "output_type": "stream",
     "text": [
      "{\"event\": \"Read from parquet /Users/hankehly/Projects/JapanHorseRaceAnalytics/data/sql_tables/features_20240304_v1.snappy.parquet to pandas\", \"level\": \"info\", \"timestamp\": \"2024-03-16T08:16:21.876208Z\", \"logger\": \"JapanHorseRaceAnalytics.utilities.base\"}\n",
      "{\"event\": \"Original data length: 1217019\", \"level\": \"info\", \"timestamp\": \"2024-03-16T08:16:22.610027Z\", \"logger\": \"JapanHorseRaceAnalytics.utilities.base\"}\n",
      "{\"event\": \"Data length after filtering: 1162067 (dropped 54952 rows, 4.52%)\", \"level\": \"info\", \"timestamp\": \"2024-03-16T08:16:23.153476Z\", \"logger\": \"JapanHorseRaceAnalytics.utilities.base\"}\n"
     ]
    },
    {
     "data": {
      "text/html": [
       "<div>\n",
       "<style scoped>\n",
       "    .dataframe tbody tr th:only-of-type {\n",
       "        vertical-align: middle;\n",
       "    }\n",
       "\n",
       "    .dataframe tbody tr th {\n",
       "        vertical-align: top;\n",
       "    }\n",
       "\n",
       "    .dataframe thead th {\n",
       "        text-align: right;\n",
       "    }\n",
       "</style>\n",
       "<table border=\"1\" class=\"dataframe\">\n",
       "  <thead>\n",
       "    <tr style=\"text-align: right;\">\n",
       "      <th></th>\n",
       "      <th>meta_単勝払戻金</th>\n",
       "      <th>meta_複勝払戻金</th>\n",
       "      <th>meta_レースキー</th>\n",
       "      <th>meta_馬番</th>\n",
       "      <th>meta_血統登録番号</th>\n",
       "      <th>meta_発走日時</th>\n",
       "      <th>meta_単勝的中</th>\n",
       "      <th>meta_複勝的中</th>\n",
       "      <th>meta_複勝オッズ</th>\n",
       "      <th>meta_着順</th>\n",
       "      <th>...</th>\n",
       "      <th>cat_6走前休養理由分類コード</th>\n",
       "      <th>num_6走前3着タイム差</th>\n",
       "      <th>cat_トラック種別</th>\n",
       "      <th>num_距離</th>\n",
       "      <th>num_過去3走重み付き着順成績</th>\n",
       "      <th>num_入厩何日前逆数</th>\n",
       "      <th>cat_堅実な馬</th>\n",
       "      <th>cat_過去3走中1走訳あり凡走</th>\n",
       "      <th>cat_過去3走中2走好走</th>\n",
       "      <th>cat_過去3走繋がりあり</th>\n",
       "    </tr>\n",
       "  </thead>\n",
       "  <tbody>\n",
       "    <tr>\n",
       "      <th>0</th>\n",
       "      <td>0</td>\n",
       "      <td>0</td>\n",
       "      <td>06033104</td>\n",
       "      <td>09</td>\n",
       "      <td>00100045</td>\n",
       "      <td>2003-03-01 11:20:00+09:00</td>\n",
       "      <td>0</td>\n",
       "      <td>0</td>\n",
       "      <td>20.5</td>\n",
       "      <td>14.0</td>\n",
       "      <td>...</td>\n",
       "      <td>None</td>\n",
       "      <td>NaN</td>\n",
       "      <td>ダート</td>\n",
       "      <td>1800</td>\n",
       "      <td>NaN</td>\n",
       "      <td>1.0</td>\n",
       "      <td>False</td>\n",
       "      <td>False</td>\n",
       "      <td>False</td>\n",
       "      <td>False</td>\n",
       "    </tr>\n",
       "    <tr>\n",
       "      <th>1</th>\n",
       "      <td>0</td>\n",
       "      <td>0</td>\n",
       "      <td>01032410</td>\n",
       "      <td>03</td>\n",
       "      <td>00100051</td>\n",
       "      <td>2003-09-21 14:55:00+09:00</td>\n",
       "      <td>0</td>\n",
       "      <td>0</td>\n",
       "      <td>3.6</td>\n",
       "      <td>7.0</td>\n",
       "      <td>...</td>\n",
       "      <td>None</td>\n",
       "      <td>NaN</td>\n",
       "      <td>芝</td>\n",
       "      <td>2600</td>\n",
       "      <td>NaN</td>\n",
       "      <td>1.0</td>\n",
       "      <td>False</td>\n",
       "      <td>False</td>\n",
       "      <td>False</td>\n",
       "      <td>False</td>\n",
       "    </tr>\n",
       "    <tr>\n",
       "      <th>2</th>\n",
       "      <td>0</td>\n",
       "      <td>0</td>\n",
       "      <td>01032809</td>\n",
       "      <td>04</td>\n",
       "      <td>00100051</td>\n",
       "      <td>2003-10-05 14:10:00+09:00</td>\n",
       "      <td>0</td>\n",
       "      <td>0</td>\n",
       "      <td>11.4</td>\n",
       "      <td>12.0</td>\n",
       "      <td>...</td>\n",
       "      <td>None</td>\n",
       "      <td>NaN</td>\n",
       "      <td>芝</td>\n",
       "      <td>2000</td>\n",
       "      <td>NaN</td>\n",
       "      <td>1.0</td>\n",
       "      <td>False</td>\n",
       "      <td>False</td>\n",
       "      <td>False</td>\n",
       "      <td>False</td>\n",
       "    </tr>\n",
       "    <tr>\n",
       "      <th>3</th>\n",
       "      <td>0</td>\n",
       "      <td>1330</td>\n",
       "      <td>04022306</td>\n",
       "      <td>02</td>\n",
       "      <td>00100076</td>\n",
       "      <td>2002-07-20 12:50:00+09:00</td>\n",
       "      <td>0</td>\n",
       "      <td>1</td>\n",
       "      <td>9.5</td>\n",
       "      <td>3.0</td>\n",
       "      <td>...</td>\n",
       "      <td>None</td>\n",
       "      <td>NaN</td>\n",
       "      <td>芝</td>\n",
       "      <td>1200</td>\n",
       "      <td>NaN</td>\n",
       "      <td>1.0</td>\n",
       "      <td>False</td>\n",
       "      <td>False</td>\n",
       "      <td>False</td>\n",
       "      <td>False</td>\n",
       "    </tr>\n",
       "    <tr>\n",
       "      <th>4</th>\n",
       "      <td>0</td>\n",
       "      <td>0</td>\n",
       "      <td>04022706</td>\n",
       "      <td>03</td>\n",
       "      <td>00100076</td>\n",
       "      <td>2002-08-03 12:50:00+09:00</td>\n",
       "      <td>0</td>\n",
       "      <td>0</td>\n",
       "      <td>1.7</td>\n",
       "      <td>6.0</td>\n",
       "      <td>...</td>\n",
       "      <td>None</td>\n",
       "      <td>NaN</td>\n",
       "      <td>芝</td>\n",
       "      <td>1600</td>\n",
       "      <td>NaN</td>\n",
       "      <td>1.0</td>\n",
       "      <td>False</td>\n",
       "      <td>False</td>\n",
       "      <td>False</td>\n",
       "      <td>False</td>\n",
       "    </tr>\n",
       "  </tbody>\n",
       "</table>\n",
       "<p>5 rows × 108 columns</p>\n",
       "</div>"
      ],
      "text/plain": [
       "   meta_単勝払戻金  meta_複勝払戻金 meta_レースキー meta_馬番 meta_血統登録番号  \\\n",
       "0           0           0   06033104      09    00100045   \n",
       "1           0           0   01032410      03    00100051   \n",
       "2           0           0   01032809      04    00100051   \n",
       "3           0        1330   04022306      02    00100076   \n",
       "4           0           0   04022706      03    00100076   \n",
       "\n",
       "                   meta_発走日時  meta_単勝的中  meta_複勝的中  meta_複勝オッズ  meta_着順  ...  \\\n",
       "0  2003-03-01 11:20:00+09:00          0          0        20.5     14.0  ...   \n",
       "1  2003-09-21 14:55:00+09:00          0          0         3.6      7.0  ...   \n",
       "2  2003-10-05 14:10:00+09:00          0          0        11.4     12.0  ...   \n",
       "3  2002-07-20 12:50:00+09:00          0          1         9.5      3.0  ...   \n",
       "4  2002-08-03 12:50:00+09:00          0          0         1.7      6.0  ...   \n",
       "\n",
       "   cat_6走前休養理由分類コード  num_6走前3着タイム差 cat_トラック種別 num_距離  num_過去3走重み付き着順成績  \\\n",
       "0              None            NaN        ダート   1800               NaN   \n",
       "1              None            NaN          芝   2600               NaN   \n",
       "2              None            NaN          芝   2000               NaN   \n",
       "3              None            NaN          芝   1200               NaN   \n",
       "4              None            NaN          芝   1600               NaN   \n",
       "\n",
       "   num_入厩何日前逆数 cat_堅実な馬  cat_過去3走中1走訳あり凡走  cat_過去3走中2走好走  cat_過去3走繋がりあり  \n",
       "0          1.0    False             False          False          False  \n",
       "1          1.0    False             False          False          False  \n",
       "2          1.0    False             False          False          False  \n",
       "3          1.0    False             False          False          False  \n",
       "4          1.0    False             False          False          False  \n",
       "\n",
       "[5 rows x 108 columns]"
      ]
     },
     "execution_count": 25,
     "metadata": {},
     "output_type": "execute_result"
    }
   ],
   "source": [
    "data = read_hive_table(\n",
    "    table_name=\"features_20240304_v1\",\n",
    "    schema=\"jhra_curated\",\n",
    "    spark_session=spark,\n",
    "    # use_cache=False,\n",
    "    parse_dates=[\"meta_発走日時\"],\n",
    ")\n",
    "\n",
    "rows_before = data.shape[0]\n",
    "logger.info(f\"Original data length: {rows_before}\")\n",
    "\n",
    "# Drop from data where cat_トラック種別 == \"障害\"\n",
    "# Keep only horses that have 3 races\n",
    "# Keep only data from 2000 onwards\n",
    "data = data[\n",
    "    # (data[\"cat_トラック種別\"] != \"障害\")\n",
    "    (~data[\"meta_着順\"].isna())\n",
    "    # & (data[\"meta_異常区分\"] == \"0\")\n",
    "    # & (data[\"num_1走前着順\"].notnull())\n",
    "    # & (data[\"num_2走前着順\"].notnull())\n",
    "    # & (data[\"num_3走前着順\"].notnull())\n",
    "    & (data[\"meta_発走日時\"] >= \"2000-01-01\")\n",
    "]\n",
    "\n",
    "rows_after = data.shape[0]\n",
    "logger.info(\n",
    "    f\"Data length after filtering: {rows_after} (dropped {rows_before - rows_after} rows, {100 * (rows_before - rows_after) / rows_before:.2f}%)\"\n",
    ")\n",
    "\n",
    "# Interpolate missing values for num_馬体重 (20 instances from 1999 ~ 2017)\n",
    "data[\"num_馬体重\"] = (\n",
    "    data.sort_values(\"meta_発走日時\")\n",
    "    .groupby(\"meta_血統登録番号\")[\"num_馬体重\"]\n",
    "    .transform(lambda x: x.interpolate(method=\"linear\", limit_direction=\"both\"))\n",
    ")\n",
    "\n",
    "data.reset_index(drop=True, inplace=True)\n",
    "data.head()"
   ]
  },
  {
   "cell_type": "code",
   "execution_count": 49,
   "metadata": {},
   "outputs": [
    {
     "name": "stderr",
     "output_type": "stream",
     "text": [
      "100%|██████████| 82822/82822 [02:59<00:00, 461.03it/s]\n"
     ]
    }
   ],
   "source": [
    "import pandas as pd\n",
    "import trueskill\n",
    "import tqdm\n",
    "\n",
    "# Assuming df is your DataFrame\n",
    "df_sorted = data.sort_values(by=[\"meta_発走日時\", \"meta_レースキー\"])\n",
    "\n",
    "# Initialize the TrueSkill environment\n",
    "env = trueskill.TrueSkill(draw_probability=0)  # No draws in horse racing\n",
    "\n",
    "# Initialize ratings for all horses\n",
    "horse_ratings = {\n",
    "    horse_id: env.create_rating()\n",
    "    for horse_id in df_sorted[\"meta_血統登録番号\"].unique()\n",
    "}\n",
    "\n",
    "# Placeholder for ratings at each point in time\n",
    "df_sorted[\"rating_at_time\"] = pd.NA\n",
    "\n",
    "# Iterate through races in chronological order\n",
    "for (_, race_id), race_data in tqdm.tqdm(df_sorted.groupby([\"meta_発走日時\", \"meta_レースキー\"])):\n",
    "    race_results = race_data.sort_values(\"meta_着順\")\n",
    "    horse_ids = race_results[\"meta_血統登録番号\"].tolist()\n",
    "    horse_groups = [[horse_ratings[horse_id]] for horse_id in horse_ids]\n",
    "    ranks = list(range(len(horse_groups)))  # Lower rank number means a better position\n",
    "\n",
    "    # Update ratings based on the race outcome\n",
    "    updated_ratings = env.rate(horse_groups, ranks=ranks)\n",
    "\n",
    "    # Directly update the DataFrame with the new ratings\n",
    "    for index, (horse_id, new_rating_group) in zip(race_results.index, zip(horse_ids, updated_ratings)):\n",
    "        horse_ratings[horse_id] = new_rating_group[0]  # Update with new rating\n",
    "        df_sorted.at[index, \"rating_at_time\"] = horse_ratings[horse_id].mu  # Directly assign the rating"
   ]
  },
  {
   "cell_type": "code",
   "execution_count": 50,
   "metadata": {},
   "outputs": [
    {
     "data": {
      "text/plain": [
       "<Axes: >"
      ]
     },
     "execution_count": 50,
     "metadata": {},
     "output_type": "execute_result"
    },
    {
     "data": {
      "image/png": "[encoded data removed]",
      "text/plain": [
       "<Figure size 640x480 with 1 Axes>"
      ]
     },
     "metadata": {},
     "output_type": "display_data"
    }
   ],
   "source": [
    "df_sorted.rating_at_time.hist(bins=100)"
   ]
  },
  {
   "cell_type": "code",
   "execution_count": 64,
   "metadata": {},
   "outputs": [],
   "source": [
    "import japanize_matplotlib\n",
    "\n",
    "japanize_matplotlib.japanize()\n",
    "\n",
    "\n",
    "# Lag the rating_at_time by one row per horse (meta_血統登録番号) chronologically (meta_発走日時)\n",
    "df_sorted[\"rating\"] = (\n",
    "    df_sorted.sort_values(\"meta_発走日時\")\n",
    "    .groupby(\"meta_血統登録番号\")[\"rating_at_time\"]\n",
    "    .shift(1)\n",
    "    .fillna(25.0)\n",
    ")"
   ]
  },
  {
   "cell_type": "code",
   "execution_count": 68,
   "metadata": {},
   "outputs": [
    {
     "data": {
      "text/plain": [
       "<Axes: >"
      ]
     },
     "execution_count": 68,
     "metadata": {},
     "output_type": "execute_result"
    },
    {
     "data": {
      "image/png": "[encoded data removed]",
      "text/plain": [
       "<Figure size 640x480 with 1 Axes>"
      ]
     },
     "metadata": {},
     "output_type": "display_data"
    }
   ],
   "source": [
    "# 25 is the starting number for TrueSkill ratings so this number appears most often\n",
    "df_sorted.rating.hist(bins=100)"
   ]
  },
  {
   "cell_type": "code",
   "execution_count": 71,
   "metadata": {},
   "outputs": [],
   "source": [
    "df_final = df_sorted[\n",
    "    (df_sorted[\"cat_トラック種別\"] != \"障害\")\n",
    "    & (df_sorted[\"num_1走前着順\"].notnull())\n",
    "    & (df_sorted[\"num_2走前着順\"].notnull())\n",
    "    & (df_sorted[\"num_3走前着順\"].notnull())\n",
    "]"
   ]
  },
  {
   "cell_type": "code",
   "execution_count": 72,
   "metadata": {},
   "outputs": [
    {
     "data": {
      "text/html": [
       "<div>\n",
       "<style scoped>\n",
       "    .dataframe tbody tr th:only-of-type {\n",
       "        vertical-align: middle;\n",
       "    }\n",
       "\n",
       "    .dataframe tbody tr th {\n",
       "        vertical-align: top;\n",
       "    }\n",
       "\n",
       "    .dataframe thead th {\n",
       "        text-align: right;\n",
       "    }\n",
       "</style>\n",
       "<table border=\"1\" class=\"dataframe\">\n",
       "  <thead>\n",
       "    <tr style=\"text-align: right;\">\n",
       "      <th></th>\n",
       "      <th>meta_単勝払戻金</th>\n",
       "      <th>meta_複勝払戻金</th>\n",
       "      <th>meta_レースキー</th>\n",
       "      <th>meta_馬番</th>\n",
       "      <th>meta_血統登録番号</th>\n",
       "      <th>meta_発走日時</th>\n",
       "      <th>meta_単勝的中</th>\n",
       "      <th>meta_複勝的中</th>\n",
       "      <th>meta_複勝オッズ</th>\n",
       "      <th>meta_着順</th>\n",
       "      <th>...</th>\n",
       "      <th>cat_トラック種別</th>\n",
       "      <th>num_距離</th>\n",
       "      <th>num_過去3走重み付き着順成績</th>\n",
       "      <th>num_入厩何日前逆数</th>\n",
       "      <th>cat_堅実な馬</th>\n",
       "      <th>cat_過去3走中1走訳あり凡走</th>\n",
       "      <th>cat_過去3走中2走好走</th>\n",
       "      <th>cat_過去3走繋がりあり</th>\n",
       "      <th>rating_at_time</th>\n",
       "      <th>rating</th>\n",
       "    </tr>\n",
       "  </thead>\n",
       "  <tbody>\n",
       "    <tr>\n",
       "      <th>336153</th>\n",
       "      <td>0</td>\n",
       "      <td>360</td>\n",
       "      <td>06001101</td>\n",
       "      <td>05</td>\n",
       "      <td>97106623</td>\n",
       "      <td>2000-01-05 10:00:00+09:00</td>\n",
       "      <td>0</td>\n",
       "      <td>1</td>\n",
       "      <td>3.6</td>\n",
       "      <td>3.0</td>\n",
       "      <td>...</td>\n",
       "      <td>ダート</td>\n",
       "      <td>1000</td>\n",
       "      <td>0.221320</td>\n",
       "      <td>1.000000</td>\n",
       "      <td>False</td>\n",
       "      <td>False</td>\n",
       "      <td>False</td>\n",
       "      <td>False</td>\n",
       "      <td>28.52695</td>\n",
       "      <td>25.000000</td>\n",
       "    </tr>\n",
       "    <tr>\n",
       "      <th>565538</th>\n",
       "      <td>0</td>\n",
       "      <td>130</td>\n",
       "      <td>06001101</td>\n",
       "      <td>04</td>\n",
       "      <td>97104609</td>\n",
       "      <td>2000-01-05 10:00:00+09:00</td>\n",
       "      <td>0</td>\n",
       "      <td>1</td>\n",
       "      <td>1.2</td>\n",
       "      <td>2.0</td>\n",
       "      <td>...</td>\n",
       "      <td>ダート</td>\n",
       "      <td>1000</td>\n",
       "      <td>0.136671</td>\n",
       "      <td>1.000000</td>\n",
       "      <td>False</td>\n",
       "      <td>False</td>\n",
       "      <td>False</td>\n",
       "      <td>False</td>\n",
       "      <td>31.357209</td>\n",
       "      <td>25.000000</td>\n",
       "    </tr>\n",
       "    <tr>\n",
       "      <th>676049</th>\n",
       "      <td>0</td>\n",
       "      <td>0</td>\n",
       "      <td>06001101</td>\n",
       "      <td>01</td>\n",
       "      <td>97100761</td>\n",
       "      <td>2000-01-05 10:00:00+09:00</td>\n",
       "      <td>0</td>\n",
       "      <td>0</td>\n",
       "      <td>1.7</td>\n",
       "      <td>7.0</td>\n",
       "      <td>...</td>\n",
       "      <td>ダート</td>\n",
       "      <td>1000</td>\n",
       "      <td>0.218651</td>\n",
       "      <td>1.000000</td>\n",
       "      <td>False</td>\n",
       "      <td>False</td>\n",
       "      <td>True</td>\n",
       "      <td>False</td>\n",
       "      <td>18.642791</td>\n",
       "      <td>25.000000</td>\n",
       "    </tr>\n",
       "    <tr>\n",
       "      <th>898163</th>\n",
       "      <td>0</td>\n",
       "      <td>0</td>\n",
       "      <td>06001101</td>\n",
       "      <td>03</td>\n",
       "      <td>97100203</td>\n",
       "      <td>2000-01-05 10:00:00+09:00</td>\n",
       "      <td>0</td>\n",
       "      <td>0</td>\n",
       "      <td>4.4</td>\n",
       "      <td>8.0</td>\n",
       "      <td>...</td>\n",
       "      <td>ダート</td>\n",
       "      <td>1000</td>\n",
       "      <td>0.349326</td>\n",
       "      <td>1.000000</td>\n",
       "      <td>False</td>\n",
       "      <td>False</td>\n",
       "      <td>False</td>\n",
       "      <td>False</td>\n",
       "      <td>14.382763</td>\n",
       "      <td>25.000000</td>\n",
       "    </tr>\n",
       "    <tr>\n",
       "      <th>899319</th>\n",
       "      <td>0</td>\n",
       "      <td>0</td>\n",
       "      <td>06001101</td>\n",
       "      <td>07</td>\n",
       "      <td>97102626</td>\n",
       "      <td>2000-01-05 10:00:00+09:00</td>\n",
       "      <td>0</td>\n",
       "      <td>0</td>\n",
       "      <td>2.6</td>\n",
       "      <td>4.0</td>\n",
       "      <td>...</td>\n",
       "      <td>ダート</td>\n",
       "      <td>1000</td>\n",
       "      <td>0.238643</td>\n",
       "      <td>1.000000</td>\n",
       "      <td>False</td>\n",
       "      <td>False</td>\n",
       "      <td>False</td>\n",
       "      <td>False</td>\n",
       "      <td>26.137637</td>\n",
       "      <td>25.000000</td>\n",
       "    </tr>\n",
       "    <tr>\n",
       "      <th>...</th>\n",
       "      <td>...</td>\n",
       "      <td>...</td>\n",
       "      <td>...</td>\n",
       "      <td>...</td>\n",
       "      <td>...</td>\n",
       "      <td>...</td>\n",
       "      <td>...</td>\n",
       "      <td>...</td>\n",
       "      <td>...</td>\n",
       "      <td>...</td>\n",
       "      <td>...</td>\n",
       "      <td>...</td>\n",
       "      <td>...</td>\n",
       "      <td>...</td>\n",
       "      <td>...</td>\n",
       "      <td>...</td>\n",
       "      <td>...</td>\n",
       "      <td>...</td>\n",
       "      <td>...</td>\n",
       "      <td>...</td>\n",
       "      <td>...</td>\n",
       "    </tr>\n",
       "    <tr>\n",
       "      <th>997287</th>\n",
       "      <td>0</td>\n",
       "      <td>0</td>\n",
       "      <td>06235912</td>\n",
       "      <td>05</td>\n",
       "      <td>18103535</td>\n",
       "      <td>2023-12-28 16:25:00+09:00</td>\n",
       "      <td>0</td>\n",
       "      <td>0</td>\n",
       "      <td>NaN</td>\n",
       "      <td>4.0</td>\n",
       "      <td>...</td>\n",
       "      <td>芝</td>\n",
       "      <td>1600</td>\n",
       "      <td>0.178001</td>\n",
       "      <td>0.030303</td>\n",
       "      <td>False</td>\n",
       "      <td>False</td>\n",
       "      <td>False</td>\n",
       "      <td>False</td>\n",
       "      <td>37.98781</td>\n",
       "      <td>37.870594</td>\n",
       "    </tr>\n",
       "    <tr>\n",
       "      <th>1000195</th>\n",
       "      <td>3850</td>\n",
       "      <td>580</td>\n",
       "      <td>06235912</td>\n",
       "      <td>06</td>\n",
       "      <td>19100684</td>\n",
       "      <td>2023-12-28 16:25:00+09:00</td>\n",
       "      <td>1</td>\n",
       "      <td>1</td>\n",
       "      <td>NaN</td>\n",
       "      <td>1.0</td>\n",
       "      <td>...</td>\n",
       "      <td>芝</td>\n",
       "      <td>1600</td>\n",
       "      <td>0.376989</td>\n",
       "      <td>0.043478</td>\n",
       "      <td>False</td>\n",
       "      <td>False</td>\n",
       "      <td>False</td>\n",
       "      <td>False</td>\n",
       "      <td>36.571042</td>\n",
       "      <td>36.024137</td>\n",
       "    </tr>\n",
       "    <tr>\n",
       "      <th>1000454</th>\n",
       "      <td>0</td>\n",
       "      <td>210</td>\n",
       "      <td>06235912</td>\n",
       "      <td>01</td>\n",
       "      <td>19101408</td>\n",
       "      <td>2023-12-28 16:25:00+09:00</td>\n",
       "      <td>0</td>\n",
       "      <td>1</td>\n",
       "      <td>NaN</td>\n",
       "      <td>3.0</td>\n",
       "      <td>...</td>\n",
       "      <td>芝</td>\n",
       "      <td>1600</td>\n",
       "      <td>0.205810</td>\n",
       "      <td>0.035714</td>\n",
       "      <td>False</td>\n",
       "      <td>True</td>\n",
       "      <td>False</td>\n",
       "      <td>False</td>\n",
       "      <td>37.629243</td>\n",
       "      <td>37.372301</td>\n",
       "    </tr>\n",
       "    <tr>\n",
       "      <th>1002405</th>\n",
       "      <td>0</td>\n",
       "      <td>0</td>\n",
       "      <td>06235912</td>\n",
       "      <td>04</td>\n",
       "      <td>19105177</td>\n",
       "      <td>2023-12-28 16:25:00+09:00</td>\n",
       "      <td>0</td>\n",
       "      <td>0</td>\n",
       "      <td>NaN</td>\n",
       "      <td>12.0</td>\n",
       "      <td>...</td>\n",
       "      <td>芝</td>\n",
       "      <td>1600</td>\n",
       "      <td>0.020087</td>\n",
       "      <td>0.050000</td>\n",
       "      <td>False</td>\n",
       "      <td>False</td>\n",
       "      <td>True</td>\n",
       "      <td>False</td>\n",
       "      <td>36.311323</td>\n",
       "      <td>36.696487</td>\n",
       "    </tr>\n",
       "    <tr>\n",
       "      <th>1003995</th>\n",
       "      <td>0</td>\n",
       "      <td>180</td>\n",
       "      <td>06235912</td>\n",
       "      <td>10</td>\n",
       "      <td>20101813</td>\n",
       "      <td>2023-12-28 16:25:00+09:00</td>\n",
       "      <td>0</td>\n",
       "      <td>1</td>\n",
       "      <td>NaN</td>\n",
       "      <td>2.0</td>\n",
       "      <td>...</td>\n",
       "      <td>芝</td>\n",
       "      <td>1600</td>\n",
       "      <td>0.124613</td>\n",
       "      <td>0.035714</td>\n",
       "      <td>False</td>\n",
       "      <td>True</td>\n",
       "      <td>False</td>\n",
       "      <td>False</td>\n",
       "      <td>39.677494</td>\n",
       "      <td>39.135984</td>\n",
       "    </tr>\n",
       "  </tbody>\n",
       "</table>\n",
       "<p>809082 rows × 110 columns</p>\n",
       "</div>"
      ],
      "text/plain": [
       "         meta_単勝払戻金  meta_複勝払戻金 meta_レースキー meta_馬番 meta_血統登録番号  \\\n",
       "336153            0         360   06001101      05    97106623   \n",
       "565538            0         130   06001101      04    97104609   \n",
       "676049            0           0   06001101      01    97100761   \n",
       "898163            0           0   06001101      03    97100203   \n",
       "899319            0           0   06001101      07    97102626   \n",
       "...             ...         ...        ...     ...         ...   \n",
       "997287            0           0   06235912      05    18103535   \n",
       "1000195        3850         580   06235912      06    19100684   \n",
       "1000454           0         210   06235912      01    19101408   \n",
       "1002405           0           0   06235912      04    19105177   \n",
       "1003995           0         180   06235912      10    20101813   \n",
       "\n",
       "                         meta_発走日時  meta_単勝的中  meta_複勝的中  meta_複勝オッズ  meta_着順  \\\n",
       "336153   2000-01-05 10:00:00+09:00          0          1         3.6      3.0   \n",
       "565538   2000-01-05 10:00:00+09:00          0          1         1.2      2.0   \n",
       "676049   2000-01-05 10:00:00+09:00          0          0         1.7      7.0   \n",
       "898163   2000-01-05 10:00:00+09:00          0          0         4.4      8.0   \n",
       "899319   2000-01-05 10:00:00+09:00          0          0         2.6      4.0   \n",
       "...                            ...        ...        ...         ...      ...   \n",
       "997287   2023-12-28 16:25:00+09:00          0          0         NaN      4.0   \n",
       "1000195  2023-12-28 16:25:00+09:00          1          1         NaN      1.0   \n",
       "1000454  2023-12-28 16:25:00+09:00          0          1         NaN      3.0   \n",
       "1002405  2023-12-28 16:25:00+09:00          0          0         NaN     12.0   \n",
       "1003995  2023-12-28 16:25:00+09:00          0          1         NaN      2.0   \n",
       "\n",
       "         ...  cat_トラック種別  num_距離 num_過去3走重み付き着順成績 num_入厩何日前逆数  cat_堅実な馬  \\\n",
       "336153   ...         ダート    1000         0.221320    1.000000     False   \n",
       "565538   ...         ダート    1000         0.136671    1.000000     False   \n",
       "676049   ...         ダート    1000         0.218651    1.000000     False   \n",
       "898163   ...         ダート    1000         0.349326    1.000000     False   \n",
       "899319   ...         ダート    1000         0.238643    1.000000     False   \n",
       "...      ...         ...     ...              ...         ...       ...   \n",
       "997287   ...           芝    1600         0.178001    0.030303     False   \n",
       "1000195  ...           芝    1600         0.376989    0.043478     False   \n",
       "1000454  ...           芝    1600         0.205810    0.035714     False   \n",
       "1002405  ...           芝    1600         0.020087    0.050000     False   \n",
       "1003995  ...           芝    1600         0.124613    0.035714     False   \n",
       "\n",
       "         cat_過去3走中1走訳あり凡走 cat_過去3走中2走好走  cat_過去3走繋がりあり  rating_at_time  \\\n",
       "336153              False         False          False        28.52695   \n",
       "565538              False         False          False       31.357209   \n",
       "676049              False          True          False       18.642791   \n",
       "898163              False         False          False       14.382763   \n",
       "899319              False         False          False       26.137637   \n",
       "...                   ...           ...            ...             ...   \n",
       "997287              False         False          False        37.98781   \n",
       "1000195             False         False          False       36.571042   \n",
       "1000454              True         False          False       37.629243   \n",
       "1002405             False          True          False       36.311323   \n",
       "1003995              True         False          False       39.677494   \n",
       "\n",
       "            rating  \n",
       "336153   25.000000  \n",
       "565538   25.000000  \n",
       "676049   25.000000  \n",
       "898163   25.000000  \n",
       "899319   25.000000  \n",
       "...            ...  \n",
       "997287   37.870594  \n",
       "1000195  36.024137  \n",
       "1000454  37.372301  \n",
       "1002405  36.696487  \n",
       "1003995  39.135984  \n",
       "\n",
       "[809082 rows x 110 columns]"
      ]
     },
     "execution_count": 72,
     "metadata": {},
     "output_type": "execute_result"
    }
   ],
   "source": [
    "df_final"
   ]
  },
  {
   "cell_type": "code",
   "execution_count": 74,
   "metadata": {},
   "outputs": [
    {
     "name": "stdout",
     "output_type": "stream",
     "text": [
      "X_train: (647265, 110)\n",
      "X_test: (161817, 110)\n",
      "y_train: (647265,)\n",
      "y_test: (161817,)\n"
     ]
    }
   ],
   "source": [
    "from sklearn.model_selection import train_test_split\n",
    "\n",
    "\n",
    "X = df_final.copy()\n",
    "y = X[\"meta_複勝的中\"]\n",
    "X_train, X_test, y_train, y_test = train_test_split(\n",
    "    X, y, test_size=0.2, random_state=42\n",
    ")\n",
    "\n",
    "print(f\"X_train: {X_train.shape}\")\n",
    "print(f\"X_test: {X_test.shape}\")\n",
    "print(f\"y_train: {y_train.shape}\")\n",
    "print(f\"y_test: {y_test.shape}\")"
   ]
  },
  {
   "cell_type": "code",
   "execution_count": 80,
   "metadata": {},
   "outputs": [],
   "source": [
    "import mlflow\n",
    "import tempfile\n",
    "import re\n",
    "import japanize_matplotlib\n",
    "import numpy as np\n",
    "import pandas as pd\n",
    "import matplotlib.pyplot as plt\n",
    "import shap\n",
    "import warnings\n",
    "from lightgbm import LGBMClassifier\n",
    "from sklearn.compose import ColumnTransformer\n",
    "from sklearn.impute import SimpleImputer\n",
    "from sklearn.metrics import (\n",
    "    accuracy_score,\n",
    "    f1_score,\n",
    "    log_loss,\n",
    "    precision_score,\n",
    "    recall_score,\n",
    "    roc_auc_score,\n",
    ")\n",
    "from sklearn.model_selection import train_test_split\n",
    "from sklearn.pipeline import Pipeline\n",
    "from sklearn.preprocessing import OneHotEncoder, StandardScaler\n",
    "from sklearn.utils import resample\n",
    "from imblearn.over_sampling import SMOTE\n",
    "from imblearn.pipeline import Pipeline as ImblearnPipeline\n",
    "from hyperopt import STATUS_OK\n",
    "from JapanHorseRaceAnalytics.utilities.metrics import (\n",
    "    calculate_payout_rate,\n",
    "    kelly_criterion\n",
    ")\n",
    "\n",
    "from JapanHorseRaceAnalytics.utilities.plot import (\n",
    "    plot_confusion_matrix,\n",
    "    plot_roc_curve,\n",
    "    plot_feature_importances,\n",
    "    plot_shap_interaction_values,\n",
    "    plot_correlation_matrix,\n",
    ")\n",
    "\n",
    "\n",
    "\n",
    "def create_objective_fn(\n",
    "    X_train: pd.DataFrame,\n",
    "    y_train: pd.Series,\n",
    "    X_test: pd.DataFrame,\n",
    "    y_test: pd.Series,\n",
    "    payouts: pd.DataFrame,\n",
    "    payout_column_name: str,\n",
    "    mlflow_experiment_name: str,\n",
    "):\n",
    "    \"\"\"\n",
    "    payouts should have the same index as *_test and have the following columns:\n",
    "    * 発走日時\n",
    "    * odds\n",
    "    * payout\n",
    "    \"\"\"\n",
    "\n",
    "    def train(params):\n",
    "        mlflow.set_experiment(experiment_name=mlflow_experiment_name)\n",
    "        with mlflow.start_run():\n",
    "            ########################################################################################\n",
    "            # decay_rate = params[\"features__decay_rate\"]\n",
    "\n",
    "            for df in [X_train, X_test]:\n",
    "                # 1. Weighted average position\n",
    "                df[\"num_1走前標準化着順\"] = (df[\"num_1走前着順\"] - 1) / (df[\"num_1走前頭数\"] - 1)\n",
    "                df[\"num_2走前標準化着順\"] = (df[\"num_2走前着順\"] - 1) / (df[\"num_2走前頭数\"] - 1)\n",
    "                df[\"num_3走前標準化着順\"] = (df[\"num_3走前着順\"] - 1) / (df[\"num_3走前頭数\"] - 1)\n",
    "                # We want our factor (num_1走前経過日数) to start from 0\n",
    "                # so subtract the minimum value for \"days since last race\" across all horses\n",
    "                # Add a small number to avoid division by zero\n",
    "                df[\"num_1走前重み\"] = 1 / (df[\"num_1走前経過日数\"] - df[\"num_1走前経過日数\"].min() + 1e-6)\n",
    "                df[\"num_2走前重み\"] = 1 / (df[\"num_2走前経過日数\"] - df[\"num_1走前経過日数\"].min() + 1e-6)\n",
    "                df[\"num_3走前重み\"] = 1 / (df[\"num_3走前経過日数\"] - df[\"num_1走前経過日数\"].min() + 1e-6)\n",
    "                # df[\"num_2走前重み\"] = np.exp(-decay_rate * (df[\"num_2走前経過日数\"] - df[\"num_1走前経過日数\"].min()))\n",
    "                # df[\"num_3走前重み\"] = np.exp(-decay_rate * (df[\"num_3走前経過日数\"] - df[\"num_1走前経過日数\"].min()))\n",
    "                # Calculate weighted average of the feature\n",
    "                # weighted_feature_values = np.average([value for _, value in races], weights=weights)\n",
    "                df[\"num_過去3走重み付き標準化着順\"] = (\n",
    "                    (df[\"num_1走前標準化着順\"] * df[\"num_1走前重み\"])\n",
    "                    + (df[\"num_2走前標準化着順\"] * df[\"num_2走前重み\"])\n",
    "                    + (df[\"num_3走前標準化着順\"] * df[\"num_3走前重み\"])\n",
    "                ) / (df[\"num_1走前重み\"] + df[\"num_2走前重み\"] + df[\"num_3走前重み\"])\n",
    "\n",
    "                # 2. Weighted average time difference between the horse and the 3 horses behind it\n",
    "                df[\"num_1走前後続馬平均タイム差\"] = (\n",
    "                    df[[\"num_1走前後続馬1タイム差\", \"num_1走前後続馬2タイム差\", \"num_1走前後続馬3タイム差\"]]\n",
    "                    .mean(axis=1)\n",
    "                    .fillna(0)\n",
    "                )\n",
    "                df[\"num_2走前後続馬平均タイム差\"] = (\n",
    "                    df[[\"num_2走前後続馬1タイム差\", \"num_2走前後続馬2タイム差\", \"num_2走前後続馬3タイム差\"]]\n",
    "                    .mean(axis=1)\n",
    "                    .fillna(0)\n",
    "                )\n",
    "                df[\"num_3走前後続馬平均タイム差\"] = (\n",
    "                    df[[\"num_3走前後続馬1タイム差\", \"num_3走前後続馬2タイム差\", \"num_3走前後続馬3タイム差\"]]\n",
    "                    .mean(axis=1)\n",
    "                    .fillna(0)\n",
    "                )\n",
    "                df[\"num_過去3走重み付き後続馬平均タイム差\"] = (\n",
    "                    (df[\"num_1走前後続馬平均タイム差\"] * df[\"num_1走前重み\"])\n",
    "                    + (df[\"num_2走前後続馬平均タイム差\"] * df[\"num_2走前重み\"])\n",
    "                    + (df[\"num_3走前後続馬平均タイム差\"] * df[\"num_3走前重み\"])\n",
    "                ) / (df[\"num_1走前重み\"] + df[\"num_2走前重み\"] + df[\"num_3走前重み\"])\n",
    "            ########################################################################################\n",
    "            preprocessor = ColumnTransformer(\n",
    "                transformers=[\n",
    "                    # (\n",
    "                    #     \"cat\",\n",
    "                    #     OneHotEncoder(drop=\"if_binary\", handle_unknown=\"error\"),\n",
    "                    #     [\"cat_性別\", \"cat_場コード\", \"cat_トラック種別\"],\n",
    "                    # ),\n",
    "                    (\n",
    "                        \"num\",\n",
    "                        StandardScaler(),\n",
    "                        [\n",
    "                            \"num_複勝率\",\n",
    "                            \"num_1走前経過日数\",\n",
    "                            \"num_過去3走重み付き標準化着順\",\n",
    "                            \"num_過去3走重み付き後続馬平均タイム差\",\n",
    "                            \"rating\"\n",
    "                        ],\n",
    "                    ),\n",
    "                ],\n",
    "                remainder=\"drop\",\n",
    "            )\n",
    "\n",
    "            # Get all keys from params where the key starts with \"smote__\" and remove \"smote__\" from the key\n",
    "            smote_params = {k.split(\"__\")[1]: v for k, v in params.items() if k.startswith(\"smote__\")}\n",
    "\n",
    "            # do the same for classifier\n",
    "            classifier_params = {k.split(\"__\")[1]: v for k, v in params.items() if k.startswith(\"classifier__\")}\n",
    "\n",
    "            model = ImblearnPipeline(\n",
    "                steps=[\n",
    "                    (\"preprocessor\", preprocessor),\n",
    "                    (\"smote\", SMOTE(**smote_params)),\n",
    "                    (\"classifier\", LGBMClassifier(**classifier_params)),\n",
    "                ]\n",
    "            )\n",
    "\n",
    "            model.fit(X_train, y_train)\n",
    "            y_proba = model.predict_proba(X_test)\n",
    "            y_pred = model.predict(X_test)\n",
    "\n",
    "            metrics = {\n",
    "                \"loss\": -precision_score(y_test, y_pred),\n",
    "                \"log_loss\": log_loss(y_test, y_proba[:, 1]),\n",
    "                \"accuracy\": accuracy_score(y_test, y_pred),\n",
    "                \"precision\": precision_score(y_test, y_pred),\n",
    "                \"recall\": recall_score(y_test, y_pred),\n",
    "                \"f1\": f1_score(y_test, y_pred),\n",
    "                \"roc_auc\": roc_auc_score(y_test, y_pred),\n",
    "            }\n",
    "\n",
    "            mlflow.log_params(classifier_params)\n",
    "            # mlflow.log_param(\"decay_rate\", decay_rate)\n",
    "            mlflow.log_metrics(metrics)\n",
    "            mlflow.sklearn.log_model(sk_model=model, artifact_path=\"model\")\n",
    "\n",
    "            payout = calculate_payout_rate(\n",
    "                payouts=payouts,\n",
    "                y_test=y_test,\n",
    "                y_proba_true=y_proba[:, 1],\n",
    "                groupby=[\n",
    "                    (\"all\", None),\n",
    "                    (\"month\", payouts[\"発走日時\"].dt.month),\n",
    "                    (\"season\", payouts[\"発走日時\"].dt.month % 12 // 3),\n",
    "                    (\"year\", payouts[\"発走日時\"].dt.year),\n",
    "                ],\n",
    "                payout_column_name=payout_column_name,\n",
    "            )\n",
    "\n",
    "            # Save payout rates as csv\n",
    "            with tempfile.NamedTemporaryFile(prefix=\"payout_rate_\", suffix=\".csv\") as f:\n",
    "                payout.to_csv(f.name, index=False)\n",
    "                mlflow.log_artifact(f.name)\n",
    "\n",
    "            # Log payout rates as metrics\n",
    "            payout_metrics = {}\n",
    "            for group_name, group in payout.groupby(\"group\"):\n",
    "                for i, row in group.iterrows():\n",
    "                    key = re.sub(r\"\\W\", \"_\", f\"payout_rate_{group_name}_{row['part']}\")\n",
    "                    payout_metrics[key] = row[\"payout_rate\"]\n",
    "            mlflow.log_metrics(payout_metrics)\n",
    "\n",
    "            # Suppress UserWarning messages from matplotlib\n",
    "            warnings.filterwarnings(\"ignore\", category=UserWarning)\n",
    "\n",
    "            # Confusion Matrix\n",
    "            fig, axes = plot_confusion_matrix(y_test, y_pred)\n",
    "            with tempfile.NamedTemporaryFile(\n",
    "                prefix=\"confusion_matrix_\", suffix=\".png\"\n",
    "            ) as f:\n",
    "                fig.savefig(f.name)\n",
    "                plt.close()\n",
    "                mlflow.log_artifact(f.name)\n",
    "\n",
    "            # ROC Curve\n",
    "            fig, ax = plot_roc_curve(y_test, y_proba[:, 1])\n",
    "            with tempfile.NamedTemporaryFile(prefix=\"roc_curve_\", suffix=\".png\") as f:\n",
    "                fig.savefig(f.name)\n",
    "                plt.close()\n",
    "                mlflow.log_artifact(f.name)\n",
    "\n",
    "            # Feature Importances Plot\n",
    "            fig, ax = plot_feature_importances(\n",
    "                preprocessor.get_feature_names_out(),\n",
    "                model.named_steps[\"classifier\"].feature_importances_,\n",
    "                top_n=50,\n",
    "            )\n",
    "            with tempfile.NamedTemporaryFile(\n",
    "                prefix=\"feature_importance_\", suffix=\".png\"\n",
    "            ) as f:\n",
    "                fig.savefig(f.name)\n",
    "                plt.close()\n",
    "                mlflow.log_artifact(f.name)\n",
    "\n",
    "            # Feature Importances Data\n",
    "            feature_importances = zip(\n",
    "                preprocessor.get_feature_names_out(),\n",
    "                model.named_steps[\"classifier\"].feature_importances_,\n",
    "            )\n",
    "            feature_importances_df = (\n",
    "                pd.DataFrame(feature_importances, columns=[\"feature\", \"importance\"])\n",
    "                .sort_values(\"importance\", ascending=False)\n",
    "                .reset_index(drop=True)\n",
    "            )\n",
    "            with tempfile.NamedTemporaryFile(prefix=\"feature_importance_\", suffix=\".csv\") as f:\n",
    "                feature_importances_df.to_csv(f.name, index=False)\n",
    "                mlflow.log_artifact(f.name)\n",
    "            \n",
    "            # SHAP values\n",
    "            X_test_sample = X_test.sample(n=5000, random_state=42)\n",
    "            X_test_sample_prep = preprocessor.transform(X_test_sample)\n",
    "            explainer = shap.TreeExplainer(\n",
    "                model=model.named_steps[\"classifier\"],\n",
    "                feature_names=preprocessor.get_feature_names_out(),\n",
    "            )\n",
    "            # Because we are working with a binary classifier, we only need the SHAP values for the positive class.\n",
    "            # E.g., if you change 1->0 the waterfall plot flips backwards only.\n",
    "            shap_values = explainer(X_test_sample_prep)[:, :, 1]\n",
    "            shap_interaction_values = explainer.shap_interaction_values(X_test_sample_prep)\n",
    "\n",
    "            # SHAP beeswarm plot\n",
    "            shap.plots.beeswarm(shap_values, show=False)\n",
    "            plt.tight_layout()\n",
    "            with tempfile.NamedTemporaryFile(prefix=\"shap_beeswarm_\", suffix=\".png\") as f:\n",
    "                plt.savefig(f.name)\n",
    "                plt.close()\n",
    "                mlflow.log_artifact(f.name)\n",
    "\n",
    "            # SHAP interaction values heatmap\n",
    "            fig, ax = plot_shap_interaction_values(shap_interaction_values, preprocessor.get_feature_names_out())\n",
    "            with tempfile.NamedTemporaryFile(prefix=\"shap_interactions_\", suffix=\".png\") as f:\n",
    "                fig.savefig(f.name)\n",
    "                plt.close()\n",
    "                mlflow.log_artifact(f.name)\n",
    "\n",
    "            # SHAP bar plot\n",
    "            shap.plots.bar(shap_values, show=False)\n",
    "            plt.tight_layout()\n",
    "            with tempfile.NamedTemporaryFile(prefix=\"shap_bar_\", suffix=\".png\") as f:\n",
    "                plt.savefig(f.name)\n",
    "                plt.close()\n",
    "                mlflow.log_artifact(f.name)\n",
    "\n",
    "            # Correlation matrix\n",
    "            fig, ax = plot_correlation_matrix(data=preprocessor.transform(X_test), columns=preprocessor.get_feature_names_out())\n",
    "            with tempfile.NamedTemporaryFile(prefix=\"correlation_matrix_\", suffix=\".png\") as f:\n",
    "                fig.savefig(f.name)\n",
    "                plt.close()\n",
    "                mlflow.log_artifact(f.name)\n",
    "\n",
    "            # Bankroll over time\n",
    "            results = (\n",
    "                pd.concat(\n",
    "                    [\n",
    "                        payouts,\n",
    "                        pd.Series(y_pred.astype(bool)).rename(\"pred\"),\n",
    "                        pd.Series(y_proba[:, 1]).rename(\"proba_true\"),\n",
    "                        y_test.astype(bool).reset_index(drop=True).rename(\"actual\"),\n",
    "                    ],\n",
    "                    axis=1,\n",
    "                )\n",
    "                .set_index(\"発走日時\")\n",
    "                .sort_index()\n",
    "                .dropna()\n",
    "            )\n",
    "            b = results[\"odds\"] - 1\n",
    "            p = results[\"proba_true\"]\n",
    "            q = 1 - p\n",
    "            japanize_matplotlib.japanize()\n",
    "            for confidence in [0.5, 0.65, 0.8]:\n",
    "                fig, ax = plt.subplots(figsize=(15, 5))\n",
    "                for multiplier in [0.1, 0.2, 0.3]:\n",
    "                    results[f\"kelly_{multiplier}\"] = kelly_criterion(b, p, q).clip(lower=0) * multiplier\n",
    "                    bankroll = 10_000\n",
    "                    history = []\n",
    "                    for i, row in results.iterrows():\n",
    "                        # bet in 100 yen increments\n",
    "                        bet_amount = round(row[f\"kelly_{multiplier}\"] * bankroll / 100) * 100\n",
    "                        bet = bet_amount > 0 and row[\"proba_true\"] >= confidence\n",
    "                        if bet and row[\"actual\"] is True:\n",
    "                            bankroll += (row[\"odds\"] - 1) * bet_amount\n",
    "                        elif bet and row[\"actual\"] is False:\n",
    "                            bankroll -= bet_amount\n",
    "                        history.append(bankroll)\n",
    "                    results[\"bankroll\"] = history\n",
    "                    results[\"bankroll\"].plot(ax=ax, label=f\"Kelly Criterion x {multiplier}\")\n",
    "                ax.set_title(\"Bankroll over time (Confidence: {confidence})\")\n",
    "                ax.set_ylabel(\"Bankroll\")\n",
    "                ax.set_xlabel(\"Date\")\n",
    "                ax.legend()\n",
    "                plt.tight_layout()\n",
    "                plt.grid()\n",
    "                with tempfile.NamedTemporaryFile(prefix=f\"bets_{confidence}_confidence_\", suffix=\".png\") as f:\n",
    "                    fig.savefig(f.name)\n",
    "                    plt.close()\n",
    "                    mlflow.log_artifact(f.name)\n",
    "            return {\"status\": STATUS_OK, \"params\": params, \"model\": model, **metrics}\n",
    "\n",
    "    return train"
   ]
  },
  {
   "cell_type": "code",
   "execution_count": 81,
   "metadata": {},
   "outputs": [],
   "source": [
    "random_state = 42\n",
    "from hyperopt import Trials, fmin, hp, tpe, SparkTrials\n",
    "from hyperopt.pyll.base import scope\n",
    "\n",
    "space = {\n",
    "    \"smote__random_state\": random_state,\n",
    "    # \"features__decay_rate\": hp.uniform(\"decay_rate\", 0.001, 0.1),\n",
    "    \"classifier__boosting_type\": \"gbdt\",\n",
    "    \"classifier__learning_rate\": hp.loguniform(\"learning_rate\", -5, 0),  # between e^-5 and 1\n",
    "    \"classifier__n_estimators\": scope.int(hp.quniform(\"n_estimators\", 100, 1000, 1)),\n",
    "    \"classifier__max_depth\": scope.int(hp.quniform(\"max_depth\", 3, 10, 1)),\n",
    "    \"classifier__num_leaves\": scope.int(hp.quniform(\"num_leaves\", 20, 150, 1)),\n",
    "    \"classifier__min_child_samples\": scope.int(hp.quniform(\"min_child_samples\", 20, 500, 1)),\n",
    "    \"classifier__feature_fraction\": hp.uniform(\"feature_fraction\", 0.5, 1.0),\n",
    "    \"classifier__lambda_l1\": hp.uniform(\"lambda_l1\", 0, 5),\n",
    "    \"classifier__lambda_l2\": hp.uniform(\"lambda_l2\", 0, 5),\n",
    "    \"classifier__min_split_gain\": hp.uniform(\"min_split_gain\", 0, 1),\n",
    "    \"classifier__min_child_weight\": hp.uniform(\"min_child_weight\", 0.001, 10),\n",
    "    \"classifier__subsample\": hp.uniform(\"subsample\", 0.5, 1),\n",
    "    \"classifier__colsample_bytree\": hp.uniform(\"colsample_bytree\", 0.5, 1),\n",
    "    \"classifier__reg_alpha\": hp.uniform(\"reg_alpha\", 0.0, 1.0),\n",
    "    \"classifier__reg_lambda\": hp.uniform(\"reg_lambda\", 0.0, 1.0),\n",
    "    \"classifier__objective\": \"binary\",\n",
    "    \"classifier__verbose\": -1,\n",
    "    \"classifier__random_state\": random_state,\n",
    "}"
   ]
  },
  {
   "cell_type": "code",
   "execution_count": 82,
   "metadata": {},
   "outputs": [],
   "source": [
    "payouts = (\n",
    "    X_test[[\"meta_発走日時\", \"meta_複勝払戻金\", \"meta_複勝オッズ\"]]\n",
    "    .reset_index(drop=True)\n",
    "    .rename(\n",
    "        columns={\n",
    "            \"meta_発走日時\": \"発走日時\",\n",
    "            \"meta_複勝払戻金\": \"payout\",\n",
    "            \"meta_複勝オッズ\": \"odds\",\n",
    "        }\n",
    "    )\n",
    "    .assign(発走日時=lambda x: pd.to_datetime(x[\"発走日時\"]))\n",
    ")\n",
    "\n",
    "experiment_name = \"20240316-eda2\"\n",
    "if mlflow.get_experiment_by_name(experiment_name) is None:\n",
    "    mlflow.create_experiment(experiment_name)\n",
    "\n",
    "fn = create_objective_fn(\n",
    "    X_train,\n",
    "    y_train,\n",
    "    X_test,\n",
    "    y_test,\n",
    "    payouts=payouts,\n",
    "    payout_column_name=\"payout\",\n",
    "    mlflow_experiment_name=experiment_name,\n",
    ")"
   ]
  },
  {
   "cell_type": "code",
   "execution_count": 84,
   "metadata": {},
   "outputs": [
    {
     "name": "stdout",
     "output_type": "stream",
     "text": [
      "  0%|          | 0/30 [00:00<?, ?trial/s, best loss=?]"
     ]
    },
    {
     "name": "stderr",
     "output_type": "stream",
     "text": [
      "build_posterior_wrapper took 0.002001 seconds\n",
      "TPE using 0 trials\n",
      "build_posterior_wrapper took 0.001843 seconds\n",
      "TPE using 1/1 trials with best loss inf\n",
      "build_posterior_wrapper took 0.001820 seconds\n",
      "TPE using 2/2 trials with best loss inf\n",
      "build_posterior_wrapper took 0.001809 seconds\n",
      "TPE using 3/3 trials with best loss inf\n",
      "Setuptools is replacing distutils.:>    (0 + 1) / 1][Stage 2:>    (0 + 1) / 1]1]\n",
      "Setuptools is replacing distutils.\n",
      "Setuptools is replacing distutils.\n",
      "Closing down clientserver connection                                            \n"
     ]
    },
    {
     "name": "stdout",
     "output_type": "stream",
     "text": [
      "  3%|▎         | 1/30 [01:29<43:03, 89.10s/trial, best loss: -0.4012363947255927]"
     ]
    },
    {
     "name": "stderr",
     "output_type": "stream",
     "text": [
      "build_posterior_wrapper took 0.002219 secondse 2:>                  (0 + 1) / 1]\n",
      "TPE using 4/4 trials with best loss -0.401236\n",
      "Closing down clientserver connection                                            \n",
      "[Stage 0:>                                                          (0 + 1) / 1]\r"
     ]
    },
    {
     "name": "stdout",
     "output_type": "stream",
     "text": [
      "  7%|▋         | 2/30 [01:31<17:44, 38.03s/trial, best loss: -0.4026466242692876]"
     ]
    },
    {
     "name": "stderr",
     "output_type": "stream",
     "text": [
      "build_posterior_wrapper took 0.001729 seconds\n",
      "TPE using 5/5 trials with best loss -0.402647\n",
      "Setuptools is replacing distutils.:>    (0 + 1) / 1][Stage 4:>    (0 + 1) / 1]1]\n",
      "Setuptools is replacing distutils.\n",
      "Closing down clientserver connection                                            \n"
     ]
    },
    {
     "name": "stdout",
     "output_type": "stream",
     "text": [
      " 10%|█         | 3/30 [02:58<27:18, 60.67s/trial, best loss: -0.4026466242692876]"
     ]
    },
    {
     "name": "stderr",
     "output_type": "stream",
     "text": [
      "build_posterior_wrapper took 0.001977 secondse 4:>                  (0 + 1) / 1]\n",
      "TPE using 6/6 trials with best loss -0.402647\n",
      "Setuptools is replacing distutils.:>    (0 + 1) / 1][Stage 5:>    (0 + 1) / 1]\n",
      "Closing down clientserver connection                                            \n"
     ]
    },
    {
     "name": "stdout",
     "output_type": "stream",
     "text": [
      " 13%|█▎        | 4/30 [03:35<22:12, 51.25s/trial, best loss: -0.4026466242692876]"
     ]
    },
    {
     "name": "stderr",
     "output_type": "stream",
     "text": [
      "build_posterior_wrapper took 0.001818 seconds\n",
      "TPE using 7/7 trials with best loss -0.402647\n",
      "Setuptools is replacing distutils.:>    (0 + 1) / 1][Stage 6:>    (0 + 1) / 1]1]\n",
      "Closing down clientserver connection                                            \n"
     ]
    },
    {
     "name": "stdout",
     "output_type": "stream",
     "text": [
      " 17%|█▋        | 5/30 [04:06<18:16, 43.86s/trial, best loss: -0.4026466242692876]"
     ]
    },
    {
     "name": "stderr",
     "output_type": "stream",
     "text": [
      "build_posterior_wrapper took 0.057891 secondse 6:>                  (0 + 1) / 1]\n",
      "TPE using 8/8 trials with best loss -0.402647\n",
      "Setuptools is replacing distutils.:>    (0 + 1) / 1][Stage 7:>    (0 + 1) / 1]\n",
      "Closing down clientserver connection                                            \n"
     ]
    },
    {
     "name": "stdout",
     "output_type": "stream",
     "text": [
      " 20%|██        | 6/30 [05:56<26:29, 66.23s/trial, best loss: -0.40435714086975877]"
     ]
    },
    {
     "name": "stderr",
     "output_type": "stream",
     "text": [
      "build_posterior_wrapper took 0.002164 secondse 7:>                  (0 + 1) / 1]\n",
      "TPE using 9/9 trials with best loss -0.404357\n",
      "Setuptools is replacing distutils.:>    (0 + 1) / 1][Stage 8:>    (0 + 1) / 1]\n",
      "Closing down clientserver connection                                            \n"
     ]
    },
    {
     "name": "stdout",
     "output_type": "stream",
     "text": [
      " 23%|██▎       | 7/30 [06:29<21:15, 55.47s/trial, best loss: -0.4061141082229851] "
     ]
    },
    {
     "name": "stderr",
     "output_type": "stream",
     "text": [
      "build_posterior_wrapper took 0.001864 secondse 8:>                  (0 + 1) / 1]\n",
      "TPE using 10/10 trials with best loss -0.406114\n",
      "Closing down clientserver connection                                            \n",
      "[Stage 8:>                  (0 + 1) / 1][Stage 9:>                  (0 + 1) / 1]\r"
     ]
    },
    {
     "name": "stdout",
     "output_type": "stream",
     "text": [
      " 27%|██▋       | 8/30 [06:40<15:11, 41.43s/trial, best loss: -0.4061141082229851]"
     ]
    },
    {
     "name": "stderr",
     "output_type": "stream",
     "text": [
      "build_posterior_wrapper took 0.001882 seconds\n",
      "TPE using 11/11 trials with best loss -0.406114\n",
      "Setuptools is replacing distutils.:>    (0 + 1) / 1][Stage 10:>   (0 + 1) / 1]\n",
      "Setuptools is replacing distutils.\n",
      "Closing down clientserver connection                                            \n"
     ]
    },
    {
     "name": "stdout",
     "output_type": "stream",
     "text": [
      " 30%|███       | 9/30 [07:14<13:36, 38.89s/trial, best loss: -0.4061141082229851]"
     ]
    },
    {
     "name": "stderr",
     "output_type": "stream",
     "text": [
      "build_posterior_wrapper took 0.001875 seconds\n",
      "TPE using 12/12 trials with best loss -0.40611410:>                 (0 + 1) / 1]\n",
      "Setuptools is replacing distutils.0:>   (0 + 1) / 1][Stage 11:>   (0 + 1) / 1]\n",
      "Closing down clientserver connection                                            \n"
     ]
    },
    {
     "name": "stdout",
     "output_type": "stream",
     "text": [
      " 33%|███▎      | 10/30 [08:15<15:13, 45.68s/trial, best loss: -0.4061141082229851]"
     ]
    },
    {
     "name": "stderr",
     "output_type": "stream",
     "text": [
      "build_posterior_wrapper took 0.002196 secondse 11:>                 (0 + 1) / 1]\n",
      "TPE using 13/13 trials with best loss -0.406114\n",
      "Setuptools is replacing distutils.1:>   (0 + 1) / 1][Stage 12:>   (0 + 1) / 1]\n",
      "Closing down clientserver connection                                            \n"
     ]
    },
    {
     "name": "stdout",
     "output_type": "stream",
     "text": [
      " 37%|███▋      | 11/30 [09:18<16:11, 51.15s/trial, best loss: -0.4061141082229851]"
     ]
    },
    {
     "name": "stderr",
     "output_type": "stream",
     "text": [
      "build_posterior_wrapper took 0.002070 secondse 12:>                 (0 + 1) / 1]\n",
      "TPE using 14/14 trials with best loss -0.406114\n",
      "Closing down clientserver connection                                            \n"
     ]
    },
    {
     "name": "stdout",
     "output_type": "stream",
     "text": [
      " 40%|████      | 12/30 [09:31<11:52, 39.59s/trial, best loss: -0.4061141082229851]"
     ]
    },
    {
     "name": "stderr",
     "output_type": "stream",
     "text": [
      "build_posterior_wrapper took 0.002314 secondse 13:>                 (0 + 1) / 1]\n",
      "TPE using 15/15 trials with best loss -0.406114\n",
      "Setuptools is replacing distutils.\n",
      "Setuptools is replacing distutils.3:>   (0 + 1) / 1][Stage 14:>   (0 + 1) / 1]\n",
      "Closing down clientserver connection                                            \n",
      "[Stage 11:>                 (0 + 1) / 1][Stage 14:>                 (0 + 1) / 1]\r"
     ]
    },
    {
     "name": "stdout",
     "output_type": "stream",
     "text": [
      " 43%|████▎     | 13/30 [10:22<12:08, 42.82s/trial, best loss: -0.4061141082229851]"
     ]
    },
    {
     "name": "stderr",
     "output_type": "stream",
     "text": [
      "build_posterior_wrapper took 0.001960 seconds\n",
      "TPE using 16/16 trials with best loss -0.406114\n",
      "Setuptools is replacing distutils.4:>   (0 + 1) / 1][Stage 15:>   (0 + 1) / 1]\n",
      "Closing down clientserver connection                                            \n"
     ]
    },
    {
     "name": "stdout",
     "output_type": "stream",
     "text": [
      " 47%|████▋     | 14/30 [11:26<13:09, 49.33s/trial, best loss: -0.4061141082229851]"
     ]
    },
    {
     "name": "stderr",
     "output_type": "stream",
     "text": [
      "build_posterior_wrapper took 0.001871 seconds\n",
      "TPE using 17/17 trials with best loss -0.406114\n",
      "Closing down clientserver connection                                            \n",
      "[Stage 11:>                 (0 + 1) / 1][Stage 16:>                 (0 + 1) / 1]\r"
     ]
    },
    {
     "name": "stdout",
     "output_type": "stream",
     "text": [
      " 50%|█████     | 15/30 [11:41<09:45, 39.03s/trial, best loss: -0.4061141082229851]"
     ]
    },
    {
     "name": "stderr",
     "output_type": "stream",
     "text": [
      "build_posterior_wrapper took 0.002116 seconds\n",
      "TPE using 18/18 trials with best loss -0.406114\n",
      "Setuptools is replacing distutils.\n",
      "Closing down clientserver connection                                            \n",
      "[Stage 16:>                 (0 + 1) / 1][Stage 17:>                 (0 + 1) / 1]\r"
     ]
    },
    {
     "name": "stdout",
     "output_type": "stream",
     "text": [
      " 53%|█████▎    | 16/30 [11:55<07:21, 31.54s/trial, best loss: -0.4061141082229851]"
     ]
    },
    {
     "name": "stderr",
     "output_type": "stream",
     "text": [
      "build_posterior_wrapper took 0.001985 seconds\n",
      "TPE using 19/19 trials with best loss -0.406114\n",
      "Setuptools is replacing distutils.\n",
      "Setuptools is replacing distutils.7:>   (0 + 1) / 1][Stage 18:>   (0 + 1) / 1]\n",
      "Closing down clientserver connection                                            \n"
     ]
    },
    {
     "name": "stdout",
     "output_type": "stream",
     "text": [
      " 57%|█████▋    | 17/30 [12:35<07:24, 34.17s/trial, best loss: -0.4061141082229851]"
     ]
    },
    {
     "name": "stderr",
     "output_type": "stream",
     "text": [
      "build_posterior_wrapper took 0.001758 seconds\n",
      "TPE using 20/20 trials with best loss -0.406114\n",
      "Closing down clientserver connection                                            \n"
     ]
    },
    {
     "name": "stdout",
     "output_type": "stream",
     "text": [
      " 60%|██████    | 18/30 [12:53<05:49, 29.13s/trial, best loss: -0.4061141082229851]"
     ]
    },
    {
     "name": "stderr",
     "output_type": "stream",
     "text": [
      "build_posterior_wrapper took 0.002167 secondse 19:>                 (0 + 1) / 1]\n",
      "TPE using 21/21 trials with best loss -0.406114\n",
      "Setuptools is replacing distutils.9:>   (0 + 1) / 1][Stage 20:>   (0 + 1) / 1]\n",
      "Closing down clientserver connection                                            \n"
     ]
    },
    {
     "name": "stdout",
     "output_type": "stream",
     "text": [
      " 63%|██████▎   | 19/30 [13:05<04:23, 23.92s/trial, best loss: -0.4061141082229851]"
     ]
    },
    {
     "name": "stderr",
     "output_type": "stream",
     "text": [
      "build_posterior_wrapper took 0.001661 seconds\n",
      "TPE using 22/22 trials with best loss -0.406114\n",
      "Setuptools is replacing distutils.0:>   (0 + 1) / 1][Stage 21:>   (0 + 1) / 1]1]\n",
      "Setuptools is replacing distutils.\n",
      "Closing down clientserver connection                                            \n"
     ]
    },
    {
     "name": "stdout",
     "output_type": "stream",
     "text": [
      " 67%|██████▋   | 20/30 [15:02<08:38, 51.86s/trial, best loss: -0.40685640362225095]"
     ]
    },
    {
     "name": "stderr",
     "output_type": "stream",
     "text": [
      "build_posterior_wrapper took 0.002193 secondse 21:>                 (0 + 1) / 1]\n",
      "TPE using 23/23 trials with best loss -0.406856\n",
      "Closing down clientserver connection                                            \n",
      "[Stage 21:>                                                         (0 + 1) / 1]\r"
     ]
    },
    {
     "name": "stdout",
     "output_type": "stream",
     "text": [
      " 70%|███████   | 21/30 [15:06<05:37, 37.46s/trial, best loss: -0.40685640362225095]"
     ]
    },
    {
     "name": "stderr",
     "output_type": "stream",
     "text": [
      "build_posterior_wrapper took 0.001826 seconds\n",
      "TPE using 24/24 trials with best loss -0.406856\n",
      "Setuptools is replacing distutils.2:>   (0 + 1) / 1][Stage 23:>   (0 + 1) / 1]1]\n",
      "Setuptools is replacing distutils.\n",
      "Closing down clientserver connection                                            \n"
     ]
    },
    {
     "name": "stdout",
     "output_type": "stream",
     "text": [
      " 73%|███████▎  | 22/30 [16:46<07:31, 56.45s/trial, best loss: -0.40685640362225095]"
     ]
    },
    {
     "name": "stderr",
     "output_type": "stream",
     "text": [
      "build_posterior_wrapper took 0.001966 secondse 22:>                 (0 + 1) / 1]\n",
      "TPE using 25/25 trials with best loss -0.406856\n",
      "Closing down clientserver connection                                            \n",
      "[Stage 22:>                 (0 + 1) / 1][Stage 24:>                 (0 + 1) / 1]\r"
     ]
    },
    {
     "name": "stdout",
     "output_type": "stream",
     "text": [
      " 77%|███████▋  | 23/30 [16:56<04:57, 42.50s/trial, best loss: -0.40685640362225095]"
     ]
    },
    {
     "name": "stderr",
     "output_type": "stream",
     "text": [
      "build_posterior_wrapper took 0.001778 seconds\n",
      "TPE using 26/26 trials with best loss -0.406856\n",
      "Setuptools is replacing distutils.4:>   (0 + 1) / 1][Stage 25:>   (0 + 1) / 1]\n",
      "Setuptools is replacing distutils.\n",
      "Closing down clientserver connection                                            \n"
     ]
    },
    {
     "name": "stdout",
     "output_type": "stream",
     "text": [
      " 80%|████████  | 24/30 [18:10<05:12, 52.02s/trial, best loss: -0.40685640362225095]"
     ]
    },
    {
     "name": "stderr",
     "output_type": "stream",
     "text": [
      "build_posterior_wrapper took 0.001876 secondse 25:>                 (0 + 1) / 1]\n",
      "TPE using 27/27 trials with best loss -0.406856\n",
      "Setuptools is replacing distutils.5:>   (0 + 1) / 1][Stage 26:>   (0 + 1) / 1]\n",
      "Closing down clientserver connection                                            \n",
      "[Stage 22:>                 (0 + 1) / 1][Stage 26:>                 (0 + 1) / 1]\r"
     ]
    },
    {
     "name": "stdout",
     "output_type": "stream",
     "text": [
      " 83%|████████▎ | 25/30 [18:34<03:36, 43.33s/trial, best loss: -0.40685640362225095]"
     ]
    },
    {
     "name": "stderr",
     "output_type": "stream",
     "text": [
      "build_posterior_wrapper took 0.001978 seconds\n",
      "TPE using 28/28 trials with best loss -0.406856\n",
      "Closing down clientserver connection                                            \n",
      "[Stage 26:>                 (0 + 1) / 1][Stage 27:>                 (0 + 1) / 1]\r"
     ]
    },
    {
     "name": "stdout",
     "output_type": "stream",
     "text": [
      " 87%|████████▋ | 26/30 [18:43<02:12, 33.08s/trial, best loss: -0.4071651698555252] "
     ]
    },
    {
     "name": "stderr",
     "output_type": "stream",
     "text": [
      "build_posterior_wrapper took 0.001891 seconds\n",
      "TPE using 29/29 trials with best loss -0.407165\n",
      "Setuptools is replacing distutils.7:>   (0 + 1) / 1][Stage 28:>   (0 + 1) / 1]\n",
      "Setuptools is replacing distutils.\n",
      "Closing down clientserver connection                                            \n"
     ]
    },
    {
     "name": "stdout",
     "output_type": "stream",
     "text": [
      " 90%|█████████ | 27/30 [19:23<01:45, 35.31s/trial, best loss: -0.4071651698555252]"
     ]
    },
    {
     "name": "stderr",
     "output_type": "stream",
     "text": [
      "Setuptools is replacing distutils.8:>   (0 + 1) / 1][Stage 29:>   (0 + 1) / 1]1]\n",
      "Closing down clientserver connection                                            \n",
      "[Stage 28:>                 (0 + 1) / 1][Stage 29:>                 (0 + 1) / 1]\r"
     ]
    },
    {
     "name": "stdout",
     "output_type": "stream",
     "text": [
      " 93%|█████████▎| 28/30 [20:37<01:33, 46.85s/trial, best loss: -0.4071651698555252]"
     ]
    },
    {
     "name": "stderr",
     "output_type": "stream",
     "text": [
      "Closing down clientserver connection                                            \n",
      "[Stage 28:>                                                         (0 + 1) / 1]\r"
     ]
    },
    {
     "name": "stdout",
     "output_type": "stream",
     "text": [
      " 97%|█████████▋| 29/30 [20:47<00:35, 35.81s/trial, best loss: -0.4071651698555252]"
     ]
    },
    {
     "name": "stderr",
     "output_type": "stream",
     "text": [
      "Closing down clientserver connection                                            \n"
     ]
    },
    {
     "name": "stdout",
     "output_type": "stream",
     "text": [
      "100%|██████████| 30/30 [21:12<00:00, 42.42s/trial, best loss: -0.4071651698555252]"
     ]
    },
    {
     "name": "stderr",
     "output_type": "stream",
     "text": [
      "Queue empty, exiting run.\n"
     ]
    },
    {
     "name": "stdout",
     "output_type": "stream",
     "text": [
      "\n"
     ]
    },
    {
     "name": "stderr",
     "output_type": "stream",
     "text": [
      "Closing down clientserver connection\n",
      "Total Trials: 30: 30 succeeded, 0 failed, 0 cancelled.\n"
     ]
    },
    {
     "data": {
      "text/plain": [
       "{'colsample_bytree': 0.677399013908561,\n",
       " 'feature_fraction': 0.8071637093574703,\n",
       " 'lambda_l1': 2.67665594102914,\n",
       " 'lambda_l2': 3.126597557072865,\n",
       " 'learning_rate': 0.04424450071602082,\n",
       " 'max_depth': 9.0,\n",
       " 'min_child_samples': 192.0,\n",
       " 'min_child_weight': 4.923721937233951,\n",
       " 'min_split_gain': 0.44757252280994464,\n",
       " 'n_estimators': 806.0,\n",
       " 'num_leaves': 79.0,\n",
       " 'reg_alpha': 0.6090953254448793,\n",
       " 'reg_lambda': 0.42898390673635783,\n",
       " 'subsample': 0.8794492051014245}"
      ]
     },
     "execution_count": 84,
     "metadata": {},
     "output_type": "execute_result"
    }
   ],
   "source": [
    "# trials = Trials()\n",
    "# fmin(\n",
    "#     fn=fn,\n",
    "#     space=space,\n",
    "#     algo=tpe.suggest,\n",
    "#     max_evals=1,\n",
    "#     trials=trials,\n",
    "# )\n",
    "\n",
    "trials = SparkTrials(parallelism=3, spark_session=spark)\n",
    "fmin(fn=fn, space=space, algo=tpe.suggest, max_evals=30, trials=trials)"
   ]
  }
 ],
 "metadata": {
  "kernelspec": {
   "display_name": ".venv",
   "language": "python",
   "name": "python3"
  },
  "language_info": {
   "codemirror_mode": {
    "name": "ipython",
    "version": 3
   },
   "file_extension": ".py",
   "mimetype": "text/x-python",
   "name": "python",
   "nbconvert_exporter": "python",
   "pygments_lexer": "ipython3",
   "version": "3.11.6"
  }
 },
 "nbformat": 4,
 "nbformat_minor": 2
}
