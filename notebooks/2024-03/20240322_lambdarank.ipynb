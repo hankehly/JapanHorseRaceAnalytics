{
 "cells": [
  {
   "cell_type": "markdown",
   "metadata": {},
   "source": [
    "# Lambda Rank\n",
    "\n",
    "You are getting the same 的中率 as the person writing this blog:\n",
    "\n",
    "https://note.com/dataij/n/n5a6d121b13ab\n",
    "\n",
    "But the 参考回収率 they write is much higher."
   ]
  },
  {
   "cell_type": "code",
   "execution_count": 1,
   "metadata": {},
   "outputs": [],
   "source": [
    "import tempfile\n",
    "\n",
    "import japanize_matplotlib\n",
    "import lightgbm as lgb\n",
    "import matplotlib.pyplot as plt\n",
    "import mlflow\n",
    "import numpy as np\n",
    "import pandas as pd\n",
    "import shap\n",
    "import tqdm\n",
    "import trueskill\n",
    "from hyperopt import STATUS_OK, SparkTrials, Trials, fmin, hp, tpe\n",
    "from hyperopt.pyll.base import scope\n",
    "from sklearn.compose import ColumnTransformer\n",
    "from sklearn.metrics import ndcg_score\n",
    "from sklearn.model_selection import GroupShuffleSplit\n",
    "from sklearn.preprocessing import OneHotEncoder, OrdinalEncoder, StandardScaler\n",
    "from tqdm import tqdm\n",
    "\n",
    "from JapanHorseRaceAnalytics.utilities.base import (\n",
    "    get_random_seed,\n",
    "    get_spark_session,\n",
    "    read_hive_table,\n",
    ")\n",
    "from JapanHorseRaceAnalytics.utilities.metrics import kelly_criterion\n",
    "from JapanHorseRaceAnalytics.utilities.plot import plot_feature_importances\n",
    "from JapanHorseRaceAnalytics.utilities.structured_logger import logger\n",
    "\n",
    "japanize_matplotlib.japanize()"
   ]
  },
  {
   "cell_type": "code",
   "execution_count": 2,
   "metadata": {},
   "outputs": [
    {
     "name": "stderr",
     "output_type": "stream",
     "text": [
      "24/03/23 17:04:01 WARN NativeCodeLoader: Unable to load native-hadoop library for your platform... using builtin-java classes where applicable\n",
      "Setting default log level to \"WARN\".\n",
      "To adjust logging level use sc.setLogLevel(newLevel). For SparkR, use setLogLevel(newLevel).\n",
      "24/03/23 17:04:01 WARN Utils: Service 'SparkUI' could not bind on port 4040. Attempting port 4041.\n"
     ]
    }
   ],
   "source": [
    "spark = get_spark_session()"
   ]
  },
  {
   "cell_type": "code",
   "execution_count": 3,
   "metadata": {},
   "outputs": [
    {
     "name": "stderr",
     "output_type": "stream",
     "text": [
      "{\"event\": \"Read from hive jhra_curated.features_20240304_v1\", \"level\": \"info\", \"timestamp\": \"2024-03-23T04:29:33.956249Z\", \"logger\": \"JapanHorseRaceAnalytics.utilities.base\"}\n",
      "24/03/23 13:29:34 WARN HiveConf: HiveConf of name hive.stats.jdbc.timeout does not exist\n",
      "24/03/23 13:29:34 WARN HiveConf: HiveConf of name hive.stats.retries.wait does not exist\n",
      "24/03/23 13:29:35 WARN ObjectStore: Failed to get database global_temp, returning NoSuchObjectException\n",
      "{\"event\": \"Write to parquet /Users/hankehly/Projects/JapanHorseRaceAnalytics/data/sql_tables/features_20240304_v1.snappy.parquet\", \"level\": \"info\", \"timestamp\": \"2024-03-23T04:29:35.956812Z\", \"logger\": \"JapanHorseRaceAnalytics.utilities.base\"}\n",
      "24/03/23 13:29:36 WARN SparkStringUtils: Truncated the string representation of a plan since it was too large. This behavior can be adjusted by setting 'spark.sql.debug.maxToStringFields'.\n",
      "{\"event\": \"Read from parquet /Users/hankehly/Projects/JapanHorseRaceAnalytics/data/sql_tables/features_20240304_v1.snappy.parquet to pandas\", \"level\": \"info\", \"timestamp\": \"2024-03-23T04:29:41.339530Z\", \"logger\": \"JapanHorseRaceAnalytics.utilities.base\"}\n",
      "{\"event\": \"Original data length: 1217019\", \"level\": \"info\", \"timestamp\": \"2024-03-23T04:29:48.277325Z\", \"logger\": \"JapanHorseRaceAnalytics.utilities.base\"}\n",
      "{\"event\": \"Data length after filtering: 1206122 (dropped 10897 rows, 0.90%)\", \"level\": \"info\", \"timestamp\": \"2024-03-23T04:29:48.526297Z\", \"logger\": \"JapanHorseRaceAnalytics.utilities.base\"}\n"
     ]
    },
    {
     "data": {
      "text/html": [
       "<div>\n",
       "<style scoped>\n",
       "    .dataframe tbody tr th:only-of-type {\n",
       "        vertical-align: middle;\n",
       "    }\n",
       "\n",
       "    .dataframe tbody tr th {\n",
       "        vertical-align: top;\n",
       "    }\n",
       "\n",
       "    .dataframe thead th {\n",
       "        text-align: right;\n",
       "    }\n",
       "</style>\n",
       "<table border=\"1\" class=\"dataframe\">\n",
       "  <thead>\n",
       "    <tr style=\"text-align: right;\">\n",
       "      <th></th>\n",
       "      <th>meta_単勝払戻金</th>\n",
       "      <th>meta_複勝払戻金</th>\n",
       "      <th>meta_レースキー</th>\n",
       "      <th>meta_馬番</th>\n",
       "      <th>meta_血統登録番号</th>\n",
       "      <th>meta_発走日時</th>\n",
       "      <th>meta_単勝的中</th>\n",
       "      <th>meta_単勝オッズ</th>\n",
       "      <th>meta_複勝的中</th>\n",
       "      <th>meta_複勝オッズ</th>\n",
       "      <th>...</th>\n",
       "      <th>cat_3走前休養理由分類コード</th>\n",
       "      <th>num_3走前3着タイム差</th>\n",
       "      <th>cat_トラック種別</th>\n",
       "      <th>num_距離</th>\n",
       "      <th>cat_距離区分</th>\n",
       "      <th>num_入厩何日前逆数</th>\n",
       "      <th>cat_堅実な馬</th>\n",
       "      <th>cat_過去3走中1走訳あり凡走</th>\n",
       "      <th>cat_過去3走中2走好走</th>\n",
       "      <th>cat_過去3走繋がりあり</th>\n",
       "    </tr>\n",
       "  </thead>\n",
       "  <tbody>\n",
       "    <tr>\n",
       "      <th>0</th>\n",
       "      <td>0</td>\n",
       "      <td>0</td>\n",
       "      <td>09025206</td>\n",
       "      <td>11</td>\n",
       "      <td>00100027</td>\n",
       "      <td>2002-12-01 12:45:00+09:00</td>\n",
       "      <td>0</td>\n",
       "      <td>38.6</td>\n",
       "      <td>0</td>\n",
       "      <td>4.4</td>\n",
       "      <td>...</td>\n",
       "      <td>None</td>\n",
       "      <td>NaN</td>\n",
       "      <td>芝</td>\n",
       "      <td>1600</td>\n",
       "      <td>マイル</td>\n",
       "      <td>1.0</td>\n",
       "      <td>False</td>\n",
       "      <td>False</td>\n",
       "      <td>False</td>\n",
       "      <td>False</td>\n",
       "    </tr>\n",
       "    <tr>\n",
       "      <th>1</th>\n",
       "      <td>0</td>\n",
       "      <td>0</td>\n",
       "      <td>08032303</td>\n",
       "      <td>04</td>\n",
       "      <td>00100027</td>\n",
       "      <td>2003-02-08 10:55:00+09:00</td>\n",
       "      <td>0</td>\n",
       "      <td>39.5</td>\n",
       "      <td>0</td>\n",
       "      <td>11.8</td>\n",
       "      <td>...</td>\n",
       "      <td>None</td>\n",
       "      <td>NaN</td>\n",
       "      <td>ダート</td>\n",
       "      <td>1800</td>\n",
       "      <td>中距離</td>\n",
       "      <td>1.0</td>\n",
       "      <td>False</td>\n",
       "      <td>False</td>\n",
       "      <td>False</td>\n",
       "      <td>False</td>\n",
       "    </tr>\n",
       "    <tr>\n",
       "      <th>2</th>\n",
       "      <td>0</td>\n",
       "      <td>0</td>\n",
       "      <td>08032801</td>\n",
       "      <td>14</td>\n",
       "      <td>00100027</td>\n",
       "      <td>2003-02-23 10:00:00+09:00</td>\n",
       "      <td>0</td>\n",
       "      <td>31.0</td>\n",
       "      <td>0</td>\n",
       "      <td>3.7</td>\n",
       "      <td>...</td>\n",
       "      <td>None</td>\n",
       "      <td>NaN</td>\n",
       "      <td>ダート</td>\n",
       "      <td>1800</td>\n",
       "      <td>中距離</td>\n",
       "      <td>1.0</td>\n",
       "      <td>False</td>\n",
       "      <td>False</td>\n",
       "      <td>False</td>\n",
       "      <td>False</td>\n",
       "    </tr>\n",
       "    <tr>\n",
       "      <th>3</th>\n",
       "      <td>0</td>\n",
       "      <td>0</td>\n",
       "      <td>09031403</td>\n",
       "      <td>07</td>\n",
       "      <td>00100027</td>\n",
       "      <td>2003-03-09 10:55:00+09:00</td>\n",
       "      <td>0</td>\n",
       "      <td>17.2</td>\n",
       "      <td>0</td>\n",
       "      <td>2.3</td>\n",
       "      <td>...</td>\n",
       "      <td>None</td>\n",
       "      <td>1.4</td>\n",
       "      <td>ダート</td>\n",
       "      <td>1800</td>\n",
       "      <td>中距離</td>\n",
       "      <td>1.0</td>\n",
       "      <td>False</td>\n",
       "      <td>False</td>\n",
       "      <td>False</td>\n",
       "      <td>False</td>\n",
       "    </tr>\n",
       "    <tr>\n",
       "      <th>4</th>\n",
       "      <td>0</td>\n",
       "      <td>0</td>\n",
       "      <td>09031701</td>\n",
       "      <td>10</td>\n",
       "      <td>00100027</td>\n",
       "      <td>2003-03-22 10:05:00+09:00</td>\n",
       "      <td>0</td>\n",
       "      <td>20.8</td>\n",
       "      <td>0</td>\n",
       "      <td>2.7</td>\n",
       "      <td>...</td>\n",
       "      <td>None</td>\n",
       "      <td>1.1</td>\n",
       "      <td>ダート</td>\n",
       "      <td>1800</td>\n",
       "      <td>中距離</td>\n",
       "      <td>1.0</td>\n",
       "      <td>False</td>\n",
       "      <td>False</td>\n",
       "      <td>False</td>\n",
       "      <td>False</td>\n",
       "    </tr>\n",
       "  </tbody>\n",
       "</table>\n",
       "<p>5 rows × 76 columns</p>\n",
       "</div>"
      ],
      "text/plain": [
       "   meta_単勝払戻金  meta_複勝払戻金 meta_レースキー meta_馬番 meta_血統登録番号  \\\n",
       "0           0           0   09025206      11    00100027   \n",
       "1           0           0   08032303      04    00100027   \n",
       "2           0           0   08032801      14    00100027   \n",
       "3           0           0   09031403      07    00100027   \n",
       "4           0           0   09031701      10    00100027   \n",
       "\n",
       "                  meta_発走日時  meta_単勝的中  meta_単勝オッズ  meta_複勝的中  meta_複勝オッズ  \\\n",
       "0 2002-12-01 12:45:00+09:00          0        38.6          0         4.4   \n",
       "1 2003-02-08 10:55:00+09:00          0        39.5          0        11.8   \n",
       "2 2003-02-23 10:00:00+09:00          0        31.0          0         3.7   \n",
       "3 2003-03-09 10:55:00+09:00          0        17.2          0         2.3   \n",
       "4 2003-03-22 10:05:00+09:00          0        20.8          0         2.7   \n",
       "\n",
       "   ...  cat_3走前休養理由分類コード  num_3走前3着タイム差  cat_トラック種別  num_距離  cat_距離区分  \\\n",
       "0  ...              None            NaN           芝    1600       マイル   \n",
       "1  ...              None            NaN         ダート    1800       中距離   \n",
       "2  ...              None            NaN         ダート    1800       中距離   \n",
       "3  ...              None            1.4         ダート    1800       中距離   \n",
       "4  ...              None            1.1         ダート    1800       中距離   \n",
       "\n",
       "  num_入厩何日前逆数 cat_堅実な馬  cat_過去3走中1走訳あり凡走  cat_過去3走中2走好走 cat_過去3走繋がりあり  \n",
       "0         1.0    False             False          False         False  \n",
       "1         1.0    False             False          False         False  \n",
       "2         1.0    False             False          False         False  \n",
       "3         1.0    False             False          False         False  \n",
       "4         1.0    False             False          False         False  \n",
       "\n",
       "[5 rows x 76 columns]"
      ]
     },
     "execution_count": 3,
     "metadata": {},
     "output_type": "execute_result"
    }
   ],
   "source": [
    "data = read_hive_table(\n",
    "    table_name=\"features_20240304_v1\",\n",
    "    schema=\"jhra_curated\",\n",
    "    spark_session=spark,\n",
    "    # use_cache=False,\n",
    "    parse_dates=[\"meta_発走日時\"],\n",
    ")\n",
    "\n",
    "rows_before = data.shape[0]\n",
    "logger.info(f\"Original data length: {rows_before}\")\n",
    "\n",
    "# Drop from data where cat_トラック種別 == \"障害\"\n",
    "# Keep only horses that have 3 races\n",
    "# Keep only data from 2000 onwards\n",
    "data = data[\n",
    "    # (data[\"cat_トラック種別\"] != \"障害\")\n",
    "    (~data[\"meta_着順\"].isna())\n",
    "    # & (data[\"meta_異常区分\"] == \"0\")\n",
    "    # & (data[\"num_1走前着順\"].notnull())\n",
    "    # & (data[\"num_2走前着順\"].notnull())\n",
    "    # & (data[\"num_3走前着順\"].notnull())\n",
    "    # & (data[\"meta_発走日時\"] >= \"2000-01-01\")\n",
    "]\n",
    "\n",
    "rows_after = data.shape[0]\n",
    "logger.info(\n",
    "    f\"Data length after filtering: {rows_after} (dropped {rows_before - rows_after} rows, {100 * (rows_before - rows_after) / rows_before:.2f}%)\"\n",
    ")\n",
    "\n",
    "# Interpolate missing values for num_馬体重 (20 instances from 1999 ~ 2017)\n",
    "data[\"num_馬体重\"] = (\n",
    "    data.sort_values(\"meta_発走日時\")\n",
    "    .groupby(\"meta_血統登録番号\")[\"num_馬体重\"]\n",
    "    .transform(lambda x: x.interpolate(method=\"linear\", limit_direction=\"both\"))\n",
    ")\n",
    "\n",
    "data.reset_index(drop=True, inplace=True)\n",
    "data.head()"
   ]
  },
  {
   "cell_type": "code",
   "execution_count": 3,
   "metadata": {},
   "outputs": [],
   "source": [
    "# Initialize ratings for all horses under each condition, plus an overall rating\n",
    "conditions = [\n",
    "    \"overall\",\n",
    "    \"turf\",\n",
    "    \"dirt\",\n",
    "    \"sprint\",\n",
    "    \"mile\",\n",
    "    \"middle_distance\",\n",
    "    \"intermediate_distance\",\n",
    "    \"long_distance\",\n",
    "    \"firm\",  # 良\n",
    "    \"good\",  # 稍重\n",
    "    \"yielding\",  # 重\n",
    "    \"soft\",  # 不良\n",
    "]\n",
    "\n",
    "# Initialize the TrueSkill environment\n",
    "env = trueskill.TrueSkill(draw_probability=0)  # Assuming no draws in horse racing"
   ]
  },
  {
   "cell_type": "code",
   "execution_count": 4,
   "metadata": {},
   "outputs": [
    {
     "name": "stderr",
     "output_type": "stream",
     "text": [
      "100%|██████████| 86237/86237 [43:24<00:00, 33.11it/s]  \n"
     ]
    }
   ],
   "source": [
    "df_sorted = data.sort_values(by=[\"meta_発走日時\", \"meta_レースキー\"])\n",
    "\n",
    "horse_ratings = {\n",
    "    horse_id: {condition: env.create_rating() for condition in conditions}\n",
    "    for horse_id in df_sorted[\"meta_血統登録番号\"].unique()\n",
    "}\n",
    "\n",
    "# Placeholder for ratings at each point in time for each condition, including overall\n",
    "df_sorted[\"race_overall_quality\"] = pd.NA\n",
    "for condition in conditions:\n",
    "    df_sorted[f\"rating_{condition}_post_race\"] = pd.NA\n",
    "    df_sorted[f\"rating_{condition}_uncertainty_post_race\"] = pd.NA\n",
    "\n",
    "\n",
    "# Function to determine the active conditions for a race, considering overall\n",
    "def get_active_conditions(row):\n",
    "    active_conditions = [\"overall\"]\n",
    "\n",
    "    if row[\"cat_トラック種別\"] == \"芝\":\n",
    "        active_conditions.append(\"turf\")\n",
    "    elif row[\"cat_トラック種別\"] == \"ダート\":\n",
    "        active_conditions.append(\"dirt\")\n",
    "\n",
    "    if row[\"cat_距離区分\"] == \"短距離\":\n",
    "        active_conditions.append(\"sprint\")\n",
    "    elif row[\"cat_距離区分\"] == \"マイル\":\n",
    "        active_conditions.append(\"mile\")\n",
    "    elif row[\"cat_距離区分\"] == \"中距離\":\n",
    "        active_conditions.append(\"middle_distance\")\n",
    "    elif row[\"cat_距離区分\"] == \"中長距離\":\n",
    "        active_conditions.append(\"intermediate_distance\")\n",
    "    elif row[\"cat_距離区分\"] == \"長距離\":\n",
    "        active_conditions.append(\"long_distance\")\n",
    "    \n",
    "    if row[\"cat_馬場状態\"] == \"良\":\n",
    "        active_conditions.append(\"firm\")\n",
    "    elif row[\"cat_馬場状態\"] == \"稍重\":\n",
    "        active_conditions.append(\"good\")\n",
    "    elif row[\"cat_馬場状態\"] == \"重\":\n",
    "        active_conditions.append(\"yielding\")\n",
    "    elif row[\"cat_馬場状態\"] == \"不良\":\n",
    "        active_conditions.append(\"soft\")\n",
    "\n",
    "    return active_conditions\n",
    "\n",
    "\n",
    "# Iterate through races in chronological order\n",
    "for (_, race_id), race_data in tqdm(df_sorted.groupby([\"meta_発走日時\", \"meta_レースキー\"])):\n",
    "    race_results = race_data.sort_values(\"meta_着順\")\n",
    "    horse_ids = race_results[\"meta_血統登録番号\"].tolist()\n",
    "\n",
    "    # Determine active conditions for this race\n",
    "    active_conditions = get_active_conditions(race_data.iloc[0])\n",
    "\n",
    "    # Measure race quality\n",
    "    # 0 means significant disparity in skill levels, 1 means very close match\n",
    "    horse_groups = [[horse_ratings[horse_id][\"overall\"]] for horse_id in horse_ids]\n",
    "    df_sorted.loc[race_results.index, \"race_overall_quality\"] = env.quality(horse_groups)\n",
    "\n",
    "    # For each condition (including overall), update and record ratings\n",
    "    for condition in active_conditions:\n",
    "        horse_groups = [[horse_ratings[horse_id][condition]] for horse_id in horse_ids]\n",
    "        # Lower rank number means a better position\n",
    "        ranks = list(range(len(horse_groups)))\n",
    "\n",
    "        # Update ratings based on the race outcome for each condition\n",
    "        updated_ratings = env.rate(horse_groups, ranks=ranks)\n",
    "\n",
    "        # Apply updates to the horse ratings and DataFrame\n",
    "        for index, (horse_id, new_rating_group) in zip(race_results.index, zip(horse_ids, updated_ratings)):\n",
    "            # Update ratings in the horse_ratings dictionary for the current condition\n",
    "            horse_ratings[horse_id][condition] = new_rating_group[0]\n",
    "\n",
    "            # Store the updated rating in the DataFrame for the current condition\n",
    "            df_sorted.at[index, f\"rating_{condition}_post_race\"] = horse_ratings[horse_id][condition].mu\n",
    "            df_sorted.at[index, f\"rating_{condition}_uncertainty_post_race\"] = horse_ratings[horse_id][condition].sigma\n",
    "\n",
    "# Note: At this point, df_sorted contains the updated post-race ratings for each horse under each condition present in the race, including the overall performance."
   ]
  },
  {
   "cell_type": "code",
   "execution_count": 4,
   "metadata": {},
   "outputs": [],
   "source": [
    "# df_sorted.to_parquet(\n",
    "#     \"data/sql_tables/features_20240304_v1_with_ratings.snappy.parquet\",\n",
    "#     index=False,\n",
    "#     compression=\"snappy\",\n",
    "# )\n",
    "df_sorted = pd.read_parquet(\"data/sql_tables/features_20240304_v1_with_ratings.snappy.parquet\")"
   ]
  },
  {
   "cell_type": "code",
   "execution_count": 5,
   "metadata": {},
   "outputs": [
    {
     "name": "stderr",
     "output_type": "stream",
     "text": [
      "100%|██████████| 12/12 [00:19<00:00,  1.61s/it]\n"
     ]
    }
   ],
   "source": [
    "for condition in tqdm(conditions):\n",
    "    # Lag the rating_post_race by one row per horse (meta_血統登録番号) chronologically (meta_発走日時)\n",
    "    df_sorted[f\"rating_{condition}_pre_race\"] = (\n",
    "        df_sorted.sort_values(\"meta_発走日時\")\n",
    "        .groupby(\"meta_血統登録番号\")[f\"rating_{condition}_post_race\"]\n",
    "        .shift(1)\n",
    "        .fillna(env.mu)\n",
    "    )\n",
    "\n",
    "    df_sorted[f\"rating_{condition}_uncertainty_pre_race\"] = (\n",
    "        df_sorted.sort_values(\"meta_発走日時\")\n",
    "        .groupby(\"meta_血統登録番号\")[f\"rating_{condition}_uncertainty_post_race\"]\n",
    "        .shift(1)\n",
    "        .fillna(env.sigma)\n",
    "    )\n",
    "\n",
    "# Now we have pre_race ratings and uncertainties for each horse under each condition, including overall"
   ]
  },
  {
   "cell_type": "code",
   "execution_count": 6,
   "metadata": {},
   "outputs": [
    {
     "data": {
      "text/html": [
       "<div>\n",
       "<style scoped>\n",
       "    .dataframe tbody tr th:only-of-type {\n",
       "        vertical-align: middle;\n",
       "    }\n",
       "\n",
       "    .dataframe tbody tr th {\n",
       "        vertical-align: top;\n",
       "    }\n",
       "\n",
       "    .dataframe thead th {\n",
       "        text-align: right;\n",
       "    }\n",
       "</style>\n",
       "<table border=\"1\" class=\"dataframe\">\n",
       "  <thead>\n",
       "    <tr style=\"text-align: right;\">\n",
       "      <th></th>\n",
       "      <th>cat_トラック種別</th>\n",
       "      <th>rating_turf_pre_race</th>\n",
       "      <th>rating_turf_uncertainty_pre_race</th>\n",
       "      <th>rating_dirt_pre_race</th>\n",
       "      <th>rating_dirt_uncertainty_pre_race</th>\n",
       "      <th>rating_トラック種別_pre_race</th>\n",
       "      <th>rating_トラック種別_uncertainty_pre_race</th>\n",
       "      <th>mean_competitor_rating_トラック種別_pre_race_diff</th>\n",
       "      <th>mean_competitor_rating_トラック種別_uncertainty_pre_race_diff</th>\n",
       "    </tr>\n",
       "  </thead>\n",
       "  <tbody>\n",
       "    <tr>\n",
       "      <th>45769</th>\n",
       "      <td>ダート</td>\n",
       "      <td>21.397378</td>\n",
       "      <td>4.927590</td>\n",
       "      <td>25.000000</td>\n",
       "      <td>8.333333</td>\n",
       "      <td>25.000000</td>\n",
       "      <td>8.333333</td>\n",
       "      <td>-4.135266</td>\n",
       "      <td>2.904795</td>\n",
       "    </tr>\n",
       "    <tr>\n",
       "      <th>32223</th>\n",
       "      <td>芝</td>\n",
       "      <td>28.108147</td>\n",
       "      <td>1.538139</td>\n",
       "      <td>25.000000</td>\n",
       "      <td>8.333333</td>\n",
       "      <td>28.108147</td>\n",
       "      <td>1.538139</td>\n",
       "      <td>1.814954</td>\n",
       "      <td>-1.831198</td>\n",
       "    </tr>\n",
       "    <tr>\n",
       "      <th>749669</th>\n",
       "      <td>芝</td>\n",
       "      <td>25.000000</td>\n",
       "      <td>8.333333</td>\n",
       "      <td>25.000000</td>\n",
       "      <td>8.333333</td>\n",
       "      <td>25.000000</td>\n",
       "      <td>8.333333</td>\n",
       "      <td>0.000000</td>\n",
       "      <td>0.000000</td>\n",
       "    </tr>\n",
       "    <tr>\n",
       "      <th>799687</th>\n",
       "      <td>芝</td>\n",
       "      <td>25.000000</td>\n",
       "      <td>8.333333</td>\n",
       "      <td>25.000000</td>\n",
       "      <td>8.333333</td>\n",
       "      <td>25.000000</td>\n",
       "      <td>8.333333</td>\n",
       "      <td>0.000000</td>\n",
       "      <td>0.000000</td>\n",
       "    </tr>\n",
       "    <tr>\n",
       "      <th>763216</th>\n",
       "      <td>ダート</td>\n",
       "      <td>22.359518</td>\n",
       "      <td>4.996491</td>\n",
       "      <td>25.000000</td>\n",
       "      <td>8.333333</td>\n",
       "      <td>25.000000</td>\n",
       "      <td>8.333333</td>\n",
       "      <td>-9.936804</td>\n",
       "      <td>5.893424</td>\n",
       "    </tr>\n",
       "    <tr>\n",
       "      <th>627873</th>\n",
       "      <td>ダート</td>\n",
       "      <td>25.000000</td>\n",
       "      <td>8.333333</td>\n",
       "      <td>19.604102</td>\n",
       "      <td>3.421661</td>\n",
       "      <td>19.604102</td>\n",
       "      <td>3.421661</td>\n",
       "      <td>-5.827718</td>\n",
       "      <td>-0.874236</td>\n",
       "    </tr>\n",
       "    <tr>\n",
       "      <th>749613</th>\n",
       "      <td>芝</td>\n",
       "      <td>25.000000</td>\n",
       "      <td>8.333333</td>\n",
       "      <td>25.000000</td>\n",
       "      <td>8.333333</td>\n",
       "      <td>25.000000</td>\n",
       "      <td>8.333333</td>\n",
       "      <td>0.000000</td>\n",
       "      <td>0.000000</td>\n",
       "    </tr>\n",
       "    <tr>\n",
       "      <th>1166174</th>\n",
       "      <td>芝</td>\n",
       "      <td>25.000000</td>\n",
       "      <td>8.333333</td>\n",
       "      <td>30.645244</td>\n",
       "      <td>1.706162</td>\n",
       "      <td>25.000000</td>\n",
       "      <td>8.333333</td>\n",
       "      <td>-3.409988</td>\n",
       "      <td>5.252728</td>\n",
       "    </tr>\n",
       "    <tr>\n",
       "      <th>1175563</th>\n",
       "      <td>芝</td>\n",
       "      <td>37.628806</td>\n",
       "      <td>2.783922</td>\n",
       "      <td>25.000000</td>\n",
       "      <td>8.333333</td>\n",
       "      <td>37.628806</td>\n",
       "      <td>2.783922</td>\n",
       "      <td>4.375993</td>\n",
       "      <td>-0.405076</td>\n",
       "    </tr>\n",
       "    <tr>\n",
       "      <th>389757</th>\n",
       "      <td>芝</td>\n",
       "      <td>44.063093</td>\n",
       "      <td>2.662773</td>\n",
       "      <td>25.000000</td>\n",
       "      <td>8.333333</td>\n",
       "      <td>44.063093</td>\n",
       "      <td>2.662773</td>\n",
       "      <td>4.890326</td>\n",
       "      <td>1.635144</td>\n",
       "    </tr>\n",
       "  </tbody>\n",
       "</table>\n",
       "</div>"
      ],
      "text/plain": [
       "        cat_トラック種別  rating_turf_pre_race  rating_turf_uncertainty_pre_race  \\\n",
       "45769          ダート             21.397378                          4.927590   \n",
       "32223            芝             28.108147                          1.538139   \n",
       "749669           芝             25.000000                          8.333333   \n",
       "799687           芝             25.000000                          8.333333   \n",
       "763216         ダート             22.359518                          4.996491   \n",
       "627873         ダート             25.000000                          8.333333   \n",
       "749613           芝             25.000000                          8.333333   \n",
       "1166174          芝             25.000000                          8.333333   \n",
       "1175563          芝             37.628806                          2.783922   \n",
       "389757           芝             44.063093                          2.662773   \n",
       "\n",
       "         rating_dirt_pre_race  rating_dirt_uncertainty_pre_race  \\\n",
       "45769               25.000000                          8.333333   \n",
       "32223               25.000000                          8.333333   \n",
       "749669              25.000000                          8.333333   \n",
       "799687              25.000000                          8.333333   \n",
       "763216              25.000000                          8.333333   \n",
       "627873              19.604102                          3.421661   \n",
       "749613              25.000000                          8.333333   \n",
       "1166174             30.645244                          1.706162   \n",
       "1175563             25.000000                          8.333333   \n",
       "389757              25.000000                          8.333333   \n",
       "\n",
       "         rating_トラック種別_pre_race  rating_トラック種別_uncertainty_pre_race  \\\n",
       "45769                 25.000000                            8.333333   \n",
       "32223                 28.108147                            1.538139   \n",
       "749669                25.000000                            8.333333   \n",
       "799687                25.000000                            8.333333   \n",
       "763216                25.000000                            8.333333   \n",
       "627873                19.604102                            3.421661   \n",
       "749613                25.000000                            8.333333   \n",
       "1166174               25.000000                            8.333333   \n",
       "1175563               37.628806                            2.783922   \n",
       "389757                44.063093                            2.662773   \n",
       "\n",
       "         mean_competitor_rating_トラック種別_pre_race_diff  \\\n",
       "45769                                      -4.135266   \n",
       "32223                                       1.814954   \n",
       "749669                                      0.000000   \n",
       "799687                                      0.000000   \n",
       "763216                                     -9.936804   \n",
       "627873                                     -5.827718   \n",
       "749613                                      0.000000   \n",
       "1166174                                    -3.409988   \n",
       "1175563                                     4.375993   \n",
       "389757                                      4.890326   \n",
       "\n",
       "         mean_competitor_rating_トラック種別_uncertainty_pre_race_diff  \n",
       "45769                                             2.904795        \n",
       "32223                                            -1.831198        \n",
       "749669                                            0.000000        \n",
       "799687                                            0.000000        \n",
       "763216                                            5.893424        \n",
       "627873                                           -0.874236        \n",
       "749613                                            0.000000        \n",
       "1166174                                           5.252728        \n",
       "1175563                                          -0.405076        \n",
       "389757                                            1.635144        "
      ]
     },
     "execution_count": 6,
     "metadata": {},
     "output_type": "execute_result"
    }
   ],
   "source": [
    "#\n",
    "# DISTANCE\n",
    "#\n",
    "\n",
    "distance_conditions = [\n",
    "    df_sorted[\"cat_距離区分\"] == \"短距離\",\n",
    "    df_sorted[\"cat_距離区分\"] == \"マイル\",\n",
    "    df_sorted[\"cat_距離区分\"] == \"中距離\",\n",
    "    df_sorted[\"cat_距離区分\"] == \"中長距離\",\n",
    "    df_sorted[\"cat_距離区分\"] == \"長距離\",\n",
    "]\n",
    "\n",
    "distance_choices = [\n",
    "    df_sorted[\"rating_sprint_pre_race\"],\n",
    "    df_sorted[\"rating_mile_pre_race\"],\n",
    "    df_sorted[\"rating_middle_distance_pre_race\"],\n",
    "    df_sorted[\"rating_intermediate_distance_pre_race\"],\n",
    "    df_sorted[\"rating_long_distance_pre_race\"],\n",
    "]\n",
    "\n",
    "distance_uncertainty_choices = [\n",
    "    df_sorted[\"rating_sprint_uncertainty_pre_race\"],\n",
    "    df_sorted[\"rating_mile_uncertainty_pre_race\"],\n",
    "    df_sorted[\"rating_middle_distance_uncertainty_pre_race\"],\n",
    "    df_sorted[\"rating_intermediate_distance_uncertainty_pre_race\"],\n",
    "    df_sorted[\"rating_long_distance_uncertainty_pre_race\"],\n",
    "]\n",
    "\n",
    "df_sorted[\"rating_距離区分_pre_race\"] = np.select(distance_conditions, distance_choices, default=np.nan)\n",
    "df_sorted[\"rating_距離区分_uncertainty_pre_race\"] = np.select(distance_conditions, distance_uncertainty_choices, default=np.nan)\n",
    "\n",
    "#\n",
    "# SURFACE TYPE\n",
    "#\n",
    "\n",
    "turf_conditions = [\n",
    "    df_sorted[\"cat_トラック種別\"] == \"芝\",\n",
    "    df_sorted[\"cat_トラック種別\"] == \"ダート\",\n",
    "]\n",
    "\n",
    "turf_choices = [\n",
    "    df_sorted[\"rating_turf_pre_race\"],\n",
    "    df_sorted[\"rating_dirt_pre_race\"],\n",
    "]\n",
    "\n",
    "turf_uncertainty_choices = [\n",
    "    df_sorted[\"rating_turf_uncertainty_pre_race\"],\n",
    "    df_sorted[\"rating_dirt_uncertainty_pre_race\"],\n",
    "]\n",
    "\n",
    "df_sorted[\"rating_トラック種別_pre_race\"] = np.select(turf_conditions, turf_choices, default=np.nan)\n",
    "df_sorted[\"rating_トラック種別_uncertainty_pre_race\"] = np.select(turf_conditions, turf_uncertainty_choices, default=np.nan)\n",
    "\n",
    "#\n",
    "# GOING\n",
    "#\n",
    "\n",
    "going_conditions = [\n",
    "    df_sorted[\"cat_馬場状態\"] == \"良\",\n",
    "    df_sorted[\"cat_馬場状態\"] == \"稍重\",\n",
    "    df_sorted[\"cat_馬場状態\"] == \"重\",\n",
    "    df_sorted[\"cat_馬場状態\"] == \"不良\",\n",
    "]\n",
    "\n",
    "going_choices = [\n",
    "    df_sorted[\"rating_firm_pre_race\"],\n",
    "    df_sorted[\"rating_good_pre_race\"],\n",
    "    df_sorted[\"rating_yielding_pre_race\"],\n",
    "    df_sorted[\"rating_soft_pre_race\"],\n",
    "]\n",
    "\n",
    "going_uncertainty_choices = [\n",
    "    df_sorted[\"rating_firm_uncertainty_pre_race\"],\n",
    "    df_sorted[\"rating_good_uncertainty_pre_race\"],\n",
    "    df_sorted[\"rating_yielding_uncertainty_pre_race\"],\n",
    "    df_sorted[\"rating_soft_uncertainty_pre_race\"],\n",
    "]\n",
    "\n",
    "df_sorted[\"rating_馬場状態_pre_race\"] = np.select(going_conditions, going_choices, default=np.nan)\n",
    "df_sorted[\"rating_馬場状態_uncertainty_pre_race\"] = np.select(going_conditions, going_uncertainty_choices, default=np.nan)\n",
    "\n",
    "#\n",
    "# MEAN DIFFS\n",
    "#\n",
    "\n",
    "for category in [\"overall\", \"距離区分\", \"トラック種別\", \"馬場状態\"]:\n",
    "    race_rating_sum = df_sorted.groupby(\"meta_レースキー\")[f\"rating_{category}_pre_race\"].transform(\"sum\")\n",
    "    race_horse_count = df_sorted.groupby(\"meta_レースキー\")[f\"rating_{category}_pre_race\"].transform(\"count\")\n",
    "    df_sorted[f\"mean_competitor_rating_{category}_pre_race\"] = (race_rating_sum - df_sorted[f\"rating_{category}_pre_race\"]) / (race_horse_count - 1)\n",
    "    df_sorted[f\"mean_competitor_rating_{category}_pre_race_diff\"] = df_sorted[f\"rating_{category}_pre_race\"] - df_sorted[f\"mean_competitor_rating_{category}_pre_race\"]\n",
    "\n",
    "    race_rating_uncertainty_sum = df_sorted.groupby(\"meta_レースキー\")[f\"rating_{category}_uncertainty_pre_race\"].transform(\"sum\")\n",
    "    race_horse_count = df_sorted.groupby(\"meta_レースキー\")[f\"rating_{category}_uncertainty_pre_race\"].transform(\"count\")\n",
    "    df_sorted[f\"mean_competitor_rating_{category}_uncertainty_pre_race\"] = (race_rating_uncertainty_sum - df_sorted[f\"rating_{category}_uncertainty_pre_race\"]) / (race_horse_count - 1)\n",
    "    df_sorted[f\"mean_competitor_rating_{category}_uncertainty_pre_race_diff\"] = df_sorted[f\"rating_{category}_uncertainty_pre_race\"] - df_sorted[f\"mean_competitor_rating_{category}_uncertainty_pre_race\"]\n",
    "\n",
    "# Use the following columns as features\n",
    "# rating_{category}_pre_race\n",
    "# rating_{category}_uncertainty_pre_race\n",
    "# mean_competitor_rating_{category}_pre_race_diff\n",
    "# mean_competitor_rating_{category}_uncertainty_pre_race_diff\n",
    "\n",
    "\n",
    "# Looks good\n",
    "df_sorted[\n",
    "    [\n",
    "        \"cat_トラック種別\",\n",
    "        \"rating_turf_pre_race\",\n",
    "        \"rating_turf_uncertainty_pre_race\",\n",
    "        \"rating_dirt_pre_race\",\n",
    "        \"rating_dirt_uncertainty_pre_race\",\n",
    "        \"rating_トラック種別_pre_race\",\n",
    "        \"rating_トラック種別_uncertainty_pre_race\",\n",
    "        \"mean_competitor_rating_トラック種別_pre_race_diff\",\n",
    "        \"mean_competitor_rating_トラック種別_uncertainty_pre_race_diff\",\n",
    "    ]\n",
    "].sample(10)"
   ]
  },
  {
   "cell_type": "code",
   "execution_count": 7,
   "metadata": {},
   "outputs": [],
   "source": [
    "# Calculate the average 1走前経過日数 for each horse's competitors in the same race, excluding the horse itself. Store in \"mean_competitor_1走前経過日数\" column.\n",
    "race_sums = df_sorted.groupby('meta_レースキー')['num_1走前経過日数'].transform('sum')\n",
    "race_counts = df_sorted.groupby('meta_レースキー')['num_1走前経過日数'].transform('count')\n",
    "# Calculate the average for competitors of each horse\n",
    "df_sorted['mean_competitor_1走前経過日数'] = (race_sums - df_sorted['num_1走前経過日数']) / (race_counts - 1)"
   ]
  },
  {
   "cell_type": "code",
   "execution_count": 8,
   "metadata": {},
   "outputs": [],
   "source": [
    "df_final = df_sorted[\n",
    "    (df_sorted[\"cat_トラック種別\"] != \"障害\")\n",
    "    # & (df_sorted[\"num_1走前着順\"].notnull())\n",
    "    # & (df_sorted[\"num_2走前着順\"].notnull())\n",
    "    # & (df_sorted[\"num_3走前着順\"].notnull())\n",
    "    # & (df_sorted[\"num_平均馬体重差\"].notnull())  # only 7 records, handle later\n",
    "    # & (df_sorted[\"mean_competitor_1走前経過日数\"].notnull())  # 1 row\n",
    "]"
   ]
  },
  {
   "cell_type": "code",
   "execution_count": 9,
   "metadata": {},
   "outputs": [],
   "source": [
    "df = df_final.copy()\n",
    "\n",
    "# 1. Weighted average position\n",
    "df[\"num_1走前標準化着順\"] = (df[\"num_1走前着順\"] - 1) / (df[\"num_1走前頭数\"] - 1)\n",
    "df[\"num_2走前標準化着順\"] = (df[\"num_2走前着順\"] - 1) / (df[\"num_2走前頭数\"] - 1)\n",
    "df[\"num_3走前標準化着順\"] = (df[\"num_3走前着順\"] - 1) / (df[\"num_3走前頭数\"] - 1)\n",
    "# We want our factor (num_1走前経過日数) to start from 0\n",
    "# so subtract the minimum value for \"days since last race\" across all horses\n",
    "# Add a small number to avoid division by zero\n",
    "df[\"num_1走前重み\"] = 1 / (df[\"num_1走前経過日数\"] - df[\"num_1走前経過日数\"].min() + 1e-6)\n",
    "df[\"num_2走前重み\"] = 1 / (df[\"num_2走前経過日数\"] - df[\"num_1走前経過日数\"].min() + 1e-6)\n",
    "df[\"num_3走前重み\"] = 1 / (df[\"num_3走前経過日数\"] - df[\"num_1走前経過日数\"].min() + 1e-6)\n",
    "# Calculate weighted average of the feature\n",
    "df[\"num_過去3走重み付き標準化着順\"] = (\n",
    "    (df[\"num_1走前標準化着順\"] * df[\"num_1走前重み\"])\n",
    "    + (df[\"num_2走前標準化着順\"] * df[\"num_2走前重み\"])\n",
    "    + (df[\"num_3走前標準化着順\"] * df[\"num_3走前重み\"])\n",
    ") / (df[\"num_1走前重み\"] + df[\"num_2走前重み\"] + df[\"num_3走前重み\"])\n",
    "\n",
    "# 2. Weighted average time difference between the horse and the 3 horses behind it\n",
    "df[\"num_1走前後続馬平均タイム差\"] = (\n",
    "    df[[\"num_1走前後続馬1タイム差\", \"num_1走前後続馬2タイム差\", \"num_1走前後続馬3タイム差\"]]\n",
    "    .mean(axis=1)\n",
    "    .fillna(0)\n",
    ")\n",
    "df[\"num_2走前後続馬平均タイム差\"] = (\n",
    "    df[[\"num_2走前後続馬1タイム差\", \"num_2走前後続馬2タイム差\", \"num_2走前後続馬3タイム差\"]]\n",
    "    .mean(axis=1)\n",
    "    .fillna(0)\n",
    ")\n",
    "df[\"num_3走前後続馬平均タイム差\"] = (\n",
    "    df[[\"num_3走前後続馬1タイム差\", \"num_3走前後続馬2タイム差\", \"num_3走前後続馬3タイム差\"]]\n",
    "    .mean(axis=1)\n",
    "    .fillna(0)\n",
    ")\n",
    "df[\"num_過去3走重み付き後続馬平均タイム差\"] = (\n",
    "    (df[\"num_1走前後続馬平均タイム差\"] * df[\"num_1走前重み\"])\n",
    "    + (df[\"num_2走前後続馬平均タイム差\"] * df[\"num_2走前重み\"])\n",
    "    + (df[\"num_3走前後続馬平均タイム差\"] * df[\"num_3走前重み\"])\n",
    ") / (df[\"num_1走前重み\"] + df[\"num_2走前重み\"] + df[\"num_3走前重み\"])"
   ]
  },
  {
   "cell_type": "code",
   "execution_count": 10,
   "metadata": {},
   "outputs": [],
   "source": [
    "# Get the average of \"rating_距離区分_pre_race\", \"rating_トラック種別_pre_race\", \"rating_馬場状態_pre_race\" for each row in df and store it as a new column \"foo\"\n",
    "df[\"rating_適性_pre_race\"] = df[\n",
    "    [\n",
    "        \"rating_距離区分_pre_race\",\n",
    "        \"rating_トラック種別_pre_race\",\n",
    "        \"rating_馬場状態_pre_race\",\n",
    "    ]\n",
    "].mean(axis=1)\n",
    "\n",
    "df[\"mean_competitor_rating_適性_pre_race_diff\"] = df[\n",
    "    [\n",
    "        \"mean_competitor_rating_距離区分_pre_race_diff\",\n",
    "        \"mean_competitor_rating_トラック種別_pre_race_diff\",\n",
    "        \"mean_competitor_rating_馬場状態_pre_race_diff\",\n",
    "    ]\n",
    "].mean(axis=1)"
   ]
  },
  {
   "cell_type": "code",
   "execution_count": 11,
   "metadata": {},
   "outputs": [
    {
     "name": "stdout",
     "output_type": "stream",
     "text": [
      "X_train: (934708, 202)\n",
      "X_test: (233279, 202)\n",
      "y_train: (934708,)\n",
      "y_test: (233279,)\n",
      "groups_train: (66386,)\n",
      "groups_test: (16597,)\n"
     ]
    }
   ],
   "source": [
    "# Initialize GroupShuffleSplit\n",
    "gss = GroupShuffleSplit(n_splits=1, test_size=0.2, random_state=get_random_seed())\n",
    "\n",
    "# Assume df['group'] is your grouping variable\n",
    "# Splitting the data\n",
    "for train_idx, test_idx in gss.split(df, groups=df[\"meta_レースキー\"]):\n",
    "    train_df = df.iloc[train_idx]\n",
    "    test_df = df.iloc[test_idx]\n",
    "\n",
    "# Now, train_df and test_df contain your split data, respecting group boundaries\n",
    "X_train = train_df\n",
    "y_train = train_df[\"meta_着順\"].apply(lambda x: int(1.0 / x * 10) if x < 4 else 0)\n",
    "groups_train = train_df.groupby(\"meta_レースキー\").size().to_numpy()\n",
    "\n",
    "X_test = test_df\n",
    "y_test = test_df[\"meta_着順\"].apply(lambda x: int(1.0 / x * 10) if x < 4 else 0)\n",
    "groups_test = test_df.groupby(\"meta_レースキー\").size().to_numpy()\n",
    "\n",
    "print(f\"X_train: {X_train.shape}\")\n",
    "print(f\"X_test: {X_test.shape}\")\n",
    "print(f\"y_train: {y_train.shape}\")\n",
    "print(f\"y_test: {y_test.shape}\")\n",
    "print(f\"groups_train: {groups_train.shape}\")\n",
    "print(f\"groups_test: {groups_test.shape}\")"
   ]
  },
  {
   "cell_type": "code",
   "execution_count": 13,
   "metadata": {},
   "outputs": [],
   "source": [
    "def calculate_average_ndcg(model, valid_dataset) -> float:\n",
    "    y_pred = model.predict(valid_dataset.data)\n",
    "\n",
    "    ## Initialize an empty list to store the NDCG scores of each group\n",
    "    ndcg_scores = []\n",
    "    # The starting index of the first item in the current group\n",
    "    start_idx = 0\n",
    "    for group_size in valid_dataset.group:\n",
    "        end_idx = start_idx + group_size\n",
    "        # Slice the true labels and predictions according to the current group\n",
    "        true_labels = valid_dataset.label[start_idx:end_idx]\n",
    "        predictions = y_pred[start_idx:end_idx]\n",
    "\n",
    "        # Calculate the NDCG score for the current group.\n",
    "        # ndcg_score expects 2D arrays, so we add an extra dimension\n",
    "        ndcg = ndcg_score([true_labels], [predictions])\n",
    "        ndcg_scores.append(ndcg)\n",
    "\n",
    "        # Update the start index for the next group\n",
    "        start_idx = end_idx\n",
    "\n",
    "    # Calculate the average NDCG score across all groups\n",
    "    return np.mean(ndcg_scores)\n",
    "\n",
    "\n",
    "def create_objective_fn(\n",
    "    X_train: pd.DataFrame,\n",
    "    y_train: pd.Series,\n",
    "    X_test: pd.DataFrame,\n",
    "    y_test: pd.Series,\n",
    "    groups_train: np.ndarray,\n",
    "    groups_test: np.ndarray,\n",
    "    experiment_name: str,\n",
    "):\n",
    "    def objective(params):\n",
    "        mlflow.set_experiment(experiment_name=experiment_name)\n",
    "        with mlflow.start_run():\n",
    "            preprocessor = ColumnTransformer(\n",
    "                transformers=[\n",
    "                    (\n",
    "                        \"ord\",\n",
    "                        OrdinalEncoder(categories=[[\"良\", \"稍重\", \"重\", \"不良\"]]),\n",
    "                        [\"cat_馬場状態\"],\n",
    "                    ),\n",
    "                    (\n",
    "                        \"cat\",\n",
    "                        OneHotEncoder(drop=\"if_binary\"),\n",
    "                        [\"cat_トラック種別\", \"cat_性別\"],\n",
    "                    ),\n",
    "                    (\n",
    "                        \"num\",\n",
    "                        StandardScaler(),\n",
    "                        [\n",
    "                            \"num_馬体重\",\n",
    "                            \"num_頭数\",\n",
    "                            \"num_負担重量\",\n",
    "                            \"num_年齢\",\n",
    "                            \"num_距離\",\n",
    "                            \"num_平均馬体重差\",\n",
    "                            \"num_複勝率\",\n",
    "                            \"num_1走前経過日数\",\n",
    "                            \"mean_competitor_1走前経過日数\",\n",
    "                            \"num_過去3走重み付き標準化着順\",\n",
    "                            \"num_過去3走重み付き後続馬平均タイム差\",\n",
    "                            \"race_overall_quality\",\n",
    "                            \"rating_overall_uncertainty_pre_race\",\n",
    "                            \"mean_competitor_rating_overall_pre_race_diff\",\n",
    "                        ],\n",
    "                    ),\n",
    "                ],\n",
    "                remainder=\"drop\",\n",
    "                verbose_feature_names_out=False,\n",
    "            )\n",
    "\n",
    "            X_train_prep = preprocessor.fit_transform(X_train)\n",
    "            X_test_prep = preprocessor.transform(X_test)\n",
    "\n",
    "            feature_names = preprocessor.get_feature_names_out().tolist()\n",
    "            categorical_features = [\n",
    "                *preprocessor.named_transformers_[\"ord\"]\n",
    "                .get_feature_names_out()\n",
    "                .tolist(),\n",
    "                *preprocessor.named_transformers_[\"cat\"]\n",
    "                .get_feature_names_out()\n",
    "                .tolist(),\n",
    "            ]\n",
    "\n",
    "            train_dataset = lgb.Dataset(\n",
    "                X_train_prep,\n",
    "                label=y_train,\n",
    "                group=groups_train,\n",
    "                feature_name=feature_names,\n",
    "                categorical_feature=categorical_features,\n",
    "            )\n",
    "            valid_dataset = lgb.Dataset(\n",
    "                data=X_test_prep,\n",
    "                label=y_test,\n",
    "                group=groups_test,\n",
    "                reference=train_dataset,\n",
    "                free_raw_data=False,\n",
    "                feature_name=feature_names,\n",
    "                categorical_feature=categorical_features,\n",
    "            )\n",
    "            model = lgb.train(\n",
    "                params,\n",
    "                train_dataset,\n",
    "                valid_sets=[valid_dataset],\n",
    "                num_boost_round=1000,\n",
    "                callbacks=[\n",
    "                    lgb.early_stopping(stopping_rounds=50),\n",
    "                ],\n",
    "            )\n",
    "\n",
    "            # 1 means perfect ranking, 0 means worst ranking\n",
    "            average_ndcg = calculate_average_ndcg(model, valid_dataset)\n",
    "            loss = -average_ndcg\n",
    "\n",
    "            mlflow.log_params(params)\n",
    "            mlflow.log_metric(\"loss\", loss)\n",
    "            mlflow.log_metric(\"average_ndcg\", average_ndcg)\n",
    "\n",
    "            # Tree Plot\n",
    "            ax = lgb.plot_tree(model, figsize=(20, 20), show_info=[\"split_gain\", \"data_percentage\"], precision=2)\n",
    "            fig = ax.get_figure()\n",
    "            with tempfile.NamedTemporaryFile(\n",
    "                prefix=\"lgbm_tree_\", suffix=\".png\"\n",
    "            ) as f:\n",
    "                fig.savefig(f.name)\n",
    "                plt.close()\n",
    "                mlflow.log_artifact(f.name)\n",
    "\n",
    "            # Feature Importances Plot (Gain)\n",
    "            fig, ax = plot_feature_importances(\n",
    "                feature_names=preprocessor.get_feature_names_out(),\n",
    "                feature_importances=model.feature_importance(importance_type=\"gain\"),\n",
    "                top_n=50,\n",
    "            )\n",
    "            with tempfile.NamedTemporaryFile(\n",
    "                prefix=\"feature_importance_gain_\", suffix=\".png\"\n",
    "            ) as f:\n",
    "                fig.savefig(f.name)\n",
    "                plt.close()\n",
    "                mlflow.log_artifact(f.name)\n",
    "\n",
    "            # Feature Importances Data (Gain)\n",
    "            feature_importances = zip(\n",
    "                preprocessor.get_feature_names_out(),\n",
    "                model.feature_importance(importance_type=\"gain\"),\n",
    "            )\n",
    "            feature_importances_df = (\n",
    "                pd.DataFrame(feature_importances, columns=[\"feature\", \"importance\"])\n",
    "                .sort_values(\"importance\", ascending=False)\n",
    "                .reset_index(drop=True)\n",
    "            )\n",
    "            with tempfile.NamedTemporaryFile(\n",
    "                prefix=\"feature_importance_gain_\", suffix=\".csv\"\n",
    "            ) as f:\n",
    "                feature_importances_df.to_csv(f.name, index=False)\n",
    "                mlflow.log_artifact(f.name)\n",
    "\n",
    "            # Feature Importances Plot (Split)\n",
    "            fig, ax = plot_feature_importances(\n",
    "                feature_names=preprocessor.get_feature_names_out(),\n",
    "                feature_importances=model.feature_importance(importance_type=\"split\"),\n",
    "                top_n=50,\n",
    "            )\n",
    "            with tempfile.NamedTemporaryFile(\n",
    "                prefix=\"feature_importance_split_\", suffix=\".png\"\n",
    "            ) as f:\n",
    "                fig.savefig(f.name)\n",
    "                plt.close()\n",
    "                mlflow.log_artifact(f.name)\n",
    "\n",
    "            # Feature Importances Data (Split)\n",
    "            feature_importances = zip(\n",
    "                preprocessor.get_feature_names_out(),\n",
    "                model.feature_importance(importance_type=\"split\"),\n",
    "            )\n",
    "            feature_importances_df = (\n",
    "                pd.DataFrame(feature_importances, columns=[\"feature\", \"importance\"])\n",
    "                .sort_values(\"importance\", ascending=False)\n",
    "                .reset_index(drop=True)\n",
    "            )\n",
    "            with tempfile.NamedTemporaryFile(\n",
    "                prefix=\"feature_importance_split_\", suffix=\".csv\"\n",
    "            ) as f:\n",
    "                feature_importances_df.to_csv(f.name, index=False)\n",
    "                mlflow.log_artifact(f.name)\n",
    "\n",
    "            # SHAP values\n",
    "            X_test_sample = X_test.sample(n=5000, random_state=get_random_seed())\n",
    "            X_test_sample_prep = preprocessor.transform(X_test_sample)\n",
    "            explainer = shap.TreeExplainer(\n",
    "                model=model,\n",
    "                feature_names=preprocessor.get_feature_names_out(),\n",
    "            )\n",
    "            shap_values = explainer(X_test_sample_prep)\n",
    "\n",
    "            # Takes a long time\n",
    "            # shap_interaction_values = explainer.shap_interaction_values(X_test_sample_prep)\n",
    "\n",
    "            # SHAP beeswarm plot\n",
    "            shap.plots.beeswarm(shap_values, show=False, max_display=25)\n",
    "            plt.tight_layout()\n",
    "            with tempfile.NamedTemporaryFile(\n",
    "                prefix=\"shap_beeswarm_\", suffix=\".png\"\n",
    "            ) as f:\n",
    "                plt.savefig(f.name)\n",
    "                plt.close()\n",
    "                mlflow.log_artifact(f.name)\n",
    "\n",
    "            # SHAP interaction values heatmap\n",
    "            # fig, ax = plot_shap_interaction_values(\n",
    "            #     shap_interaction_values, preprocessor.get_feature_names_out()\n",
    "            # )\n",
    "            # with tempfile.NamedTemporaryFile(\n",
    "            #     prefix=\"shap_interactions_\", suffix=\".png\"\n",
    "            # ) as f:\n",
    "            #     fig.savefig(f.name)\n",
    "            #     plt.close()\n",
    "            #     mlflow.log_artifact(f.name)\n",
    "\n",
    "            # SHAP bar plot\n",
    "            shap.plots.bar(shap_values, show=False, max_display=25)\n",
    "            plt.tight_layout()\n",
    "            with tempfile.NamedTemporaryFile(prefix=\"shap_bar_\", suffix=\".png\") as f:\n",
    "                plt.savefig(f.name)\n",
    "                plt.close()\n",
    "                mlflow.log_artifact(f.name)\n",
    "\n",
    "            return {\"loss\": loss, \"params\": params, \"status\": STATUS_OK}\n",
    "\n",
    "    return objective"
   ]
  },
  {
   "cell_type": "code",
   "execution_count": 14,
   "metadata": {},
   "outputs": [],
   "source": [
    "space = {\n",
    "    \"num_leaves\": scope.int(hp.quniform(\"num_leaves\", 20, 150, 1)),\n",
    "    \"learning_rate\": hp.loguniform(\"learning_rate\", -5, 0),  # between e^-5 and 1\n",
    "    \"min_data_in_leaf\": hp.choice(\"min_data_in_leaf\", range(20, 100)),\n",
    "    \"feature_fraction\": hp.uniform(\"feature_fraction\", 0.5, 1.0),\n",
    "    \"bagging_fraction\": hp.uniform(\"bagging_fraction\", 0.5, 1.0),\n",
    "    \"bagging_freq\": hp.choice(\"bagging_freq\", range(1, 10)),\n",
    "    \"lambda_l1\": hp.uniform(\"lambda_l1\", 0, 10),\n",
    "    \"lambda_l2\": hp.uniform(\"lambda_l2\", 0, 10),\n",
    "    \"max_depth\": hp.choice(\"max_depth\", range(3, 15)),\n",
    "    # Constant parameters\n",
    "    \"objective\": \"lambdarank\",\n",
    "    \"metric\": [\"ndcg\", \"map\"],\n",
    "    \"ndcg_eval_at\": [1, 3, 5],\n",
    "    \"verbose\": -1,\n",
    "    \"seed\": get_random_seed(),\n",
    "    \"boosting_type\": \"gbdt\",\n",
    "}"
   ]
  },
  {
   "cell_type": "code",
   "execution_count": 15,
   "metadata": {},
   "outputs": [],
   "source": [
    "payouts = (\n",
    "    X_test[[\"meta_発走日時\", \"meta_複勝払戻金\", \"meta_複勝オッズ\"]]\n",
    "    .reset_index(drop=True)\n",
    "    .rename(\n",
    "        columns={\n",
    "            \"meta_発走日時\": \"発走日時\",\n",
    "            \"meta_複勝払戻金\": \"payout\",\n",
    "            \"meta_複勝オッズ\": \"odds\",\n",
    "        }\n",
    "    )\n",
    "    .assign(発走日時=lambda x: pd.to_datetime(x[\"発走日時\"]))\n",
    ")\n",
    "\n",
    "experiment_name = \"20240322-lambda\"\n",
    "\n",
    "if mlflow.get_experiment_by_name(experiment_name) is None:\n",
    "    mlflow.create_experiment(experiment_name)\n",
    "\n",
    "fn = create_objective_fn(\n",
    "    X_train=X_train,\n",
    "    y_train=y_train,\n",
    "    X_test=X_test,\n",
    "    y_test=y_test,\n",
    "    groups_train=groups_train,\n",
    "    groups_test=groups_test,\n",
    "    experiment_name=experiment_name,\n",
    ")"
   ]
  },
  {
   "cell_type": "code",
   "execution_count": 16,
   "metadata": {},
   "outputs": [
    {
     "name": "stdout",
     "output_type": "stream",
     "text": [
      "  0%|          | 0/30 [00:00<?, ?trial/s, best loss=?]"
     ]
    },
    {
     "name": "stderr",
     "output_type": "stream",
     "text": [
      "build_posterior_wrapper took 0.002603 seconds\n",
      "TPE using 0 trials\n",
      "build_posterior_wrapper took 0.004759 seconds\n",
      "TPE using 1/1 trials with best loss inf\n",
      "build_posterior_wrapper took 0.053592 seconds\n",
      "TPE using 2/2 trials with best loss inf\n",
      "build_posterior_wrapper took 0.002486 seconds\n",
      "TPE using 3/3 trials with best loss inf\n",
      "Training until validation scores don't improve for 50 rounds:>    (0 + 1) / 1]1]\n",
      "Training until validation scores don't improve for 50 rounds\n",
      "Training until validation scores don't improve for 50 rounds\n",
      "Early stopping, best iteration is:\n",
      "[20]\tvalid_0's ndcg@1: 0.311107\tvalid_0's ndcg@3: 0.439348\tvalid_0's ndcg@5: 0.512525\tvalid_0's map@1: 0.542809\tvalid_0's map@3: 0.426827\tvalid_0's map@5: 0.468365\n",
      "Closing down clientserver connection                                            \n"
     ]
    },
    {
     "name": "stdout",
     "output_type": "stream",
     "text": [
      "  3%|▎         | 1/30 [00:30<14:33, 30.11s/trial, best loss: -0.6707493671155816]"
     ]
    },
    {
     "name": "stderr",
     "output_type": "stream",
     "text": [
      "build_posterior_wrapper took 0.242141 secondse 2:>                  (0 + 1) / 1]\n",
      "TPE using 4/4 trials with best loss -0.670749\n",
      "Early stopping, best iteration is:\n",
      "[46]\tvalid_0's ndcg@1: 0.319122\tvalid_0's ndcg@3: 0.444032\tvalid_0's ndcg@5: 0.520495\tvalid_0's map@1: 0.555643\tvalid_0's map@3: 0.430817\tvalid_0's map@5: 0.475036\n",
      "Training until validation scores don't improve for 50 rounds:>    (0 + 1) / 1]\n",
      "Closing down clientserver connection                                            \n"
     ]
    },
    {
     "name": "stdout",
     "output_type": "stream",
     "text": [
      "  7%|▋         | 2/30 [00:44<09:45, 20.89s/trial, best loss: -0.6748874129469148]"
     ]
    },
    {
     "name": "stderr",
     "output_type": "stream",
     "text": [
      "build_posterior_wrapper took 0.002536 seconds\n",
      "TPE using 5/5 trials with best loss -0.674887\n",
      "Training until validation scores don't improve for 50 rounds:>    (0 + 1) / 1]1]\n",
      "Early stopping, best iteration is:\n",
      "[33]\tvalid_0's ndcg@1: 0.315991\tvalid_0's ndcg@3: 0.444238\tvalid_0's ndcg@5: 0.519664\tvalid_0's map@1: 0.552027\tvalid_0's map@3: 0.431469\tvalid_0's map@5: 0.474981\n",
      "Closing down clientserver connection                                            \n"
     ]
    },
    {
     "name": "stdout",
     "output_type": "stream",
     "text": [
      " 10%|█         | 3/30 [01:08<10:05, 22.43s/trial, best loss: -0.6748874129469148]"
     ]
    },
    {
     "name": "stderr",
     "output_type": "stream",
     "text": [
      "build_posterior_wrapper took 0.002662 seconds\n",
      "TPE using 6/6 trials with best loss -0.674887\n",
      "Early stopping, best iteration is::>    (0 + 1) / 1][Stage 5:>    (0 + 1) / 1]1]\n",
      "[350]\tvalid_0's ndcg@1: 0.31956\tvalid_0's ndcg@3: 0.447156\tvalid_0's ndcg@5: 0.522646\tvalid_0's map@1: 0.558595\tvalid_0's map@3: 0.435311\tvalid_0's map@5: 0.478616\n",
      "Training until validation scores don't improve for 50 rounds\n",
      "Closing down clientserver connection                                            \n",
      "[Stage 4:>                  (0 + 1) / 1][Stage 5:>                  (0 + 1) / 1]\r"
     ]
    },
    {
     "name": "stdout",
     "output_type": "stream",
     "text": [
      " 13%|█▎        | 4/30 [01:37<10:48, 24.93s/trial, best loss: -0.6766858550743974]"
     ]
    },
    {
     "name": "stderr",
     "output_type": "stream",
     "text": [
      "build_posterior_wrapper took 0.003065 seconds\n",
      "TPE using 7/7 trials with best loss -0.676686\n",
      "Early stopping, best iteration is:\n",
      "[215]\tvalid_0's ndcg@1: 0.319793\tvalid_0's ndcg@3: 0.448268\tvalid_0's ndcg@5: 0.52345\tvalid_0's map@1: 0.557209\tvalid_0's map@3: 0.435556\tvalid_0's map@5: 0.478841\n",
      "Early stopping, best iteration is::>    (0 + 1) / 1][Stage 6:>    (0 + 1) / 1]\n",
      "[101]\tvalid_0's ndcg@1: 0.31899\tvalid_0's ndcg@3: 0.445943\tvalid_0's ndcg@5: 0.521143\tvalid_0's map@1: 0.558173\tvalid_0's map@3: 0.433869\tvalid_0's map@5: 0.47731\n",
      "Training until validation scores don't improve for 50 rounds\n",
      "Closing down clientserver connection                                            \n"
     ]
    },
    {
     "name": "stdout",
     "output_type": "stream",
     "text": [
      " 17%|█▋        | 5/30 [01:53<09:05, 21.81s/trial, best loss: -0.6770770006762854]"
     ]
    },
    {
     "name": "stderr",
     "output_type": "stream",
     "text": [
      "build_posterior_wrapper took 0.003681 secondse 6:>                  (0 + 1) / 1]\n",
      "TPE using 8/8 trials with best loss -0.677077\n",
      "Closing down clientserver connection                                            \n"
     ]
    },
    {
     "name": "stdout",
     "output_type": "stream",
     "text": [
      " 20%|██        | 6/30 [02:03<07:02, 17.59s/trial, best loss: -0.6770770006762854]"
     ]
    },
    {
     "name": "stderr",
     "output_type": "stream",
     "text": [
      "Early stopping, best iteration is:\n",
      "[44]\tvalid_0's ndcg@1: 0.316944\tvalid_0's ndcg@3: 0.444612\tvalid_0's ndcg@5: 0.520716\tvalid_0's map@1: 0.556546\tvalid_0's map@3: 0.432284\tvalid_0's map@5: 0.475495\n",
      "build_posterior_wrapper took 0.002619 seconds\n",
      "TPE using 9/9 trials with best loss -0.677077e 7:>                  (0 + 1) / 1]\n",
      "Training until validation scores don't improve for 50 rounds\n",
      "Closing down clientserver connection                                            \n"
     ]
    },
    {
     "name": "stdout",
     "output_type": "stream",
     "text": [
      " 23%|██▎       | 7/30 [02:14<05:59, 15.64s/trial, best loss: -0.6770770006762854]"
     ]
    },
    {
     "name": "stderr",
     "output_type": "stream",
     "text": [
      "build_posterior_wrapper took 0.003133 secondse 8:>                  (0 + 1) / 1]\n",
      "TPE using 10/10 trials with best loss -0.677077\n",
      "Training until validation scores don't improve for 50 rounds\n",
      "Training until validation scores don't improve for 50 rounds:>    (0 + 1) / 1]\n",
      "Early stopping, best iteration is:\n",
      "[105]\tvalid_0's ndcg@1: 0.320007\tvalid_0's ndcg@3: 0.446225\tvalid_0's ndcg@5: 0.522041\tvalid_0's map@1: 0.553835\tvalid_0's map@3: 0.432712\tvalid_0's map@5: 0.476633\n",
      "Closing down clientserver connection                                            \n",
      "Early stopping, best iteration is:\n",
      "[134]\tvalid_0's ndcg@1: 0.322438\tvalid_0's ndcg@3: 0.448904\tvalid_0's ndcg@5: 0.523701\tvalid_0's map@1: 0.561005\tvalid_0's map@3: 0.436297\tvalid_0's map@5: 0.47959\n"
     ]
    },
    {
     "name": "stdout",
     "output_type": "stream",
     "text": [
      " 27%|██▋       | 8/30 [02:38<06:38, 18.13s/trial, best loss: -0.6770770006762854]"
     ]
    },
    {
     "name": "stderr",
     "output_type": "stream",
     "text": [
      "build_posterior_wrapper took 0.002814 seconds\n",
      "TPE using 11/11 trials with best loss -0.6770779:>                  (0 + 1) / 1]\n",
      "Early stopping, best iteration is:\n",
      "[38]\tvalid_0's ndcg@1: 0.318934\tvalid_0's ndcg@3: 0.447414\tvalid_0's ndcg@5: 0.523042\tvalid_0's map@1: 0.557269\tvalid_0's map@3: 0.434528\tvalid_0's map@5: 0.478225\n",
      "Closing down clientserver connection                                            \n"
     ]
    },
    {
     "name": "stdout",
     "output_type": "stream",
     "text": [
      " 30%|███       | 9/30 [02:48<05:28, 15.66s/trial, best loss: -0.6770770006762854]"
     ]
    },
    {
     "name": "stderr",
     "output_type": "stream",
     "text": [
      "build_posterior_wrapper took 0.003168 secondse 10:>                 (0 + 1) / 1]\n",
      "TPE using 12/12 trials with best loss -0.677077\n",
      "Training until validation scores don't improve for 50 rounds\n",
      "Closing down clientserver connection                                            \n"
     ]
    },
    {
     "name": "stdout",
     "output_type": "stream",
     "text": [
      " 33%|███▎      | 10/30 [02:53<04:04, 12.25s/trial, best loss: -0.6778973572198336]"
     ]
    },
    {
     "name": "stderr",
     "output_type": "stream",
     "text": [
      "build_posterior_wrapper took 0.217911 seconds                       (0 + 1) / 1]\n",
      "TPE using 13/13 trials with best loss -0.677897\n",
      "Training until validation scores don't improve for 50 rounds2:>   (0 + 1) / 1]1]\n",
      "Training until validation scores don't improve for 50 rounds\n",
      "Early stopping, best iteration is:\n",
      "[31]\tvalid_0's ndcg@1: 0.318679\tvalid_0's ndcg@3: 0.445754\tvalid_0's ndcg@5: 0.521421\tvalid_0's map@1: 0.551606\tvalid_0's map@3: 0.433099\tvalid_0's map@5: 0.477092\n",
      "Early stopping, best iteration is:\n",
      "[194]\tvalid_0's ndcg@1: 0.31887\tvalid_0's ndcg@3: 0.447058\tvalid_0's ndcg@5: 0.522295\tvalid_0's map@1: 0.554859\tvalid_0's map@3: 0.434535\tvalid_0's map@5: 0.478126\n",
      "Closing down clientserver connection                                            \n"
     ]
    },
    {
     "name": "stdout",
     "output_type": "stream",
     "text": [
      " 37%|███▋      | 11/30 [03:16<04:58, 15.70s/trial, best loss: -0.6778973572198336]"
     ]
    },
    {
     "name": "stderr",
     "output_type": "stream",
     "text": [
      "build_posterior_wrapper took 0.003432 secondse 12:>                 (0 + 1) / 1]\n",
      "TPE using 14/14 trials with best loss -0.677897\n",
      "Closing down clientserver connection                                            \n"
     ]
    },
    {
     "name": "stdout",
     "output_type": "stream",
     "text": [
      " 40%|████      | 12/30 [03:17<03:23, 11.32s/trial, best loss: -0.6778973572198336]"
     ]
    },
    {
     "name": "stderr",
     "output_type": "stream",
     "text": [
      "build_posterior_wrapper took 0.002424 seconds                       (0 + 1) / 1]\n",
      "TPE using 15/15 trials with best loss -0.677897\n",
      "Training until validation scores don't improve for 50 rounds4:>   (0 + 1) / 1]1]\n",
      "Training until validation scores don't improve for 50 rounds\n",
      "Early stopping, best iteration is:\n",
      "[172]\tvalid_0's ndcg@1: 0.320352\tvalid_0's ndcg@3: 0.447211\tvalid_0's ndcg@5: 0.5221\tvalid_0's map@1: 0.556787\tvalid_0's map@3: 0.434627\tvalid_0's map@5: 0.477815\n",
      "Early stopping, best iteration is:\n",
      "[63]\tvalid_0's ndcg@1: 0.320049\tvalid_0's ndcg@3: 0.445468\tvalid_0's ndcg@5: 0.522033\tvalid_0's map@1: 0.556727\tvalid_0's map@3: 0.433445\tvalid_0's map@5: 0.477492\n",
      "Closing down clientserver connection                                            \n",
      "[Stage 13:>                 (0 + 1) / 1][Stage 14:>                 (0 + 1) / 1]\r"
     ]
    },
    {
     "name": "stdout",
     "output_type": "stream",
     "text": [
      " 43%|████▎     | 13/30 [03:48<04:52, 17.19s/trial, best loss: -0.6778973572198336]"
     ]
    },
    {
     "name": "stderr",
     "output_type": "stream",
     "text": [
      "build_posterior_wrapper took 0.002905 seconds\n",
      "TPE using 16/16 trials with best loss -0.677897\n",
      "Closing down clientserver connection                                            \n",
      "[Stage 13:>                                                         (0 + 1) / 1]\r"
     ]
    },
    {
     "name": "stdout",
     "output_type": "stream",
     "text": [
      " 47%|████▋     | 14/30 [03:50<03:18, 12.42s/trial, best loss: -0.6778973572198336]"
     ]
    },
    {
     "name": "stderr",
     "output_type": "stream",
     "text": [
      "build_posterior_wrapper took 0.002407 seconds\n",
      "TPE using 17/17 trials with best loss -0.677897\n",
      "Training until validation scores don't improve for 50 rounds6:>   (0 + 1) / 1]1]\n",
      "Early stopping, best iteration is:\n",
      "[127]\tvalid_0's ndcg@1: 0.317033\tvalid_0's ndcg@3: 0.443717\tvalid_0's ndcg@5: 0.519857\tvalid_0's map@1: 0.55263\tvalid_0's map@3: 0.430998\tvalid_0's map@5: 0.474651\n",
      "Training until validation scores don't improve for 50 rounds\n",
      "Early stopping, best iteration is:\n",
      "[5]\tvalid_0's ndcg@1: 0.306012\tvalid_0's ndcg@3: 0.435527\tvalid_0's ndcg@5: 0.512097\tvalid_0's map@1: 0.541122\tvalid_0's map@3: 0.423023\tvalid_0's map@5: 0.467049\n",
      "Early stopping, best iteration is:\n",
      "[36]\tvalid_0's ndcg@1: 0.319849\tvalid_0's ndcg@3: 0.446519\tvalid_0's ndcg@5: 0.522441\tvalid_0's map@1: 0.554618\tvalid_0's map@3: 0.433447\tvalid_0's map@5: 0.477275\n",
      "Closing down clientserver connection                                            \n"
     ]
    },
    {
     "name": "stdout",
     "output_type": "stream",
     "text": [
      " 50%|█████     | 15/30 [04:16<04:11, 16.78s/trial, best loss: -0.6778973572198336]"
     ]
    },
    {
     "name": "stderr",
     "output_type": "stream",
     "text": [
      "Closing down clientserver connection\n",
      "Closing down clientserver connection\n"
     ]
    },
    {
     "name": "stdout",
     "output_type": "stream",
     "text": [
      " 57%|█████▋    | 17/30 [04:18<02:00,  9.27s/trial, best loss: -0.6778973572198336]"
     ]
    },
    {
     "name": "stderr",
     "output_type": "stream",
     "text": [
      "build_posterior_wrapper took 0.003108 seconds\n",
      "TPE using 18/18 trials with best loss -0.677897\n",
      "build_posterior_wrapper took 0.002814 seconds\n",
      "TPE using 19/19 trials with best loss -0.677897\n",
      "build_posterior_wrapper took 0.002468 seconds\n",
      "TPE using 20/20 trials with best loss -0.677897\n",
      "Training until validation scores don't improve for 50 rounds9:>   (0 + 1) / 1]1]\n",
      "Training until validation scores don't improve for 50 rounds\n",
      "Training until validation scores don't improve for 50 rounds\n",
      "Early stopping, best iteration is:\n",
      "[52]\tvalid_0's ndcg@1: 0.317583\tvalid_0's ndcg@3: 0.448294\tvalid_0's ndcg@5: 0.522033\tvalid_0's map@1: 0.55498\tvalid_0's map@3: 0.433956\tvalid_0's map@5: 0.477545\n",
      "Closing down clientserver connection                                            \n"
     ]
    },
    {
     "name": "stdout",
     "output_type": "stream",
     "text": [
      " 60%|██████    | 18/30 [04:57<03:19, 16.65s/trial, best loss: -0.6778973572198336]"
     ]
    },
    {
     "name": "stderr",
     "output_type": "stream",
     "text": [
      "build_posterior_wrapper took 0.003011 secondse 18:>                 (0 + 1) / 1]\n",
      "Early stopping, best iteration is:\n",
      "[245]\tvalid_0's ndcg@1: 0.31318\tvalid_0's ndcg@3: 0.438333\tvalid_0's ndcg@5: 0.514825\tvalid_0's map@1: 0.548593\tvalid_0's map@3: 0.426951\tvalid_0's map@5: 0.470908\n",
      "TPE using 21/21 trials with best loss -0.677897\n",
      "Closing down clientserver connection                                            \n",
      "[Stage 18:>                 (0 + 1) / 1][Stage 20:>                 (0 + 1) / 1]\r"
     ]
    },
    {
     "name": "stdout",
     "output_type": "stream",
     "text": [
      " 63%|██████▎   | 19/30 [05:04<02:37, 14.33s/trial, best loss: -0.6778973572198336]"
     ]
    },
    {
     "name": "stderr",
     "output_type": "stream",
     "text": [
      "build_posterior_wrapper took 0.002714 seconds\n",
      "TPE using 22/22 trials with best loss -0.677897\n",
      "Early stopping, best iteration is:\n",
      "[290]\tvalid_0's ndcg@1: 0.319353\tvalid_0's ndcg@3: 0.446246\tvalid_0's ndcg@5: 0.52143\tvalid_0's map@1: 0.556366\tvalid_0's map@3: 0.434177\tvalid_0's map@5: 0.47705\n",
      "Training until validation scores don't improve for 50 rounds\n",
      "Training until validation scores don't improve for 50 rounds1:>   (0 + 1) / 1]\n",
      "Closing down clientserver connection                                            \n"
     ]
    },
    {
     "name": "stdout",
     "output_type": "stream",
     "text": [
      " 67%|██████▋   | 20/30 [05:19<02:24, 14.43s/trial, best loss: -0.6778973572198336]"
     ]
    },
    {
     "name": "stderr",
     "output_type": "stream",
     "text": [
      "build_posterior_wrapper took 0.004197 secondse 21:>                 (0 + 1) / 1]\n",
      "TPE using 23/23 trials with best loss -0.677897\n",
      "Early stopping, best iteration is:1:>   (0 + 1) / 1][Stage 22:>   (0 + 1) / 1]\n",
      "[54]\tvalid_0's ndcg@1: 0.319154\tvalid_0's ndcg@3: 0.446139\tvalid_0's ndcg@5: 0.521805\tvalid_0's map@1: 0.555643\tvalid_0's map@3: 0.433597\tvalid_0's map@5: 0.476934\n",
      "Early stopping, best iteration is:\n",
      "[25]\tvalid_0's ndcg@1: 0.314204\tvalid_0's ndcg@3: 0.437375\tvalid_0's ndcg@5: 0.514341\tvalid_0's map@1: 0.546966\tvalid_0's map@3: 0.425885\tvalid_0's map@5: 0.470073\n",
      "Training until validation scores don't improve for 50 rounds\n",
      "Closing down clientserver connection                                            \n",
      "[Stage 20:>                 (0 + 1) / 1][Stage 22:>                 (0 + 1) / 1]\r"
     ]
    },
    {
     "name": "stdout",
     "output_type": "stream",
     "text": [
      " 70%|███████   | 21/30 [05:35<02:12, 14.73s/trial, best loss: -0.6778973572198336]"
     ]
    },
    {
     "name": "stderr",
     "output_type": "stream",
     "text": [
      "build_posterior_wrapper took 0.002966 seconds\n",
      "TPE using 24/24 trials with best loss -0.677897\n",
      "Closing down clientserver connection                                            \n"
     ]
    },
    {
     "name": "stdout",
     "output_type": "stream",
     "text": [
      " 73%|███████▎  | 22/30 [05:38<01:32, 11.57s/trial, best loss: -0.6778973572198336]"
     ]
    },
    {
     "name": "stderr",
     "output_type": "stream",
     "text": [
      "build_posterior_wrapper took 0.003654 seconds                       (0 + 1) / 1]\n",
      "TPE using 25/25 trials with best loss -0.677897\n"
     ]
    },
    {
     "name": "stdout",
     "output_type": "stream",
     "text": [
      "[401.843s][warning][gc,alloc] Thread-43: Retried waiting for GCLocker too often allocating 524290 words\n"
     ]
    },
    {
     "name": "stderr",
     "output_type": "stream",
     "text": [
      "24/03/23 17:10:41 ERROR TorrentBroadcast: Store broadcast broadcast_47 fail, remove all pieces of the broadcast\n",
      "trial task 24 failed, exception is An error occurred while calling o26.broadcast.\n",
      ": java.lang.OutOfMemoryError: Java heap space\n",
      "\tat java.base/java.nio.HeapByteBuffer.<init>(HeapByteBuffer.java:71)\n",
      "\tat java.base/java.nio.ByteBuffer.allocate(ByteBuffer.java:373)\n",
      "\tat org.apache.spark.broadcast.TorrentBroadcast$.$anonfun$blockifyObject$1(TorrentBroadcast.scala:360)\n",
      "\tat org.apache.spark.broadcast.TorrentBroadcast$.$anonfun$blockifyObject$1$adapted(TorrentBroadcast.scala:360)\n",
      "\tat org.apache.spark.broadcast.TorrentBroadcast$$$Lambda$1288/0x0000000801827858.apply(Unknown Source)\n",
      "\tat org.apache.spark.util.io.ChunkedByteBufferOutputStream.allocateNewChunkIfNeeded(ChunkedByteBufferOutputStream.scala:87)\n",
      "\tat org.apache.spark.util.io.ChunkedByteBufferOutputStream.write(ChunkedByteBufferOutputStream.scala:75)\n",
      "\tat net.jpountz.lz4.LZ4BlockOutputStream.flushBufferedData(LZ4BlockOutputStream.java:225)\n",
      "\tat net.jpountz.lz4.LZ4BlockOutputStream.write(LZ4BlockOutputStream.java:178)\n",
      "\tat java.base/java.io.ObjectOutputStream$BlockDataOutputStream.write(ObjectOutputStream.java:1873)\n",
      "\tat java.base/java.io.ObjectOutputStream.write(ObjectOutputStream.java:723)\n",
      "\tat org.apache.spark.util.Utils$.$anonfun$copyStream$1(Utils.scala:272)\n",
      "\tat org.apache.spark.util.Utils$$$Lambda$1294/0x000000080182ed88.apply$mcJ$sp(Unknown Source)\n",
      "\tat scala.runtime.java8.JFunction0$mcJ$sp.apply(JFunction0$mcJ$sp.java:23)\n",
      "\tat org.apache.spark.util.SparkErrorUtils.tryWithSafeFinally(SparkErrorUtils.scala:64)\n",
      "\tat org.apache.spark.util.SparkErrorUtils.tryWithSafeFinally$(SparkErrorUtils.scala:61)\n",
      "\tat org.apache.spark.util.Utils$.tryWithSafeFinally(Utils.scala:94)\n",
      "\tat org.apache.spark.util.Utils$.copyStream(Utils.scala:279)\n",
      "\tat org.apache.spark.api.python.PythonBroadcast.$anonfun$writeObject$1(PythonRDD.scala:772)\n",
      "\tat org.apache.spark.api.python.PythonBroadcast$$Lambda$1293/0x000000080182eab0.apply$mcJ$sp(Unknown Source)\n",
      "\tat scala.runtime.java8.JFunction0$mcJ$sp.apply(JFunction0$mcJ$sp.java:23)\n",
      "\tat org.apache.spark.util.SparkErrorUtils.tryOrIOException(SparkErrorUtils.scala:35)\n",
      "\tat org.apache.spark.util.SparkErrorUtils.tryOrIOException$(SparkErrorUtils.scala:33)\n",
      "\tat org.apache.spark.util.Utils$.tryOrIOException(Utils.scala:94)\n",
      "\tat org.apache.spark.api.python.PythonBroadcast.writeObject(PythonRDD.scala:768)\n",
      "\tat jdk.internal.reflect.GeneratedMethodAccessor45.invoke(Unknown Source)\n",
      "\tat java.base/jdk.internal.reflect.DelegatingMethodAccessorImpl.invoke(DelegatingMethodAccessorImpl.java:52)\n",
      "\tat java.base/java.lang.reflect.Method.invoke(Method.java:578)\n",
      "\tat java.base/java.io.ObjectStreamClass.invokeWriteObject(ObjectStreamClass.java:1071)\n",
      "\tat java.base/java.io.ObjectOutputStream.writeSerialData(ObjectOutputStream.java:1527)\n",
      "\tat java.base/java.io.ObjectOutputStream.writeOrdinaryObject(ObjectOutputStream.java:1449)\n",
      "\tat java.base/java.io.ObjectOutputStream.writeObject0(ObjectOutputStream.java:1192)\n",
      ".\n",
      " None\n",
      "trial task 24 failed, exception is An error occurred while calling o26.broadcast.\n",
      ": java.lang.OutOfMemoryError: Java heap space\n",
      "\tat java.base/java.nio.HeapByteBuffer.<init>(HeapByteBuffer.java:71)\n",
      "\tat java.base/java.nio.ByteBuffer.allocate(ByteBuffer.java:373)\n",
      "\tat org.apache.spark.broadcast.TorrentBroadcast$.$anonfun$blockifyObject$1(TorrentBroadcast.scala:360)\n",
      "\tat org.apache.spark.broadcast.TorrentBroadcast$.$anonfun$blockifyObject$1$adapted(TorrentBroadcast.scala:360)\n",
      "\tat org.apache.spark.broadcast.TorrentBroadcast$$$Lambda$1288/0x0000000801827858.apply(Unknown Source)\n",
      "\tat org.apache.spark.util.io.ChunkedByteBufferOutputStream.allocateNewChunkIfNeeded(ChunkedByteBufferOutputStream.scala:87)\n",
      "\tat org.apache.spark.util.io.ChunkedByteBufferOutputStream.write(ChunkedByteBufferOutputStream.scala:75)\n",
      "\tat net.jpountz.lz4.LZ4BlockOutputStream.flushBufferedData(LZ4BlockOutputStream.java:225)\n",
      "\tat net.jpountz.lz4.LZ4BlockOutputStream.write(LZ4BlockOutputStream.java:178)\n",
      "\tat java.base/java.io.ObjectOutputStream$BlockDataOutputStream.write(ObjectOutputStream.java:1873)\n",
      "\tat java.base/java.io.ObjectOutputStream.write(ObjectOutputStream.java:723)\n",
      "\tat org.apache.spark.util.Utils$.$anonfun$copyStream$1(Utils.scala:272)\n",
      "\tat org.apache.spark.util.Utils$$$Lambda$1294/0x000000080182ed88.apply$mcJ$sp(Unknown Source)\n",
      "\tat scala.runtime.java8.JFunction0$mcJ$sp.apply(JFunction0$mcJ$sp.java:23)\n",
      "\tat org.apache.spark.util.SparkErrorUtils.tryWithSafeFinally(SparkErrorUtils.scala:64)\n",
      "\tat org.apache.spark.util.SparkErrorUtils.tryWithSafeFinally$(SparkErrorUtils.scala:61)\n",
      "\tat org.apache.spark.util.Utils$.tryWithSafeFinally(Utils.scala:94)\n",
      "\tat org.apache.spark.util.Utils$.copyStream(Utils.scala:279)\n",
      "\tat org.apache.spark.api.python.PythonBroadcast.$anonfun$writeObject$1(PythonRDD.scala:772)\n",
      "\tat org.apache.spark.api.python.PythonBroadcast$$Lambda$1293/0x000000080182eab0.apply$mcJ$sp(Unknown Source)\n",
      "\tat scala.runtime.java8.JFunction0$mcJ$sp.apply(JFunction0$mcJ$sp.java:23)\n",
      "\tat org.apache.spark.util.SparkErrorUtils.tryOrIOException(SparkErrorUtils.scala:35)\n",
      "\tat org.apache.spark.util.SparkErrorUtils.tryOrIOException$(SparkErrorUtils.scala:33)\n",
      "\tat org.apache.spark.util.Utils$.tryOrIOException(Utils.scala:94)\n",
      "\tat org.apache.spark.api.python.PythonBroadcast.writeObject(PythonRDD.scala:768)\n",
      "\tat jdk.internal.reflect.GeneratedMethodAccessor45.invoke(Unknown Source)\n",
      "\tat java.base/jdk.internal.reflect.DelegatingMethodAccessorImpl.invoke(DelegatingMethodAccessorImpl.java:52)\n",
      "\tat java.base/java.lang.reflect.Method.invoke(Method.java:578)\n",
      "\tat java.base/java.io.ObjectStreamClass.invokeWriteObject(ObjectStreamClass.java:1071)\n",
      "\tat java.base/java.io.ObjectOutputStream.writeSerialData(ObjectOutputStream.java:1527)\n",
      "\tat java.base/java.io.ObjectOutputStream.writeOrdinaryObject(ObjectOutputStream.java:1449)\n",
      "\tat java.base/java.io.ObjectOutputStream.writeObject0(ObjectOutputStream.java:1192)\n",
      ".\n",
      " None\n",
      "Closing down clientserver connection\n",
      "build_posterior_wrapper took 0.003363 seconds\n",
      "TPE using 25/25 trials with best loss -0.677897\n",
      "Training until validation scores don't improve for 50 rounds4:>   (0 + 1) / 1]1]\n",
      "Training until validation scores don't improve for 50 rounds\n",
      "Early stopping, best iteration is:\n",
      "[188]\tvalid_0's ndcg@1: 0.321926\tvalid_0's ndcg@3: 0.449708\tvalid_0's ndcg@5: 0.525292\tvalid_0's map@1: 0.561969\tvalid_0's map@3: 0.437606\tvalid_0's map@5: 0.480446\n",
      "Early stopping, best iteration is:\n",
      "[49]\tvalid_0's ndcg@1: 0.316016\tvalid_0's ndcg@3: 0.442595\tvalid_0's ndcg@5: 0.518381\tvalid_0's map@1: 0.551967\tvalid_0's map@3: 0.430011\tvalid_0's map@5: 0.47371\n",
      "Closing down clientserver connection                                            \n",
      "[Stage 22:>                 (0 + 1) / 1][Stage 23:>                 (0 + 1) / 1]\r"
     ]
    },
    {
     "name": "stdout",
     "output_type": "stream",
     "text": [
      " 77%|███████▋  | 23/30 [06:25<02:32, 21.79s/trial, best loss: -0.6778973572198336]"
     ]
    },
    {
     "name": "stderr",
     "output_type": "stream",
     "text": [
      "build_posterior_wrapper took 0.003560 seconds\n",
      "TPE using 26/26 trials with best loss -0.677897\n",
      "Early stopping, best iteration is:3:>   (0 + 1) / 1][Stage 25:>   (0 + 1) / 1]\n",
      "[215]\tvalid_0's ndcg@1: 0.320162\tvalid_0's ndcg@3: 0.449274\tvalid_0's ndcg@5: 0.523399\tvalid_0's map@1: 0.560222\tvalid_0's map@3: 0.436975\tvalid_0's map@5: 0.480062\n",
      "Closing down clientserver connection                                            \n"
     ]
    },
    {
     "name": "stdout",
     "output_type": "stream",
     "text": [
      " 80%|████████  | 24/30 [06:37<01:53, 18.95s/trial, best loss: -0.6783221406062304]"
     ]
    },
    {
     "name": "stderr",
     "output_type": "stream",
     "text": [
      "build_posterior_wrapper took 0.003878 secondse 25:>                 (0 + 1) / 1]\n",
      "TPE using 27/27 trials with best loss -0.678322\n",
      "Training until validation scores don't improve for 50 rounds\n",
      "Closing down clientserver connection                                            \n"
     ]
    },
    {
     "name": "stdout",
     "output_type": "stream",
     "text": [
      " 83%|████████▎ | 25/30 [06:48<01:23, 16.63s/trial, best loss: -0.6783221406062304]"
     ]
    },
    {
     "name": "stderr",
     "output_type": "stream",
     "text": [
      "build_posterior_wrapper took 0.003668 seconds\n",
      "TPE using 28/28 trials with best loss -0.678322\n",
      "Training until validation scores don't improve for 50 rounds        (0 + 1) / 1]\n",
      "Early stopping, best iteration is:6:>   (0 + 1) / 1][Stage 27:>   (0 + 1) / 1]\n",
      "[137]\tvalid_0's ndcg@1: 0.321627\tvalid_0's ndcg@3: 0.449733\tvalid_0's ndcg@5: 0.52429\tvalid_0's map@1: 0.559679\tvalid_0's map@3: 0.436203\tvalid_0's map@5: 0.480066\n",
      "Training until validation scores don't improve for 50 rounds\n",
      "Closing down clientserver connection                                            \n",
      "[Stage 26:>                 (0 + 1) / 1][Stage 27:>                 (0 + 1) / 1]\r"
     ]
    },
    {
     "name": "stdout",
     "output_type": "stream",
     "text": [
      " 87%|████████▋ | 26/30 [07:07<01:09, 17.40s/trial, best loss: -0.6783221406062304]"
     ]
    },
    {
     "name": "stderr",
     "output_type": "stream",
     "text": [
      "Training until validation scores don't improve for 50 rounds8:>   (0 + 1) / 1]\n",
      "Early stopping, best iteration is:\n",
      "[161]\tvalid_0's ndcg@1: 0.321201\tvalid_0's ndcg@3: 0.44923\tvalid_0's ndcg@5: 0.523425\tvalid_0's map@1: 0.560222\tvalid_0's map@3: 0.436156\tvalid_0's map@5: 0.4793\n",
      "Early stopping, best iteration is:\n",
      "[135]\tvalid_0's ndcg@1: 0.318743\tvalid_0's ndcg@3: 0.448799\tvalid_0's ndcg@5: 0.524047\tvalid_0's map@1: 0.55974\tvalid_0's map@3: 0.437152\tvalid_0's map@5: 0.480104\n",
      "Closing down clientserver connection                                            \n"
     ]
    },
    {
     "name": "stdout",
     "output_type": "stream",
     "text": [
      " 90%|█████████ | 27/30 [07:44<01:09, 23.09s/trial, best loss: -0.6783221406062304]"
     ]
    },
    {
     "name": "stderr",
     "output_type": "stream",
     "text": [
      "Closing down clientserver connection                                            \n"
     ]
    },
    {
     "name": "stdout",
     "output_type": "stream",
     "text": [
      " 93%|█████████▎| 28/30 [07:48<00:34, 17.41s/trial, best loss: -0.6783221406062304]"
     ]
    },
    {
     "name": "stderr",
     "output_type": "stream",
     "text": [
      "Early stopping, best iteration is:                                  (0 + 1) / 1]\n",
      "[109]\tvalid_0's ndcg@1: 0.318998\tvalid_0's ndcg@3: 0.447552\tvalid_0's ndcg@5: 0.522836\tvalid_0's map@1: 0.55739\tvalid_0's map@3: 0.435131\tvalid_0's map@5: 0.478016\n",
      "Closing down clientserver connection                                            \n"
     ]
    },
    {
     "name": "stdout",
     "output_type": "stream",
     "text": [
      " 97%|█████████▋| 29/30 [08:04<00:16, 16.71s/trial, best loss: -0.6783221406062304]"
     ]
    },
    {
     "name": "stderr",
     "output_type": "stream",
     "text": [
      "Queue empty, exiting run.\n"
     ]
    },
    {
     "name": "stdout",
     "output_type": "stream",
     "text": [
      "\n"
     ]
    },
    {
     "name": "stderr",
     "output_type": "stream",
     "text": [
      "Closing down clientserver connection\n",
      "Total Trials: 30: 29 succeeded, 1 failed, 0 cancelled.\n",
      "Total Trials: 30: 29 succeeded, 1 failed, 0 cancelled.\n"
     ]
    },
    {
     "data": {
      "text/plain": [
       "{'bagging_fraction': 0.7672673545525011,\n",
       " 'bagging_freq': 1,\n",
       " 'feature_fraction': 0.98773173758302,\n",
       " 'lambda_l1': 8.360828150499584,\n",
       " 'lambda_l2': 6.132423676881444,\n",
       " 'learning_rate': 0.04567332321411828,\n",
       " 'max_depth': 7,\n",
       " 'min_data_in_leaf': 47,\n",
       " 'num_leaves': 84.0}"
      ]
     },
     "execution_count": 16,
     "metadata": {},
     "output_type": "execute_result"
    }
   ],
   "source": [
    "# trials = Trials()\n",
    "# fmin(\n",
    "#     fn=fn,\n",
    "#     space=space,\n",
    "#     algo=tpe.suggest,\n",
    "#     max_evals=1,\n",
    "#     trials=trials,\n",
    "# )\n",
    "\n",
    "trials = SparkTrials(parallelism=3, spark_session=spark)\n",
    "fmin(fn=fn, space=space, algo=tpe.suggest, max_evals=30, trials=trials)"
   ]
  },
  {
   "cell_type": "code",
   "execution_count": 17,
   "metadata": {},
   "outputs": [
    {
     "name": "stdout",
     "output_type": "stream",
     "text": [
      "Training until validation scores don't improve for 50 rounds\n",
      "Early stopping, best iteration is:\n",
      "[188]\tvalid_0's ndcg@1: 0.321926\tvalid_0's ndcg@3: 0.449708\tvalid_0's ndcg@5: 0.525292\tvalid_0's map@1: 0.561969\tvalid_0's map@3: 0.437606\tvalid_0's map@5: 0.480446\n"
     ]
    }
   ],
   "source": [
    "preprocessor = ColumnTransformer(\n",
    "    transformers=[\n",
    "        (\n",
    "            \"ord\",\n",
    "            OrdinalEncoder(categories=[[\"良\", \"稍重\", \"重\", \"不良\"]]),\n",
    "            [\"cat_馬場状態\"],\n",
    "        ),\n",
    "        (\n",
    "            \"cat\",\n",
    "            OneHotEncoder(drop=\"if_binary\"),\n",
    "            [\"cat_トラック種別\", \"cat_性別\"],\n",
    "        ),\n",
    "        (\n",
    "            \"num\",\n",
    "            StandardScaler(),\n",
    "            [\n",
    "                \"num_馬体重\",\n",
    "                \"num_頭数\",\n",
    "                \"num_負担重量\",\n",
    "                \"num_年齢\",\n",
    "                \"num_距離\",\n",
    "                \"num_平均馬体重差\",\n",
    "                \"num_複勝率\",\n",
    "                \"num_1走前経過日数\",\n",
    "                \"mean_competitor_1走前経過日数\",\n",
    "                \"num_過去3走重み付き標準化着順\",\n",
    "                \"num_過去3走重み付き後続馬平均タイム差\",\n",
    "                \"race_overall_quality\",\n",
    "                \"rating_overall_uncertainty_pre_race\",\n",
    "                \"mean_competitor_rating_overall_pre_race_diff\",\n",
    "            ],\n",
    "        ),\n",
    "    ],\n",
    "    remainder=\"drop\",\n",
    "    verbose_feature_names_out=False,\n",
    ")\n",
    "\n",
    "X_train_prep = preprocessor.fit_transform(X_train)\n",
    "X_test_prep = preprocessor.transform(X_test)\n",
    "\n",
    "feature_names = preprocessor.get_feature_names_out().tolist()\n",
    "categorical_features = [\n",
    "    *preprocessor.named_transformers_[\"ord\"].get_feature_names_out().tolist(),\n",
    "    *preprocessor.named_transformers_[\"cat\"].get_feature_names_out().tolist(),\n",
    "]\n",
    "\n",
    "train_dataset = lgb.Dataset(\n",
    "    X_train_prep,\n",
    "    label=y_train,\n",
    "    group=groups_train,\n",
    "    feature_name=feature_names,\n",
    "    categorical_feature=categorical_features,\n",
    ")\n",
    "valid_dataset = lgb.Dataset(\n",
    "    data=X_test_prep,\n",
    "    label=y_test,\n",
    "    group=groups_test,\n",
    "    reference=train_dataset,\n",
    "    free_raw_data=False,\n",
    "    feature_name=feature_names,\n",
    "    categorical_feature=categorical_features,\n",
    ")\n",
    "params = {\n",
    "    \"bagging_fraction\": 0.7672673545525011,\n",
    "    \"bagging_freq\": 2,\n",
    "    \"boosting_type\": \"gbdt\",\n",
    "    \"feature_fraction\": 0.98773173758302,\n",
    "    \"lambda_l1\": 8.360828150499584,\n",
    "    \"lambda_l2\": 6.132423676881444,\n",
    "    \"learning_rate\": 0.04567332321411828,\n",
    "    \"max_depth\": 10,\n",
    "    \"metric\": (\"ndcg\", \"map\"),\n",
    "    \"min_data_in_leaf\": 67,\n",
    "    \"ndcg_eval_at\": (1, 3, 5),\n",
    "    \"num_leaves\": 84,\n",
    "    \"objective\": \"lambdarank\",\n",
    "    \"seed\": 42,\n",
    "    \"verbose\": -1,\n",
    "}\n",
    "model = lgb.train(\n",
    "    params,\n",
    "    train_dataset,\n",
    "    valid_sets=[valid_dataset],\n",
    "    num_boost_round=1000,\n",
    "    callbacks=[\n",
    "        lgb.early_stopping(stopping_rounds=50),\n",
    "    ],\n",
    ")\n",
    "y_pred = model.predict(valid_dataset.data)"
   ]
  },
  {
   "cell_type": "code",
   "execution_count": 228,
   "metadata": {},
   "outputs": [],
   "source": [
    "payouts = (\n",
    "    X_test[\n",
    "        [\n",
    "            \"meta_レースキー\",\n",
    "            \"meta_血統登録番号\",\n",
    "            \"meta_着順\",\n",
    "            \"meta_発走日時\",\n",
    "            \"meta_単勝オッズ\",\n",
    "            \"meta_複勝オッズ\",\n",
    "            \"num_頭数\",\n",
    "        ]\n",
    "    ]\n",
    "    .assign(\n",
    "        meta_発走日時=lambda x: pd.to_datetime(x[\"meta_発走日時\"]),\n",
    "        y_test=y_test,\n",
    "        y_pred=y_pred,\n",
    "    )\n",
    "    .rename(\n",
    "        columns={\n",
    "            \"meta_複勝オッズ\": \"place_odds\",\n",
    "            \"meta_着順\": \"position\",\n",
    "            \"meta_血統登録番号\": \"horse_id\",\n",
    "            \"meta_単勝オッズ\": \"win_odds\",\n",
    "        }\n",
    "    )\n",
    "    .sort_values([\"meta_発走日時\", \"meta_レースキー\", \"position\"])\n",
    ")\n",
    "\n",
    "bets = []\n",
    "bankroll = 100_000\n",
    "hits = []\n",
    "\n",
    "# 参考回収率の算出方法についてもう少し具体的に教えていただけないでしょうか？\n",
    "# 例えば、100円を賭けるとすると\n",
    "# (単勝オッズ - 1) * 100円 = 単勝払い戻し金額\n",
    "# これを検証データのレースごとに行い、全てのレースにおける単勝払い戻し金額の合計を算出するということでしょうか？\n",
    "\n",
    "for race_key, df_race in payouts.groupby(\"meta_レースキー\"):\n",
    "    # In each race, get the max pred, and the next max pred\n",
    "    p1 = df_race.sort_values(\"y_pred\", ascending=False).iloc[0]\n",
    "    p2 = df_race.sort_values(\"y_pred\", ascending=False).iloc[1]\n",
    "    p3 = df_race.sort_values(\"y_pred\", ascending=False).iloc[2]\n",
    "    hits.append([race_key, p1[\"position\"] == 1, p1[\"position\"] <= 3, (p1[\"position\"] <= 3) | (p2[\"position\"] <= 3) | (p3[\"position\"] <= 3)])\n",
    "    # If the difference is greater than 1, bet 複勝 on the horse with the max pred\n",
    "    bet = 100\n",
    "    # if p1[\"y_pred\"] - p2[\"y_pred\"] > 1:\n",
    "    if p1[\"position\"] == 1:\n",
    "        payout = (p1[\"win_odds\"] - 1) * bet\n",
    "    # if p1[\"position\"] <= 3:\n",
    "    #     payout = (p1[\"place_odds\"] - 1) * bet\n",
    "    else:\n",
    "        payout = -100\n",
    "    bets.append([race_key, p1[\"horse_id\"], payout])\n",
    "    bankroll += payout\n",
    "\n",
    "payouts = (\n",
    "    payouts.merge(\n",
    "        pd.DataFrame(bets, columns=[\"meta_レースキー\", \"horse_id\", \"payout\"]),\n",
    "        on=[\"meta_レースキー\", \"horse_id\"],\n",
    "        how=\"left\",\n",
    "    ).fillna({\"payout\": 0})\n",
    ")"
   ]
  },
  {
   "cell_type": "code",
   "execution_count": 223,
   "metadata": {},
   "outputs": [
    {
     "name": "stdout",
     "output_type": "stream",
     "text": [
      "1着だと予測したものが実際に1着だった割合:\n"
     ]
    },
    {
     "data": {
      "text/plain": [
       "0.2643248779899982"
      ]
     },
     "execution_count": 223,
     "metadata": {},
     "output_type": "execute_result"
    }
   ],
   "source": [
    "df_eval = pd.DataFrame(hits, columns=[\"race_key\", \"hit_win\", \"hit_place\", \"hit_place_any_top3\"])\n",
    "\n",
    "print(\"1着だと予測したものが実際に1着だった割合:\")\n",
    "df_eval[\"hit_win\"].sum() / df_eval.shape[0]"
   ]
  },
  {
   "cell_type": "code",
   "execution_count": 220,
   "metadata": {},
   "outputs": [
    {
     "name": "stdout",
     "output_type": "stream",
     "text": [
      "1着と予測したものが複勝圏の馬であった割合:\n"
     ]
    },
    {
     "data": {
      "text/plain": [
       "0.5600409712598663"
      ]
     },
     "execution_count": 220,
     "metadata": {},
     "output_type": "execute_result"
    }
   ],
   "source": [
    "print(\"1着と予測したものが複勝圏の馬であった割合:\")\n",
    "df_eval[\"hit_place\"].sum() / df_eval.shape[0]"
   ]
  },
  {
   "cell_type": "code",
   "execution_count": 221,
   "metadata": {},
   "outputs": [
    {
     "name": "stdout",
     "output_type": "stream",
     "text": [
      "予測した3頭のうち、1頭以上複勝圏の馬が含まれている割合:\n"
     ]
    },
    {
     "data": {
      "text/plain": [
       "0.8807013315659457"
      ]
     },
     "execution_count": 221,
     "metadata": {},
     "output_type": "execute_result"
    }
   ],
   "source": [
    "print(\"予測した3頭のうち、1頭以上複勝圏の馬が含まれている割合:\")\n",
    "df_eval[\"hit_place_any_top3\"].sum() / df_eval.shape[0]"
   ]
  },
  {
   "cell_type": "code",
   "execution_count": 227,
   "metadata": {},
   "outputs": [
    {
     "name": "stdout",
     "output_type": "stream",
     "text": [
      "N bets: 16597\n"
     ]
    },
    {
     "data": {
      "image/png": "[encoded data removed]",
      "text/plain": [
       "<Figure size 640x480 with 1 Axes>"
      ]
     },
     "metadata": {},
     "output_type": "display_data"
    }
   ],
   "source": [
    "print(f\"N bets: {len(bets)}\")\n",
    "payouts.assign(payout_cumsum=lambda x: x[\"payout\"].cumsum()).plot(x=\"meta_発走日時\", y=\"payout_cumsum\", title=\"Payouts\", grid=True);"
   ]
  }
 ],
 "metadata": {
  "kernelspec": {
   "display_name": ".venv",
   "language": "python",
   "name": "python3"
  },
  "language_info": {
   "codemirror_mode": {
    "name": "ipython",
    "version": 3
   },
   "file_extension": ".py",
   "mimetype": "text/x-python",
   "name": "python",
   "nbconvert_exporter": "python",
   "pygments_lexer": "ipython3",
   "version": "3.11.6"
  }
 },
 "nbformat": 4,
 "nbformat_minor": 2
}
