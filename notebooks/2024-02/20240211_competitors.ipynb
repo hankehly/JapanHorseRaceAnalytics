{
 "cells": [
  {
   "cell_type": "markdown",
   "metadata": {},
   "source": [
    "# Introduction\n",
    "\n",
    "Create a binary classifier with `features_20240202_v1` which include competitor features and relative-to-competitor features. We include many features and some of them might not be important. Let's find the important features. Split models by surface type."
   ]
  },
  {
   "cell_type": "markdown",
   "metadata": {},
   "source": [
    "# Setup"
   ]
  },
  {
   "cell_type": "code",
   "execution_count": 1,
   "metadata": {},
   "outputs": [],
   "source": [
    "import re\n",
    "import tempfile\n",
    "import warnings\n",
    "\n",
    "import lightgbm as lgb\n",
    "import matplotlib.font_manager as fm\n",
    "import matplotlib.pyplot as plt\n",
    "import matplotlib.ticker as ticker\n",
    "import mlflow\n",
    "import numpy as np\n",
    "import pandas as pd\n",
    "import seaborn as sns\n",
    "from hyperopt import STATUS_OK, SparkTrials, Trials, fmin, hp, tpe\n",
    "from hyperopt.pyll.base import scope\n",
    "from mlflow.models.signature import ModelSignature\n",
    "from mlflow.types.schema import ColSpec, Schema\n",
    "from pyspark.sql import SparkSession\n",
    "from sklearn.compose import ColumnTransformer\n",
    "from sklearn.metrics import (\n",
    "    accuracy_score,\n",
    "    auc,\n",
    "    confusion_matrix,\n",
    "    f1_score,\n",
    "    log_loss,\n",
    "    precision_score,\n",
    "    recall_score,\n",
    "    roc_auc_score,\n",
    "    roc_curve,\n",
    ")\n",
    "from sklearn.model_selection import train_test_split\n",
    "from sklearn.pipeline import Pipeline\n",
    "from sklearn.preprocessing import OneHotEncoder, StandardScaler\n",
    "\n",
    "from JapanHorseRaceAnalytics.models.features_20240202_v1 import Features\n",
    "from JapanHorseRaceAnalytics.utilities.base import get_base_dir, get_data_dir\n",
    "from JapanHorseRaceAnalytics.utilities.metrics import (\n",
    "    calculate_binary_classifier_statistics,\n",
    ")\n",
    "from JapanHorseRaceAnalytics.utilities.mlflow import get_colspecs\n",
    "from JapanHorseRaceAnalytics.utilities.structured_logger import logger\n",
    "\n",
    "\n",
    "pd.set_option(\"display.max_rows\", 100)\n",
    "pd.set_option(\"display.max_columns\", 100)"
   ]
  },
  {
   "cell_type": "markdown",
   "metadata": {},
   "source": [
    "# Data Collection"
   ]
  },
  {
   "cell_type": "code",
   "execution_count": 2,
   "metadata": {},
   "outputs": [
    {
     "name": "stderr",
     "output_type": "stream",
     "text": [
      "24/02/17 15:04:25 WARN Utils: Your hostname, Hanks-MacBook-Pro.local resolves to a loopback address: 127.0.0.1; using 192.168.40.105 instead (on interface en0)\n",
      "24/02/17 15:04:25 WARN Utils: Set SPARK_LOCAL_IP if you need to bind to another address\n",
      "24/02/17 15:04:25 WARN NativeCodeLoader: Unable to load native-hadoop library for your platform... using builtin-java classes where applicable\n",
      "Setting default log level to \"WARN\".\n",
      "To adjust logging level use sc.setLogLevel(newLevel). For SparkR, use setLogLevel(newLevel).\n",
      "24/02/17 15:04:26 WARN Utils: Service 'SparkUI' could not bind on port 4040. Attempting port 4041.\n",
      "24/02/17 15:04:26 WARN Utils: Service 'SparkUI' could not bind on port 4041. Attempting port 4042.\n"
     ]
    }
   ],
   "source": [
    "warehouse_dir = f\"{get_base_dir()}/spark-warehouse\"\n",
    "postgres_driver_path = f\"{get_base_dir()}/jars/postgresql-42.7.1.jar\"\n",
    "\n",
    "spark = (\n",
    "    SparkSession.builder.appName(\"20240211_competitors\")\n",
    "    .config(\"spark.driver.memory\", \"21g\")\n",
    "    .config(\"spark.driver.maxResultSize\", \"5g\")\n",
    "    .config(\"spark.sql.warehouse.dir\", warehouse_dir)\n",
    "    .config(\"spark.jars\", postgres_driver_path)\n",
    "    .config(\"spark.executor.extraClassPath\", postgres_driver_path)\n",
    "    .config(\"spark.driver.extraClassPath\", postgres_driver_path)\n",
    "    .enableHiveSupport()\n",
    "    .getOrCreate()\n",
    ")"
   ]
  },
  {
   "cell_type": "code",
   "execution_count": 3,
   "metadata": {},
   "outputs": [
    {
     "name": "stderr",
     "output_type": "stream",
     "text": [
      "{\"event\": \"Read from parquet /Users/hankehly/Projects/JapanHorseRaceAnalytics/data/sql_tables/features_20240202_v1.snappy.parquet to pandas\", \"level\": \"info\", \"timestamp\": \"2024-02-17T06:04:26.521843Z\", \"logger\": \"__main__\"}\n"
     ]
    },
    {
     "data": {
      "text/html": [
       "<div>\n",
       "<style scoped>\n",
       "    .dataframe tbody tr th:only-of-type {\n",
       "        vertical-align: middle;\n",
       "    }\n",
       "\n",
       "    .dataframe tbody tr th {\n",
       "        vertical-align: top;\n",
       "    }\n",
       "\n",
       "    .dataframe thead th {\n",
       "        text-align: right;\n",
       "    }\n",
       "</style>\n",
       "<table border=\"1\" class=\"dataframe\">\n",
       "  <thead>\n",
       "    <tr style=\"text-align: right;\">\n",
       "      <th></th>\n",
       "      <th>レースキー</th>\n",
       "      <th>馬番</th>\n",
       "      <th>血統登録番号</th>\n",
       "      <th>騎手コード</th>\n",
       "      <th>発走日時</th>\n",
       "      <th>調教師コード</th>\n",
       "      <th>先読み注意_着順</th>\n",
       "      <th>先読み注意_本賞金</th>\n",
       "      <th>先読み注意_単勝的中</th>\n",
       "      <th>先読み注意_単勝払戻金</th>\n",
       "      <th>先読み注意_複勝的中</th>\n",
       "      <th>先読み注意_複勝払戻金</th>\n",
       "      <th>場コード</th>\n",
       "      <th>四半期</th>\n",
       "      <th>距離</th>\n",
       "      <th>馬場状態コード</th>\n",
       "      <th>レース条件_トラック情報_右左</th>\n",
       "      <th>レース条件_トラック情報_内外</th>\n",
       "      <th>レース条件_種別</th>\n",
       "      <th>レース条件_条件</th>\n",
       "      <th>レース条件_記号</th>\n",
       "      <th>レース条件_重量</th>\n",
       "      <th>レース条件_グレード</th>\n",
       "      <th>頭数</th>\n",
       "      <th>トラック種別</th>\n",
       "      <th>馬場差</th>\n",
       "      <th>馬場状態内</th>\n",
       "      <th>馬場状態中</th>\n",
       "      <th>馬場状態外</th>\n",
       "      <th>直線馬場差最内</th>\n",
       "      <th>直線馬場差内</th>\n",
       "      <th>直線馬場差中</th>\n",
       "      <th>直線馬場差外</th>\n",
       "      <th>直線馬場差大外</th>\n",
       "      <th>芝種類</th>\n",
       "      <th>草丈</th>\n",
       "      <th>転圧</th>\n",
       "      <th>凍結防止剤</th>\n",
       "      <th>中間降水量</th>\n",
       "      <th>天候コード</th>\n",
       "      <th>性別</th>\n",
       "      <th>トラック種別瞬発戦好走馬</th>\n",
       "      <th>トラック種別消耗戦好走馬</th>\n",
       "      <th>一走前着順</th>\n",
       "      <th>二走前着順</th>\n",
       "      <th>三走前着順</th>\n",
       "      <th>四走前着順</th>\n",
       "      <th>五走前着順</th>\n",
       "      <th>六走前着順</th>\n",
       "      <th>ＩＤＭ</th>\n",
       "      <th>...</th>\n",
       "      <th>競争相手平均調教師1位完走差</th>\n",
       "      <th>競争相手平均調教師トップ3完走差</th>\n",
       "      <th>競争相手平均調教師1位完走率差</th>\n",
       "      <th>競争相手平均調教師トップ3完走率差</th>\n",
       "      <th>競争相手平均調教師場所レース数差</th>\n",
       "      <th>競争相手平均調教師場所1位完走差</th>\n",
       "      <th>競争相手平均調教師場所トップ3完走差</th>\n",
       "      <th>競争相手平均調教師場所1位完走率差</th>\n",
       "      <th>競争相手平均調教師場所トップ3完走率差</th>\n",
       "      <th>競争相手平均調教師本賞金累計差</th>\n",
       "      <th>競争相手平均調教師1位完走平均賞金差</th>\n",
       "      <th>競争相手平均調教師レース数平均賞金差</th>\n",
       "      <th>馬騎手レース数</th>\n",
       "      <th>馬騎手1位完走</th>\n",
       "      <th>馬騎手1位完走率</th>\n",
       "      <th>馬騎手トップ3完走</th>\n",
       "      <th>馬騎手トップ3完走率</th>\n",
       "      <th>馬騎手初二走</th>\n",
       "      <th>馬騎手同騎手</th>\n",
       "      <th>馬騎手場所レース数</th>\n",
       "      <th>馬騎手場所1位完走</th>\n",
       "      <th>馬騎手場所1位完走率</th>\n",
       "      <th>馬騎手場所トップ3完走</th>\n",
       "      <th>馬騎手場所トップ3完走率</th>\n",
       "      <th>馬調教師レース数</th>\n",
       "      <th>馬調教師1位完走</th>\n",
       "      <th>馬調教師1位完走率</th>\n",
       "      <th>馬調教師トップ3完走</th>\n",
       "      <th>馬調教師トップ3完走率</th>\n",
       "      <th>馬調教師初二走</th>\n",
       "      <th>馬調教師同調教師</th>\n",
       "      <th>馬調教師場所レース数</th>\n",
       "      <th>馬調教師場所1位完走</th>\n",
       "      <th>馬調教師場所1位完走率</th>\n",
       "      <th>馬調教師場所トップ3完走</th>\n",
       "      <th>馬調教師場所トップ3完走率</th>\n",
       "      <th>temperature</th>\n",
       "      <th>precipitation</th>\n",
       "      <th>snowfall</th>\n",
       "      <th>snow_depth</th>\n",
       "      <th>wind_speed</th>\n",
       "      <th>wind_direction</th>\n",
       "      <th>solar_radiation</th>\n",
       "      <th>local_air_pressure</th>\n",
       "      <th>sea_level_air_pressure</th>\n",
       "      <th>relative_humidity</th>\n",
       "      <th>vapor_pressure</th>\n",
       "      <th>dew_point_temperature</th>\n",
       "      <th>weather</th>\n",
       "      <th>visibility</th>\n",
       "    </tr>\n",
       "  </thead>\n",
       "  <tbody>\n",
       "    <tr>\n",
       "      <th>0</th>\n",
       "      <td>01011101</td>\n",
       "      <td>04</td>\n",
       "      <td>98100695</td>\n",
       "      <td>10449</td>\n",
       "      <td>2001-08-04 00:50:00</td>\n",
       "      <td>10206</td>\n",
       "      <td>2</td>\n",
       "      <td>200.0</td>\n",
       "      <td>False</td>\n",
       "      <td>0</td>\n",
       "      <td>True</td>\n",
       "      <td>190</td>\n",
       "      <td>01</td>\n",
       "      <td>3</td>\n",
       "      <td>1000</td>\n",
       "      <td>30</td>\n",
       "      <td>1</td>\n",
       "      <td>1</td>\n",
       "      <td>12</td>\n",
       "      <td>A3</td>\n",
       "      <td>002</td>\n",
       "      <td>3</td>\n",
       "      <td>NaN</td>\n",
       "      <td>12</td>\n",
       "      <td>ダート</td>\n",
       "      <td>&lt;NA&gt;</td>\n",
       "      <td>1</td>\n",
       "      <td>1</td>\n",
       "      <td>1</td>\n",
       "      <td>1</td>\n",
       "      <td>1</td>\n",
       "      <td>0</td>\n",
       "      <td>0</td>\n",
       "      <td>0</td>\n",
       "      <td>NaN</td>\n",
       "      <td>&lt;NA&gt;</td>\n",
       "      <td>False</td>\n",
       "      <td>False</td>\n",
       "      <td>&lt;NA&gt;</td>\n",
       "      <td>2</td>\n",
       "      <td>牝</td>\n",
       "      <td>False</td>\n",
       "      <td>False</td>\n",
       "      <td>5</td>\n",
       "      <td>9</td>\n",
       "      <td>&lt;NA&gt;</td>\n",
       "      <td>&lt;NA&gt;</td>\n",
       "      <td>&lt;NA&gt;</td>\n",
       "      <td>&lt;NA&gt;</td>\n",
       "      <td>21.0</td>\n",
       "      <td>...</td>\n",
       "      <td>5.636364</td>\n",
       "      <td>-2.181818</td>\n",
       "      <td>-0.003834</td>\n",
       "      <td>-0.043248</td>\n",
       "      <td>0.363636</td>\n",
       "      <td>0.090909</td>\n",
       "      <td>-2.454545</td>\n",
       "      <td>0.02494</td>\n",
       "      <td>-0.06504</td>\n",
       "      <td>9512.318182</td>\n",
       "      <td>115.85049</td>\n",
       "      <td>-10.391494</td>\n",
       "      <td>0</td>\n",
       "      <td>0</td>\n",
       "      <td>0.0</td>\n",
       "      <td>0</td>\n",
       "      <td>0.0</td>\n",
       "      <td>True</td>\n",
       "      <td>False</td>\n",
       "      <td>0</td>\n",
       "      <td>0</td>\n",
       "      <td>0.0</td>\n",
       "      <td>0</td>\n",
       "      <td>0.0</td>\n",
       "      <td>2</td>\n",
       "      <td>0</td>\n",
       "      <td>0.0</td>\n",
       "      <td>0</td>\n",
       "      <td>0.0</td>\n",
       "      <td>False</td>\n",
       "      <td>True</td>\n",
       "      <td>0</td>\n",
       "      <td>0</td>\n",
       "      <td>0.0</td>\n",
       "      <td>0</td>\n",
       "      <td>0.0</td>\n",
       "      <td>21.933333</td>\n",
       "      <td>0.0</td>\n",
       "      <td>&lt;NA&gt;</td>\n",
       "      <td>0.0</td>\n",
       "      <td>4.433333</td>\n",
       "      <td>北西</td>\n",
       "      <td>2.098333</td>\n",
       "      <td>1011.15</td>\n",
       "      <td>1014.15</td>\n",
       "      <td>68.5</td>\n",
       "      <td>18.016667</td>\n",
       "      <td>15.866667</td>\n",
       "      <td>4</td>\n",
       "      <td>10.0</td>\n",
       "    </tr>\n",
       "    <tr>\n",
       "      <th>1</th>\n",
       "      <td>01011103</td>\n",
       "      <td>04</td>\n",
       "      <td>98102049</td>\n",
       "      <td>10356</td>\n",
       "      <td>2001-08-04 01:45:00</td>\n",
       "      <td>10263</td>\n",
       "      <td>6</td>\n",
       "      <td>0.0</td>\n",
       "      <td>False</td>\n",
       "      <td>0</td>\n",
       "      <td>False</td>\n",
       "      <td>0</td>\n",
       "      <td>01</td>\n",
       "      <td>3</td>\n",
       "      <td>1200</td>\n",
       "      <td>20</td>\n",
       "      <td>1</td>\n",
       "      <td>1</td>\n",
       "      <td>12</td>\n",
       "      <td>A3</td>\n",
       "      <td>102</td>\n",
       "      <td>3</td>\n",
       "      <td>NaN</td>\n",
       "      <td>16</td>\n",
       "      <td>芝</td>\n",
       "      <td>&lt;NA&gt;</td>\n",
       "      <td>1</td>\n",
       "      <td>1</td>\n",
       "      <td>1</td>\n",
       "      <td>1</td>\n",
       "      <td>1</td>\n",
       "      <td>0</td>\n",
       "      <td>0</td>\n",
       "      <td>0</td>\n",
       "      <td>NaN</td>\n",
       "      <td>&lt;NA&gt;</td>\n",
       "      <td>False</td>\n",
       "      <td>False</td>\n",
       "      <td>&lt;NA&gt;</td>\n",
       "      <td>1</td>\n",
       "      <td>牡</td>\n",
       "      <td>True</td>\n",
       "      <td>False</td>\n",
       "      <td>7</td>\n",
       "      <td>2</td>\n",
       "      <td>7</td>\n",
       "      <td>&lt;NA&gt;</td>\n",
       "      <td>&lt;NA&gt;</td>\n",
       "      <td>&lt;NA&gt;</td>\n",
       "      <td>36.0</td>\n",
       "      <td>...</td>\n",
       "      <td>-3.133333</td>\n",
       "      <td>-5.066667</td>\n",
       "      <td>-0.016287</td>\n",
       "      <td>-0.036119</td>\n",
       "      <td>-6.733333</td>\n",
       "      <td>-1.066667</td>\n",
       "      <td>-0.733333</td>\n",
       "      <td>-0.010847</td>\n",
       "      <td>0.12559</td>\n",
       "      <td>-18662.266667</td>\n",
       "      <td>-159.225818</td>\n",
       "      <td>-51.509013</td>\n",
       "      <td>2</td>\n",
       "      <td>0</td>\n",
       "      <td>0.0</td>\n",
       "      <td>0</td>\n",
       "      <td>0.0</td>\n",
       "      <td>False</td>\n",
       "      <td>False</td>\n",
       "      <td>0</td>\n",
       "      <td>0</td>\n",
       "      <td>0.0</td>\n",
       "      <td>0</td>\n",
       "      <td>0.0</td>\n",
       "      <td>9</td>\n",
       "      <td>0</td>\n",
       "      <td>0.0</td>\n",
       "      <td>1</td>\n",
       "      <td>0.111111</td>\n",
       "      <td>False</td>\n",
       "      <td>True</td>\n",
       "      <td>0</td>\n",
       "      <td>0</td>\n",
       "      <td>0.0</td>\n",
       "      <td>0</td>\n",
       "      <td>0.0</td>\n",
       "      <td>22.8</td>\n",
       "      <td>0.0</td>\n",
       "      <td>&lt;NA&gt;</td>\n",
       "      <td>0.0</td>\n",
       "      <td>3.9</td>\n",
       "      <td>北西</td>\n",
       "      <td>2.93</td>\n",
       "      <td>1010.95</td>\n",
       "      <td>1013.95</td>\n",
       "      <td>60.75</td>\n",
       "      <td>16.875</td>\n",
       "      <td>14.85</td>\n",
       "      <td>NaN</td>\n",
       "      <td>&lt;NA&gt;</td>\n",
       "    </tr>\n",
       "    <tr>\n",
       "      <th>2</th>\n",
       "      <td>01011103</td>\n",
       "      <td>09</td>\n",
       "      <td>98102902</td>\n",
       "      <td>10366</td>\n",
       "      <td>2001-08-04 01:45:00</td>\n",
       "      <td>10305</td>\n",
       "      <td>2</td>\n",
       "      <td>200.0</td>\n",
       "      <td>False</td>\n",
       "      <td>0</td>\n",
       "      <td>True</td>\n",
       "      <td>120</td>\n",
       "      <td>01</td>\n",
       "      <td>3</td>\n",
       "      <td>1200</td>\n",
       "      <td>20</td>\n",
       "      <td>1</td>\n",
       "      <td>1</td>\n",
       "      <td>12</td>\n",
       "      <td>A3</td>\n",
       "      <td>102</td>\n",
       "      <td>3</td>\n",
       "      <td>NaN</td>\n",
       "      <td>16</td>\n",
       "      <td>芝</td>\n",
       "      <td>&lt;NA&gt;</td>\n",
       "      <td>1</td>\n",
       "      <td>1</td>\n",
       "      <td>1</td>\n",
       "      <td>1</td>\n",
       "      <td>1</td>\n",
       "      <td>0</td>\n",
       "      <td>0</td>\n",
       "      <td>0</td>\n",
       "      <td>NaN</td>\n",
       "      <td>&lt;NA&gt;</td>\n",
       "      <td>False</td>\n",
       "      <td>False</td>\n",
       "      <td>&lt;NA&gt;</td>\n",
       "      <td>1</td>\n",
       "      <td>牡</td>\n",
       "      <td>True</td>\n",
       "      <td>False</td>\n",
       "      <td>3</td>\n",
       "      <td>2</td>\n",
       "      <td>&lt;NA&gt;</td>\n",
       "      <td>&lt;NA&gt;</td>\n",
       "      <td>&lt;NA&gt;</td>\n",
       "      <td>&lt;NA&gt;</td>\n",
       "      <td>38.0</td>\n",
       "      <td>...</td>\n",
       "      <td>-10.6</td>\n",
       "      <td>-20.0</td>\n",
       "      <td>-0.031598</td>\n",
       "      <td>-0.06815</td>\n",
       "      <td>-9.933333</td>\n",
       "      <td>-1.066667</td>\n",
       "      <td>-1.8</td>\n",
       "      <td>0.018783</td>\n",
       "      <td>0.12559</td>\n",
       "      <td>-28766.8</td>\n",
       "      <td>-206.365603</td>\n",
       "      <td>-72.468494</td>\n",
       "      <td>3</td>\n",
       "      <td>0</td>\n",
       "      <td>0.0</td>\n",
       "      <td>2</td>\n",
       "      <td>0.666667</td>\n",
       "      <td>False</td>\n",
       "      <td>True</td>\n",
       "      <td>0</td>\n",
       "      <td>0</td>\n",
       "      <td>0.0</td>\n",
       "      <td>0</td>\n",
       "      <td>0.0</td>\n",
       "      <td>8</td>\n",
       "      <td>0</td>\n",
       "      <td>0.0</td>\n",
       "      <td>3</td>\n",
       "      <td>0.375</td>\n",
       "      <td>False</td>\n",
       "      <td>True</td>\n",
       "      <td>0</td>\n",
       "      <td>0</td>\n",
       "      <td>0.0</td>\n",
       "      <td>0</td>\n",
       "      <td>0.0</td>\n",
       "      <td>22.8</td>\n",
       "      <td>0.0</td>\n",
       "      <td>&lt;NA&gt;</td>\n",
       "      <td>0.0</td>\n",
       "      <td>3.9</td>\n",
       "      <td>北西</td>\n",
       "      <td>2.93</td>\n",
       "      <td>1010.95</td>\n",
       "      <td>1013.95</td>\n",
       "      <td>60.75</td>\n",
       "      <td>16.875</td>\n",
       "      <td>14.85</td>\n",
       "      <td>NaN</td>\n",
       "      <td>&lt;NA&gt;</td>\n",
       "    </tr>\n",
       "    <tr>\n",
       "      <th>3</th>\n",
       "      <td>01011204</td>\n",
       "      <td>14</td>\n",
       "      <td>98110058</td>\n",
       "      <td>10392</td>\n",
       "      <td>2001-08-05 02:15:00</td>\n",
       "      <td>10219</td>\n",
       "      <td>6</td>\n",
       "      <td>0.0</td>\n",
       "      <td>False</td>\n",
       "      <td>0</td>\n",
       "      <td>False</td>\n",
       "      <td>0</td>\n",
       "      <td>01</td>\n",
       "      <td>3</td>\n",
       "      <td>1800</td>\n",
       "      <td>10</td>\n",
       "      <td>1</td>\n",
       "      <td>1</td>\n",
       "      <td>12</td>\n",
       "      <td>A3</td>\n",
       "      <td>102</td>\n",
       "      <td>3</td>\n",
       "      <td>NaN</td>\n",
       "      <td>14</td>\n",
       "      <td>芝</td>\n",
       "      <td>&lt;NA&gt;</td>\n",
       "      <td>1</td>\n",
       "      <td>1</td>\n",
       "      <td>1</td>\n",
       "      <td>1</td>\n",
       "      <td>1</td>\n",
       "      <td>0</td>\n",
       "      <td>0</td>\n",
       "      <td>0</td>\n",
       "      <td>NaN</td>\n",
       "      <td>&lt;NA&gt;</td>\n",
       "      <td>False</td>\n",
       "      <td>False</td>\n",
       "      <td>&lt;NA&gt;</td>\n",
       "      <td>1</td>\n",
       "      <td>牡</td>\n",
       "      <td>False</td>\n",
       "      <td>False</td>\n",
       "      <td>8</td>\n",
       "      <td>&lt;NA&gt;</td>\n",
       "      <td>&lt;NA&gt;</td>\n",
       "      <td>&lt;NA&gt;</td>\n",
       "      <td>&lt;NA&gt;</td>\n",
       "      <td>&lt;NA&gt;</td>\n",
       "      <td>33.4</td>\n",
       "      <td>...</td>\n",
       "      <td>13.615385</td>\n",
       "      <td>35.153846</td>\n",
       "      <td>0.021887</td>\n",
       "      <td>0.049687</td>\n",
       "      <td>15.769231</td>\n",
       "      <td>6.846154</td>\n",
       "      <td>9.923077</td>\n",
       "      <td>0.137634</td>\n",
       "      <td>0.14995</td>\n",
       "      <td>49377.5</td>\n",
       "      <td>316.358601</td>\n",
       "      <td>86.088353</td>\n",
       "      <td>4</td>\n",
       "      <td>0</td>\n",
       "      <td>0.0</td>\n",
       "      <td>0</td>\n",
       "      <td>0.0</td>\n",
       "      <td>False</td>\n",
       "      <td>False</td>\n",
       "      <td>0</td>\n",
       "      <td>0</td>\n",
       "      <td>0.0</td>\n",
       "      <td>0</td>\n",
       "      <td>0.0</td>\n",
       "      <td>10</td>\n",
       "      <td>0</td>\n",
       "      <td>0.0</td>\n",
       "      <td>1</td>\n",
       "      <td>0.1</td>\n",
       "      <td>False</td>\n",
       "      <td>True</td>\n",
       "      <td>0</td>\n",
       "      <td>0</td>\n",
       "      <td>0.0</td>\n",
       "      <td>0</td>\n",
       "      <td>0.0</td>\n",
       "      <td>22.3</td>\n",
       "      <td>0.0</td>\n",
       "      <td>&lt;NA&gt;</td>\n",
       "      <td>0.0</td>\n",
       "      <td>4.625</td>\n",
       "      <td>北北西</td>\n",
       "      <td>3.14</td>\n",
       "      <td>1010.325</td>\n",
       "      <td>1013.325</td>\n",
       "      <td>64.0</td>\n",
       "      <td>17.225</td>\n",
       "      <td>15.15</td>\n",
       "      <td>1</td>\n",
       "      <td>30.0</td>\n",
       "    </tr>\n",
       "    <tr>\n",
       "      <th>4</th>\n",
       "      <td>01011303</td>\n",
       "      <td>06</td>\n",
       "      <td>98103267</td>\n",
       "      <td>10412</td>\n",
       "      <td>2001-08-11 01:45:00</td>\n",
       "      <td>10303</td>\n",
       "      <td>3</td>\n",
       "      <td>130.0</td>\n",
       "      <td>False</td>\n",
       "      <td>0</td>\n",
       "      <td>True</td>\n",
       "      <td>1090</td>\n",
       "      <td>01</td>\n",
       "      <td>3</td>\n",
       "      <td>1700</td>\n",
       "      <td>10</td>\n",
       "      <td>1</td>\n",
       "      <td>1</td>\n",
       "      <td>12</td>\n",
       "      <td>A3</td>\n",
       "      <td>002</td>\n",
       "      <td>3</td>\n",
       "      <td>NaN</td>\n",
       "      <td>13</td>\n",
       "      <td>ダート</td>\n",
       "      <td>&lt;NA&gt;</td>\n",
       "      <td>1</td>\n",
       "      <td>1</td>\n",
       "      <td>1</td>\n",
       "      <td>1</td>\n",
       "      <td>1</td>\n",
       "      <td>0</td>\n",
       "      <td>0</td>\n",
       "      <td>0</td>\n",
       "      <td>NaN</td>\n",
       "      <td>&lt;NA&gt;</td>\n",
       "      <td>False</td>\n",
       "      <td>False</td>\n",
       "      <td>&lt;NA&gt;</td>\n",
       "      <td>2</td>\n",
       "      <td>牡</td>\n",
       "      <td>False</td>\n",
       "      <td>False</td>\n",
       "      <td>12</td>\n",
       "      <td>13</td>\n",
       "      <td>7</td>\n",
       "      <td>&lt;NA&gt;</td>\n",
       "      <td>&lt;NA&gt;</td>\n",
       "      <td>&lt;NA&gt;</td>\n",
       "      <td>17.0</td>\n",
       "      <td>...</td>\n",
       "      <td>13.75</td>\n",
       "      <td>21.75</td>\n",
       "      <td>0.033582</td>\n",
       "      <td>0.063804</td>\n",
       "      <td>7.75</td>\n",
       "      <td>1.333333</td>\n",
       "      <td>7.916667</td>\n",
       "      <td>0.039064</td>\n",
       "      <td>0.115922</td>\n",
       "      <td>-1223.125</td>\n",
       "      <td>-199.919166</td>\n",
       "      <td>12.856413</td>\n",
       "      <td>1</td>\n",
       "      <td>0</td>\n",
       "      <td>0.0</td>\n",
       "      <td>0</td>\n",
       "      <td>0.0</td>\n",
       "      <td>True</td>\n",
       "      <td>True</td>\n",
       "      <td>1</td>\n",
       "      <td>0</td>\n",
       "      <td>0.0</td>\n",
       "      <td>0</td>\n",
       "      <td>0.0</td>\n",
       "      <td>5</td>\n",
       "      <td>0</td>\n",
       "      <td>0.0</td>\n",
       "      <td>0</td>\n",
       "      <td>0.0</td>\n",
       "      <td>False</td>\n",
       "      <td>True</td>\n",
       "      <td>1</td>\n",
       "      <td>0</td>\n",
       "      <td>0.0</td>\n",
       "      <td>0</td>\n",
       "      <td>0.0</td>\n",
       "      <td>23.475</td>\n",
       "      <td>0.0</td>\n",
       "      <td>&lt;NA&gt;</td>\n",
       "      <td>0.0</td>\n",
       "      <td>0.825</td>\n",
       "      <td>北</td>\n",
       "      <td>1.435</td>\n",
       "      <td>1009.925</td>\n",
       "      <td>1012.925</td>\n",
       "      <td>65.0</td>\n",
       "      <td>18.725</td>\n",
       "      <td>16.475</td>\n",
       "      <td>NaN</td>\n",
       "      <td>&lt;NA&gt;</td>\n",
       "    </tr>\n",
       "  </tbody>\n",
       "</table>\n",
       "<p>5 rows × 813 columns</p>\n",
       "</div>"
      ],
      "text/plain": [
       "      レースキー  馬番    血統登録番号  騎手コード                発走日時 調教師コード  先読み注意_着順  \\\n",
       "0  01011101  04  98100695  10449 2001-08-04 00:50:00  10206         2   \n",
       "1  01011103  04  98102049  10356 2001-08-04 01:45:00  10263         6   \n",
       "2  01011103  09  98102902  10366 2001-08-04 01:45:00  10305         2   \n",
       "3  01011204  14  98110058  10392 2001-08-05 02:15:00  10219         6   \n",
       "4  01011303  06  98103267  10412 2001-08-11 01:45:00  10303         3   \n",
       "\n",
       "   先読み注意_本賞金 先読み注意_単勝的中  先読み注意_単勝払戻金 先読み注意_複勝的中  先読み注意_複勝払戻金 場コード 四半期    距離  \\\n",
       "0      200.0      False            0       True          190   01   3  1000   \n",
       "1        0.0      False            0      False            0   01   3  1200   \n",
       "2      200.0      False            0       True          120   01   3  1200   \n",
       "3        0.0      False            0      False            0   01   3  1800   \n",
       "4      130.0      False            0       True         1090   01   3  1700   \n",
       "\n",
       "  馬場状態コード レース条件_トラック情報_右左 レース条件_トラック情報_内外 レース条件_種別 レース条件_条件 レース条件_記号 レース条件_重量  \\\n",
       "0      30               1               1       12       A3      002        3   \n",
       "1      20               1               1       12       A3      102        3   \n",
       "2      20               1               1       12       A3      102        3   \n",
       "3      10               1               1       12       A3      102        3   \n",
       "4      10               1               1       12       A3      002        3   \n",
       "\n",
       "  レース条件_グレード  頭数 トラック種別   馬場差 馬場状態内 馬場状態中 馬場状態外  直線馬場差最内  直線馬場差内  直線馬場差中  \\\n",
       "0        NaN  12    ダート  <NA>     1     1     1        1       1       0   \n",
       "1        NaN  16      芝  <NA>     1     1     1        1       1       0   \n",
       "2        NaN  16      芝  <NA>     1     1     1        1       1       0   \n",
       "3        NaN  14      芝  <NA>     1     1     1        1       1       0   \n",
       "4        NaN  13    ダート  <NA>     1     1     1        1       1       0   \n",
       "\n",
       "   直線馬場差外  直線馬場差大外  芝種類    草丈     転圧  凍結防止剤  中間降水量 天候コード 性別 トラック種別瞬発戦好走馬  \\\n",
       "0       0        0  NaN  <NA>  False  False   <NA>     2  牝        False   \n",
       "1       0        0  NaN  <NA>  False  False   <NA>     1  牡         True   \n",
       "2       0        0  NaN  <NA>  False  False   <NA>     1  牡         True   \n",
       "3       0        0  NaN  <NA>  False  False   <NA>     1  牡        False   \n",
       "4       0        0  NaN  <NA>  False  False   <NA>     2  牡        False   \n",
       "\n",
       "  トラック種別消耗戦好走馬  一走前着順  二走前着順  三走前着順  四走前着順  五走前着順  六走前着順   ＩＤＭ  ...  \\\n",
       "0        False      5      9   <NA>   <NA>   <NA>   <NA>  21.0  ...   \n",
       "1        False      7      2      7   <NA>   <NA>   <NA>  36.0  ...   \n",
       "2        False      3      2   <NA>   <NA>   <NA>   <NA>  38.0  ...   \n",
       "3        False      8   <NA>   <NA>   <NA>   <NA>   <NA>  33.4  ...   \n",
       "4        False     12     13      7   <NA>   <NA>   <NA>  17.0  ...   \n",
       "\n",
       "  競争相手平均調教師1位完走差  競争相手平均調教師トップ3完走差  競争相手平均調教師1位完走率差  競争相手平均調教師トップ3完走率差  \\\n",
       "0       5.636364         -2.181818        -0.003834          -0.043248   \n",
       "1      -3.133333         -5.066667        -0.016287          -0.036119   \n",
       "2          -10.6             -20.0        -0.031598           -0.06815   \n",
       "3      13.615385         35.153846         0.021887           0.049687   \n",
       "4          13.75             21.75         0.033582           0.063804   \n",
       "\n",
       "   競争相手平均調教師場所レース数差  競争相手平均調教師場所1位完走差  競争相手平均調教師場所トップ3完走差  競争相手平均調教師場所1位完走率差  \\\n",
       "0          0.363636          0.090909           -2.454545            0.02494   \n",
       "1         -6.733333         -1.066667           -0.733333          -0.010847   \n",
       "2         -9.933333         -1.066667                -1.8           0.018783   \n",
       "3         15.769231          6.846154            9.923077           0.137634   \n",
       "4              7.75          1.333333            7.916667           0.039064   \n",
       "\n",
       "  競争相手平均調教師場所トップ3完走率差 競争相手平均調教師本賞金累計差  競争相手平均調教師1位完走平均賞金差 競争相手平均調教師レース数平均賞金差  \\\n",
       "0            -0.06504     9512.318182           115.85049         -10.391494   \n",
       "1             0.12559   -18662.266667         -159.225818         -51.509013   \n",
       "2             0.12559        -28766.8         -206.365603         -72.468494   \n",
       "3             0.14995         49377.5          316.358601          86.088353   \n",
       "4            0.115922       -1223.125         -199.919166          12.856413   \n",
       "\n",
       "  馬騎手レース数 馬騎手1位完走 馬騎手1位完走率 馬騎手トップ3完走 馬騎手トップ3完走率 馬騎手初二走 馬騎手同騎手  馬騎手場所レース数  \\\n",
       "0       0       0      0.0         0        0.0   True  False          0   \n",
       "1       2       0      0.0         0        0.0  False  False          0   \n",
       "2       3       0      0.0         2   0.666667  False   True          0   \n",
       "3       4       0      0.0         0        0.0  False  False          0   \n",
       "4       1       0      0.0         0        0.0   True   True          1   \n",
       "\n",
       "   馬騎手場所1位完走  馬騎手場所1位完走率  馬騎手場所トップ3完走  馬騎手場所トップ3完走率  馬調教師レース数  馬調教師1位完走  \\\n",
       "0          0         0.0            0           0.0         2         0   \n",
       "1          0         0.0            0           0.0         9         0   \n",
       "2          0         0.0            0           0.0         8         0   \n",
       "3          0         0.0            0           0.0        10         0   \n",
       "4          0         0.0            0           0.0         5         0   \n",
       "\n",
       "   馬調教師1位完走率  馬調教師トップ3完走  馬調教師トップ3完走率  馬調教師初二走  馬調教師同調教師  馬調教師場所レース数  \\\n",
       "0        0.0           0          0.0    False      True           0   \n",
       "1        0.0           1     0.111111    False      True           0   \n",
       "2        0.0           3        0.375    False      True           0   \n",
       "3        0.0           1          0.1    False      True           0   \n",
       "4        0.0           0          0.0    False      True           1   \n",
       "\n",
       "   馬調教師場所1位完走  馬調教師場所1位完走率  馬調教師場所トップ3完走  馬調教師場所トップ3完走率  temperature  \\\n",
       "0           0          0.0             0            0.0    21.933333   \n",
       "1           0          0.0             0            0.0         22.8   \n",
       "2           0          0.0             0            0.0         22.8   \n",
       "3           0          0.0             0            0.0         22.3   \n",
       "4           0          0.0             0            0.0       23.475   \n",
       "\n",
       "  precipitation snowfall  snow_depth  wind_speed wind_direction  \\\n",
       "0           0.0     <NA>         0.0    4.433333             北西   \n",
       "1           0.0     <NA>         0.0         3.9             北西   \n",
       "2           0.0     <NA>         0.0         3.9             北西   \n",
       "3           0.0     <NA>         0.0       4.625            北北西   \n",
       "4           0.0     <NA>         0.0       0.825              北   \n",
       "\n",
       "  solar_radiation local_air_pressure sea_level_air_pressure relative_humidity  \\\n",
       "0        2.098333            1011.15                1014.15              68.5   \n",
       "1            2.93            1010.95                1013.95             60.75   \n",
       "2            2.93            1010.95                1013.95             60.75   \n",
       "3            3.14           1010.325               1013.325              64.0   \n",
       "4           1.435           1009.925               1012.925              65.0   \n",
       "\n",
       "  vapor_pressure dew_point_temperature weather visibility  \n",
       "0      18.016667             15.866667       4       10.0  \n",
       "1         16.875                 14.85     NaN       <NA>  \n",
       "2         16.875                 14.85     NaN       <NA>  \n",
       "3         17.225                 15.15       1       30.0  \n",
       "4         18.725                16.475     NaN       <NA>  \n",
       "\n",
       "[5 rows x 813 columns]"
      ]
     },
     "execution_count": 3,
     "metadata": {},
     "output_type": "execute_result"
    }
   ],
   "source": [
    "def read_hive_table(\n",
    "    table_name: str,\n",
    "    schema: str,\n",
    "    spark_session: SparkSession,\n",
    "    use_cache: bool = True,\n",
    "):\n",
    "    save_path = get_data_dir() / \"sql_tables\" / f\"{table_name}.snappy.parquet\"\n",
    "    if use_cache and save_path.exists():\n",
    "        logger.info(f\"Read from parquet {save_path} to pandas\")\n",
    "        return pd.read_parquet(save_path)\n",
    "    logger.info(f\"Read from hive {schema}.{table_name}\")\n",
    "    spark_df = spark_session.read.table(f\"{schema}.{table_name}\")\n",
    "    logger.info(f\"Write to parquet {save_path}\")\n",
    "    spark_df.write.mode(\"overwrite\").parquet(str(save_path))\n",
    "    logger.info(f\"Read from parquet {save_path} to pandas\")\n",
    "    return pd.read_parquet(save_path)\n",
    "\n",
    "\n",
    "data = read_hive_table(\n",
    "    table_name=\"features_20240202_v1\",\n",
    "    schema=\"jhra_curated\",\n",
    "    spark_session=spark,\n",
    "    use_cache=True,\n",
    ").astype(Features.get_pandas_dtypes())\n",
    "\n",
    "data.head()"
   ]
  },
  {
   "cell_type": "markdown",
   "metadata": {},
   "source": [
    "# Model Training\n",
    "\n",
    "## Split Train and Test Data"
   ]
  },
  {
   "cell_type": "code",
   "execution_count": 4,
   "metadata": {},
   "outputs": [
    {
     "name": "stdout",
     "output_type": "stream",
     "text": [
      "X_train: (886532, 813)\n",
      "X_test: (221634, 813)\n",
      "y_train: (886532,)\n",
      "y_test: (221634,)\n"
     ]
    }
   ],
   "source": [
    "X = data\n",
    "y = data[Features.get_label()]\n",
    "X_train, X_test, y_train, y_test = train_test_split(\n",
    "    X, y, test_size=0.2, random_state=42\n",
    ")\n",
    "print(f\"X_train: {X_train.shape}\")\n",
    "print(f\"X_test: {X_test.shape}\")\n",
    "print(f\"y_train: {y_train.shape}\")\n",
    "print(f\"y_test: {y_test.shape}\")"
   ]
  },
  {
   "cell_type": "markdown",
   "metadata": {},
   "source": [
    "## Define Objective Function"
   ]
  },
  {
   "cell_type": "code",
   "execution_count": 5,
   "metadata": {},
   "outputs": [],
   "source": [
    "def create_objective_fn(\n",
    "    X_train: pd.DataFrame,\n",
    "    y_train: pd.Series,\n",
    "    X_test: pd.DataFrame,\n",
    "    y_test: pd.Series,\n",
    "    df_payout: pd.DataFrame,\n",
    "    experiment_name: str,\n",
    "):\n",
    "    \"\"\"\n",
    "    df_payout should have the same index as *_test and have the following columns:\n",
    "    * レースキー\n",
    "    * 馬番\n",
    "    * 距離\n",
    "    * 発走日時\n",
    "    * 年齢\n",
    "    * レース条件_グレード\n",
    "    * 場コード\n",
    "    * payout - amount won if betting 100 yen.\n",
    "    \"\"\"\n",
    "\n",
    "    def train(params):\n",
    "        def profit_loss(row, payout_column_name, bet_amount=100):\n",
    "            if row[\"pred\"] and row[\"actual\"]:\n",
    "                payout = row[payout_column_name] * (bet_amount / 100)\n",
    "                return payout - bet_amount\n",
    "            elif row[\"pred\"] and not row[\"actual\"]:\n",
    "                return -bet_amount\n",
    "            else:\n",
    "                return 0\n",
    "\n",
    "        mlflow.set_experiment(experiment_name=experiment_name)\n",
    "        with mlflow.start_run():\n",
    "            mlflow.log_params(params)\n",
    "\n",
    "            numeric_features = X_train.select_dtypes(\"number\").columns.tolist()\n",
    "            categorical_features = X_train.select_dtypes(\"category\").columns.tolist()\n",
    "            preprocessor = ColumnTransformer(\n",
    "                transformers=[\n",
    "                    (\"num\", StandardScaler(), numeric_features),\n",
    "                    (\n",
    "                        \"cat\",\n",
    "                        OneHotEncoder(handle_unknown=\"ignore\"),\n",
    "                        categorical_features,\n",
    "                    ),\n",
    "                ]\n",
    "            )\n",
    "            model = Pipeline(\n",
    "                steps=[\n",
    "                    (\"preprocessor\", preprocessor),\n",
    "                    (\"classifier\", lgb.LGBMClassifier(**params)),\n",
    "                ]\n",
    "            )\n",
    "\n",
    "            # RestException: INVALID_PARAMETER_VALUE: Dataset schema exceeds the maximum length of 65535\n",
    "            # Xy_train = pd.concat((X_train, y_train), axis=1)\n",
    "            # dataset = mlflow.data.from_pandas(Xy_train, targets=y_train.name)\n",
    "            # mlflow.log_input(dataset, context=\"train\")\n",
    "\n",
    "            input_schema = Schema(get_colspecs(X_train))\n",
    "            output_schema = Schema([ColSpec(\"double\", y_train.name)])\n",
    "            signature = ModelSignature(inputs=input_schema, outputs=output_schema)\n",
    "            input_example = X_train.iloc[:25]\n",
    "            model.fit(X_train, y_train)\n",
    "            mlflow.sklearn.log_model(\n",
    "                sk_model=model,\n",
    "                signature=signature,\n",
    "                input_example=input_example,\n",
    "                artifact_path=\"model\",\n",
    "            )\n",
    "\n",
    "            y_pred_proba = model.predict_proba(X_test)[:, 1]\n",
    "            y_pred = model.predict(X_test)\n",
    "\n",
    "            metrics = {\n",
    "                \"loss\": log_loss(y_test, y_pred_proba),\n",
    "                \"accuracy\": accuracy_score(y_test, y_pred),\n",
    "                \"precision\": precision_score(y_test, y_pred),\n",
    "                \"recall\": recall_score(y_test, y_pred),\n",
    "                \"f1\": f1_score(y_test, y_pred),\n",
    "                \"roc_auc\": roc_auc_score(y_test, y_pred),\n",
    "            }\n",
    "            mlflow.log_metrics(metrics)\n",
    "\n",
    "            # Calculate payout rates by group\n",
    "            results = pd.concat(\n",
    "                [\n",
    "                    df_payout,\n",
    "                    pd.DataFrame(\n",
    "                        np.c_[y_test, y_pred, y_pred_proba],\n",
    "                        columns=[\"actual\", \"pred\", \"pred_proba_true\"],\n",
    "                    ),\n",
    "                ],\n",
    "                axis=1,\n",
    "            )\n",
    "            payout_all = calculate_binary_classifier_statistics(\n",
    "                results, group_by=None, payout_column_name=\"payout\"\n",
    "            )\n",
    "            payout_month = calculate_binary_classifier_statistics(\n",
    "                results,\n",
    "                group_by=results[\"発走日時\"].dt.month,\n",
    "                payout_column_name=\"payout\",\n",
    "            )\n",
    "            payout_distance = calculate_binary_classifier_statistics(\n",
    "                results,\n",
    "                group_by=pd.cut(results[\"距離\"], bins=[0, 1400, 1800, 10000]),\n",
    "                payout_column_name=\"payout\",\n",
    "            )\n",
    "            payout_season = calculate_binary_classifier_statistics(\n",
    "                results,\n",
    "                group_by=results[\"発走日時\"].dt.month % 12 // 3,\n",
    "                payout_column_name=\"payout\",\n",
    "            )\n",
    "            payout_year = calculate_binary_classifier_statistics(\n",
    "                results,\n",
    "                group_by=results[\"発走日時\"].dt.year,\n",
    "                payout_column_name=\"payout\",\n",
    "            )\n",
    "            payout_age = calculate_binary_classifier_statistics(\n",
    "                results,\n",
    "                group_by=pd.cut(results[\"年齢\"], bins=[0, 3, 6, 100]),\n",
    "                payout_column_name=\"payout\",\n",
    "            )\n",
    "            payout_grade = calculate_binary_classifier_statistics(\n",
    "                results,\n",
    "                group_by=results[\"レース条件_グレード\"],\n",
    "                payout_column_name=\"payout\",\n",
    "            )\n",
    "            payout_racetrack = calculate_binary_classifier_statistics(\n",
    "                results, group_by=results[\"場コード\"], payout_column_name=\"payout\"\n",
    "            )\n",
    "            payout = (\n",
    "                pd.concat(\n",
    "                    [\n",
    "                        pd.DataFrame(payout_all).T.assign(group=\"all\"),\n",
    "                        pd.DataFrame(payout_month).T.assign(group=\"month\"),\n",
    "                        pd.DataFrame(payout_distance).T.assign(group=\"distance\"),\n",
    "                        pd.DataFrame(payout_season).T.assign(group=\"season\"),\n",
    "                        pd.DataFrame(payout_year).T.assign(group=\"year\"),\n",
    "                        pd.DataFrame(payout_age).T.assign(group=\"horse_age\"),\n",
    "                        pd.DataFrame(payout_grade).T.assign(group=\"grade\"),\n",
    "                        pd.DataFrame(payout_racetrack).T.assign(group=\"racetrack\"),\n",
    "                    ],\n",
    "                    axis=0,\n",
    "                )\n",
    "                .rename_axis(index=\"part\")\n",
    "                .reset_index()\n",
    "            )\n",
    "            # Move \"group\" and \"part\" columns to the first position in this dataframe\n",
    "            payout = payout[\n",
    "                [\"group\", \"part\"]\n",
    "                + [c for c in payout.columns if c not in [\"group\", \"part\"]]\n",
    "            ]\n",
    "\n",
    "            # Save payout rates as csv\n",
    "            with tempfile.NamedTemporaryFile(prefix=\"payout_rate_\", suffix=\".csv\") as f:\n",
    "                payout.to_csv(f.name, index=False)\n",
    "                mlflow.log_artifact(f.name)\n",
    "\n",
    "            # Log payout rates as metrics\n",
    "            payout_metrics = {}\n",
    "            for group_name, group in payout.groupby(\"group\"):\n",
    "                for i, row in group.iterrows():\n",
    "                    key = re.sub(r\"\\W\", \"_\", f\"payout_rate_{group_name}_{row['part']}\")\n",
    "                    payout_metrics[key] = row[\"payout_rate\"]\n",
    "            mlflow.log_metrics(payout_metrics)\n",
    "\n",
    "            # Suppress UserWarning messages from matplotlib\n",
    "            warnings.filterwarnings(\"ignore\", category=UserWarning)\n",
    "\n",
    "            # Plot payout rates by group\n",
    "            sns.set_theme(style=\"whitegrid\")\n",
    "            fig, axes = plt.subplots(2, 4, figsize=(20, 10))\n",
    "            for (group, df), ax in zip(payout.groupby(\"group\"), axes.flatten()):\n",
    "                sns.barplot(x=\"part\", y=\"payout_rate\", data=df, ax=ax)\n",
    "                ax.set_title(group)\n",
    "                ax.set_ylim(0, 150)\n",
    "                ax.set_xticklabels(ax.get_xticklabels(), rotation=90)\n",
    "                ax.set_ylabel(\"payout rate\")\n",
    "                ax.set_xlabel(\"\")\n",
    "                ax.yaxis.set_major_formatter(ticker.PercentFormatter())\n",
    "            with tempfile.NamedTemporaryFile(prefix=\"payout_rate_\", suffix=\".png\") as f:\n",
    "                plt.tight_layout()\n",
    "                plt.savefig(f.name)\n",
    "                plt.close()\n",
    "                mlflow.log_artifact(f.name)\n",
    "\n",
    "            # Plot bank balance over time\n",
    "            results[\"profit_loss\"] = results.apply(\n",
    "                profit_loss, args=(\"payout\", 100), axis=1\n",
    "            )\n",
    "            daily_profit_loss = results.groupby(\"発走日時\")[\"profit_loss\"].sum()\n",
    "            bank_balance = daily_profit_loss.cumsum()\n",
    "            plt.figure(figsize=(10, 10))\n",
    "            ax = plt.subplot(1, 1, 1)\n",
    "            ax.plot(bank_balance.index, bank_balance.values)\n",
    "            ax.set_title(\"Bank Balance\")\n",
    "            ax.set_xlabel(\"Date\")\n",
    "            ax.set_ylabel(\"Bank Balance\")\n",
    "            ax.grid(True)\n",
    "            ax.yaxis.set_major_formatter(ticker.StrMethodFormatter(\"{x:,.0f}\"))\n",
    "            with tempfile.NamedTemporaryFile(\n",
    "                prefix=\"bank_balance_\", suffix=\".png\"\n",
    "            ) as f:\n",
    "                plt.tight_layout()\n",
    "                plt.savefig(f.name)\n",
    "                plt.close()\n",
    "                mlflow.log_artifact(f.name)\n",
    "\n",
    "            # Confusion Matrix\n",
    "            conf_matrix = confusion_matrix(y_test, y_pred)\n",
    "            _, (ax1, ax2) = plt.subplots(1, 2, figsize=(15, 5))\n",
    "            sns.heatmap(conf_matrix, annot=True, fmt=\"g\", cmap=\"Blues\", ax=ax1)\n",
    "            ax1.set_xlabel(\"Predicted\")\n",
    "            ax1.set_ylabel(\"Actual\")\n",
    "            ax1.set_title(\"Confusion Matrix\")\n",
    "            sns.heatmap(\n",
    "                conf_matrix / conf_matrix.sum(axis=1)[:, None],\n",
    "                annot=True,\n",
    "                fmt=\".2%\",\n",
    "                cmap=\"Blues\",\n",
    "                ax=ax2,\n",
    "            )\n",
    "            ax2.set_xlabel(\"Predicted\")\n",
    "            ax2.set_ylabel(\"Actual\")\n",
    "            ax2.set_title(\"Normalized Confusion Matrix\")\n",
    "            with tempfile.NamedTemporaryFile(\n",
    "                prefix=\"confusion_matrix_\", suffix=\".png\"\n",
    "            ) as f:\n",
    "                plt.tight_layout()\n",
    "                plt.savefig(f.name)\n",
    "                plt.close()\n",
    "                mlflow.log_artifact(f.name)\n",
    "\n",
    "            # ROC Curve\n",
    "            fpr, tpr, _ = roc_curve(y_test, y_pred)\n",
    "            roc_auc = auc(fpr, tpr)\n",
    "            _, ax = plt.subplots(figsize=(10, 10))\n",
    "            ax.plot(\n",
    "                fpr,\n",
    "                tpr,\n",
    "                color=\"darkorange\",\n",
    "                lw=2,\n",
    "                label=\"ROC curve (area = %0.2f)\" % roc_auc,\n",
    "            )\n",
    "            ax.plot([0, 1], [0, 1], color=\"navy\", lw=2, linestyle=\"--\")\n",
    "            ax.set_xlim([0.0, 1.0])\n",
    "            ax.set_ylim([0.0, 1.0])\n",
    "            ax.set_xlabel(\"False Positive Rate\")\n",
    "            ax.set_ylabel(\"True Positive Rate\")\n",
    "            ax.set_title(\"Receiver Operating Characteristic\")\n",
    "            ax.legend(loc=\"lower right\")\n",
    "            with tempfile.NamedTemporaryFile(prefix=\"roc_curve_\", suffix=\".png\") as f:\n",
    "                plt.tight_layout()\n",
    "                plt.savefig(f.name)\n",
    "                plt.close()\n",
    "                mlflow.log_artifact(f.name)\n",
    "\n",
    "            # Feature Importances\n",
    "            feature_importances = zip(\n",
    "                model.named_steps[\"preprocessor\"].get_feature_names_out(),\n",
    "                model.named_steps[\"classifier\"].feature_importances_,\n",
    "            )\n",
    "            feature_importances_df = (\n",
    "                pd.DataFrame(\n",
    "                    data=feature_importances, columns=[\"feature\", \"importance\"]\n",
    "                )\n",
    "                .sort_values(\"importance\", ascending=False)\n",
    "                .reset_index(drop=True)\n",
    "            )\n",
    "            with tempfile.NamedTemporaryFile(\n",
    "                prefix=\"feature_importance_\", suffix=\".csv\"\n",
    "            ) as f:\n",
    "                feature_importances_df.to_csv(f.name, index=False)\n",
    "                mlflow.log_artifact(f.name)\n",
    "\n",
    "            font_properties = fm.FontProperties(\n",
    "                fname=\"/System/Library/Fonts/ヒラギノ角ゴシック W3.ttc\"\n",
    "            )\n",
    "            sns.set_theme(style=\"whitegrid\")\n",
    "            plt.figure(figsize=(10, 12))\n",
    "            ax = sns.barplot(\n",
    "                x=\"importance\", y=\"feature\", data=feature_importances_df.iloc[:50]\n",
    "            )\n",
    "            ax.set_title(\"Feature Importances (Top 50)\", fontproperties=font_properties)\n",
    "            ax.set_xlabel(\"Importance\", fontproperties=font_properties)\n",
    "            ax.set_ylabel(\"Features\", fontproperties=font_properties)\n",
    "            for label in ax.get_yticklabels():\n",
    "                label.set_fontproperties(font_properties)\n",
    "            with tempfile.NamedTemporaryFile(\n",
    "                prefix=\"feature_importance_\", suffix=\".png\"\n",
    "            ) as f:\n",
    "                plt.tight_layout()\n",
    "                plt.savefig(f.name)\n",
    "                plt.close()\n",
    "                mlflow.log_artifact(f.name)\n",
    "\n",
    "            return {\"status\": STATUS_OK, \"params\": params, \"model\": model, **metrics}\n",
    "\n",
    "    return train"
   ]
  },
  {
   "cell_type": "markdown",
   "metadata": {},
   "source": [
    "## Hyperparameter Optimization"
   ]
  },
  {
   "cell_type": "code",
   "execution_count": 6,
   "metadata": {},
   "outputs": [],
   "source": [
    "space = {\n",
    "    \"boosting_type\": hp.choice(\"boosting_type\", [\"gbdt\", \"dart\", \"goss\"]),\n",
    "    \"learning_rate\": hp.loguniform(\"learning_rate\", -5, 0),  # between e^-5 and 1\n",
    "    \"n_estimators\": scope.int(hp.quniform(\"n_estimators\", 100, 1000, 1)),\n",
    "    \"max_depth\": scope.int(hp.quniform(\"max_depth\", 3, 10, 1)),\n",
    "    \"num_leaves\": scope.int(hp.quniform(\"num_leaves\", 20, 150, 1)),\n",
    "    \"min_child_samples\": scope.int(hp.quniform(\"min_child_samples\", 20, 500, 1)),\n",
    "    \"feature_fraction\": hp.uniform(\"feature_fraction\", 0.5, 1.0),\n",
    "    \"lambda_l1\": hp.uniform(\"lambda_l1\", 0, 5),\n",
    "    \"lambda_l2\": hp.uniform(\"lambda_l2\", 0, 5),\n",
    "    \"min_split_gain\": hp.uniform(\"min_split_gain\", 0, 1),\n",
    "    \"min_child_weight\": hp.uniform(\"min_child_weight\", 0.001, 10),\n",
    "    \"subsample\": hp.uniform(\"subsample\", 0.5, 1),\n",
    "    \"colsample_bytree\": hp.uniform(\"colsample_bytree\", 0.5, 1),\n",
    "    \"reg_alpha\": hp.uniform(\"reg_alpha\", 0.0, 1.0),\n",
    "    \"reg_lambda\": hp.uniform(\"reg_lambda\", 0.0, 1.0),\n",
    "    \"objective\": \"binary\",\n",
    "    \"class_weight\": \"balanced\",\n",
    "    \"verbose\": -1,\n",
    "    \"seed\": 80,\n",
    "}"
   ]
  },
  {
   "cell_type": "markdown",
   "metadata": {},
   "source": [
    "### Turf Model"
   ]
  },
  {
   "cell_type": "code",
   "execution_count": 7,
   "metadata": {},
   "outputs": [],
   "source": [
    "meta_feature_names = Features.get_feature_names_by_tag(\"metadata\")\n",
    "mask_train_turf = X_train[\"トラック種別\"] == \"芝\"\n",
    "mask_test_turf = X_test[\"トラック種別\"] == \"芝\"\n",
    "\n",
    "X_train_turf = X_train[mask_train_turf].drop(meta_feature_names, axis=\"columns\")\n",
    "y_train_turf = y_train[mask_train_turf]\n",
    "X_test_turf = X_test[mask_test_turf].drop(meta_feature_names, axis=\"columns\")\n",
    "y_test_turf = y_test[mask_test_turf]\n",
    "\n",
    "df_payout_columns = [\n",
    "    \"レースキー\",\n",
    "    \"馬番\",\n",
    "    \"距離\",\n",
    "    \"発走日時\",\n",
    "    \"先読み注意_複勝払戻金\",\n",
    "    \"年齢\",\n",
    "    \"レース条件_グレード\",\n",
    "    \"場コード\",\n",
    "]\n",
    "\n",
    "df_payout_turf = (\n",
    "    data.iloc[X_test_turf.index]\n",
    "    .reset_index(drop=True)[df_payout_columns]\n",
    "    .rename(columns={\"先読み注意_複勝払戻金\": \"payout\"})\n",
    ")\n",
    "\n",
    "experiment_name_turf = \"20240211_competitors__turf\"\n",
    "if mlflow.get_experiment_by_name(experiment_name_turf) is None:\n",
    "    mlflow.create_experiment(experiment_name_turf)\n",
    "\n",
    "fn_turf = create_objective_fn(\n",
    "    X_train_turf,\n",
    "    y_train_turf,\n",
    "    X_test_turf,\n",
    "    y_test_turf,\n",
    "    df_payout=df_payout_turf,\n",
    "    experiment_name=experiment_name_turf,\n",
    ")"
   ]
  },
  {
   "cell_type": "code",
   "execution_count": 8,
   "metadata": {},
   "outputs": [
    {
     "name": "stdout",
     "output_type": "stream",
     "text": [
      "  0%|          | 0/60 [00:00<?, ?trial/s, best loss=?]"
     ]
    },
    {
     "name": "stderr",
     "output_type": "stream",
     "text": [
      "build_posterior_wrapper took 0.002353 seconds\n",
      "TPE using 0 trials\n",
      "build_posterior_wrapper took 0.002181 seconds\n",
      "TPE using 1/1 trials with best loss inf\n",
      "build_posterior_wrapper took 0.001765 seconds\n",
      "TPE using 2/2 trials with best loss inf\n",
      "build_posterior_wrapper took 0.001744 seconds\n",
      "TPE using 3/3 trials with best loss inf\n",
      "2024/02/15 08:23:16 WARNING mlflow.models.model: Logging model metadata to the tracking server has failed. The model artifacts have been logged successfully under /Users/hankehly/Projects/JapanHorseRaceAnalytics/mlruns/17/174672fa671040c6a3d21ad6cc0a2987/artifacts. Set logging level to DEBUG via `logging.getLogger(\"mlflow\").setLevel(logging.DEBUG)` to see the full traceback.\n",
      "Closing down clientserver connection                                            \n"
     ]
    },
    {
     "name": "stdout",
     "output_type": "stream",
     "text": [
      "  2%|▏         | 1/60 [03:31<3:27:47, 211.31s/trial, best loss: 0.5197401275715573]"
     ]
    },
    {
     "name": "stderr",
     "output_type": "stream",
     "text": [
      "build_posterior_wrapper took 0.003196 secondse 2:>                  (0 + 1) / 1]\n",
      "TPE using 4/4 trials with best loss 0.519740\n",
      "2024/02/15 08:24:12 WARNING mlflow.models.model: Logging model metadata to the tracking server has failed. The model artifacts have been logged successfully under /Users/hankehly/Projects/JapanHorseRaceAnalytics/mlruns/17/a398ff606eb24976b618ae39b58a1090/artifacts. Set logging level to DEBUG via `logging.getLogger(\"mlflow\").setLevel(logging.DEBUG)` to see the full traceback.\n",
      "Closing down clientserver connection                                            \n"
     ]
    },
    {
     "name": "stdout",
     "output_type": "stream",
     "text": [
      "  3%|▎         | 2/60 [04:26<1:55:41, 119.67s/trial, best loss: 0.5197401275715573]"
     ]
    },
    {
     "name": "stderr",
     "output_type": "stream",
     "text": [
      "build_posterior_wrapper took 0.004140 secondse 4:>                  (0 + 1) / 1]\n",
      "TPE using 5/5 trials with best loss 0.519740\n",
      "2024/02/15 08:25:46 WARNING mlflow.models.model: Logging model metadata to the tracking server has failed. The model artifacts have been logged successfully under /Users/hankehly/Projects/JapanHorseRaceAnalytics/mlruns/17/2349e212783a40edb9b82bc9007310c8/artifacts. Set logging level to DEBUG via `logging.getLogger(\"mlflow\").setLevel(logging.DEBUG)` to see the full traceback.\n",
      "Closing down clientserver connection                                            \n"
     ]
    },
    {
     "name": "stdout",
     "output_type": "stream",
     "text": [
      "  5%|▌         | 3/60 [05:59<1:41:52, 107.24s/trial, best loss: 0.5197401275715573]"
     ]
    },
    {
     "name": "stderr",
     "output_type": "stream",
     "text": [
      "build_posterior_wrapper took 0.004177 seconds\n",
      "TPE using 6/6 trials with best loss 0.519740\n",
      "2024/02/15 08:27:48 WARNING mlflow.models.model: Logging model metadata to the tracking server has failed. The model artifacts have been logged successfully under /Users/hankehly/Projects/JapanHorseRaceAnalytics/mlruns/17/e478786d6ff8431488d525dad131a5cc/artifacts. Set logging level to DEBUG via `logging.getLogger(\"mlflow\").setLevel(logging.DEBUG)` to see the full traceback.\n",
      "2024/02/15 08:27:55 WARNING mlflow.models.model: Logging model metadata to the tracking server has failed. The model artifacts have been logged successfully under /Users/hankehly/Projects/JapanHorseRaceAnalytics/mlruns/17/a6d7e87d1a5946dbad93f6202a058c3d/artifacts. Set logging level to DEBUG via `logging.getLogger(\"mlflow\").setLevel(logging.DEBUG)` to see the full traceback.\n",
      "Closing down clientserver connection                                            \n"
     ]
    },
    {
     "name": "stdout",
     "output_type": "stream",
     "text": [
      "  7%|▋         | 4/60 [08:03<1:46:10, 113.75s/trial, best loss: 0.5197401275715573]"
     ]
    },
    {
     "name": "stderr",
     "output_type": "stream",
     "text": [
      "build_posterior_wrapper took 0.003722 secondse 6:>                  (0 + 1) / 1]\n",
      "TPE using 7/7 trials with best loss 0.519740\n",
      "Closing down clientserver connection                                            \n"
     ]
    },
    {
     "name": "stdout",
     "output_type": "stream",
     "text": [
      "  8%|▊         | 5/60 [08:09<1:08:41, 74.93s/trial, best loss: 0.5197401275715573] "
     ]
    },
    {
     "name": "stderr",
     "output_type": "stream",
     "text": [
      "build_posterior_wrapper took 0.005964 seconds                       (0 + 1) / 1]\n",
      "TPE using 8/8 trials with best loss 0.519740\n",
      "2024/02/15 08:29:05 WARNING mlflow.models.model: Logging model metadata to the tracking server has failed. The model artifacts have been logged successfully under /Users/hankehly/Projects/JapanHorseRaceAnalytics/mlruns/17/63edc268b5eb4625b246deff9d16ee09/artifacts. Set logging level to DEBUG via `logging.getLogger(\"mlflow\").setLevel(logging.DEBUG)` to see the full traceback.\n",
      "Closing down clientserver connection                                            \n"
     ]
    },
    {
     "name": "stdout",
     "output_type": "stream",
     "text": [
      " 10%|█         | 6/60 [09:21<1:06:47, 74.21s/trial, best loss: 0.5197401275715573]"
     ]
    },
    {
     "name": "stderr",
     "output_type": "stream",
     "text": [
      "build_posterior_wrapper took 0.004812 secondse 8:>                  (0 + 1) / 1]\n",
      "TPE using 9/9 trials with best loss 0.519740\n",
      "2024/02/15 08:32:47 WARNING mlflow.models.model: Logging model metadata to the tracking server has failed. The model artifacts have been logged successfully under /Users/hankehly/Projects/JapanHorseRaceAnalytics/mlruns/17/ed292143369946168cd1259684b785b3/artifacts. Set logging level to DEBUG via `logging.getLogger(\"mlflow\").setLevel(logging.DEBUG)` to see the full traceback.\n",
      "Closing down clientserver connection                                            \n"
     ]
    },
    {
     "name": "stdout",
     "output_type": "stream",
     "text": [
      " 12%|█▏        | 7/60 [13:01<1:47:27, 121.64s/trial, best loss: 0.5188928305216467]"
     ]
    },
    {
     "name": "stderr",
     "output_type": "stream",
     "text": [
      "build_posterior_wrapper took 0.004117 secondse 9:>                  (0 + 1) / 1]\n",
      "TPE using 10/10 trials with best loss 0.518893\n",
      "2024/02/15 08:33:17 WARNING mlflow.models.model: Logging model metadata to the tracking server has failed. The model artifacts have been logged successfully under /Users/hankehly/Projects/JapanHorseRaceAnalytics/mlruns/17/7b9b769405de46d88616d4092e18ad10/artifacts. Set logging level to DEBUG via `logging.getLogger(\"mlflow\").setLevel(logging.DEBUG)` to see the full traceback.\n",
      "Closing down clientserver connection                                            \n",
      "[Stage 9:>                  (0 + 1) / 1][Stage 10:>                 (0 + 1) / 1]\r"
     ]
    },
    {
     "name": "stdout",
     "output_type": "stream",
     "text": [
      " 13%|█▎        | 8/60 [13:39<1:22:29, 95.18s/trial, best loss: 0.5188928305216467] "
     ]
    },
    {
     "name": "stderr",
     "output_type": "stream",
     "text": [
      "build_posterior_wrapper took 0.002748 seconds\n",
      "TPE using 11/11 trials with best loss 0.518893\n",
      "2024/02/15 08:33:53 WARNING mlflow.models.model: Logging model metadata to the tracking server has failed. The model artifacts have been logged successfully under /Users/hankehly/Projects/JapanHorseRaceAnalytics/mlruns/17/06f910db18dc46f6bc67ad46df14c719/artifacts. Set logging level to DEBUG via `logging.getLogger(\"mlflow\").setLevel(logging.DEBUG)` to see the full traceback.\n",
      "Closing down clientserver connection                                            \n"
     ]
    },
    {
     "name": "stdout",
     "output_type": "stream",
     "text": [
      " 15%|█▌        | 9/60 [14:18<1:05:46, 77.38s/trial, best loss: 0.5183694038822495]"
     ]
    },
    {
     "name": "stderr",
     "output_type": "stream",
     "text": [
      "build_posterior_wrapper took 0.002781 secondse 11:>                 (0 + 1) / 1]\n",
      "TPE using 12/12 trials with best loss 0.518369\n",
      "2024/02/15 08:36:12 WARNING mlflow.models.model: Logging model metadata to the tracking server has failed. The model artifacts have been logged successfully under /Users/hankehly/Projects/JapanHorseRaceAnalytics/mlruns/17/c75cee0e692c43bf973315a5ba52da39/artifacts. Set logging level to DEBUG via `logging.getLogger(\"mlflow\").setLevel(logging.DEBUG)` to see the full traceback.\n",
      "Closing down clientserver connection                                            \n",
      "[Stage 10:>                 (0 + 1) / 1][Stage 12:>                 (0 + 1) / 1]\r"
     ]
    },
    {
     "name": "stdout",
     "output_type": "stream",
     "text": [
      " 17%|█▋        | 10/60 [16:25<1:17:28, 92.98s/trial, best loss: 0.5183694038822495]"
     ]
    },
    {
     "name": "stderr",
     "output_type": "stream",
     "text": [
      "build_posterior_wrapper took 0.011083 seconds\n",
      "TPE using 13/13 trials with best loss 0.518369\n",
      "2024/02/15 08:36:41 WARNING mlflow.models.model: Logging model metadata to the tracking server has failed. The model artifacts have been logged successfully under /Users/hankehly/Projects/JapanHorseRaceAnalytics/mlruns/17/98dc73435eb3405d8a553fdb8978ebf2/artifacts. Set logging level to DEBUG via `logging.getLogger(\"mlflow\").setLevel(logging.DEBUG)` to see the full traceback.\n",
      "2024/02/15 08:36:42 WARNING mlflow.models.model: Logging model metadata to the tracking server has failed. The model artifacts have been logged successfully under /Users/hankehly/Projects/JapanHorseRaceAnalytics/mlruns/17/bd3d51f55f144c1da8e678ff2a5fe00d/artifacts. Set logging level to DEBUG via `logging.getLogger(\"mlflow\").setLevel(logging.DEBUG)` to see the full traceback.\n",
      "Closing down clientserver connection                                            \n",
      "Closing down clientserver connection\n"
     ]
    },
    {
     "name": "stdout",
     "output_type": "stream",
     "text": [
      " 20%|██        | 12/60 [17:02<46:20, 57.93s/trial, best loss: 0.5183694038822495]  "
     ]
    },
    {
     "name": "stderr",
     "output_type": "stream",
     "text": [
      "build_posterior_wrapper took 0.004244 seconds                       (0 + 1) / 1]\n",
      "TPE using 14/14 trials with best loss 0.518369\n",
      "build_posterior_wrapper took 0.002703 seconds\n",
      "TPE using 15/15 trials with best loss 0.518369\n",
      "2024/02/15 08:42:08 WARNING mlflow.models.model: Logging model metadata to the tracking server has failed. The model artifacts have been logged successfully under /Users/hankehly/Projects/JapanHorseRaceAnalytics/mlruns/17/34b800d36d2c4014961f845e95568d0b/artifacts. Set logging level to DEBUG via `logging.getLogger(\"mlflow\").setLevel(logging.DEBUG)` to see the full traceback.\n",
      "Closing down clientserver connection                                            \n"
     ]
    },
    {
     "name": "stdout",
     "output_type": "stream",
     "text": [
      " 22%|██▏       | 13/60 [22:21<1:36:40, 123.41s/trial, best loss: 0.5183694038822495]"
     ]
    },
    {
     "name": "stderr",
     "output_type": "stream",
     "text": [
      "build_posterior_wrapper took 0.004908 secondse 15:>                 (0 + 1) / 1]\n",
      "TPE using 16/16 trials with best loss 0.518369\n",
      "2024/02/15 08:43:20 WARNING mlflow.models.model: Logging model metadata to the tracking server has failed. The model artifacts have been logged successfully under /Users/hankehly/Projects/JapanHorseRaceAnalytics/mlruns/17/936ffda61cc24e528f4bc6cbe168e631/artifacts. Set logging level to DEBUG via `logging.getLogger(\"mlflow\").setLevel(logging.DEBUG)` to see the full traceback.\n",
      "2024/02/15 08:43:33 WARNING mlflow.models.model: Logging model metadata to the tracking server has failed. The model artifacts have been logged successfully under /Users/hankehly/Projects/JapanHorseRaceAnalytics/mlruns/17/e529fddd7b2a4fe4b368c400f27e8108/artifacts. Set logging level to DEBUG via `logging.getLogger(\"mlflow\").setLevel(logging.DEBUG)` to see the full traceback.\n",
      "Closing down clientserver connection                                            \n"
     ]
    },
    {
     "name": "stdout",
     "output_type": "stream",
     "text": [
      " 23%|██▎       | 14/60 [23:45<1:26:46, 113.17s/trial, best loss: 0.5183694038822495]"
     ]
    },
    {
     "name": "stderr",
     "output_type": "stream",
     "text": [
      "build_posterior_wrapper took 0.003320 secondse 16:>                 (0 + 1) / 1]\n",
      "TPE using 17/17 trials with best loss 0.518369\n",
      "Closing down clientserver connection                                            \n",
      "[Stage 16:>                                                         (0 + 1) / 1]\r"
     ]
    },
    {
     "name": "stdout",
     "output_type": "stream",
     "text": [
      " 25%|██▌       | 15/60 [23:55<1:03:34, 84.77s/trial, best loss: 0.5183694038822495] "
     ]
    },
    {
     "name": "stderr",
     "output_type": "stream",
     "text": [
      "build_posterior_wrapper took 0.002240 seconds\n",
      "TPE using 18/18 trials with best loss 0.518369\n"
     ]
    },
    {
     "name": "stdout",
     "output_type": "stream",
     "text": [
      "[1575.299s][warning][gc,alloc] Thread-110: Retried waiting for GCLocker too often allocating 524290 words\n",
      "[1575.309s][warning][gc,alloc] PostgreSQL-JDBC-Cleaner: Retried waiting for GCLocker too often allocating 388 words\n",
      "[1575.309s][warning][gc,alloc] driver-heartbeater: Retried waiting for GCLocker too often allocating 407 words\n",
      "[1575.309s][warning][gc,alloc] Spark Context Cleaner: Retried waiting for GCLocker too often allocating 386 words\n",
      "[1575.309s][warning][gc,alloc] refresh progress: Retried waiting for GCLocker too often allocating 5532 words\n",
      "[1575.309s][warning][gc,alloc] Common-Cleaner: Retried waiting for GCLocker too often allocating 388 words\n"
     ]
    },
    {
     "name": "stderr",
     "output_type": "stream",
     "text": [
      "24/02/15 08:44:34 ERROR TorrentBroadcast: Store broadcast broadcast_35 fail, remove all pieces of the broadcast\n",
      "trial task 16 failed, exception is An error occurred while calling o28.broadcast.\n",
      ": java.lang.OutOfMemoryError: Java heap space\n",
      "\tat java.base/java.nio.HeapByteBuffer.<init>(HeapByteBuffer.java:71)\n",
      "\tat java.base/java.nio.ByteBuffer.allocate(ByteBuffer.java:373)\n",
      "\tat org.apache.spark.broadcast.TorrentBroadcast$.$anonfun$blockifyObject$1(TorrentBroadcast.scala:360)\n",
      "\tat org.apache.spark.broadcast.TorrentBroadcast$.$anonfun$blockifyObject$1$adapted(TorrentBroadcast.scala:360)\n",
      "\tat org.apache.spark.broadcast.TorrentBroadcast$$$Lambda$2186/0x0000000801cdedb0.apply(Unknown Source)\n",
      "\tat org.apache.spark.util.io.ChunkedByteBufferOutputStream.allocateNewChunkIfNeeded(ChunkedByteBufferOutputStream.scala:87)\n",
      "\tat org.apache.spark.util.io.ChunkedByteBufferOutputStream.write(ChunkedByteBufferOutputStream.scala:75)\n",
      "\tat net.jpountz.lz4.LZ4BlockOutputStream.flushBufferedData(LZ4BlockOutputStream.java:225)\n",
      "\tat net.jpountz.lz4.LZ4BlockOutputStream.write(LZ4BlockOutputStream.java:178)\n",
      "\tat java.base/java.io.ObjectOutputStream$BlockDataOutputStream.drain(ObjectOutputStream.java:1897)\n",
      "\tat java.base/java.io.ObjectOutputStream$BlockDataOutputStream.write(ObjectOutputStream.java:1868)\n",
      "\tat java.base/java.io.ObjectOutputStream.write(ObjectOutputStream.java:723)\n",
      "\tat org.apache.spark.util.Utils$.$anonfun$copyStream$1(Utils.scala:272)\n",
      "\tat org.apache.spark.util.Utils$$$Lambda$2286/0x0000000801d1cd40.apply$mcJ$sp(Unknown Source)\n",
      "\tat scala.runtime.java8.JFunction0$mcJ$sp.apply(JFunction0$mcJ$sp.java:23)\n",
      "\tat org.apache.spark.util.SparkErrorUtils.tryWithSafeFinally(SparkErrorUtils.scala:64)\n",
      "\tat org.apache.spark.util.SparkErrorUtils.tryWithSafeFinally$(SparkErrorUtils.scala:61)\n",
      "\tat org.apache.spark.util.Utils$.tryWithSafeFinally(Utils.scala:94)\n",
      "\tat org.apache.spark.util.Utils$.copyStream(Utils.scala:279)\n",
      "\tat org.apache.spark.api.python.PythonBroadcast.$anonfun$writeObject$1(PythonRDD.scala:772)\n",
      "\tat org.apache.spark.api.python.PythonBroadcast$$Lambda$3461/0x000000080201cb90.apply$mcJ$sp(Unknown Source)\n",
      "\tat scala.runtime.java8.JFunction0$mcJ$sp.apply(JFunction0$mcJ$sp.java:23)\n",
      "\tat org.apache.spark.util.SparkErrorUtils.tryOrIOException(SparkErrorUtils.scala:35)\n",
      "\tat org.apache.spark.util.SparkErrorUtils.tryOrIOException$(SparkErrorUtils.scala:33)\n",
      "\tat org.apache.spark.util.Utils$.tryOrIOException(Utils.scala:94)\n",
      "\tat org.apache.spark.api.python.PythonBroadcast.writeObject(PythonRDD.scala:768)\n",
      "\tat jdk.internal.reflect.GeneratedMethodAccessor58.invoke(Unknown Source)\n",
      "\tat java.base/jdk.internal.reflect.DelegatingMethodAccessorImpl.invoke(DelegatingMethodAccessorImpl.java:52)\n",
      "\tat java.base/java.lang.reflect.Method.invoke(Method.java:578)\n",
      "\tat java.base/java.io.ObjectStreamClass.invokeWriteObject(ObjectStreamClass.java:1071)\n",
      "\tat java.base/java.io.ObjectOutputStream.writeSerialData(ObjectOutputStream.java:1527)\n",
      "\tat java.base/java.io.ObjectOutputStream.writeOrdinaryObject(ObjectOutputStream.java:1449)\n",
      ".\n",
      " None\n",
      "trial task 16 failed, exception is An error occurred while calling o28.broadcast.\n",
      ": java.lang.OutOfMemoryError: Java heap space\n",
      "\tat java.base/java.nio.HeapByteBuffer.<init>(HeapByteBuffer.java:71)\n",
      "\tat java.base/java.nio.ByteBuffer.allocate(ByteBuffer.java:373)\n",
      "\tat org.apache.spark.broadcast.TorrentBroadcast$.$anonfun$blockifyObject$1(TorrentBroadcast.scala:360)\n",
      "\tat org.apache.spark.broadcast.TorrentBroadcast$.$anonfun$blockifyObject$1$adapted(TorrentBroadcast.scala:360)\n",
      "\tat org.apache.spark.broadcast.TorrentBroadcast$$$Lambda$2186/0x0000000801cdedb0.apply(Unknown Source)\n",
      "\tat org.apache.spark.util.io.ChunkedByteBufferOutputStream.allocateNewChunkIfNeeded(ChunkedByteBufferOutputStream.scala:87)\n",
      "\tat org.apache.spark.util.io.ChunkedByteBufferOutputStream.write(ChunkedByteBufferOutputStream.scala:75)\n",
      "\tat net.jpountz.lz4.LZ4BlockOutputStream.flushBufferedData(LZ4BlockOutputStream.java:225)\n",
      "\tat net.jpountz.lz4.LZ4BlockOutputStream.write(LZ4BlockOutputStream.java:178)\n",
      "\tat java.base/java.io.ObjectOutputStream$BlockDataOutputStream.drain(ObjectOutputStream.java:1897)\n",
      "\tat java.base/java.io.ObjectOutputStream$BlockDataOutputStream.write(ObjectOutputStream.java:1868)\n",
      "\tat java.base/java.io.ObjectOutputStream.write(ObjectOutputStream.java:723)\n",
      "\tat org.apache.spark.util.Utils$.$anonfun$copyStream$1(Utils.scala:272)\n",
      "\tat org.apache.spark.util.Utils$$$Lambda$2286/0x0000000801d1cd40.apply$mcJ$sp(Unknown Source)\n",
      "\tat scala.runtime.java8.JFunction0$mcJ$sp.apply(JFunction0$mcJ$sp.java:23)\n",
      "\tat org.apache.spark.util.SparkErrorUtils.tryWithSafeFinally(SparkErrorUtils.scala:64)\n",
      "\tat org.apache.spark.util.SparkErrorUtils.tryWithSafeFinally$(SparkErrorUtils.scala:61)\n",
      "\tat org.apache.spark.util.Utils$.tryWithSafeFinally(Utils.scala:94)\n",
      "\tat org.apache.spark.util.Utils$.copyStream(Utils.scala:279)\n",
      "\tat org.apache.spark.api.python.PythonBroadcast.$anonfun$writeObject$1(PythonRDD.scala:772)\n",
      "\tat org.apache.spark.api.python.PythonBroadcast$$Lambda$3461/0x000000080201cb90.apply$mcJ$sp(Unknown Source)\n",
      "\tat scala.runtime.java8.JFunction0$mcJ$sp.apply(JFunction0$mcJ$sp.java:23)\n",
      "\tat org.apache.spark.util.SparkErrorUtils.tryOrIOException(SparkErrorUtils.scala:35)\n",
      "\tat org.apache.spark.util.SparkErrorUtils.tryOrIOException$(SparkErrorUtils.scala:33)\n",
      "\tat org.apache.spark.util.Utils$.tryOrIOException(Utils.scala:94)\n",
      "\tat org.apache.spark.api.python.PythonBroadcast.writeObject(PythonRDD.scala:768)\n",
      "\tat jdk.internal.reflect.GeneratedMethodAccessor58.invoke(Unknown Source)\n",
      "\tat java.base/jdk.internal.reflect.DelegatingMethodAccessorImpl.invoke(DelegatingMethodAccessorImpl.java:52)\n",
      "\tat java.base/java.lang.reflect.Method.invoke(Method.java:578)\n",
      "\tat java.base/java.io.ObjectStreamClass.invokeWriteObject(ObjectStreamClass.java:1071)\n",
      "\tat java.base/java.io.ObjectOutputStream.writeSerialData(ObjectOutputStream.java:1527)\n",
      "\tat java.base/java.io.ObjectOutputStream.writeOrdinaryObject(ObjectOutputStream.java:1449)\n",
      ".\n",
      " None\n",
      "build_posterior_wrapper took 0.005064 seconds\n",
      "Closing down clientserver connection\n",
      "TPE using 18/18 trials with best loss 0.518369\n",
      "2024/02/15 08:47:22 WARNING mlflow.models.model: Logging model metadata to the tracking server has failed. The model artifacts have been logged successfully under /Users/hankehly/Projects/JapanHorseRaceAnalytics/mlruns/17/87686d57b60b488fb9f8b327e0feece9/artifacts. Set logging level to DEBUG via `logging.getLogger(\"mlflow\").setLevel(logging.DEBUG)` to see the full traceback.\n",
      "Closing down clientserver connection                                            \n",
      "[Stage 16:>                 (0 + 1) / 1][Stage 17:>                 (0 + 1) / 1]\r"
     ]
    },
    {
     "name": "stdout",
     "output_type": "stream",
     "text": [
      " 27%|██▋       | 16/60 [27:34<1:29:56, 122.64s/trial, best loss: 0.5183694038822495]"
     ]
    },
    {
     "name": "stderr",
     "output_type": "stream",
     "text": [
      "build_posterior_wrapper took 0.017454 seconds\n",
      "TPE using 19/19 trials with best loss 0.518369\n",
      "2024/02/15 08:48:24 WARNING mlflow.models.model: Logging model metadata to the tracking server has failed. The model artifacts have been logged successfully under /Users/hankehly/Projects/JapanHorseRaceAnalytics/mlruns/17/98c83f358df84f26904edf6c36a992ec/artifacts. Set logging level to DEBUG via `logging.getLogger(\"mlflow\").setLevel(logging.DEBUG)` to see the full traceback.\n",
      "Closing down clientserver connection                                            \n"
     ]
    },
    {
     "name": "stdout",
     "output_type": "stream",
     "text": [
      " 28%|██▊       | 17/60 [28:40<1:16:11, 106.30s/trial, best loss: 0.5183694038822495]"
     ]
    },
    {
     "name": "stderr",
     "output_type": "stream",
     "text": [
      "build_posterior_wrapper took 0.024571 secondse 19:>                 (0 + 1) / 1]\n",
      "TPE using 20/20 trials with best loss 0.518369\n",
      "2024/02/15 08:50:21 WARNING mlflow.models.model: Logging model metadata to the tracking server has failed. The model artifacts have been logged successfully under /Users/hankehly/Projects/JapanHorseRaceAnalytics/mlruns/17/1778bb77869a4f75b52845bbe5de2950/artifacts. Set logging level to DEBUG via `logging.getLogger(\"mlflow\").setLevel(logging.DEBUG)` to see the full traceback.\n",
      "Closing down clientserver connection                                            \n",
      "[Stage 19:>                 (0 + 1) / 1][Stage 20:>                 (0 + 1) / 1]\r"
     ]
    },
    {
     "name": "stdout",
     "output_type": "stream",
     "text": [
      " 30%|███       | 18/60 [30:36<1:16:22, 109.12s/trial, best loss: 0.5080927322564696]"
     ]
    },
    {
     "name": "stderr",
     "output_type": "stream",
     "text": [
      "build_posterior_wrapper took 0.015557 seconds\n",
      "TPE using 21/21 trials with best loss 0.508093\n",
      "2024/02/15 08:52:21 WARNING mlflow.models.model: Logging model metadata to the tracking server has failed. The model artifacts have been logged successfully under /Users/hankehly/Projects/JapanHorseRaceAnalytics/mlruns/17/b950b2f797dc41bfa26196df0895ee57/artifacts. Set logging level to DEBUG via `logging.getLogger(\"mlflow\").setLevel(logging.DEBUG)` to see the full traceback.\n",
      "Closing down clientserver connection                                            \n"
     ]
    },
    {
     "name": "stdout",
     "output_type": "stream",
     "text": [
      " 32%|███▏      | 19/60 [32:36<1:16:41, 112.22s/trial, best loss: 0.5080927322564696]"
     ]
    },
    {
     "name": "stderr",
     "output_type": "stream",
     "text": [
      "build_posterior_wrapper took 0.021727 secondse 21:>                 (0 + 1) / 1]\n",
      "TPE using 22/22 trials with best loss 0.508093\n",
      "2024/02/15 08:52:58 WARNING mlflow.models.model: Logging model metadata to the tracking server has failed. The model artifacts have been logged successfully under /Users/hankehly/Projects/JapanHorseRaceAnalytics/mlruns/17/0bfba3f154f54f5ea1f7844e59796766/artifacts. Set logging level to DEBUG via `logging.getLogger(\"mlflow\").setLevel(logging.DEBUG)` to see the full traceback.\n",
      "Closing down clientserver connection                                            \n",
      "[Stage 21:>                 (0 + 1) / 1][Stage 22:>                 (0 + 1) / 1]\r"
     ]
    },
    {
     "name": "stdout",
     "output_type": "stream",
     "text": [
      " 33%|███▎      | 20/60 [33:20<1:01:26, 92.16s/trial, best loss: 0.5080927322564696] "
     ]
    },
    {
     "name": "stderr",
     "output_type": "stream",
     "text": [
      "build_posterior_wrapper took 0.007916 seconds\n",
      "TPE using 23/23 trials with best loss 0.508093\n",
      "2024/02/15 09:00:10 WARNING mlflow.models.model: Logging model metadata to the tracking server has failed. The model artifacts have been logged successfully under /Users/hankehly/Projects/JapanHorseRaceAnalytics/mlruns/17/4773012e22cc4e72a4be5dee3d498c9a/artifacts. Set logging level to DEBUG via `logging.getLogger(\"mlflow\").setLevel(logging.DEBUG)` to see the full traceback.\n",
      "Closing down clientserver connection                                            \n"
     ]
    },
    {
     "name": "stdout",
     "output_type": "stream",
     "text": [
      " 35%|███▌      | 21/60 [40:26<2:04:18, 191.24s/trial, best loss: 0.5080927322564696]"
     ]
    },
    {
     "name": "stderr",
     "output_type": "stream",
     "text": [
      "build_posterior_wrapper took 0.015425 secondse 23:>                 (0 + 1) / 1]\n",
      "TPE using 24/24 trials with best loss 0.508093\n",
      "2024/02/15 09:01:11 WARNING mlflow.models.model: Logging model metadata to the tracking server has failed. The model artifacts have been logged successfully under /Users/hankehly/Projects/JapanHorseRaceAnalytics/mlruns/17/01229d02c8fd44f98dd4e4be8207cff3/artifacts. Set logging level to DEBUG via `logging.getLogger(\"mlflow\").setLevel(logging.DEBUG)` to see the full traceback.\n",
      "Closing down clientserver connection                                            \n"
     ]
    },
    {
     "name": "stdout",
     "output_type": "stream",
     "text": [
      " 37%|███▋      | 22/60 [41:27<1:36:37, 152.57s/trial, best loss: 0.5080927322564696]"
     ]
    },
    {
     "name": "stderr",
     "output_type": "stream",
     "text": [
      "build_posterior_wrapper took 0.002663 secondse 24:>                 (0 + 1) / 1]\n",
      "TPE using 25/25 trials with best loss 0.508093\n",
      "2024/02/15 09:04:22 WARNING mlflow.models.model: Logging model metadata to the tracking server has failed. The model artifacts have been logged successfully under /Users/hankehly/Projects/JapanHorseRaceAnalytics/mlruns/17/1b986be23e77448397da7598b1f764e2/artifacts. Set logging level to DEBUG via `logging.getLogger(\"mlflow\").setLevel(logging.DEBUG)` to see the full traceback.\n",
      "Closing down clientserver connection                                            \n"
     ]
    },
    {
     "name": "stdout",
     "output_type": "stream",
     "text": [
      " 38%|███▊      | 23/60 [44:36<1:40:47, 163.45s/trial, best loss: 0.498045426929671] "
     ]
    },
    {
     "name": "stderr",
     "output_type": "stream",
     "text": [
      "build_posterior_wrapper took 0.002479 seconds\n",
      "TPE using 26/26 trials with best loss 0.498045\n",
      "2024/02/15 09:07:40 WARNING mlflow.models.model: Logging model metadata to the tracking server has failed. The model artifacts have been logged successfully under /Users/hankehly/Projects/JapanHorseRaceAnalytics/mlruns/17/6b2530690f994bec98affb1b0743deb4/artifacts. Set logging level to DEBUG via `logging.getLogger(\"mlflow\").setLevel(logging.DEBUG)` to see the full traceback.\n",
      "Closing down clientserver connection                                            \n",
      "[Stage 24:>                 (0 + 1) / 1][Stage 26:>                 (0 + 1) / 1]\r"
     ]
    },
    {
     "name": "stdout",
     "output_type": "stream",
     "text": [
      " 40%|████      | 24/60 [47:54<1:44:11, 173.65s/trial, best loss: 0.498045426929671]"
     ]
    },
    {
     "name": "stderr",
     "output_type": "stream",
     "text": [
      "build_posterior_wrapper took 0.003933 seconds\n",
      "TPE using 27/27 trials with best loss 0.498045\n",
      "2024/02/15 09:09:48 WARNING mlflow.models.model: Logging model metadata to the tracking server has failed. The model artifacts have been logged successfully under /Users/hankehly/Projects/JapanHorseRaceAnalytics/mlruns/17/4f3fcae45ec44d829f7f5065a9a56d5f/artifacts. Set logging level to DEBUG via `logging.getLogger(\"mlflow\").setLevel(logging.DEBUG)` to see the full traceback.\n",
      "Closing down clientserver connection                                            \n"
     ]
    },
    {
     "name": "stdout",
     "output_type": "stream",
     "text": [
      " 42%|████▏     | 25/60 [50:02<1:33:15, 159.87s/trial, best loss: 0.498045426929671]"
     ]
    },
    {
     "name": "stderr",
     "output_type": "stream",
     "text": [
      "build_posterior_wrapper took 0.013046 secondse 27:>                 (0 + 1) / 1]\n",
      "TPE using 28/28 trials with best loss 0.498045\n",
      "2024/02/15 09:13:30 WARNING mlflow.models.model: Logging model metadata to the tracking server has failed. The model artifacts have been logged successfully under /Users/hankehly/Projects/JapanHorseRaceAnalytics/mlruns/17/ba5c9f81e2014d7b818627514e867f83/artifacts. Set logging level to DEBUG via `logging.getLogger(\"mlflow\").setLevel(logging.DEBUG)` to see the full traceback.\n",
      "Closing down clientserver connection                                            \n",
      "[Stage 27:>                 (0 + 1) / 1][Stage 28:>                 (0 + 1) / 1]\r"
     ]
    },
    {
     "name": "stdout",
     "output_type": "stream",
     "text": [
      " 43%|████▎     | 26/60 [53:45<1:41:22, 178.91s/trial, best loss: 0.4898522278130979]"
     ]
    },
    {
     "name": "stderr",
     "output_type": "stream",
     "text": [
      "build_posterior_wrapper took 0.006688 seconds\n",
      "TPE using 29/29 trials with best loss 0.489852\n",
      "2024/02/15 09:19:38 WARNING mlflow.models.model: Logging model metadata to the tracking server has failed. The model artifacts have been logged successfully under /Users/hankehly/Projects/JapanHorseRaceAnalytics/mlruns/17/c7992238d4054977b6271a44cf668523/artifacts. Set logging level to DEBUG via `logging.getLogger(\"mlflow\").setLevel(logging.DEBUG)` to see the full traceback.\n",
      "Closing down clientserver connection                                            \n",
      "[Stage 28:>                 (0 + 1) / 1][Stage 29:>                 (0 + 1) / 1]\r"
     ]
    },
    {
     "name": "stdout",
     "output_type": "stream",
     "text": [
      " 45%|████▌     | 27/60 [59:54<2:09:38, 235.72s/trial, best loss: 0.4898522278130979]"
     ]
    },
    {
     "name": "stderr",
     "output_type": "stream",
     "text": [
      "build_posterior_wrapper took 0.006032 seconds\n",
      "TPE using 30/30 trials with best loss 0.489852\n",
      "2024/02/15 09:20:01 WARNING mlflow.models.model: Logging model metadata to the tracking server has failed. The model artifacts have been logged successfully under /Users/hankehly/Projects/JapanHorseRaceAnalytics/mlruns/17/3373af92b8184f5ca481b840094bcf84/artifacts. Set logging level to DEBUG via `logging.getLogger(\"mlflow\").setLevel(logging.DEBUG)` to see the full traceback.\n",
      "Closing down clientserver connection                                            \n"
     ]
    },
    {
     "name": "stdout",
     "output_type": "stream",
     "text": [
      " 47%|████▋     | 28/60 [1:00:22<1:32:38, 173.70s/trial, best loss: 0.4898522278130979]"
     ]
    },
    {
     "name": "stderr",
     "output_type": "stream",
     "text": [
      "build_posterior_wrapper took 0.004735 seconds\n",
      "TPE using 31/31 trials with best loss 0.489852\n",
      "2024/02/15 09:23:58 WARNING mlflow.models.model: Logging model metadata to the tracking server has failed. The model artifacts have been logged successfully under /Users/hankehly/Projects/JapanHorseRaceAnalytics/mlruns/17/6cd3d235b8e04d4f95ded0d7741f940a/artifacts. Set logging level to DEBUG via `logging.getLogger(\"mlflow\").setLevel(logging.DEBUG)` to see the full traceback.\n",
      "Closing down clientserver connection                                            \n",
      "[Stage 30:>                 (0 + 1) / 1][Stage 31:>                 (0 + 1) / 1]\r"
     ]
    },
    {
     "name": "stdout",
     "output_type": "stream",
     "text": [
      " 48%|████▊     | 29/60 [1:04:14<1:38:38, 190.92s/trial, best loss: 0.4898522278130979]"
     ]
    },
    {
     "name": "stderr",
     "output_type": "stream",
     "text": [
      "build_posterior_wrapper took 0.005528 seconds\n",
      "TPE using 32/32 trials with best loss 0.489852\n",
      "2024/02/15 09:29:30 WARNING mlflow.models.model: Logging model metadata to the tracking server has failed. The model artifacts have been logged successfully under /Users/hankehly/Projects/JapanHorseRaceAnalytics/mlruns/17/8c1c68dccbce4e568e5b2029d055828f/artifacts. Set logging level to DEBUG via `logging.getLogger(\"mlflow\").setLevel(logging.DEBUG)` to see the full traceback.\n",
      "Closing down clientserver connection                                            \n",
      "[Stage 30:>                 (0 + 1) / 1][Stage 32:>                 (0 + 1) / 1]\r"
     ]
    },
    {
     "name": "stdout",
     "output_type": "stream",
     "text": [
      " 50%|█████     | 30/60 [1:09:45<1:56:31, 233.05s/trial, best loss: 0.4775705539803708]"
     ]
    },
    {
     "name": "stderr",
     "output_type": "stream",
     "text": [
      "build_posterior_wrapper took 0.002402 seconds\n",
      "TPE using 33/33 trials with best loss 0.477571\n",
      "2024/02/15 09:34:06 WARNING mlflow.models.model: Logging model metadata to the tracking server has failed. The model artifacts have been logged successfully under /Users/hankehly/Projects/JapanHorseRaceAnalytics/mlruns/17/892121a79cc448d0873a0b5aae928e7b/artifacts. Set logging level to DEBUG via `logging.getLogger(\"mlflow\").setLevel(logging.DEBUG)` to see the full traceback.\n",
      "Closing down clientserver connection                                            \n",
      "[Stage 32:>                 (0 + 1) / 1][Stage 33:>                 (0 + 1) / 1]\r"
     ]
    },
    {
     "name": "stdout",
     "output_type": "stream",
     "text": [
      " 52%|█████▏    | 31/60 [1:14:21<1:58:54, 246.03s/trial, best loss: 0.4775705539803708]"
     ]
    },
    {
     "name": "stderr",
     "output_type": "stream",
     "text": [
      "build_posterior_wrapper took 0.004879 seconds\n",
      "TPE using 34/34 trials with best loss 0.477571\n",
      "2024/02/15 09:37:17 WARNING mlflow.models.model: Logging model metadata to the tracking server has failed. The model artifacts have been logged successfully under /Users/hankehly/Projects/JapanHorseRaceAnalytics/mlruns/17/fae9c90fe41c4610a45eaff40e5c1862/artifacts. Set logging level to DEBUG via `logging.getLogger(\"mlflow\").setLevel(logging.DEBUG)` to see the full traceback.\n",
      "Closing down clientserver connection                                            \n",
      "[Stage 32:>                 (0 + 1) / 1][Stage 34:>                 (0 + 1) / 1]\r"
     ]
    },
    {
     "name": "stdout",
     "output_type": "stream",
     "text": [
      " 53%|█████▎    | 32/60 [1:17:31<1:46:55, 229.13s/trial, best loss: 0.4775705539803708]"
     ]
    },
    {
     "name": "stderr",
     "output_type": "stream",
     "text": [
      "build_posterior_wrapper took 0.002471 seconds\n",
      "TPE using 35/35 trials with best loss 0.477571\n",
      "2024/02/15 09:40:07 WARNING mlflow.models.model: Logging model metadata to the tracking server has failed. The model artifacts have been logged successfully under /Users/hankehly/Projects/JapanHorseRaceAnalytics/mlruns/17/f6f031c5d75d464da0f589949717a692/artifacts. Set logging level to DEBUG via `logging.getLogger(\"mlflow\").setLevel(logging.DEBUG)` to see the full traceback.\n",
      "Closing down clientserver connection                                            \n"
     ]
    },
    {
     "name": "stdout",
     "output_type": "stream",
     "text": [
      " 55%|█████▌    | 33/60 [1:20:24<1:35:28, 212.18s/trial, best loss: 0.4775705539803708]"
     ]
    },
    {
     "name": "stderr",
     "output_type": "stream",
     "text": [
      "build_posterior_wrapper took 0.002770 secondse 35:>                 (0 + 1) / 1]\n",
      "TPE using 36/36 trials with best loss 0.477571\n",
      "2024/02/15 09:42:56 WARNING mlflow.models.model: Logging model metadata to the tracking server has failed. The model artifacts have been logged successfully under /Users/hankehly/Projects/JapanHorseRaceAnalytics/mlruns/17/fa0e6584649c454aaf811a12e1c9cd51/artifacts. Set logging level to DEBUG via `logging.getLogger(\"mlflow\").setLevel(logging.DEBUG)` to see the full traceback.\n",
      "Closing down clientserver connection                                            \n"
     ]
    },
    {
     "name": "stdout",
     "output_type": "stream",
     "text": [
      " 57%|█████▋    | 34/60 [1:23:13<1:26:22, 199.33s/trial, best loss: 0.47036847645210006]"
     ]
    },
    {
     "name": "stderr",
     "output_type": "stream",
     "text": [
      "build_posterior_wrapper took 0.002210 secondse 36:>                 (0 + 1) / 1]\n",
      "TPE using 37/37 trials with best loss 0.470368\n",
      "2024/02/15 09:45:52 WARNING mlflow.models.model: Logging model metadata to the tracking server has failed. The model artifacts have been logged successfully under /Users/hankehly/Projects/JapanHorseRaceAnalytics/mlruns/17/bf9b69780c9140cd9a5d99211fe16456/artifacts. Set logging level to DEBUG via `logging.getLogger(\"mlflow\").setLevel(logging.DEBUG)` to see the full traceback.\n",
      "2024/02/15 09:46:01 WARNING mlflow.models.model: Logging model metadata to the tracking server has failed. The model artifacts have been logged successfully under /Users/hankehly/Projects/JapanHorseRaceAnalytics/mlruns/17/bb73bfb1e5c74e2ea2b9fab200218315/artifacts. Set logging level to DEBUG via `logging.getLogger(\"mlflow\").setLevel(logging.DEBUG)` to see the full traceback.\n",
      "Closing down clientserver connection                                            \n",
      "[Stage 35:>                 (0 + 1) / 1][Stage 37:>                 (0 + 1) / 1]\r"
     ]
    },
    {
     "name": "stdout",
     "output_type": "stream",
     "text": [
      " 58%|█████▊    | 35/60 [1:26:08<1:20:00, 192.02s/trial, best loss: 0.47036847645210006]"
     ]
    },
    {
     "name": "stderr",
     "output_type": "stream",
     "text": [
      "build_posterior_wrapper took 0.002921 seconds\n",
      "TPE using 38/38 trials with best loss 0.470368\n",
      "Closing down clientserver connection                                            \n",
      "[Stage 37:>                                                         (0 + 1) / 1]\r"
     ]
    },
    {
     "name": "stdout",
     "output_type": "stream",
     "text": [
      " 60%|██████    | 36/60 [1:26:18<54:59, 137.48s/trial, best loss: 0.47036847645210006]  "
     ]
    },
    {
     "name": "stderr",
     "output_type": "stream",
     "text": [
      "build_posterior_wrapper took 0.004141 seconds\n",
      "TPE using 39/39 trials with best loss 0.470368\n"
     ]
    },
    {
     "name": "stdout",
     "output_type": "stream",
     "text": [
      "[5332.910s][warning][gc,alloc] RemoteBlock-temp-file-clean-thread: Retried waiting for GCLocker too often allocating 256 words\n"
     ]
    },
    {
     "name": "stderr",
     "output_type": "stream",
     "text": [
      "2024/02/15 09:47:17 WARNING mlflow.models.model: Logging model metadata to the tracking server has failed. The model artifacts have been logged successfully under /Users/hankehly/Projects/JapanHorseRaceAnalytics/mlruns/17/4a731945590e4a3eb5182cd4e642f71b/artifacts. Set logging level to DEBUG via `logging.getLogger(\"mlflow\").setLevel(logging.DEBUG)` to see the full traceback.\n",
      "Closing down clientserver connection                                            \n",
      "[Stage 38:>                 (0 + 1) / 1][Stage 39:>                 (0 + 1) / 1]\r"
     ]
    },
    {
     "name": "stdout",
     "output_type": "stream",
     "text": [
      " 62%|██████▏   | 37/60 [1:27:40<46:19, 120.84s/trial, best loss: 0.47036847645210006]"
     ]
    },
    {
     "name": "stderr",
     "output_type": "stream",
     "text": [
      "build_posterior_wrapper took 0.007052 seconds\n",
      "TPE using 40/40 trials with best loss 0.470368\n",
      "2024/02/15 09:53:13 WARNING mlflow.models.model: Logging model metadata to the tracking server has failed. The model artifacts have been logged successfully under /Users/hankehly/Projects/JapanHorseRaceAnalytics/mlruns/17/a22d70b633574340965079126845c1b4/artifacts. Set logging level to DEBUG via `logging.getLogger(\"mlflow\").setLevel(logging.DEBUG)` to see the full traceback.\n",
      "Closing down clientserver connection                                            \n",
      "[Stage 38:>                 (0 + 1) / 1][Stage 40:>                 (0 + 1) / 1]\r"
     ]
    },
    {
     "name": "stdout",
     "output_type": "stream",
     "text": [
      " 63%|██████▎   | 38/60 [1:33:42<1:10:47, 193.08s/trial, best loss: 0.47036847645210006]"
     ]
    },
    {
     "name": "stderr",
     "output_type": "stream",
     "text": [
      "build_posterior_wrapper took 0.012312 seconds\n",
      "TPE using 41/41 trials with best loss 0.470368\n",
      "2024/02/15 09:54:39 WARNING mlflow.models.model: Logging model metadata to the tracking server has failed. The model artifacts have been logged successfully under /Users/hankehly/Projects/JapanHorseRaceAnalytics/mlruns/17/74e133c1c8f74f2f9c3bbcde3ba3ef83/artifacts. Set logging level to DEBUG via `logging.getLogger(\"mlflow\").setLevel(logging.DEBUG)` to see the full traceback.\n",
      "Closing down clientserver connection                                            \n"
     ]
    },
    {
     "name": "stdout",
     "output_type": "stream",
     "text": [
      " 65%|██████▌   | 39/60 [1:34:55<55:01, 157.20s/trial, best loss: 0.47036847645210006]  "
     ]
    },
    {
     "name": "stderr",
     "output_type": "stream",
     "text": [
      "build_posterior_wrapper took 0.002634 secondse 41:>                 (0 + 1) / 1]\n",
      "TPE using 42/42 trials with best loss 0.470368\n",
      "2024/02/15 09:56:21 WARNING mlflow.models.model: Logging model metadata to the tracking server has failed. The model artifacts have been logged successfully under /Users/hankehly/Projects/JapanHorseRaceAnalytics/mlruns/17/26e29e8587d2484788768b026b905a87/artifacts. Set logging level to DEBUG via `logging.getLogger(\"mlflow\").setLevel(logging.DEBUG)` to see the full traceback.\n",
      "Closing down clientserver connection                                            \n",
      "[Stage 41:>                 (0 + 1) / 1][Stage 42:>                 (0 + 1) / 1]\r"
     ]
    },
    {
     "name": "stdout",
     "output_type": "stream",
     "text": [
      " 67%|██████▋   | 40/60 [1:36:40<47:11, 141.56s/trial, best loss: 0.47036847645210006]"
     ]
    },
    {
     "name": "stderr",
     "output_type": "stream",
     "text": [
      "build_posterior_wrapper took 0.016910 seconds\n",
      "TPE using 43/43 trials with best loss 0.470368\n",
      "2024/02/15 09:59:31 WARNING mlflow.models.model: Logging model metadata to the tracking server has failed. The model artifacts have been logged successfully under /Users/hankehly/Projects/JapanHorseRaceAnalytics/mlruns/17/d1196fc1802347a8af064c7f5b9e78a4/artifacts. Set logging level to DEBUG via `logging.getLogger(\"mlflow\").setLevel(logging.DEBUG)` to see the full traceback.\n",
      "Closing down clientserver connection                                            \n"
     ]
    },
    {
     "name": "stdout",
     "output_type": "stream",
     "text": [
      " 68%|██████▊   | 41/60 [1:39:41<48:33, 153.37s/trial, best loss: 0.47036847645210006]"
     ]
    },
    {
     "name": "stderr",
     "output_type": "stream",
     "text": [
      "build_posterior_wrapper took 0.003718 secondse 42:>                 (0 + 1) / 1]\n",
      "TPE using 44/44 trials with best loss 0.470368\n",
      "2024/02/15 10:00:44 WARNING mlflow.models.model: Logging model metadata to the tracking server has failed. The model artifacts have been logged successfully under /Users/hankehly/Projects/JapanHorseRaceAnalytics/mlruns/17/fc5decc5a58f4228a1f09fed050a2e8e/artifacts. Set logging level to DEBUG via `logging.getLogger(\"mlflow\").setLevel(logging.DEBUG)` to see the full traceback.\n",
      "2024/02/15 10:00:44 WARNING mlflow.models.model: Logging model metadata to the tracking server has failed. The model artifacts have been logged successfully under /Users/hankehly/Projects/JapanHorseRaceAnalytics/mlruns/17/0a22e163e51f4aac8428e2d5859be493/artifacts. Set logging level to DEBUG via `logging.getLogger(\"mlflow\").setLevel(logging.DEBUG)` to see the full traceback.\n",
      "Closing down clientserver connection                                            \n"
     ]
    },
    {
     "name": "stdout",
     "output_type": "stream",
     "text": [
      " 70%|███████   | 42/60 [1:41:02<39:29, 131.65s/trial, best loss: 0.47036847645210006]"
     ]
    },
    {
     "name": "stderr",
     "output_type": "stream",
     "text": [
      "build_posterior_wrapper took 0.006459 seconds\n",
      "TPE using 45/45 trials with best loss 0.470368\n",
      "Closing down clientserver connection                                            \n",
      "[Stage 44:>                                                         (0 + 1) / 1]\r"
     ]
    },
    {
     "name": "stdout",
     "output_type": "stream",
     "text": [
      " 72%|███████▏  | 43/60 [1:41:04<26:14, 92.62s/trial, best loss: 0.47036847645210006] "
     ]
    },
    {
     "name": "stderr",
     "output_type": "stream",
     "text": [
      "build_posterior_wrapper took 0.004231 seconds\n",
      "TPE using 46/46 trials with best loss 0.470368\n",
      "2024/02/15 10:04:50 WARNING mlflow.models.model: Logging model metadata to the tracking server has failed. The model artifacts have been logged successfully under /Users/hankehly/Projects/JapanHorseRaceAnalytics/mlruns/17/4c19a4a26af246acad4f6fe812e8a53e/artifacts. Set logging level to DEBUG via `logging.getLogger(\"mlflow\").setLevel(logging.DEBUG)` to see the full traceback.\n",
      "2024/02/15 10:04:57 WARNING mlflow.models.model: Logging model metadata to the tracking server has failed. The model artifacts have been logged successfully under /Users/hankehly/Projects/JapanHorseRaceAnalytics/mlruns/17/18e68884f3e544dd9e87cf26b58f6f7d/artifacts. Set logging level to DEBUG via `logging.getLogger(\"mlflow\").setLevel(logging.DEBUG)` to see the full traceback.\n",
      "Closing down clientserver connection                                            \n"
     ]
    },
    {
     "name": "stdout",
     "output_type": "stream",
     "text": [
      " 73%|███████▎  | 44/60 [1:45:02<36:20, 136.27s/trial, best loss: 0.47036847645210006]"
     ]
    },
    {
     "name": "stderr",
     "output_type": "stream",
     "text": [
      "build_posterior_wrapper took 0.027913 secondse 46:>                 (0 + 1) / 1]\n",
      "TPE using 47/47 trials with best loss 0.470368\n",
      "Closing down clientserver connection                                            \n",
      "[Stage 44:>                                                         (0 + 1) / 1]\r"
     ]
    },
    {
     "name": "stdout",
     "output_type": "stream",
     "text": [
      " 75%|███████▌  | 45/60 [1:45:09<24:24, 97.61s/trial, best loss: 0.47036847645210006] "
     ]
    },
    {
     "name": "stderr",
     "output_type": "stream",
     "text": [
      "build_posterior_wrapper took 0.002263 seconds\n",
      "TPE using 48/48 trials with best loss 0.470368\n",
      "2024/02/15 10:06:58 WARNING mlflow.models.model: Logging model metadata to the tracking server has failed. The model artifacts have been logged successfully under /Users/hankehly/Projects/JapanHorseRaceAnalytics/mlruns/17/5977081f9d8642658a8b3d893831a151/artifacts. Set logging level to DEBUG via `logging.getLogger(\"mlflow\").setLevel(logging.DEBUG)` to see the full traceback.\n",
      "Closing down clientserver connection                                            \n"
     ]
    },
    {
     "name": "stdout",
     "output_type": "stream",
     "text": [
      " 77%|███████▋  | 46/60 [1:47:15<24:44, 106.03s/trial, best loss: 0.47036847645210006]"
     ]
    },
    {
     "name": "stderr",
     "output_type": "stream",
     "text": [
      "build_posterior_wrapper took 0.005703 secondse 48:>                 (0 + 1) / 1]\n",
      "TPE using 49/49 trials with best loss 0.470368\n",
      "2024/02/15 10:09:50 WARNING mlflow.models.model: Logging model metadata to the tracking server has failed. The model artifacts have been logged successfully under /Users/hankehly/Projects/JapanHorseRaceAnalytics/mlruns/17/b1e56eccd4284523b0a8231503541c9b/artifacts. Set logging level to DEBUG via `logging.getLogger(\"mlflow\").setLevel(logging.DEBUG)` to see the full traceback.\n",
      "Closing down clientserver connection                                            \n"
     ]
    },
    {
     "name": "stdout",
     "output_type": "stream",
     "text": [
      " 78%|███████▊  | 47/60 [1:50:04<27:04, 124.96s/trial, best loss: 0.47036847645210006]"
     ]
    },
    {
     "name": "stderr",
     "output_type": "stream",
     "text": [
      "build_posterior_wrapper took 0.002794 seconds\n",
      "TPE using 50/50 trials with best loss 0.470368\n",
      "2024/02/15 10:12:34 WARNING mlflow.models.model: Logging model metadata to the tracking server has failed. The model artifacts have been logged successfully under /Users/hankehly/Projects/JapanHorseRaceAnalytics/mlruns/17/309f17f911d443a198a3f8350646aca7/artifacts. Set logging level to DEBUG via `logging.getLogger(\"mlflow\").setLevel(logging.DEBUG)` to see the full traceback.\n",
      "2024/02/15 10:12:44 WARNING mlflow.models.model: Logging model metadata to the tracking server has failed. The model artifacts have been logged successfully under /Users/hankehly/Projects/JapanHorseRaceAnalytics/mlruns/17/569cb7e094f04d6ea7384ef815a3dad1/artifacts. Set logging level to DEBUG via `logging.getLogger(\"mlflow\").setLevel(logging.DEBUG)` to see the full traceback.\n",
      "Closing down clientserver connection                                            \n"
     ]
    },
    {
     "name": "stdout",
     "output_type": "stream",
     "text": [
      " 80%|████████  | 48/60 [1:52:44<27:05, 135.50s/trial, best loss: 0.47036847645210006]"
     ]
    },
    {
     "name": "stderr",
     "output_type": "stream",
     "text": [
      "build_posterior_wrapper took 0.003112 secondse 49:>                 (0 + 1) / 1]\n",
      "TPE using 51/51 trials with best loss 0.470368\n",
      "Closing down clientserver connection                                            \n"
     ]
    },
    {
     "name": "stdout",
     "output_type": "stream",
     "text": [
      " 82%|████████▏ | 49/60 [1:52:59<18:13, 99.45s/trial, best loss: 0.47036847645210006] "
     ]
    },
    {
     "name": "stderr",
     "output_type": "stream",
     "text": [
      "build_posterior_wrapper took 0.024423 seconds                       (0 + 1) / 1]\n",
      "TPE using 52/52 trials with best loss 0.470368\n",
      "2024/02/15 10:13:13 WARNING mlflow.models.model: Logging model metadata to the tracking server has failed. The model artifacts have been logged successfully under /Users/hankehly/Projects/JapanHorseRaceAnalytics/mlruns/17/4416dbb6559241ad97d62ef642b61ca5/artifacts. Set logging level to DEBUG via `logging.getLogger(\"mlflow\").setLevel(logging.DEBUG)` to see the full traceback.\n",
      "Closing down clientserver connection                                            \n",
      "[Stage 51:>                                                         (0 + 1) / 1]\r"
     ]
    },
    {
     "name": "stdout",
     "output_type": "stream",
     "text": [
      " 83%|████████▎ | 50/60 [1:53:46<13:55, 83.52s/trial, best loss: 0.47036847645210006]"
     ]
    },
    {
     "name": "stderr",
     "output_type": "stream",
     "text": [
      "build_posterior_wrapper took 0.019218 seconds\n",
      "TPE using 53/53 trials with best loss 0.470368\n",
      "24/02/15 10:14:57 WARN HikariPool: HikariPool-1 - Thread starvation or clock leap detected (housekeeper delta=45s85ms).\n",
      "24/02/15 10:14:57 WARN HikariPool: HikariPool-2 - Thread starvation or clock leap detected (housekeeper delta=45s83ms).\n",
      "2024/02/15 10:15:43 WARNING mlflow.models.model: Logging model metadata to the tracking server has failed. The model artifacts have been logged successfully under /Users/hankehly/Projects/JapanHorseRaceAnalytics/mlruns/17/780d40d3992b4234b123df5a237f243e/artifacts. Set logging level to DEBUG via `logging.getLogger(\"mlflow\").setLevel(logging.DEBUG)` to see the full traceback.\n",
      "Closing down clientserver connection                                            \n",
      "[Stage 52:>                 (0 + 1) / 1][Stage 53:>                 (0 + 1) / 1]\r"
     ]
    },
    {
     "name": "stdout",
     "output_type": "stream",
     "text": [
      " 85%|████████▌ | 51/60 [1:55:59<14:44, 98.30s/trial, best loss: 0.47036847645210006]"
     ]
    },
    {
     "name": "stderr",
     "output_type": "stream",
     "text": [
      "build_posterior_wrapper took 0.010792 seconds\n",
      "TPE using 54/54 trials with best loss 0.470368\n",
      "2024/02/15 10:17:02 WARNING mlflow.models.model: Logging model metadata to the tracking server has failed. The model artifacts have been logged successfully under /Users/hankehly/Projects/JapanHorseRaceAnalytics/mlruns/17/d7fd626d677440a889eaf3f124931f66/artifacts. Set logging level to DEBUG via `logging.getLogger(\"mlflow\").setLevel(logging.DEBUG)` to see the full traceback.\n",
      "Closing down clientserver connection                                            \n",
      "[Stage 53:>                 (0 + 1) / 1][Stage 54:>                 (0 + 1) / 1]\r"
     ]
    },
    {
     "name": "stdout",
     "output_type": "stream",
     "text": [
      " 87%|████████▋ | 52/60 [1:57:24<12:35, 94.38s/trial, best loss: 0.47036847645210006]"
     ]
    },
    {
     "name": "stderr",
     "output_type": "stream",
     "text": [
      "build_posterior_wrapper took 0.006243 seconds\n",
      "TPE using 55/55 trials with best loss 0.470368\n",
      "2024/02/15 10:18:29 WARNING mlflow.models.model: Logging model metadata to the tracking server has failed. The model artifacts have been logged successfully under /Users/hankehly/Projects/JapanHorseRaceAnalytics/mlruns/17/759d53be476a4ba3b59d15cedc276e42/artifacts. Set logging level to DEBUG via `logging.getLogger(\"mlflow\").setLevel(logging.DEBUG)` to see the full traceback.\n",
      "Closing down clientserver connection                                            \n",
      "[Stage 54:>                 (0 + 1) / 1][Stage 55:>                 (0 + 1) / 1]\r"
     ]
    },
    {
     "name": "stdout",
     "output_type": "stream",
     "text": [
      " 88%|████████▊ | 53/60 [1:58:44<10:31, 90.24s/trial, best loss: 0.47036847645210006]"
     ]
    },
    {
     "name": "stderr",
     "output_type": "stream",
     "text": [
      "build_posterior_wrapper took 0.019043 seconds\n",
      "TPE using 56/56 trials with best loss 0.470368\n",
      "2024/02/15 10:21:19 WARNING mlflow.models.model: Logging model metadata to the tracking server has failed. The model artifacts have been logged successfully under /Users/hankehly/Projects/JapanHorseRaceAnalytics/mlruns/17/d2a29506c4594686b034f2fb699cd0a8/artifacts. Set logging level to DEBUG via `logging.getLogger(\"mlflow\").setLevel(logging.DEBUG)` to see the full traceback.\n",
      "Closing down clientserver connection                                            \n"
     ]
    },
    {
     "name": "stdout",
     "output_type": "stream",
     "text": [
      " 90%|█████████ | 54/60 [2:01:34<11:24, 114.06s/trial, best loss: 0.47036847645210006]"
     ]
    },
    {
     "name": "stderr",
     "output_type": "stream",
     "text": [
      "build_posterior_wrapper took 0.002289 secondse 56:>                 (0 + 1) / 1]\n",
      "TPE using 57/57 trials with best loss 0.470368\n",
      "2024/02/15 10:22:37 WARNING mlflow.models.model: Logging model metadata to the tracking server has failed. The model artifacts have been logged successfully under /Users/hankehly/Projects/JapanHorseRaceAnalytics/mlruns/17/0cf010dd2bde4c268e860f62b1d17e9e/artifacts. Set logging level to DEBUG via `logging.getLogger(\"mlflow\").setLevel(logging.DEBUG)` to see the full traceback.\n",
      "Closing down clientserver connection                                            \n"
     ]
    },
    {
     "name": "stdout",
     "output_type": "stream",
     "text": [
      " 92%|█████████▏| 55/60 [2:02:54<08:39, 103.81s/trial, best loss: 0.47036847645210006]"
     ]
    },
    {
     "name": "stderr",
     "output_type": "stream",
     "text": [
      "build_posterior_wrapper took 0.002737 secondse 57:>                 (0 + 1) / 1]\n",
      "TPE using 58/58 trials with best loss 0.470368\n",
      "2024/02/15 10:25:29 WARNING mlflow.models.model: Logging model metadata to the tracking server has failed. The model artifacts have been logged successfully under /Users/hankehly/Projects/JapanHorseRaceAnalytics/mlruns/17/2cbd7a509b0c47a287b5f70c8209aafd/artifacts. Set logging level to DEBUG via `logging.getLogger(\"mlflow\").setLevel(logging.DEBUG)` to see the full traceback.\n",
      "Closing down clientserver connection                                            \n",
      "[Stage 56:>                 (0 + 1) / 1][Stage 58:>                 (0 + 1) / 1]\r"
     ]
    },
    {
     "name": "stdout",
     "output_type": "stream",
     "text": [
      " 93%|█████████▎| 56/60 [2:05:43<08:14, 123.52s/trial, best loss: 0.47036847645210006]"
     ]
    },
    {
     "name": "stderr",
     "output_type": "stream",
     "text": [
      "2024/02/15 10:27:32 WARNING mlflow.models.model: Logging model metadata to the tracking server has failed. The model artifacts have been logged successfully under /Users/hankehly/Projects/JapanHorseRaceAnalytics/mlruns/17/c2640622470649a2bf1dae9bb686fb84/artifacts. Set logging level to DEBUG via `logging.getLogger(\"mlflow\").setLevel(logging.DEBUG)` to see the full traceback.\n",
      "2024/02/15 10:27:35 WARNING mlflow.models.model: Logging model metadata to the tracking server has failed. The model artifacts have been logged successfully under /Users/hankehly/Projects/JapanHorseRaceAnalytics/mlruns/17/ead883ff95f94a71bd306d5286f7d756/artifacts. Set logging level to DEBUG via `logging.getLogger(\"mlflow\").setLevel(logging.DEBUG)` to see the full traceback.\n",
      "Closing down clientserver connection                                            \n"
     ]
    },
    {
     "name": "stdout",
     "output_type": "stream",
     "text": [
      " 95%|█████████▌| 57/60 [2:07:45<06:08, 122.79s/trial, best loss: 0.47036847645210006]"
     ]
    },
    {
     "name": "stderr",
     "output_type": "stream",
     "text": [
      "Closing down clientserver connection                                            \n"
     ]
    },
    {
     "name": "stdout",
     "output_type": "stream",
     "text": [
      " 97%|█████████▋| 58/60 [2:07:47<02:53, 86.56s/trial, best loss: 0.47036847645210006] "
     ]
    },
    {
     "name": "stderr",
     "output_type": "stream",
     "text": [
      "2024/02/15 10:28:16 WARNING mlflow.models.model: Logging model metadata to the tracking server has failed. The model artifacts have been logged successfully under /Users/hankehly/Projects/JapanHorseRaceAnalytics/mlruns/17/02355db18327461b9f72b34135ebdc81/artifacts. Set logging level to DEBUG via `logging.getLogger(\"mlflow\").setLevel(logging.DEBUG)` to see the full traceback.\n",
      "Closing down clientserver connection                                            \n"
     ]
    },
    {
     "name": "stdout",
     "output_type": "stream",
     "text": [
      " 98%|█████████▊| 59/60 [2:08:26<02:10, 130.62s/trial, best loss: 0.47036847645210006]"
     ]
    },
    {
     "name": "stderr",
     "output_type": "stream",
     "text": [
      "Queue empty, exiting run.\n",
      "Closing down clientserver connection\n",
      "Total Trials: 60: 59 succeeded, 1 failed, 0 cancelled.\n"
     ]
    },
    {
     "name": "stdout",
     "output_type": "stream",
     "text": [
      "\n"
     ]
    },
    {
     "name": "stderr",
     "output_type": "stream",
     "text": [
      "Total Trials: 60: 59 succeeded, 1 failed, 0 cancelled.\n"
     ]
    },
    {
     "data": {
      "text/plain": [
       "{'boosting_type': 0,\n",
       " 'colsample_bytree': 0.9480736601486514,\n",
       " 'feature_fraction': 0.9412315757597349,\n",
       " 'lambda_l1': 2.20456622078147,\n",
       " 'lambda_l2': 4.933460303922979,\n",
       " 'learning_rate': 0.09718115779176308,\n",
       " 'max_depth': 10.0,\n",
       " 'min_child_samples': 33.0,\n",
       " 'min_child_weight': 6.260291002769891,\n",
       " 'min_split_gain': 0.09603499236876085,\n",
       " 'n_estimators': 766.0,\n",
       " 'num_leaves': 139.0,\n",
       " 'reg_alpha': 0.9992796927571433,\n",
       " 'reg_lambda': 0.926255887431294,\n",
       " 'subsample': 0.8079044658652886}"
      ]
     },
     "execution_count": 8,
     "metadata": {},
     "output_type": "execute_result"
    }
   ],
   "source": [
    "trials_turf = SparkTrials(parallelism=3, spark_session=spark)\n",
    "fmin(fn=fn_turf, space=space, algo=tpe.suggest, max_evals=60, trials=trials_turf)"
   ]
  },
  {
   "cell_type": "markdown",
   "metadata": {},
   "source": [
    "### Dirt Model"
   ]
  },
  {
   "cell_type": "code",
   "execution_count": 8,
   "metadata": {},
   "outputs": [],
   "source": [
    "meta_feature_names = Features.get_feature_names_by_tag(\"metadata\")\n",
    "mask_train_dirt = X_train[\"トラック種別\"] == \"ダート\"\n",
    "mask_test_dirt = X_test[\"トラック種別\"] == \"ダート\"\n",
    "\n",
    "X_train_dirt = X_train[mask_train_dirt].drop(meta_feature_names, axis=\"columns\")\n",
    "y_train_dirt = y_train[mask_train_dirt]\n",
    "X_test_dirt = X_test[mask_test_dirt].drop(meta_feature_names, axis=\"columns\")\n",
    "y_test_dirt = y_test[mask_test_dirt]\n",
    "\n",
    "df_payout_columns = [\n",
    "    \"レースキー\",\n",
    "    \"馬番\",\n",
    "    \"距離\",\n",
    "    \"発走日時\",\n",
    "    \"先読み注意_複勝払戻金\",\n",
    "    \"年齢\",\n",
    "    \"レース条件_グレード\",\n",
    "    \"場コード\",\n",
    "]\n",
    "\n",
    "df_payout_dirt = (\n",
    "    data.iloc[X_test_dirt.index]\n",
    "    .reset_index(drop=True)[df_payout_columns]\n",
    "    .rename(columns={\"先読み注意_複勝払戻金\": \"payout\"})\n",
    ")\n",
    "\n",
    "experiment_name_dirt = \"20240211_competitors__dirt\"\n",
    "if mlflow.get_experiment_by_name(experiment_name_dirt) is None:\n",
    "    mlflow.create_experiment(experiment_name_dirt)\n",
    "\n",
    "fn_dirt = create_objective_fn(\n",
    "    X_train_dirt,\n",
    "    y_train_dirt,\n",
    "    X_test_dirt,\n",
    "    y_test_dirt,\n",
    "    df_payout=df_payout_dirt,\n",
    "    experiment_name=experiment_name_dirt,\n",
    ")"
   ]
  },
  {
   "cell_type": "code",
   "execution_count": 9,
   "metadata": {},
   "outputs": [
    {
     "name": "stdout",
     "output_type": "stream",
     "text": [
      "  0%|          | 0/60 [00:00<?, ?trial/s, best loss=?]"
     ]
    },
    {
     "name": "stderr",
     "output_type": "stream",
     "text": [
      "build_posterior_wrapper took 0.002523 seconds\n",
      "TPE using 0 trials\n",
      "build_posterior_wrapper took 0.001818 seconds\n",
      "TPE using 1/1 trials with best loss inf\n",
      "build_posterior_wrapper took 0.001757 seconds\n",
      "TPE using 2/2 trials with best loss inf\n",
      "build_posterior_wrapper took 0.003249 seconds\n",
      "TPE using 3/3 trials with best loss inf\n",
      "2024/02/15 10:50:55 WARNING mlflow.models.model: Logging model metadata to the tracking server has failed. The model artifacts have been logged successfully under /Users/hankehly/Projects/JapanHorseRaceAnalytics/mlruns/20/4a8300d55bc2463d9fbd1e1917d9bfac/artifacts. Set logging level to DEBUG via `logging.getLogger(\"mlflow\").setLevel(logging.DEBUG)` to see the full traceback.\n",
      "Closing down clientserver connection                                            \n"
     ]
    },
    {
     "name": "stdout",
     "output_type": "stream",
     "text": [
      "  2%|▏         | 1/60 [03:16<3:13:10, 196.45s/trial, best loss: 0.5176572017074095]"
     ]
    },
    {
     "name": "stderr",
     "output_type": "stream",
     "text": [
      "build_posterior_wrapper took 0.004090 secondse 2:>                  (0 + 1) / 1]\n",
      "TPE using 4/4 trials with best loss 0.517657\n",
      "2024/02/15 10:53:29 WARNING mlflow.models.model: Logging model metadata to the tracking server has failed. The model artifacts have been logged successfully under /Users/hankehly/Projects/JapanHorseRaceAnalytics/mlruns/20/f75e6ab2289446a4bae18585c5899c0a/artifacts. Set logging level to DEBUG via `logging.getLogger(\"mlflow\").setLevel(logging.DEBUG)` to see the full traceback.\n",
      "2024/02/15 10:53:37 WARNING mlflow.models.model: Logging model metadata to the tracking server has failed. The model artifacts have been logged successfully under /Users/hankehly/Projects/JapanHorseRaceAnalytics/mlruns/20/d815c387c56648e78e0ac4f16ea066cc/artifacts. Set logging level to DEBUG via `logging.getLogger(\"mlflow\").setLevel(logging.DEBUG)` to see the full traceback.\n",
      "Closing down clientserver connection                                            \n"
     ]
    },
    {
     "name": "stdout",
     "output_type": "stream",
     "text": [
      "  3%|▎         | 2/60 [05:51<2:46:21, 172.09s/trial, best loss: 0.5101523097557341]"
     ]
    },
    {
     "name": "stderr",
     "output_type": "stream",
     "text": [
      "build_posterior_wrapper took 0.001960 secondse 3:>                  (0 + 1) / 1]\n",
      "TPE using 5/5 trials with best loss 0.510152\n",
      "Closing down clientserver connection                                            \n",
      "[Stage 3:>                                                          (0 + 1) / 1]\r"
     ]
    },
    {
     "name": "stdout",
     "output_type": "stream",
     "text": [
      "  5%|▌         | 3/60 [05:59<1:32:21, 97.22s/trial, best loss: 0.48220890760042284]"
     ]
    },
    {
     "name": "stderr",
     "output_type": "stream",
     "text": [
      "build_posterior_wrapper took 0.001718 seconds\n",
      "TPE using 6/6 trials with best loss 0.482209\n",
      "2024/02/15 10:56:44 WARNING mlflow.models.model: Logging model metadata to the tracking server has failed. The model artifacts have been logged successfully under /Users/hankehly/Projects/JapanHorseRaceAnalytics/mlruns/20/826b6af9ff77450eb6945a52f1041538/artifacts. Set logging level to DEBUG via `logging.getLogger(\"mlflow\").setLevel(logging.DEBUG)` to see the full traceback.\n",
      "Closing down clientserver connection                                            \n"
     ]
    },
    {
     "name": "stdout",
     "output_type": "stream",
     "text": [
      "  7%|▋         | 4/60 [09:06<2:03:56, 132.79s/trial, best loss: 0.48220890760042284]"
     ]
    },
    {
     "name": "stderr",
     "output_type": "stream",
     "text": [
      "build_posterior_wrapper took 0.006712 secondse 5:>                  (0 + 1) / 1]\n",
      "TPE using 7/7 trials with best loss 0.482209\n",
      "2024/02/15 10:58:58 WARNING mlflow.models.model: Logging model metadata to the tracking server has failed. The model artifacts have been logged successfully under /Users/hankehly/Projects/JapanHorseRaceAnalytics/mlruns/20/dd689c4c03bd449e8b30d59105f419e5/artifacts. Set logging level to DEBUG via `logging.getLogger(\"mlflow\").setLevel(logging.DEBUG)` to see the full traceback.\n",
      "Closing down clientserver connection                                            \n"
     ]
    },
    {
     "name": "stdout",
     "output_type": "stream",
     "text": [
      "  8%|▊         | 5/60 [11:20<2:01:55, 133.02s/trial, best loss: 0.48220890760042284]"
     ]
    },
    {
     "name": "stderr",
     "output_type": "stream",
     "text": [
      "build_posterior_wrapper took 0.003197 secondse 6:>                  (0 + 1) / 1]\n",
      "TPE using 8/8 trials with best loss 0.482209\n",
      "2024/02/15 10:59:42 WARNING mlflow.models.model: Logging model metadata to the tracking server has failed. The model artifacts have been logged successfully under /Users/hankehly/Projects/JapanHorseRaceAnalytics/mlruns/20/903a6e0252f64a85a9a2426d03dc96d8/artifacts. Set logging level to DEBUG via `logging.getLogger(\"mlflow\").setLevel(logging.DEBUG)` to see the full traceback.\n",
      "Closing down clientserver connection                                            \n",
      "[Stage 5:>                  (0 + 1) / 1][Stage 7:>                  (0 + 1) / 1]\r"
     ]
    },
    {
     "name": "stdout",
     "output_type": "stream",
     "text": [
      " 10%|█         | 6/60 [12:04<1:32:39, 102.95s/trial, best loss: 0.48220890760042284]"
     ]
    },
    {
     "name": "stderr",
     "output_type": "stream",
     "text": [
      "build_posterior_wrapper took 0.004526 seconds\n",
      "TPE using 9/9 trials with best loss 0.482209\n",
      "2024/02/15 11:02:57 WARNING mlflow.models.model: Logging model metadata to the tracking server has failed. The model artifacts have been logged successfully under /Users/hankehly/Projects/JapanHorseRaceAnalytics/mlruns/20/c95f5175f7db4b309155f008b772e3a0/artifacts. Set logging level to DEBUG via `logging.getLogger(\"mlflow\").setLevel(logging.DEBUG)` to see the full traceback.\n",
      "Closing down clientserver connection                                            \n"
     ]
    },
    {
     "name": "stdout",
     "output_type": "stream",
     "text": [
      " 12%|█▏        | 7/60 [15:18<1:57:08, 132.61s/trial, best loss: 0.48220890760042284]"
     ]
    },
    {
     "name": "stderr",
     "output_type": "stream",
     "text": [
      "build_posterior_wrapper took 0.002249 seconds\n",
      "TPE using 10/10 trials with best loss 0.482209\n",
      "2024/02/15 11:03:58 WARNING mlflow.models.model: Logging model metadata to the tracking server has failed. The model artifacts have been logged successfully under /Users/hankehly/Projects/JapanHorseRaceAnalytics/mlruns/20/c1606135495849baa085e3c8618af15f/artifacts. Set logging level to DEBUG via `logging.getLogger(\"mlflow\").setLevel(logging.DEBUG)` to see the full traceback.\n",
      "2024/02/15 11:04:06 WARNING mlflow.models.model: Logging model metadata to the tracking server has failed. The model artifacts have been logged successfully under /Users/hankehly/Projects/JapanHorseRaceAnalytics/mlruns/20/0948f09d0cb842728294145eb2c502cb/artifacts. Set logging level to DEBUG via `logging.getLogger(\"mlflow\").setLevel(logging.DEBUG)` to see the full traceback.\n",
      "Closing down clientserver connection                                            \n"
     ]
    },
    {
     "name": "stdout",
     "output_type": "stream",
     "text": [
      " 13%|█▎        | 8/60 [16:19<1:35:04, 109.71s/trial, best loss: 0.48220890760042284]"
     ]
    },
    {
     "name": "stderr",
     "output_type": "stream",
     "text": [
      "build_posterior_wrapper took 0.006647 secondse 9:>                  (0 + 1) / 1]\n",
      "TPE using 11/11 trials with best loss 0.482209\n",
      "Closing down clientserver connection                                            \n"
     ]
    },
    {
     "name": "stdout",
     "output_type": "stream",
     "text": [
      " 15%|█▌        | 9/60 [16:34<1:08:08, 80.17s/trial, best loss: 0.48102010779748755] "
     ]
    },
    {
     "name": "stderr",
     "output_type": "stream",
     "text": [
      "build_posterior_wrapper took 0.002780 seconds                       (0 + 1) / 1]\n",
      "TPE using 12/12 trials with best loss 0.481020\n",
      "2024/02/15 11:07:52 WARNING mlflow.models.model: Logging model metadata to the tracking server has failed. The model artifacts have been logged successfully under /Users/hankehly/Projects/JapanHorseRaceAnalytics/mlruns/20/69106784803b4cdebdde8ee3c151f026/artifacts. Set logging level to DEBUG via `logging.getLogger(\"mlflow\").setLevel(logging.DEBUG)` to see the full traceback.\n",
      "Closing down clientserver connection                                            \n"
     ]
    },
    {
     "name": "stdout",
     "output_type": "stream",
     "text": [
      " 17%|█▋        | 10/60 [20:11<1:41:56, 122.34s/trial, best loss: 0.48102010779748755]"
     ]
    },
    {
     "name": "stderr",
     "output_type": "stream",
     "text": [
      "build_posterior_wrapper took 0.003526 secondse 10:>                 (0 + 1) / 1]\n",
      "TPE using 13/13 trials with best loss 0.481020\n",
      "2024/02/15 11:08:49 WARNING mlflow.models.model: Logging model metadata to the tracking server has failed. The model artifacts have been logged successfully under /Users/hankehly/Projects/JapanHorseRaceAnalytics/mlruns/20/e2d4fa1a0b9f49859a55a84022be0556/artifacts. Set logging level to DEBUG via `logging.getLogger(\"mlflow\").setLevel(logging.DEBUG)` to see the full traceback.\n",
      "Closing down clientserver connection                                            \n"
     ]
    },
    {
     "name": "stdout",
     "output_type": "stream",
     "text": [
      " 18%|█▊        | 11/60 [21:15<1:25:16, 104.41s/trial, best loss: 0.48102010779748755]"
     ]
    },
    {
     "name": "stderr",
     "output_type": "stream",
     "text": [
      "build_posterior_wrapper took 0.003981 secondse 12:>                 (0 + 1) / 1]\n",
      "TPE using 14/14 trials with best loss 0.481020\n",
      "2024/02/15 11:09:24 WARNING mlflow.models.model: Logging model metadata to the tracking server has failed. The model artifacts have been logged successfully under /Users/hankehly/Projects/JapanHorseRaceAnalytics/mlruns/20/e412bca72a7a411ca6184f851c5ab7c1/artifacts. Set logging level to DEBUG via `logging.getLogger(\"mlflow\").setLevel(logging.DEBUG)` to see the full traceback.\n",
      "Closing down clientserver connection                                            \n",
      "[Stage 12:>                                                         (0 + 1) / 1]\r"
     ]
    },
    {
     "name": "stdout",
     "output_type": "stream",
     "text": [
      " 20%|██        | 12/60 [21:55<1:08:03, 85.08s/trial, best loss: 0.48102010779748755] "
     ]
    },
    {
     "name": "stderr",
     "output_type": "stream",
     "text": [
      "build_posterior_wrapper took 0.002713 seconds\n",
      "TPE using 15/15 trials with best loss 0.481020\n",
      "2024/02/15 11:12:02 WARNING mlflow.models.model: Logging model metadata to the tracking server has failed. The model artifacts have been logged successfully under /Users/hankehly/Projects/JapanHorseRaceAnalytics/mlruns/20/0053b3588cac48b69732a880ecd0c22f/artifacts. Set logging level to DEBUG via `logging.getLogger(\"mlflow\").setLevel(logging.DEBUG)` to see the full traceback.\n",
      "Closing down clientserver connection                                            \n"
     ]
    },
    {
     "name": "stdout",
     "output_type": "stream",
     "text": [
      " 22%|██▏       | 13/60 [24:24<1:21:42, 104.30s/trial, best loss: 0.48102010779748755]"
     ]
    },
    {
     "name": "stderr",
     "output_type": "stream",
     "text": [
      "build_posterior_wrapper took 0.029408 secondse 14:>                 (0 + 1) / 1]\n",
      "TPE using 16/16 trials with best loss 0.481020\n",
      "2024/02/15 11:14:41 WARNING mlflow.models.model: Logging model metadata to the tracking server has failed. The model artifacts have been logged successfully under /Users/hankehly/Projects/JapanHorseRaceAnalytics/mlruns/20/58b2ed7e00394503a05636e86c1d8766/artifacts. Set logging level to DEBUG via `logging.getLogger(\"mlflow\").setLevel(logging.DEBUG)` to see the full traceback.\n",
      "Closing down clientserver connection                                            \n"
     ]
    },
    {
     "name": "stdout",
     "output_type": "stream",
     "text": [
      " 23%|██▎       | 14/60 [26:59<1:31:38, 119.53s/trial, best loss: 0.48102010779748755]"
     ]
    },
    {
     "name": "stderr",
     "output_type": "stream",
     "text": [
      "build_posterior_wrapper took 0.004512 seconds\n",
      "TPE using 17/17 trials with best loss 0.481020\n",
      "2024/02/15 11:16:09 WARNING mlflow.models.model: Logging model metadata to the tracking server has failed. The model artifacts have been logged successfully under /Users/hankehly/Projects/JapanHorseRaceAnalytics/mlruns/20/557732742f6a434281f96d641879fff0/artifacts. Set logging level to DEBUG via `logging.getLogger(\"mlflow\").setLevel(logging.DEBUG)` to see the full traceback.\n",
      "Closing down clientserver connection                                            \n"
     ]
    },
    {
     "name": "stdout",
     "output_type": "stream",
     "text": [
      " 25%|██▌       | 15/60 [28:33<1:23:51, 111.81s/trial, best loss: 0.48102010779748755]"
     ]
    },
    {
     "name": "stderr",
     "output_type": "stream",
     "text": [
      "build_posterior_wrapper took 0.002956 secondse 16:>                 (0 + 1) / 1]\n",
      "TPE using 18/18 trials with best loss 0.481020\n",
      "2024/02/15 11:19:44 WARNING mlflow.models.model: Logging model metadata to the tracking server has failed. The model artifacts have been logged successfully under /Users/hankehly/Projects/JapanHorseRaceAnalytics/mlruns/20/52de103cb65c4187a1196f27d17d1769/artifacts. Set logging level to DEBUG via `logging.getLogger(\"mlflow\").setLevel(logging.DEBUG)` to see the full traceback.\n",
      "2024/02/15 11:19:52 WARNING mlflow.models.model: Logging model metadata to the tracking server has failed. The model artifacts have been logged successfully under /Users/hankehly/Projects/JapanHorseRaceAnalytics/mlruns/20/f739865063714a8bb2af8b3d9193289d/artifacts. Set logging level to DEBUG via `logging.getLogger(\"mlflow\").setLevel(logging.DEBUG)` to see the full traceback.\n",
      "Closing down clientserver connection                                            \n"
     ]
    },
    {
     "name": "stdout",
     "output_type": "stream",
     "text": [
      " 27%|██▋       | 16/60 [32:05<1:44:16, 142.18s/trial, best loss: 0.48102010779748755]"
     ]
    },
    {
     "name": "stderr",
     "output_type": "stream",
     "text": [
      "build_posterior_wrapper took 0.004895 secondse 17:>                 (0 + 1) / 1]\n",
      "TPE using 19/19 trials with best loss 0.481020\n",
      "Closing down clientserver connection                                            \n",
      "[Stage 16:>                                                         (0 + 1) / 1]\r"
     ]
    },
    {
     "name": "stdout",
     "output_type": "stream",
     "text": [
      " 28%|██▊       | 17/60 [32:12<1:12:37, 101.33s/trial, best loss: 0.48102010779748755]"
     ]
    },
    {
     "name": "stderr",
     "output_type": "stream",
     "text": [
      "build_posterior_wrapper took 0.006215 seconds\n",
      "TPE using 20/20 trials with best loss 0.481020\n",
      "2024/02/15 11:23:00 WARNING mlflow.models.model: Logging model metadata to the tracking server has failed. The model artifacts have been logged successfully under /Users/hankehly/Projects/JapanHorseRaceAnalytics/mlruns/20/e2ae57739297458597d4fb67698a68fc/artifacts. Set logging level to DEBUG via `logging.getLogger(\"mlflow\").setLevel(logging.DEBUG)` to see the full traceback.\n",
      "Closing down clientserver connection                                            \n"
     ]
    },
    {
     "name": "stdout",
     "output_type": "stream",
     "text": [
      " 30%|███       | 18/60 [35:21<1:29:21, 127.65s/trial, best loss: 0.48102010779748755]"
     ]
    },
    {
     "name": "stderr",
     "output_type": "stream",
     "text": [
      "build_posterior_wrapper took 0.012403 seconds\n",
      "TPE using 21/21 trials with best loss 0.481020\n",
      "2024/02/15 11:24:18 WARNING mlflow.models.model: Logging model metadata to the tracking server has failed. The model artifacts have been logged successfully under /Users/hankehly/Projects/JapanHorseRaceAnalytics/mlruns/20/4506dd8c869d4feba55933e0de0d4427/artifacts. Set logging level to DEBUG via `logging.getLogger(\"mlflow\").setLevel(logging.DEBUG)` to see the full traceback.\n",
      "2024/02/15 11:24:19 WARNING mlflow.models.model: Logging model metadata to the tracking server has failed. The model artifacts have been logged successfully under /Users/hankehly/Projects/JapanHorseRaceAnalytics/mlruns/20/d8897534321140caac35821f9735fecd/artifacts. Set logging level to DEBUG via `logging.getLogger(\"mlflow\").setLevel(logging.DEBUG)` to see the full traceback.\n",
      "Closing down clientserver connection                                            \n"
     ]
    },
    {
     "name": "stdout",
     "output_type": "stream",
     "text": [
      " 32%|███▏      | 19/60 [36:40<1:17:23, 113.26s/trial, best loss: 0.48102010779748755]"
     ]
    },
    {
     "name": "stderr",
     "output_type": "stream",
     "text": [
      "build_posterior_wrapper took 0.004725 seconds\n",
      "TPE using 22/22 trials with best loss 0.481020\n",
      "Closing down clientserver connection                                            \n"
     ]
    },
    {
     "name": "stdout",
     "output_type": "stream",
     "text": [
      " 33%|███▎      | 20/60 [36:43<53:17, 79.94s/trial, best loss: 0.48102010779748755]   "
     ]
    },
    {
     "name": "stderr",
     "output_type": "stream",
     "text": [
      "build_posterior_wrapper took 0.001925 seconds                       (0 + 1) / 1]\n",
      "TPE using 23/23 trials with best loss 0.481020\n",
      "2024/02/15 11:25:39 WARNING mlflow.models.model: Logging model metadata to the tracking server has failed. The model artifacts have been logged successfully under /Users/hankehly/Projects/JapanHorseRaceAnalytics/mlruns/20/607289af648e4cf6a5c2c44b3c4ac396/artifacts. Set logging level to DEBUG via `logging.getLogger(\"mlflow\").setLevel(logging.DEBUG)` to see the full traceback.\n",
      "Closing down clientserver connection                                            \n"
     ]
    },
    {
     "name": "stdout",
     "output_type": "stream",
     "text": [
      " 35%|███▌      | 21/60 [38:03<52:08, 80.22s/trial, best loss: 0.48102010779748755]"
     ]
    },
    {
     "name": "stderr",
     "output_type": "stream",
     "text": [
      "build_posterior_wrapper took 0.005888 secondse 22:>                 (0 + 1) / 1]\n",
      "TPE using 24/24 trials with best loss 0.481020\n",
      "2024/02/15 11:28:41 WARNING mlflow.models.model: Logging model metadata to the tracking server has failed. The model artifacts have been logged successfully under /Users/hankehly/Projects/JapanHorseRaceAnalytics/mlruns/20/d949e90ce2d24f28b30ba1fe5c3a210e/artifacts. Set logging level to DEBUG via `logging.getLogger(\"mlflow\").setLevel(logging.DEBUG)` to see the full traceback.\n",
      "2024/02/15 11:28:45 WARNING mlflow.models.model: Logging model metadata to the tracking server has failed. The model artifacts have been logged successfully under /Users/hankehly/Projects/JapanHorseRaceAnalytics/mlruns/20/01091745166a4584b6c0753ccce4c27a/artifacts. Set logging level to DEBUG via `logging.getLogger(\"mlflow\").setLevel(logging.DEBUG)` to see the full traceback.\n",
      "Closing down clientserver connection                                            \n"
     ]
    },
    {
     "name": "stdout",
     "output_type": "stream",
     "text": [
      " 37%|███▋      | 22/60 [40:59<1:08:50, 108.70s/trial, best loss: 0.48102010779748755]"
     ]
    },
    {
     "name": "stderr",
     "output_type": "stream",
     "text": [
      "build_posterior_wrapper took 0.017349 secondse 22:>                 (0 + 1) / 1]\n",
      "TPE using 25/25 trials with best loss 0.481020\n",
      "Closing down clientserver connection                                            \n"
     ]
    },
    {
     "name": "stdout",
     "output_type": "stream",
     "text": [
      " 38%|███▊      | 23/60 [41:05<48:05, 77.98s/trial, best loss: 0.48102010779748755]   "
     ]
    },
    {
     "name": "stderr",
     "output_type": "stream",
     "text": [
      "build_posterior_wrapper took 0.003352 seconds                       (0 + 1) / 1]\n",
      "TPE using 26/26 trials with best loss 0.481020\n",
      "2024/02/15 11:29:28 WARNING mlflow.models.model: Logging model metadata to the tracking server has failed. The model artifacts have been logged successfully under /Users/hankehly/Projects/JapanHorseRaceAnalytics/mlruns/20/3944d9c17b77442bb4d5232bee7988e3/artifacts. Set logging level to DEBUG via `logging.getLogger(\"mlflow\").setLevel(logging.DEBUG)` to see the full traceback.\n",
      "Closing down clientserver connection                                            \n"
     ]
    },
    {
     "name": "stdout",
     "output_type": "stream",
     "text": [
      " 40%|████      | 24/60 [42:03<43:08, 71.90s/trial, best loss: 0.48102010779748755]"
     ]
    },
    {
     "name": "stderr",
     "output_type": "stream",
     "text": [
      "build_posterior_wrapper took 0.003468 secondse 25:>                 (0 + 1) / 1]\n",
      "TPE using 27/27 trials with best loss 0.481020\n",
      "Python(6954) MallocStackLogging: can't turn off malloc stack logging because it was not enabled.\n",
      "Python(6955) MallocStackLogging: can't turn off malloc stack logging because it was not enabled.\n",
      "Python(7945) MallocStackLogging: can't turn off malloc stack logging because it was not enabled.\n",
      "2024/02/15 11:33:30 WARNING mlflow.models.model: Logging model metadata to the tracking server has failed. The model artifacts have been logged successfully under /Users/hankehly/Projects/JapanHorseRaceAnalytics/mlruns/20/72a85b8ac47c487c83c12e31aae6df18/artifacts. Set logging level to DEBUG via `logging.getLogger(\"mlflow\").setLevel(logging.DEBUG)` to see the full traceback.\n",
      "Closing down clientserver connection                                            \n"
     ]
    },
    {
     "name": "stdout",
     "output_type": "stream",
     "text": [
      " 42%|████▏     | 25/60 [45:51<1:09:22, 118.94s/trial, best loss: 0.48102010779748755]"
     ]
    },
    {
     "name": "stderr",
     "output_type": "stream",
     "text": [
      "build_posterior_wrapper took 0.004044 seconds\n",
      "TPE using 28/28 trials with best loss 0.481020\n",
      "Python(8132) MallocStackLogging: can't turn off malloc stack logging because it was not enabled.\n",
      "2024/02/15 11:34:05 WARNING mlflow.models.model: Logging model metadata to the tracking server has failed. The model artifacts have been logged successfully under /Users/hankehly/Projects/JapanHorseRaceAnalytics/mlruns/20/4f1a0eab83ed410383eb0d0764366527/artifacts. Set logging level to DEBUG via `logging.getLogger(\"mlflow\").setLevel(logging.DEBUG)` to see the full traceback.\n",
      "Closing down clientserver connection                                            \n"
     ]
    },
    {
     "name": "stdout",
     "output_type": "stream",
     "text": [
      " 43%|████▎     | 26/60 [46:31<53:56, 95.20s/trial, best loss: 0.48102010779748755]   "
     ]
    },
    {
     "name": "stderr",
     "output_type": "stream",
     "text": [
      "build_posterior_wrapper took 0.013088 secondse 27:>                 (0 + 1) / 1]\n",
      "TPE using 29/29 trials with best loss 0.481020\n",
      "2024/02/15 11:38:59 WARNING mlflow.models.model: Logging model metadata to the tracking server has failed. The model artifacts have been logged successfully under /Users/hankehly/Projects/JapanHorseRaceAnalytics/mlruns/20/61489436d3e94836941a67c7ab3f3577/artifacts. Set logging level to DEBUG via `logging.getLogger(\"mlflow\").setLevel(logging.DEBUG)` to see the full traceback.\n",
      "Closing down clientserver connection                                            \n"
     ]
    },
    {
     "name": "stdout",
     "output_type": "stream",
     "text": [
      " 45%|████▌     | 27/60 [51:18<1:23:56, 152.63s/trial, best loss: 0.48102010779748755]"
     ]
    },
    {
     "name": "stderr",
     "output_type": "stream",
     "text": [
      "build_posterior_wrapper took 0.002143 seconds\n",
      "TPE using 30/30 trials with best loss 0.481020\n",
      "2024/02/15 11:42:30 WARNING mlflow.models.model: Logging model metadata to the tracking server has failed. The model artifacts have been logged successfully under /Users/hankehly/Projects/JapanHorseRaceAnalytics/mlruns/20/36265db3e1e14f2ea7834b47293cb9ef/artifacts. Set logging level to DEBUG via `logging.getLogger(\"mlflow\").setLevel(logging.DEBUG)` to see the full traceback.\n",
      "2024/02/15 11:42:34 WARNING mlflow.models.model: Logging model metadata to the tracking server has failed. The model artifacts have been logged successfully under /Users/hankehly/Projects/JapanHorseRaceAnalytics/mlruns/20/cdb3cd006fe04666a232a68d30a5d77a/artifacts. Set logging level to DEBUG via `logging.getLogger(\"mlflow\").setLevel(logging.DEBUG)` to see the full traceback.\n",
      "Closing down clientserver connection                                            \n"
     ]
    },
    {
     "name": "stdout",
     "output_type": "stream",
     "text": [
      " 47%|████▋     | 28/60 [54:52<1:31:12, 171.02s/trial, best loss: 0.48102010779748755]"
     ]
    },
    {
     "name": "stderr",
     "output_type": "stream",
     "text": [
      "build_posterior_wrapper took 0.006704 seconds\n",
      "TPE using 31/31 trials with best loss 0.481020\n",
      "Closing down clientserver connection                                            \n"
     ]
    },
    {
     "name": "stdout",
     "output_type": "stream",
     "text": [
      " 48%|████▊     | 29/60 [54:57<1:02:38, 121.25s/trial, best loss: 0.48102010779748755]"
     ]
    },
    {
     "name": "stderr",
     "output_type": "stream",
     "text": [
      "build_posterior_wrapper took 0.003309 seconds\n",
      "TPE using 32/32 trials with best loss 0.481020\n",
      "2024/02/15 11:45:22 WARNING mlflow.models.model: Logging model metadata to the tracking server has failed. The model artifacts have been logged successfully under /Users/hankehly/Projects/JapanHorseRaceAnalytics/mlruns/20/c5d6c27b94454b2e857643ded49934a6/artifacts. Set logging level to DEBUG via `logging.getLogger(\"mlflow\").setLevel(logging.DEBUG)` to see the full traceback.\n",
      "Closing down clientserver connection                                            \n",
      "[Stage 30:>                 (0 + 1) / 1][Stage 31:>                 (0 + 1) / 1]\r"
     ]
    },
    {
     "name": "stdout",
     "output_type": "stream",
     "text": [
      " 50%|█████     | 30/60 [57:45<1:07:36, 135.23s/trial, best loss: 0.48102010779748755]"
     ]
    },
    {
     "name": "stderr",
     "output_type": "stream",
     "text": [
      "build_posterior_wrapper took 0.016849 seconds\n",
      "TPE using 33/33 trials with best loss 0.481020\n",
      "2024/02/15 11:48:18 WARNING mlflow.models.model: Logging model metadata to the tracking server has failed. The model artifacts have been logged successfully under /Users/hankehly/Projects/JapanHorseRaceAnalytics/mlruns/20/a8c58888741e4c90b0bd5bd0f1ad3eea/artifacts. Set logging level to DEBUG via `logging.getLogger(\"mlflow\").setLevel(logging.DEBUG)` to see the full traceback.\n",
      "Closing down clientserver connection                                            \n"
     ]
    },
    {
     "name": "stdout",
     "output_type": "stream",
     "text": [
      " 52%|█████▏    | 31/60 [1:00:42<1:11:32, 148.00s/trial, best loss: 0.48102010779748755]"
     ]
    },
    {
     "name": "stderr",
     "output_type": "stream",
     "text": [
      "build_posterior_wrapper took 0.004287 seconds\n",
      "TPE using 34/34 trials with best loss 0.481020\n",
      "2024/02/15 11:50:21 WARNING mlflow.models.model: Logging model metadata to the tracking server has failed. The model artifacts have been logged successfully under /Users/hankehly/Projects/JapanHorseRaceAnalytics/mlruns/20/878bed7a0c98482ba8e7612c59c29dda/artifacts. Set logging level to DEBUG via `logging.getLogger(\"mlflow\").setLevel(logging.DEBUG)` to see the full traceback.\n",
      "Closing down clientserver connection                                            \n",
      "[Stage 31:>                 (0 + 1) / 1][Stage 33:>                 (0 + 1) / 1]\r"
     ]
    },
    {
     "name": "stdout",
     "output_type": "stream",
     "text": [
      " 53%|█████▎    | 32/60 [1:02:43<1:05:14, 139.80s/trial, best loss: 0.48102010779748755]"
     ]
    },
    {
     "name": "stderr",
     "output_type": "stream",
     "text": [
      "build_posterior_wrapper took 0.003211 seconds\n",
      "TPE using 35/35 trials with best loss 0.481020\n",
      "2024/02/15 11:51:47 WARNING mlflow.models.model: Logging model metadata to the tracking server has failed. The model artifacts have been logged successfully under /Users/hankehly/Projects/JapanHorseRaceAnalytics/mlruns/20/3bb17c711dc44d08983066738a177dd1/artifacts. Set logging level to DEBUG via `logging.getLogger(\"mlflow\").setLevel(logging.DEBUG)` to see the full traceback.\n",
      "Closing down clientserver connection                                            \n"
     ]
    },
    {
     "name": "stdout",
     "output_type": "stream",
     "text": [
      " 55%|█████▌    | 33/60 [1:04:09<55:37, 123.63s/trial, best loss: 0.48102010779748755]  "
     ]
    },
    {
     "name": "stderr",
     "output_type": "stream",
     "text": [
      "build_posterior_wrapper took 0.002939 seconds\n",
      "TPE using 36/36 trials with best loss 0.481020\n",
      "2024/02/15 11:53:36 WARNING mlflow.models.model: Logging model metadata to the tracking server has failed. The model artifacts have been logged successfully under /Users/hankehly/Projects/JapanHorseRaceAnalytics/mlruns/20/6bb34b331ec24b05a537891d5469c545/artifacts. Set logging level to DEBUG via `logging.getLogger(\"mlflow\").setLevel(logging.DEBUG)` to see the full traceback.\n",
      "Closing down clientserver connection                                            \n"
     ]
    },
    {
     "name": "stdout",
     "output_type": "stream",
     "text": [
      " 57%|█████▋    | 34/60 [1:06:04<52:26, 121.03s/trial, best loss: 0.47480602323486787]"
     ]
    },
    {
     "name": "stderr",
     "output_type": "stream",
     "text": [
      "build_posterior_wrapper took 0.002861 secondse 35:>                 (0 + 1) / 1]\n",
      "TPE using 37/37 trials with best loss 0.474806\n",
      "2024/02/15 11:57:49 WARNING mlflow.models.model: Logging model metadata to the tracking server has failed. The model artifacts have been logged successfully under /Users/hankehly/Projects/JapanHorseRaceAnalytics/mlruns/20/bb159bd2c4d6466ebafef02af2eb14a2/artifacts. Set logging level to DEBUG via `logging.getLogger(\"mlflow\").setLevel(logging.DEBUG)` to see the full traceback.\n",
      "2024/02/15 11:57:58 WARNING mlflow.models.model: Logging model metadata to the tracking server has failed. The model artifacts have been logged successfully under /Users/hankehly/Projects/JapanHorseRaceAnalytics/mlruns/20/62a703e0cf12492d86d1a4cc27260417/artifacts. Set logging level to DEBUG via `logging.getLogger(\"mlflow\").setLevel(logging.DEBUG)` to see the full traceback.\n",
      "Closing down clientserver connection                                            \n"
     ]
    },
    {
     "name": "stdout",
     "output_type": "stream",
     "text": [
      " 58%|█████▊    | 35/60 [1:10:13<1:06:28, 159.55s/trial, best loss: 0.47480602323486787]"
     ]
    },
    {
     "name": "stderr",
     "output_type": "stream",
     "text": [
      "build_posterior_wrapper took 0.002125 secondse 36:>                 (0 + 1) / 1]\n",
      "TPE using 38/38 trials with best loss 0.474806\n",
      "Closing down clientserver connection                                            \n"
     ]
    },
    {
     "name": "stdout",
     "output_type": "stream",
     "text": [
      " 60%|██████    | 36/60 [1:10:25<46:01, 115.06s/trial, best loss: 0.47480602323486787]  "
     ]
    },
    {
     "name": "stderr",
     "output_type": "stream",
     "text": [
      "build_posterior_wrapper took 0.002175 seconds                       (0 + 1) / 1]\n",
      "TPE using 39/39 trials with best loss 0.474806\n",
      "2024/02/15 12:01:47 WARNING mlflow.models.model: Logging model metadata to the tracking server has failed. The model artifacts have been logged successfully under /Users/hankehly/Projects/JapanHorseRaceAnalytics/mlruns/20/fdc08a8024e44ad08b919099e3c3c863/artifacts. Set logging level to DEBUG via `logging.getLogger(\"mlflow\").setLevel(logging.DEBUG)` to see the full traceback.\n",
      "Closing down clientserver connection                                            \n"
     ]
    },
    {
     "name": "stdout",
     "output_type": "stream",
     "text": [
      " 62%|██████▏   | 37/60 [1:14:09<56:42, 147.93s/trial, best loss: 0.47480602323486787]"
     ]
    },
    {
     "name": "stderr",
     "output_type": "stream",
     "text": [
      "build_posterior_wrapper took 0.508256 secondse 38:>                 (0 + 1) / 1]\n",
      "TPE using 40/40 trials with best loss 0.474806\n",
      "2024/02/15 12:09:33 WARNING mlflow.models.model: Logging model metadata to the tracking server has failed. The model artifacts have been logged successfully under /Users/hankehly/Projects/JapanHorseRaceAnalytics/mlruns/20/35916737b88d4839a407679b8d5f02ef/artifacts. Set logging level to DEBUG via `logging.getLogger(\"mlflow\").setLevel(logging.DEBUG)` to see the full traceback.\n",
      "Closing down clientserver connection                                            \n"
     ]
    },
    {
     "name": "stdout",
     "output_type": "stream",
     "text": [
      " 63%|██████▎   | 38/60 [1:21:56<1:29:18, 243.56s/trial, best loss: 0.47480602323486787]"
     ]
    },
    {
     "name": "stderr",
     "output_type": "stream",
     "text": [
      "build_posterior_wrapper took 0.004000 seconds\n",
      "TPE using 41/41 trials with best loss 0.474806\n",
      "2024/02/15 12:09:53 WARNING mlflow.models.model: Logging model metadata to the tracking server has failed. The model artifacts have been logged successfully under /Users/hankehly/Projects/JapanHorseRaceAnalytics/mlruns/20/12e4adbc48cd4c91bde815f8abc26445/artifacts. Set logging level to DEBUG via `logging.getLogger(\"mlflow\").setLevel(logging.DEBUG)` to see the full traceback.\n",
      "Closing down clientserver connection                                            \n"
     ]
    },
    {
     "name": "stdout",
     "output_type": "stream",
     "text": [
      " 65%|██████▌   | 39/60 [1:22:18<1:02:00, 177.15s/trial, best loss: 0.47480602323486787]"
     ]
    },
    {
     "name": "stderr",
     "output_type": "stream",
     "text": [
      "build_posterior_wrapper took 0.008140 secondse 40:>                 (0 + 1) / 1]\n",
      "TPE using 42/42 trials with best loss 0.474806\n",
      "2024/02/15 12:11:46 WARNING mlflow.models.model: Logging model metadata to the tracking server has failed. The model artifacts have been logged successfully under /Users/hankehly/Projects/JapanHorseRaceAnalytics/mlruns/20/1eecf15e9d464b46aa70db8fa680fce8/artifacts. Set logging level to DEBUG via `logging.getLogger(\"mlflow\").setLevel(logging.DEBUG)` to see the full traceback.\n",
      "Closing down clientserver connection                                            \n"
     ]
    },
    {
     "name": "stdout",
     "output_type": "stream",
     "text": [
      " 67%|██████▋   | 40/60 [1:24:11<52:39, 157.96s/trial, best loss: 0.47480602323486787]  "
     ]
    },
    {
     "name": "stderr",
     "output_type": "stream",
     "text": [
      "build_posterior_wrapper took 0.005403 secondse 41:>                 (0 + 1) / 1]\n",
      "TPE using 43/43 trials with best loss 0.474806\n",
      "2024/02/15 12:14:54 WARNING mlflow.models.model: Logging model metadata to the tracking server has failed. The model artifacts have been logged successfully under /Users/hankehly/Projects/JapanHorseRaceAnalytics/mlruns/20/baaa9155377044ff92a1b19698889507/artifacts. Set logging level to DEBUG via `logging.getLogger(\"mlflow\").setLevel(logging.DEBUG)` to see the full traceback.\n",
      "Closing down clientserver connection                                            \n"
     ]
    },
    {
     "name": "stdout",
     "output_type": "stream",
     "text": [
      " 68%|██████▊   | 41/60 [1:27:16<52:33, 165.96s/trial, best loss: 0.47480602323486787]"
     ]
    },
    {
     "name": "stderr",
     "output_type": "stream",
     "text": [
      "build_posterior_wrapper took 0.003238 secondse 42:>                 (0 + 1) / 1]\n",
      "TPE using 44/44 trials with best loss 0.474806\n",
      "2024/02/15 12:15:51 WARNING mlflow.models.model: Logging model metadata to the tracking server has failed. The model artifacts have been logged successfully under /Users/hankehly/Projects/JapanHorseRaceAnalytics/mlruns/20/3abfdad6df89447886fb4b93546a7883/artifacts. Set logging level to DEBUG via `logging.getLogger(\"mlflow\").setLevel(logging.DEBUG)` to see the full traceback.\n",
      "Closing down clientserver connection                                            \n",
      "[Stage 42:>                 (0 + 1) / 1][Stage 43:>                 (0 + 1) / 1]\r"
     ]
    },
    {
     "name": "stdout",
     "output_type": "stream",
     "text": [
      " 70%|███████   | 42/60 [1:28:14<40:06, 133.68s/trial, best loss: 0.47480602323486787]"
     ]
    },
    {
     "name": "stderr",
     "output_type": "stream",
     "text": [
      "build_posterior_wrapper took 0.019471 seconds\n",
      "TPE using 45/45 trials with best loss 0.474806\n",
      "2024/02/15 12:20:38 WARNING mlflow.models.model: Logging model metadata to the tracking server has failed. The model artifacts have been logged successfully under /Users/hankehly/Projects/JapanHorseRaceAnalytics/mlruns/20/75e9e6158f224e53be01e745b84e56f7/artifacts. Set logging level to DEBUG via `logging.getLogger(\"mlflow\").setLevel(logging.DEBUG)` to see the full traceback.\n",
      "Closing down clientserver connection                                            \n"
     ]
    },
    {
     "name": "stdout",
     "output_type": "stream",
     "text": [
      " 72%|███████▏  | 43/60 [1:33:00<50:49, 179.40s/trial, best loss: 0.47480602323486787]"
     ]
    },
    {
     "name": "stderr",
     "output_type": "stream",
     "text": [
      "build_posterior_wrapper took 0.004629 seconds\n",
      "TPE using 46/46 trials with best loss 0.474806 44:>                 (0 + 1) / 1]\n",
      "2024/02/15 12:28:05 WARNING mlflow.models.model: Logging model metadata to the tracking server has failed. The model artifacts have been logged successfully under /Users/hankehly/Projects/JapanHorseRaceAnalytics/mlruns/20/67a291a8d2ca49b8a4a21af500af9c36/artifacts. Set logging level to DEBUG via `logging.getLogger(\"mlflow\").setLevel(logging.DEBUG)` to see the full traceback.\n",
      "Closing down clientserver connection                                            \n"
     ]
    },
    {
     "name": "stdout",
     "output_type": "stream",
     "text": [
      " 73%|███████▎  | 44/60 [1:40:29<1:09:21, 260.07s/trial, best loss: 0.47480602323486787]"
     ]
    },
    {
     "name": "stderr",
     "output_type": "stream",
     "text": [
      "build_posterior_wrapper took 0.002712 secondse 45:>                 (0 + 1) / 1]\n",
      "TPE using 47/47 trials with best loss 0.474806\n",
      "2024/02/15 12:28:41 WARNING mlflow.models.model: Logging model metadata to the tracking server has failed. The model artifacts have been logged successfully under /Users/hankehly/Projects/JapanHorseRaceAnalytics/mlruns/20/78ed49cda28742f193a2411366fd74ed/artifacts. Set logging level to DEBUG via `logging.getLogger(\"mlflow\").setLevel(logging.DEBUG)` to see the full traceback.\n",
      "Closing down clientserver connection                                            \n"
     ]
    },
    {
     "name": "stdout",
     "output_type": "stream",
     "text": [
      " 75%|███████▌  | 45/60 [1:41:17<49:09, 196.62s/trial, best loss: 0.47480602323486787]  "
     ]
    },
    {
     "name": "stderr",
     "output_type": "stream",
     "text": [
      "build_posterior_wrapper took 0.037045 secondse 46:>                 (0 + 1) / 1]\n",
      "TPE using 48/48 trials with best loss 0.474806\n",
      "2024/02/15 12:33:40 WARNING mlflow.models.model: Logging model metadata to the tracking server has failed. The model artifacts have been logged successfully under /Users/hankehly/Projects/JapanHorseRaceAnalytics/mlruns/20/f767580ae9b34c94847f0d5633499470/artifacts. Set logging level to DEBUG via `logging.getLogger(\"mlflow\").setLevel(logging.DEBUG)` to see the full traceback.\n",
      "Closing down clientserver connection                                            \n"
     ]
    },
    {
     "name": "stdout",
     "output_type": "stream",
     "text": [
      " 77%|███████▋  | 46/60 [1:46:00<51:55, 222.56s/trial, best loss: 0.47480602323486787]"
     ]
    },
    {
     "name": "stderr",
     "output_type": "stream",
     "text": [
      "build_posterior_wrapper took 0.013247 secondse 46:>                 (0 + 1) / 1]\n",
      "TPE using 49/49 trials with best loss 0.474806\n",
      "2024/02/15 12:35:07 WARNING mlflow.models.model: Logging model metadata to the tracking server has failed. The model artifacts have been logged successfully under /Users/hankehly/Projects/JapanHorseRaceAnalytics/mlruns/20/d1aca124303b47138f3ccdd3138f5437/artifacts. Set logging level to DEBUG via `logging.getLogger(\"mlflow\").setLevel(logging.DEBUG)` to see the full traceback.\n",
      "Closing down clientserver connection                                            \n",
      "[Stage 45:>                 (0 + 1) / 1][Stage 48:>                 (0 + 1) / 1]\r"
     ]
    },
    {
     "name": "stdout",
     "output_type": "stream",
     "text": [
      " 78%|███████▊  | 47/60 [1:47:32<39:44, 183.44s/trial, best loss: 0.47480602323486787]"
     ]
    },
    {
     "name": "stderr",
     "output_type": "stream",
     "text": [
      "build_posterior_wrapper took 0.002489 seconds\n",
      "TPE using 50/50 trials with best loss 0.474806\n",
      "2024/02/15 12:35:45 WARNING mlflow.models.model: Logging model metadata to the tracking server has failed. The model artifacts have been logged successfully under /Users/hankehly/Projects/JapanHorseRaceAnalytics/mlruns/20/41d5ece1f6764c26b1d67fdaba22b80f/artifacts. Set logging level to DEBUG via `logging.getLogger(\"mlflow\").setLevel(logging.DEBUG)` to see the full traceback.\n",
      "Closing down clientserver connection                                            \n",
      "[Stage 48:>                 (0 + 1) / 1][Stage 49:>                 (0 + 1) / 1]\r"
     ]
    },
    {
     "name": "stdout",
     "output_type": "stream",
     "text": [
      " 80%|████████  | 48/60 [1:48:21<28:35, 142.97s/trial, best loss: 0.47480602323486787]"
     ]
    },
    {
     "name": "stderr",
     "output_type": "stream",
     "text": [
      "build_posterior_wrapper took 0.005231 seconds\n",
      "TPE using 51/51 trials with best loss 0.474806\n",
      "2024/02/15 12:42:14 WARNING mlflow.models.model: Logging model metadata to the tracking server has failed. The model artifacts have been logged successfully under /Users/hankehly/Projects/JapanHorseRaceAnalytics/mlruns/20/c1406c4782034d55a10a8f085b8cbe38/artifacts. Set logging level to DEBUG via `logging.getLogger(\"mlflow\").setLevel(logging.DEBUG)` to see the full traceback.\n",
      "Closing down clientserver connection                                            \n"
     ]
    },
    {
     "name": "stdout",
     "output_type": "stream",
     "text": [
      " 82%|████████▏ | 49/60 [1:54:36<38:57, 212.53s/trial, best loss: 0.47480602323486787]"
     ]
    },
    {
     "name": "stderr",
     "output_type": "stream",
     "text": [
      "build_posterior_wrapper took 0.004794 secondse 50:>                 (0 + 1) / 1]\n",
      "TPE using 52/52 trials with best loss 0.474806\n",
      "2024/02/15 12:43:24 WARNING mlflow.models.model: Logging model metadata to the tracking server has failed. The model artifacts have been logged successfully under /Users/hankehly/Projects/JapanHorseRaceAnalytics/mlruns/20/1235e183ee234ff29ec237732895060e/artifacts. Set logging level to DEBUG via `logging.getLogger(\"mlflow\").setLevel(logging.DEBUG)` to see the full traceback.\n",
      "Closing down clientserver connection                                            \n"
     ]
    },
    {
     "name": "stdout",
     "output_type": "stream",
     "text": [
      " 83%|████████▎ | 50/60 [1:55:50<28:29, 170.93s/trial, best loss: 0.47480602323486787]"
     ]
    },
    {
     "name": "stderr",
     "output_type": "stream",
     "text": [
      "build_posterior_wrapper took 0.001952 secondse 51:>                 (0 + 1) / 1]\n",
      "TPE using 53/53 trials with best loss 0.474806\n",
      "2024/02/15 12:45:15 WARNING mlflow.models.model: Logging model metadata to the tracking server has failed. The model artifacts have been logged successfully under /Users/hankehly/Projects/JapanHorseRaceAnalytics/mlruns/20/f6d8bbe8b41d42dd8a28b510ee582305/artifacts. Set logging level to DEBUG via `logging.getLogger(\"mlflow\").setLevel(logging.DEBUG)` to see the full traceback.\n",
      "Closing down clientserver connection/ 1][Stage 52:>                 (0 + 1) / 1]\n"
     ]
    },
    {
     "name": "stdout",
     "output_type": "stream",
     "text": [
      " 85%|████████▌ | 51/60 [1:57:37<22:46, 151.87s/trial, best loss: 0.47480602323486787]"
     ]
    },
    {
     "name": "stderr",
     "output_type": "stream",
     "text": [
      "build_posterior_wrapper took 0.016242 seconds\n",
      "TPE using 54/54 trials with best loss 0.474806\n",
      "2024/02/15 12:48:22 WARNING mlflow.models.model: Logging model metadata to the tracking server has failed. The model artifacts have been logged successfully under /Users/hankehly/Projects/JapanHorseRaceAnalytics/mlruns/20/814a872a5104425698555d9c3e965ef3/artifacts. Set logging level to DEBUG via `logging.getLogger(\"mlflow\").setLevel(logging.DEBUG)` to see the full traceback.\n",
      "Closing down clientserver connection                                            \n"
     ]
    },
    {
     "name": "stdout",
     "output_type": "stream",
     "text": [
      " 87%|████████▋ | 52/60 [2:00:48<21:47, 163.48s/trial, best loss: 0.47480602323486787]"
     ]
    },
    {
     "name": "stderr",
     "output_type": "stream",
     "text": [
      "build_posterior_wrapper took 0.003790 secondse 53:>                 (0 + 1) / 1]\n",
      "TPE using 55/55 trials with best loss 0.474806\n",
      "2024/02/15 12:51:22 WARNING mlflow.models.model: Logging model metadata to the tracking server has failed. The model artifacts have been logged successfully under /Users/hankehly/Projects/JapanHorseRaceAnalytics/mlruns/20/69ffd1dbef6a46489be852633d380b56/artifacts. Set logging level to DEBUG via `logging.getLogger(\"mlflow\").setLevel(logging.DEBUG)` to see the full traceback.\n",
      "Closing down clientserver connection                                            \n"
     ]
    },
    {
     "name": "stdout",
     "output_type": "stream",
     "text": [
      " 88%|████████▊ | 53/60 [2:03:43<19:28, 166.99s/trial, best loss: 0.47480602323486787]"
     ]
    },
    {
     "name": "stderr",
     "output_type": "stream",
     "text": [
      "build_posterior_wrapper took 0.002889 seconds\n",
      "TPE using 56/56 trials with best loss 0.474806\n",
      "2024/02/15 12:51:47 WARNING mlflow.models.model: Logging model metadata to the tracking server has failed. The model artifacts have been logged successfully under /Users/hankehly/Projects/JapanHorseRaceAnalytics/mlruns/20/f6a7c7bceda54b9b851733e222030079/artifacts. Set logging level to DEBUG via `logging.getLogger(\"mlflow\").setLevel(logging.DEBUG)` to see the full traceback.\n",
      "Closing down clientserver connection                                            \n",
      "[Stage 53:>                 (0 + 1) / 1][Stage 55:>                 (0 + 1) / 1]\r"
     ]
    },
    {
     "name": "stdout",
     "output_type": "stream",
     "text": [
      " 90%|█████████ | 54/60 [2:04:19<12:46, 127.80s/trial, best loss: 0.47480602323486787]"
     ]
    },
    {
     "name": "stderr",
     "output_type": "stream",
     "text": [
      "build_posterior_wrapper took 0.002616 seconds\n",
      "TPE using 57/57 trials with best loss 0.474806\n",
      "2024/02/15 12:54:37 WARNING mlflow.models.model: Logging model metadata to the tracking server has failed. The model artifacts have been logged successfully under /Users/hankehly/Projects/JapanHorseRaceAnalytics/mlruns/20/12b9354906354a97af47c064c739fe8f/artifacts. Set logging level to DEBUG via `logging.getLogger(\"mlflow\").setLevel(logging.DEBUG)` to see the full traceback.\n",
      "Closing down clientserver connection                                            \n"
     ]
    },
    {
     "name": "stdout",
     "output_type": "stream",
     "text": [
      " 92%|█████████▏| 55/60 [2:06:59<11:27, 137.51s/trial, best loss: 0.47480602323486787]"
     ]
    },
    {
     "name": "stderr",
     "output_type": "stream",
     "text": [
      "build_posterior_wrapper took 0.002226 secondse 56:>                 (0 + 1) / 1]\n",
      "TPE using 58/58 trials with best loss 0.474806\n",
      "2024/02/15 12:57:57 WARNING mlflow.models.model: Logging model metadata to the tracking server has failed. The model artifacts have been logged successfully under /Users/hankehly/Projects/JapanHorseRaceAnalytics/mlruns/20/affde1c98a864962ab13244980bdb7d4/artifacts. Set logging level to DEBUG via `logging.getLogger(\"mlflow\").setLevel(logging.DEBUG)` to see the full traceback.\n",
      "Closing down clientserver connection                                            \n"
     ]
    },
    {
     "name": "stdout",
     "output_type": "stream",
     "text": [
      " 93%|█████████▎| 56/60 [2:10:20<10:26, 156.55s/trial, best loss: 0.47480602323486787]"
     ]
    },
    {
     "name": "stderr",
     "output_type": "stream",
     "text": [
      "build_posterior_wrapper took 0.005897 secondse 57:>                 (0 + 1) / 1]\n",
      "TPE using 59/59 trials with best loss 0.474806\n",
      "2024/02/15 12:59:48 WARNING mlflow.models.model: Logging model metadata to the tracking server has failed. The model artifacts have been logged successfully under /Users/hankehly/Projects/JapanHorseRaceAnalytics/mlruns/20/9dfc2cfed3274c459f5e0d3af077f34e/artifacts. Set logging level to DEBUG via `logging.getLogger(\"mlflow\").setLevel(logging.DEBUG)` to see the full traceback.\n",
      "Closing down clientserver connection                                            \n"
     ]
    },
    {
     "name": "stdout",
     "output_type": "stream",
     "text": [
      " 95%|█████████▌| 57/60 [2:12:12<07:09, 143.07s/trial, best loss: 0.47480602323486787]"
     ]
    },
    {
     "name": "stderr",
     "output_type": "stream",
     "text": [
      "2024/02/15 13:03:04 WARNING mlflow.models.model: Logging model metadata to the tracking server has failed. The model artifacts have been logged successfully under /Users/hankehly/Projects/JapanHorseRaceAnalytics/mlruns/20/c3e627e965e54a50941f07227406b995/artifacts. Set logging level to DEBUG via `logging.getLogger(\"mlflow\").setLevel(logging.DEBUG)` to see the full traceback.\n",
      "Closing down clientserver connection                                            \n"
     ]
    },
    {
     "name": "stdout",
     "output_type": "stream",
     "text": [
      " 97%|█████████▋| 58/60 [2:15:22<05:14, 157.15s/trial, best loss: 0.47480602323486787]"
     ]
    },
    {
     "name": "stderr",
     "output_type": "stream",
     "text": [
      "2024/02/15 13:04:12 WARNING mlflow.models.model: Logging model metadata to the tracking server has failed. The model artifacts have been logged successfully under /Users/hankehly/Projects/JapanHorseRaceAnalytics/mlruns/20/34977964a51648d08529fae4cdb3b0f8/artifacts. Set logging level to DEBUG via `logging.getLogger(\"mlflow\").setLevel(logging.DEBUG)` to see the full traceback.\n",
      "Closing down clientserver connection                                            \n"
     ]
    },
    {
     "name": "stdout",
     "output_type": "stream",
     "text": [
      " 98%|█████████▊| 59/60 [2:16:32<02:10, 130.88s/trial, best loss: 0.47480602323486787]"
     ]
    },
    {
     "name": "stderr",
     "output_type": "stream",
     "text": [
      "2024/02/15 13:04:48 WARNING mlflow.models.model: Logging model metadata to the tracking server has failed. The model artifacts have been logged successfully under /Users/hankehly/Projects/JapanHorseRaceAnalytics/mlruns/20/6d2ff1cbdcd84d7d8636d527553ef6bb/artifacts. Set logging level to DEBUG via `logging.getLogger(\"mlflow\").setLevel(logging.DEBUG)` to see the full traceback.\n",
      "Closing down clientserver connection                                            \n"
     ]
    },
    {
     "name": "stdout",
     "output_type": "stream",
     "text": [
      "100%|██████████| 60/60 [2:17:08<00:00, 137.14s/trial, best loss: 0.47480602323486787]"
     ]
    },
    {
     "name": "stderr",
     "output_type": "stream",
     "text": [
      "Queue empty, exiting run.\n"
     ]
    },
    {
     "name": "stdout",
     "output_type": "stream",
     "text": [
      "\n"
     ]
    },
    {
     "name": "stderr",
     "output_type": "stream",
     "text": [
      "Closing down clientserver connection\n",
      "Total Trials: 60: 60 succeeded, 0 failed, 0 cancelled.\n",
      "Total Trials: 60: 60 succeeded, 0 failed, 0 cancelled.\n"
     ]
    },
    {
     "data": {
      "text/plain": [
       "{'boosting_type': 1,\n",
       " 'colsample_bytree': 0.7332050245764046,\n",
       " 'feature_fraction': 0.7720929534556822,\n",
       " 'lambda_l1': 2.323874238782759,\n",
       " 'lambda_l2': 1.9333797615058455,\n",
       " 'learning_rate': 0.3187890033154122,\n",
       " 'max_depth': 10.0,\n",
       " 'min_child_samples': 21.0,\n",
       " 'min_child_weight': 6.04074523620894,\n",
       " 'min_split_gain': 0.1844148611798127,\n",
       " 'n_estimators': 623.0,\n",
       " 'num_leaves': 146.0,\n",
       " 'reg_alpha': 0.9068112839793774,\n",
       " 'reg_lambda': 0.852068188453003,\n",
       " 'subsample': 0.8098002257945933}"
      ]
     },
     "execution_count": 9,
     "metadata": {},
     "output_type": "execute_result"
    }
   ],
   "source": [
    "trials_dirt = SparkTrials(parallelism=3, spark_session=spark)\n",
    "fmin(fn=fn_dirt, space=space, algo=tpe.suggest, max_evals=60, trials=trials_dirt)"
   ]
  },
  {
   "cell_type": "markdown",
   "metadata": {},
   "source": [
    "# Model Evaluation"
   ]
  },
  {
   "cell_type": "markdown",
   "metadata": {},
   "source": [
    "# Conclusion"
   ]
  },
  {
   "cell_type": "code",
   "execution_count": null,
   "metadata": {},
   "outputs": [],
   "source": []
  }
 ],
 "metadata": {
  "kernelspec": {
   "display_name": ".venv",
   "language": "python",
   "name": "python3"
  },
  "language_info": {
   "codemirror_mode": {
    "name": "ipython",
    "version": 3
   },
   "file_extension": ".py",
   "mimetype": "text/x-python",
   "name": "python",
   "nbconvert_exporter": "python",
   "pygments_lexer": "ipython3",
   "version": "3.11.6"
  }
 },
 "nbformat": 4,
 "nbformat_minor": 2
}
