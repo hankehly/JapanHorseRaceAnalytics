{
 "cells": [
  {
   "cell_type": "markdown",
   "metadata": {},
   "source": [
    "# TrueSkill\n",
    "\n",
    "Findings:\n",
    "* TrueSkill pre-race rating is highly correlated (0.73) with 複勝率\n",
    "* Diff between competitors' mean ratings contributes 5 points to precision (big!) so this is more important than just the horse rating itself.\n",
    "* pre-race rating alone contributes 1-2 point increase in precision.\n",
    "* Takes about 2.5 minutes to calculate ratings for all horses since 1999\n",
    "* SHAP values show that when TrueSkill rating is high, the model is more likely to predict a loss, which is weird. This only happens if we include pre-race rating and mean difference at the same time. If we remove the mean diff, the SHAP values make sense.\n",
    "* Just including rating / mean diff alone doesn't perform as well as including both, especially in terms of 回収率.\n",
    "* Using `mu` results in 1.5% better precision than using `exposure` for the rating.\n",
    "* Including `sigma` features also improves precision by 4-5%\n",
    "\n",
    "![shap_bar_2v__rops.png](/Users/hankehly/Projects/JapanHorseRaceAnalytics/mlruns/49/39b26853181348fb8756d9fbe52da6e0/artifacts/shap_bar_2v__rops.png)\n",
    "\n",
    "![shap_beeswarm_oadz_bi5.png](/Users/hankehly/Projects/JapanHorseRaceAnalytics/mlruns/49/39b26853181348fb8756d9fbe52da6e0/artifacts/shap_beeswarm_oadz_bi5.png)"
   ]
  },
  {
   "cell_type": "code",
   "execution_count": 1,
   "metadata": {},
   "outputs": [],
   "source": [
    "import japanize_matplotlib\n",
    "import pandas as pd\n",
    "import trueskill\n",
    "from hyperopt import SparkTrials, Trials, fmin, hp, tpe\n",
    "from hyperopt.pyll.base import scope\n",
    "\n",
    "from JapanHorseRaceAnalytics.utilities.base import get_spark_session, read_hive_table\n",
    "from JapanHorseRaceAnalytics.utilities.structured_logger import logger\n",
    "\n",
    "japanize_matplotlib.japanize()\n",
    "random_state = 42"
   ]
  },
  {
   "cell_type": "code",
   "execution_count": 2,
   "metadata": {},
   "outputs": [
    {
     "name": "stderr",
     "output_type": "stream",
     "text": [
      "24/03/20 09:51:53 WARN Utils: Your hostname, Hanks-MacBook-Pro.local resolves to a loopback address: 127.0.0.1; using 192.168.40.105 instead (on interface en0)\n",
      "24/03/20 09:51:53 WARN Utils: Set SPARK_LOCAL_IP if you need to bind to another address\n",
      "24/03/20 09:51:53 WARN NativeCodeLoader: Unable to load native-hadoop library for your platform... using builtin-java classes where applicable\n",
      "Setting default log level to \"WARN\".\n",
      "To adjust logging level use sc.setLogLevel(newLevel). For SparkR, use setLogLevel(newLevel).\n",
      "24/03/20 09:51:53 WARN Utils: Service 'SparkUI' could not bind on port 4040. Attempting port 4041.\n"
     ]
    }
   ],
   "source": [
    "spark = get_spark_session()"
   ]
  },
  {
   "cell_type": "code",
   "execution_count": 3,
   "metadata": {},
   "outputs": [
    {
     "name": "stderr",
     "output_type": "stream",
     "text": [
      "{\"event\": \"Read from parquet /Users/hankehly/Projects/JapanHorseRaceAnalytics/data/sql_tables/features_20240304_v1.snappy.parquet to pandas\", \"level\": \"info\", \"timestamp\": \"2024-03-20T00:51:55.289566Z\", \"logger\": \"JapanHorseRaceAnalytics.utilities.base\"}\n",
      "{\"event\": \"Original data length: 1217019\", \"level\": \"info\", \"timestamp\": \"2024-03-20T00:51:55.823310Z\", \"logger\": \"JapanHorseRaceAnalytics.utilities.base\"}\n",
      "{\"event\": \"Data length after filtering: 1206122 (dropped 10897 rows, 0.90%)\", \"level\": \"info\", \"timestamp\": \"2024-03-20T00:51:56.172070Z\", \"logger\": \"JapanHorseRaceAnalytics.utilities.base\"}\n"
     ]
    },
    {
     "data": {
      "text/html": [
       "<div>\n",
       "<style scoped>\n",
       "    .dataframe tbody tr th:only-of-type {\n",
       "        vertical-align: middle;\n",
       "    }\n",
       "\n",
       "    .dataframe tbody tr th {\n",
       "        vertical-align: top;\n",
       "    }\n",
       "\n",
       "    .dataframe thead th {\n",
       "        text-align: right;\n",
       "    }\n",
       "</style>\n",
       "<table border=\"1\" class=\"dataframe\">\n",
       "  <thead>\n",
       "    <tr style=\"text-align: right;\">\n",
       "      <th></th>\n",
       "      <th>meta_単勝払戻金</th>\n",
       "      <th>meta_複勝払戻金</th>\n",
       "      <th>meta_レースキー</th>\n",
       "      <th>meta_馬番</th>\n",
       "      <th>meta_血統登録番号</th>\n",
       "      <th>meta_発走日時</th>\n",
       "      <th>meta_単勝的中</th>\n",
       "      <th>meta_単勝オッズ</th>\n",
       "      <th>meta_複勝的中</th>\n",
       "      <th>meta_複勝オッズ</th>\n",
       "      <th>...</th>\n",
       "      <th>num_6走前3着タイム差</th>\n",
       "      <th>cat_トラック種別</th>\n",
       "      <th>num_距離</th>\n",
       "      <th>cat_距離区分</th>\n",
       "      <th>num_過去3走重み付き着順成績</th>\n",
       "      <th>num_入厩何日前逆数</th>\n",
       "      <th>cat_堅実な馬</th>\n",
       "      <th>cat_過去3走中1走訳あり凡走</th>\n",
       "      <th>cat_過去3走中2走好走</th>\n",
       "      <th>cat_過去3走繋がりあり</th>\n",
       "    </tr>\n",
       "  </thead>\n",
       "  <tbody>\n",
       "    <tr>\n",
       "      <th>0</th>\n",
       "      <td>0</td>\n",
       "      <td>0</td>\n",
       "      <td>09025206</td>\n",
       "      <td>11</td>\n",
       "      <td>00100027</td>\n",
       "      <td>2002-12-01 12:45:00+09:00</td>\n",
       "      <td>0</td>\n",
       "      <td>38.6</td>\n",
       "      <td>0</td>\n",
       "      <td>4.4</td>\n",
       "      <td>...</td>\n",
       "      <td>NaN</td>\n",
       "      <td>芝</td>\n",
       "      <td>1600</td>\n",
       "      <td>マイル</td>\n",
       "      <td>NaN</td>\n",
       "      <td>1.0</td>\n",
       "      <td>False</td>\n",
       "      <td>False</td>\n",
       "      <td>False</td>\n",
       "      <td>False</td>\n",
       "    </tr>\n",
       "    <tr>\n",
       "      <th>1</th>\n",
       "      <td>0</td>\n",
       "      <td>0</td>\n",
       "      <td>08032303</td>\n",
       "      <td>04</td>\n",
       "      <td>00100027</td>\n",
       "      <td>2003-02-08 10:55:00+09:00</td>\n",
       "      <td>0</td>\n",
       "      <td>39.5</td>\n",
       "      <td>0</td>\n",
       "      <td>11.8</td>\n",
       "      <td>...</td>\n",
       "      <td>NaN</td>\n",
       "      <td>ダート</td>\n",
       "      <td>1800</td>\n",
       "      <td>中距離</td>\n",
       "      <td>NaN</td>\n",
       "      <td>1.0</td>\n",
       "      <td>False</td>\n",
       "      <td>False</td>\n",
       "      <td>False</td>\n",
       "      <td>False</td>\n",
       "    </tr>\n",
       "    <tr>\n",
       "      <th>2</th>\n",
       "      <td>0</td>\n",
       "      <td>0</td>\n",
       "      <td>08032801</td>\n",
       "      <td>14</td>\n",
       "      <td>00100027</td>\n",
       "      <td>2003-02-23 10:00:00+09:00</td>\n",
       "      <td>0</td>\n",
       "      <td>31.0</td>\n",
       "      <td>0</td>\n",
       "      <td>3.7</td>\n",
       "      <td>...</td>\n",
       "      <td>NaN</td>\n",
       "      <td>ダート</td>\n",
       "      <td>1800</td>\n",
       "      <td>中距離</td>\n",
       "      <td>NaN</td>\n",
       "      <td>1.0</td>\n",
       "      <td>False</td>\n",
       "      <td>False</td>\n",
       "      <td>False</td>\n",
       "      <td>False</td>\n",
       "    </tr>\n",
       "    <tr>\n",
       "      <th>3</th>\n",
       "      <td>0</td>\n",
       "      <td>0</td>\n",
       "      <td>09031403</td>\n",
       "      <td>07</td>\n",
       "      <td>00100027</td>\n",
       "      <td>2003-03-09 10:55:00+09:00</td>\n",
       "      <td>0</td>\n",
       "      <td>17.2</td>\n",
       "      <td>0</td>\n",
       "      <td>2.3</td>\n",
       "      <td>...</td>\n",
       "      <td>NaN</td>\n",
       "      <td>ダート</td>\n",
       "      <td>1800</td>\n",
       "      <td>中距離</td>\n",
       "      <td>0.173651</td>\n",
       "      <td>1.0</td>\n",
       "      <td>False</td>\n",
       "      <td>False</td>\n",
       "      <td>False</td>\n",
       "      <td>False</td>\n",
       "    </tr>\n",
       "    <tr>\n",
       "      <th>4</th>\n",
       "      <td>0</td>\n",
       "      <td>0</td>\n",
       "      <td>09031701</td>\n",
       "      <td>10</td>\n",
       "      <td>00100027</td>\n",
       "      <td>2003-03-22 10:05:00+09:00</td>\n",
       "      <td>0</td>\n",
       "      <td>20.8</td>\n",
       "      <td>0</td>\n",
       "      <td>2.7</td>\n",
       "      <td>...</td>\n",
       "      <td>NaN</td>\n",
       "      <td>ダート</td>\n",
       "      <td>1800</td>\n",
       "      <td>中距離</td>\n",
       "      <td>0.177772</td>\n",
       "      <td>1.0</td>\n",
       "      <td>False</td>\n",
       "      <td>False</td>\n",
       "      <td>False</td>\n",
       "      <td>False</td>\n",
       "    </tr>\n",
       "  </tbody>\n",
       "</table>\n",
       "<p>5 rows × 110 columns</p>\n",
       "</div>"
      ],
      "text/plain": [
       "   meta_単勝払戻金  meta_複勝払戻金 meta_レースキー meta_馬番 meta_血統登録番号  \\\n",
       "0           0           0   09025206      11    00100027   \n",
       "1           0           0   08032303      04    00100027   \n",
       "2           0           0   08032801      14    00100027   \n",
       "3           0           0   09031403      07    00100027   \n",
       "4           0           0   09031701      10    00100027   \n",
       "\n",
       "                   meta_発走日時  meta_単勝的中  meta_単勝オッズ  meta_複勝的中  meta_複勝オッズ  \\\n",
       "0  2002-12-01 12:45:00+09:00          0        38.6          0         4.4   \n",
       "1  2003-02-08 10:55:00+09:00          0        39.5          0        11.8   \n",
       "2  2003-02-23 10:00:00+09:00          0        31.0          0         3.7   \n",
       "3  2003-03-09 10:55:00+09:00          0        17.2          0         2.3   \n",
       "4  2003-03-22 10:05:00+09:00          0        20.8          0         2.7   \n",
       "\n",
       "   ...  num_6走前3着タイム差  cat_トラック種別  num_距離 cat_距離区分 num_過去3走重み付き着順成績  \\\n",
       "0  ...            NaN           芝    1600      マイル              NaN   \n",
       "1  ...            NaN         ダート    1800      中距離              NaN   \n",
       "2  ...            NaN         ダート    1800      中距離              NaN   \n",
       "3  ...            NaN         ダート    1800      中距離         0.173651   \n",
       "4  ...            NaN         ダート    1800      中距離         0.177772   \n",
       "\n",
       "   num_入厩何日前逆数  cat_堅実な馬 cat_過去3走中1走訳あり凡走  cat_過去3走中2走好走  cat_過去3走繋がりあり  \n",
       "0          1.0     False            False          False          False  \n",
       "1          1.0     False            False          False          False  \n",
       "2          1.0     False            False          False          False  \n",
       "3          1.0     False            False          False          False  \n",
       "4          1.0     False            False          False          False  \n",
       "\n",
       "[5 rows x 110 columns]"
      ]
     },
     "execution_count": 3,
     "metadata": {},
     "output_type": "execute_result"
    }
   ],
   "source": [
    "data = read_hive_table(\n",
    "    table_name=\"features_20240304_v1\",\n",
    "    schema=\"jhra_curated\",\n",
    "    spark_session=spark,\n",
    "    # use_cache=False,\n",
    "    parse_dates=[\"meta_発走日時\"],\n",
    ")\n",
    "\n",
    "rows_before = data.shape[0]\n",
    "logger.info(f\"Original data length: {rows_before}\")\n",
    "\n",
    "# Drop from data where cat_トラック種別 == \"障害\"\n",
    "# Keep only horses that have 3 races\n",
    "# Keep only data from 2000 onwards\n",
    "data = data[\n",
    "    # (data[\"cat_トラック種別\"] != \"障害\")\n",
    "    (~data[\"meta_着順\"].isna())\n",
    "    # & (data[\"meta_異常区分\"] == \"0\")\n",
    "    # & (data[\"num_1走前着順\"].notnull())\n",
    "    # & (data[\"num_2走前着順\"].notnull())\n",
    "    # & (data[\"num_3走前着順\"].notnull())\n",
    "    # & (data[\"meta_発走日時\"] >= \"2000-01-01\")\n",
    "]\n",
    "\n",
    "rows_after = data.shape[0]\n",
    "logger.info(\n",
    "    f\"Data length after filtering: {rows_after} (dropped {rows_before - rows_after} rows, {100 * (rows_before - rows_after) / rows_before:.2f}%)\"\n",
    ")\n",
    "\n",
    "# Interpolate missing values for num_馬体重 (20 instances from 1999 ~ 2017)\n",
    "data[\"num_馬体重\"] = (\n",
    "    data.sort_values(\"meta_発走日時\")\n",
    "    .groupby(\"meta_血統登録番号\")[\"num_馬体重\"]\n",
    "    .transform(lambda x: x.interpolate(method=\"linear\", limit_direction=\"both\"))\n",
    ")\n",
    "\n",
    "data.reset_index(drop=True, inplace=True)\n",
    "data.head()"
   ]
  },
  {
   "cell_type": "code",
   "execution_count": 5,
   "metadata": {},
   "outputs": [
    {
     "name": "stderr",
     "output_type": "stream",
     "text": [
      "100%|██████████| 86237/86237 [02:44<00:00, 524.23it/s]\n"
     ]
    }
   ],
   "source": [
    "import pandas as pd\n",
    "import trueskill\n",
    "import tqdm\n",
    "\n",
    "# Assuming df is your DataFrame\n",
    "df_sorted = data.sort_values(by=[\"meta_発走日時\", \"meta_レースキー\"])\n",
    "\n",
    "# Initialize the TrueSkill environment\n",
    "env = trueskill.TrueSkill(draw_probability=0)  # No draws in horse racing\n",
    "\n",
    "# Initialize ratings for all horses\n",
    "horse_ratings = {\n",
    "    horse_id: env.create_rating()\n",
    "    for horse_id in df_sorted[\"meta_血統登録番号\"].unique()\n",
    "}\n",
    "\n",
    "# Placeholder for ratings at each point in time\n",
    "df_sorted[\"rating_post_race\"] = pd.NA\n",
    "df_sorted[\"rating_post_race_expose\"] = pd.NA\n",
    "df_sorted[\"rating_confidence_post_race\"] = pd.NA\n",
    "\n",
    "# Iterate through races in chronological order\n",
    "for (race_datetime, race_id), race_data in tqdm.tqdm(df_sorted.groupby([\"meta_発走日時\", \"meta_レースキー\"])):\n",
    "    race_results = race_data.sort_values(\"meta_着順\")\n",
    "    horse_ids = race_results[\"meta_血統登録番号\"].tolist()\n",
    "    horse_groups = [[horse_ratings[horse_id]] for horse_id in horse_ids]\n",
    "    ranks = list(range(len(horse_groups)))  # Lower rank number means a better position\n",
    "\n",
    "    # Update ratings based on the race outcome\n",
    "    updated_ratings = env.rate(horse_groups, ranks=ranks)\n",
    "\n",
    "    # Directly update the DataFrame with the new ratings\n",
    "    for index, (horse_id, new_rating_group) in zip(race_results.index, zip(horse_ids, updated_ratings)):\n",
    "        horse_ratings[horse_id] = new_rating_group[0]  # Update with new rating\n",
    "        df_sorted.at[index, \"rating_post_race_expose\"] = trueskill.expose(horse_ratings[horse_id])\n",
    "        df_sorted.at[index, \"rating_post_race\"] = horse_ratings[horse_id].mu  # Directly assign the rating\n",
    "        df_sorted.at[index, \"rating_confidence_post_race\"] = horse_ratings[horse_id].sigma\n",
    "        # df_sorted.at[index, \"rating_post_race\"] = env.expose(horse_ratings[horse_id])  # Directly assign the rating"
   ]
  },
  {
   "cell_type": "code",
   "execution_count": 6,
   "metadata": {},
   "outputs": [],
   "source": [
    "# Lag the rating_post_race by one row per horse (meta_血統登録番号) chronologically (meta_発走日時)\n",
    "df_sorted[\"rating_pre_race\"] = (\n",
    "    df_sorted.sort_values(\"meta_発走日時\")\n",
    "    .groupby(\"meta_血統登録番号\")[\"rating_post_race\"]\n",
    "    .shift(1)\n",
    "    .fillna(env.mu)\n",
    "    # .fillna(0.0) # when using exposure, default to 0\n",
    ")\n",
    "\n",
    "df_sorted[\"rating_confidence_pre_race\"] = (\n",
    "    df_sorted.sort_values(\"meta_発走日時\")\n",
    "    .groupby(\"meta_血統登録番号\")[\"rating_confidence_post_race\"]\n",
    "    .shift(1)\n",
    "    .fillna(env.sigma)\n",
    ")"
   ]
  },
  {
   "cell_type": "code",
   "execution_count": 8,
   "metadata": {},
   "outputs": [],
   "source": [
    "# Step 1: Calculate the total rating sum for each race\n",
    "race_rating_sum = df_sorted.groupby(\"meta_レースキー\")[\"rating_pre_race\"].transform(\"sum\")\n",
    "\n",
    "# Step 2: Calculate the count of horses in each race\n",
    "race_horse_count = df_sorted.groupby(\"meta_レースキー\")[\"rating_pre_race\"].transform(\"count\")\n",
    "\n",
    "# Step 3: Calculate the mean competitor rating for each horse\n",
    "df_sorted[\"mean_competitor_rating_pre_race\"] = (race_rating_sum - df_sorted[\"rating_pre_race\"]) / (race_horse_count - 1)\n",
    "\n",
    "# Step 4: Calculate the rating difference for each horse with respect to the mean competitor rating\n",
    "df_sorted[\"mean_competitor_rating_pre_race_diff\"] = df_sorted[\"rating_pre_race\"] - df_sorted[\"mean_competitor_rating_pre_race\"]"
   ]
  },
  {
   "cell_type": "code",
   "execution_count": 9,
   "metadata": {},
   "outputs": [],
   "source": [
    "# Step 1: Calculate the total rating sum for each race\n",
    "race_rating_confidence_sum = df_sorted.groupby(\"meta_レースキー\")[\"rating_confidence_pre_race\"].transform(\"sum\")\n",
    "\n",
    "# Step 2: Calculate the count of horses in each race\n",
    "race_horse_count = df_sorted.groupby(\"meta_レースキー\")[\"rating_confidence_pre_race\"].transform(\"count\")\n",
    "\n",
    "# Step 3: Calculate the mean competitor rating for each horse\n",
    "df_sorted[\"mean_competitor_rating_confidence_pre_race\"] = (race_rating_sum - df_sorted[\"rating_confidence_pre_race\"]) / (race_horse_count - 1)\n",
    "\n",
    "# Step 4: Calculate the rating difference for each horse with respect to the mean competitor rating\n",
    "df_sorted[\"mean_competitor_rating_confidence_pre_race_diff\"] = df_sorted[\"rating_confidence_pre_race\"] - df_sorted[\"mean_competitor_rating_confidence_pre_race\"]"
   ]
  },
  {
   "cell_type": "code",
   "execution_count": 11,
   "metadata": {},
   "outputs": [
    {
     "data": {
      "text/plain": [
       "<Axes: >"
      ]
     },
     "execution_count": 11,
     "metadata": {},
     "output_type": "execute_result"
    },
    {
     "data": {
      "image/png": "[encoded data removed]",
      "text/plain": [
       "<Figure size 640x480 with 1 Axes>"
      ]
     },
     "metadata": {},
     "output_type": "display_data"
    }
   ],
   "source": [
    "df_sorted.rating_post_race.hist(bins=100)"
   ]
  },
  {
   "cell_type": "code",
   "execution_count": 10,
   "metadata": {},
   "outputs": [],
   "source": [
    "df_final = df_sorted[\n",
    "    (df_sorted[\"cat_トラック種別\"] != \"障害\")\n",
    "    & (df_sorted[\"num_1走前着順\"].notnull())\n",
    "    & (df_sorted[\"num_2走前着順\"].notnull())\n",
    "    & (df_sorted[\"num_3走前着順\"].notnull())\n",
    "]"
   ]
  },
  {
   "cell_type": "code",
   "execution_count": 11,
   "metadata": {},
   "outputs": [
    {
     "name": "stdout",
     "output_type": "stream",
     "text": [
      "X_train: (664910, 119)\n",
      "X_test: (166228, 119)\n",
      "y_train: (664910,)\n",
      "y_test: (166228,)\n"
     ]
    }
   ],
   "source": [
    "from sklearn.model_selection import train_test_split\n",
    "\n",
    "\n",
    "X = df_final.copy()\n",
    "y = X[\"meta_複勝的中\"]\n",
    "X_train, X_test, y_train, y_test = train_test_split(\n",
    "    X, y, test_size=0.2, random_state=42\n",
    ")\n",
    "\n",
    "print(f\"X_train: {X_train.shape}\")\n",
    "print(f\"X_test: {X_test.shape}\")\n",
    "print(f\"y_train: {y_train.shape}\")\n",
    "print(f\"y_test: {y_test.shape}\")"
   ]
  },
  {
   "cell_type": "code",
   "execution_count": 12,
   "metadata": {},
   "outputs": [],
   "source": [
    "import mlflow\n",
    "import tempfile\n",
    "import re\n",
    "import japanize_matplotlib\n",
    "import numpy as np\n",
    "import pandas as pd\n",
    "import matplotlib.pyplot as plt\n",
    "import shap\n",
    "import warnings\n",
    "from lightgbm import LGBMClassifier\n",
    "from sklearn.compose import ColumnTransformer\n",
    "from sklearn.impute import SimpleImputer\n",
    "from sklearn.metrics import (\n",
    "    accuracy_score,\n",
    "    f1_score,\n",
    "    log_loss,\n",
    "    precision_score,\n",
    "    recall_score,\n",
    "    roc_auc_score,\n",
    ")\n",
    "from sklearn.model_selection import train_test_split\n",
    "from sklearn.pipeline import Pipeline\n",
    "from sklearn.preprocessing import OneHotEncoder, StandardScaler\n",
    "from sklearn.utils import resample\n",
    "from imblearn.over_sampling import SMOTE\n",
    "from imblearn.pipeline import Pipeline as ImblearnPipeline\n",
    "from hyperopt import STATUS_OK\n",
    "from JapanHorseRaceAnalytics.utilities.metrics import (\n",
    "    calculate_payout_rate,\n",
    "    kelly_criterion\n",
    ")\n",
    "\n",
    "from JapanHorseRaceAnalytics.utilities.plot import (\n",
    "    plot_confusion_matrix,\n",
    "    plot_roc_curve,\n",
    "    plot_feature_importances,\n",
    "    plot_shap_interaction_values,\n",
    "    plot_correlation_matrix,\n",
    ")\n",
    "\n",
    "\n",
    "\n",
    "def create_objective_fn(\n",
    "    X_train: pd.DataFrame,\n",
    "    y_train: pd.Series,\n",
    "    X_test: pd.DataFrame,\n",
    "    y_test: pd.Series,\n",
    "    payouts: pd.DataFrame,\n",
    "    payout_column_name: str,\n",
    "    mlflow_experiment_name: str,\n",
    "):\n",
    "    \"\"\"\n",
    "    payouts should have the same index as *_test and have the following columns:\n",
    "    * 発走日時\n",
    "    * odds\n",
    "    * payout\n",
    "    \"\"\"\n",
    "\n",
    "    def train(params):\n",
    "        mlflow.set_experiment(experiment_name=mlflow_experiment_name)\n",
    "        with mlflow.start_run():\n",
    "            ########################################################################################\n",
    "            # decay_rate = params[\"features__decay_rate\"]\n",
    "\n",
    "            for df in [X_train, X_test]:\n",
    "                # 1. Weighted average position\n",
    "                df[\"num_1走前標準化着順\"] = (df[\"num_1走前着順\"] - 1) / (df[\"num_1走前頭数\"] - 1)\n",
    "                df[\"num_2走前標準化着順\"] = (df[\"num_2走前着順\"] - 1) / (df[\"num_2走前頭数\"] - 1)\n",
    "                df[\"num_3走前標準化着順\"] = (df[\"num_3走前着順\"] - 1) / (df[\"num_3走前頭数\"] - 1)\n",
    "                # We want our factor (num_1走前経過日数) to start from 0\n",
    "                # so subtract the minimum value for \"days since last race\" across all horses\n",
    "                # Add a small number to avoid division by zero\n",
    "                df[\"num_1走前重み\"] = 1 / (df[\"num_1走前経過日数\"] - df[\"num_1走前経過日数\"].min() + 1e-6)\n",
    "                df[\"num_2走前重み\"] = 1 / (df[\"num_2走前経過日数\"] - df[\"num_1走前経過日数\"].min() + 1e-6)\n",
    "                df[\"num_3走前重み\"] = 1 / (df[\"num_3走前経過日数\"] - df[\"num_1走前経過日数\"].min() + 1e-6)\n",
    "                # df[\"num_2走前重み\"] = np.exp(-decay_rate * (df[\"num_2走前経過日数\"] - df[\"num_1走前経過日数\"].min()))\n",
    "                # df[\"num_3走前重み\"] = np.exp(-decay_rate * (df[\"num_3走前経過日数\"] - df[\"num_1走前経過日数\"].min()))\n",
    "                # Calculate weighted average of the feature\n",
    "                # weighted_feature_values = np.average([value for _, value in races], weights=weights)\n",
    "                df[\"num_過去3走重み付き標準化着順\"] = (\n",
    "                    (df[\"num_1走前標準化着順\"] * df[\"num_1走前重み\"])\n",
    "                    + (df[\"num_2走前標準化着順\"] * df[\"num_2走前重み\"])\n",
    "                    + (df[\"num_3走前標準化着順\"] * df[\"num_3走前重み\"])\n",
    "                ) / (df[\"num_1走前重み\"] + df[\"num_2走前重み\"] + df[\"num_3走前重み\"])\n",
    "\n",
    "                # 2. Weighted average time difference between the horse and the 3 horses behind it\n",
    "                df[\"num_1走前後続馬平均タイム差\"] = (\n",
    "                    df[[\"num_1走前後続馬1タイム差\", \"num_1走前後続馬2タイム差\", \"num_1走前後続馬3タイム差\"]]\n",
    "                    .mean(axis=1)\n",
    "                    .fillna(0)\n",
    "                )\n",
    "                df[\"num_2走前後続馬平均タイム差\"] = (\n",
    "                    df[[\"num_2走前後続馬1タイム差\", \"num_2走前後続馬2タイム差\", \"num_2走前後続馬3タイム差\"]]\n",
    "                    .mean(axis=1)\n",
    "                    .fillna(0)\n",
    "                )\n",
    "                df[\"num_3走前後続馬平均タイム差\"] = (\n",
    "                    df[[\"num_3走前後続馬1タイム差\", \"num_3走前後続馬2タイム差\", \"num_3走前後続馬3タイム差\"]]\n",
    "                    .mean(axis=1)\n",
    "                    .fillna(0)\n",
    "                )\n",
    "                df[\"num_過去3走重み付き後続馬平均タイム差\"] = (\n",
    "                    (df[\"num_1走前後続馬平均タイム差\"] * df[\"num_1走前重み\"])\n",
    "                    + (df[\"num_2走前後続馬平均タイム差\"] * df[\"num_2走前重み\"])\n",
    "                    + (df[\"num_3走前後続馬平均タイム差\"] * df[\"num_3走前重み\"])\n",
    "                ) / (df[\"num_1走前重み\"] + df[\"num_2走前重み\"] + df[\"num_3走前重み\"])\n",
    "            ########################################################################################\n",
    "            preprocessor = ColumnTransformer(\n",
    "                transformers=[\n",
    "                    (\n",
    "                        \"num\",\n",
    "                        StandardScaler(),\n",
    "                        [\n",
    "                            \"num_複勝率\",\n",
    "                            \"num_1走前経過日数\",\n",
    "                            \"num_過去3走重み付き標準化着順\",\n",
    "                            \"num_過去3走重み付き後続馬平均タイム差\",\n",
    "                            # \"mean_competitor_rating_pre_race\",\n",
    "                            \"mean_competitor_rating_pre_race_diff\",\n",
    "                            \"rating_pre_race\",\n",
    "                            \"rating_confidence_pre_race\",\n",
    "                            \"mean_competitor_rating_confidence_pre_race_diff\",\n",
    "                        ],\n",
    "                    ),\n",
    "                ],\n",
    "                remainder=\"drop\",\n",
    "            )\n",
    "\n",
    "            # Get all keys from params where the key starts with \"smote__\" and remove \"smote__\" from the key\n",
    "            smote_params = {k.split(\"__\")[1]: v for k, v in params.items() if k.startswith(\"smote__\")}\n",
    "\n",
    "            # do the same for classifier\n",
    "            classifier_params = {k.split(\"__\")[1]: v for k, v in params.items() if k.startswith(\"classifier__\")}\n",
    "\n",
    "            model = ImblearnPipeline(\n",
    "                steps=[\n",
    "                    (\"preprocessor\", preprocessor),\n",
    "                    (\"smote\", SMOTE(**smote_params)),\n",
    "                    (\"classifier\", LGBMClassifier(**classifier_params)),\n",
    "                ]\n",
    "            )\n",
    "\n",
    "            LGBMClassifier.feature_importances_\n",
    "\n",
    "            model.fit(X_train, y_train)\n",
    "            y_proba = model.predict_proba(X_test)\n",
    "            y_pred = model.predict(X_test)\n",
    "\n",
    "            metrics = {\n",
    "                \"loss\": -precision_score(y_test, y_pred),\n",
    "                \"log_loss\": log_loss(y_test, y_proba[:, 1]),\n",
    "                \"accuracy\": accuracy_score(y_test, y_pred),\n",
    "                \"precision\": precision_score(y_test, y_pred),\n",
    "                \"recall\": recall_score(y_test, y_pred),\n",
    "                \"f1\": f1_score(y_test, y_pred),\n",
    "                \"roc_auc\": roc_auc_score(y_test, y_pred),\n",
    "            }\n",
    "\n",
    "            mlflow.log_params(classifier_params)\n",
    "            mlflow.log_metrics(metrics)\n",
    "            mlflow.sklearn.log_model(sk_model=model, artifact_path=\"model\")\n",
    "\n",
    "            payout = calculate_payout_rate(\n",
    "                payouts=payouts,\n",
    "                y_test=y_test,\n",
    "                y_proba_true=y_proba[:, 1],\n",
    "                groupby=[\n",
    "                    (\"all\", None),\n",
    "                    (\"month\", payouts[\"発走日時\"].dt.month),\n",
    "                    (\"season\", payouts[\"発走日時\"].dt.month % 12 // 3),\n",
    "                    (\"year\", payouts[\"発走日時\"].dt.year),\n",
    "                ],\n",
    "                payout_column_name=payout_column_name,\n",
    "            )\n",
    "\n",
    "            # Save payout rates as csv\n",
    "            with tempfile.NamedTemporaryFile(prefix=\"payout_rate_\", suffix=\".csv\") as f:\n",
    "                payout.to_csv(f.name, index=False)\n",
    "                mlflow.log_artifact(f.name)\n",
    "\n",
    "            # Log payout rates as metrics\n",
    "            payout_metrics = {}\n",
    "            for group_name, group in payout.groupby(\"group\"):\n",
    "                for i, row in group.iterrows():\n",
    "                    key = re.sub(r\"\\W\", \"_\", f\"payout_rate_{group_name}_{row['part']}\")\n",
    "                    payout_metrics[key] = row[\"payout_rate\"]\n",
    "            mlflow.log_metrics(payout_metrics)\n",
    "\n",
    "            # Suppress UserWarning messages from matplotlib\n",
    "            warnings.filterwarnings(\"ignore\", category=UserWarning)\n",
    "\n",
    "            # Confusion Matrix\n",
    "            fig, axes = plot_confusion_matrix(y_test, y_pred)\n",
    "            with tempfile.NamedTemporaryFile(\n",
    "                prefix=\"confusion_matrix_\", suffix=\".png\"\n",
    "            ) as f:\n",
    "                fig.savefig(f.name)\n",
    "                plt.close()\n",
    "                mlflow.log_artifact(f.name)\n",
    "\n",
    "            # ROC Curve\n",
    "            fig, ax = plot_roc_curve(y_test, y_proba[:, 1])\n",
    "            with tempfile.NamedTemporaryFile(prefix=\"roc_curve_\", suffix=\".png\") as f:\n",
    "                fig.savefig(f.name)\n",
    "                plt.close()\n",
    "                mlflow.log_artifact(f.name)\n",
    "\n",
    "            # Feature Importances Plot\n",
    "            fig, ax = plot_feature_importances(\n",
    "                preprocessor.get_feature_names_out(),\n",
    "                model.named_steps[\"classifier\"].feature_importances_,\n",
    "                top_n=50,\n",
    "            )\n",
    "            with tempfile.NamedTemporaryFile(\n",
    "                prefix=\"feature_importance_\", suffix=\".png\"\n",
    "            ) as f:\n",
    "                fig.savefig(f.name)\n",
    "                plt.close()\n",
    "                mlflow.log_artifact(f.name)\n",
    "\n",
    "            # Feature Importances Data\n",
    "            feature_importances = zip(\n",
    "                preprocessor.get_feature_names_out(),\n",
    "                model.named_steps[\"classifier\"].feature_importances_,\n",
    "            )\n",
    "            feature_importances_df = (\n",
    "                pd.DataFrame(feature_importances, columns=[\"feature\", \"importance\"])\n",
    "                .sort_values(\"importance\", ascending=False)\n",
    "                .reset_index(drop=True)\n",
    "            )\n",
    "            with tempfile.NamedTemporaryFile(prefix=\"feature_importance_\", suffix=\".csv\") as f:\n",
    "                feature_importances_df.to_csv(f.name, index=False)\n",
    "                mlflow.log_artifact(f.name)\n",
    "            \n",
    "            # SHAP values\n",
    "            X_test_sample = X_test.sample(n=5000, random_state=42)\n",
    "            X_test_sample_prep = preprocessor.transform(X_test_sample)\n",
    "            explainer = shap.TreeExplainer(\n",
    "                model=model.named_steps[\"classifier\"],\n",
    "                feature_names=preprocessor.get_feature_names_out(),\n",
    "            )\n",
    "            # Because we are working with a binary classifier, we only need the SHAP values for the positive class.\n",
    "            # E.g., if you change 1->0 the waterfall plot flips backwards only.\n",
    "            shap_values = explainer(X_test_sample_prep)[:, :, 1]\n",
    "            shap_interaction_values = explainer.shap_interaction_values(X_test_sample_prep)\n",
    "\n",
    "            # SHAP beeswarm plot\n",
    "            shap.plots.beeswarm(shap_values, show=False)\n",
    "            plt.tight_layout()\n",
    "            with tempfile.NamedTemporaryFile(prefix=\"shap_beeswarm_\", suffix=\".png\") as f:\n",
    "                plt.savefig(f.name)\n",
    "                plt.close()\n",
    "                mlflow.log_artifact(f.name)\n",
    "\n",
    "            # SHAP interaction values heatmap\n",
    "            fig, ax = plot_shap_interaction_values(shap_interaction_values, preprocessor.get_feature_names_out())\n",
    "            with tempfile.NamedTemporaryFile(prefix=\"shap_interactions_\", suffix=\".png\") as f:\n",
    "                fig.savefig(f.name)\n",
    "                plt.close()\n",
    "                mlflow.log_artifact(f.name)\n",
    "\n",
    "            # SHAP bar plot\n",
    "            shap.plots.bar(shap_values, show=False)\n",
    "            plt.tight_layout()\n",
    "            with tempfile.NamedTemporaryFile(prefix=\"shap_bar_\", suffix=\".png\") as f:\n",
    "                plt.savefig(f.name)\n",
    "                plt.close()\n",
    "                mlflow.log_artifact(f.name)\n",
    "\n",
    "            # Correlation matrix\n",
    "            fig, ax = plot_correlation_matrix(data=preprocessor.transform(X_test), columns=preprocessor.get_feature_names_out())\n",
    "            with tempfile.NamedTemporaryFile(prefix=\"correlation_matrix_\", suffix=\".png\") as f:\n",
    "                fig.savefig(f.name)\n",
    "                plt.close()\n",
    "                mlflow.log_artifact(f.name)\n",
    "\n",
    "            return {\"status\": STATUS_OK, \"params\": params, \"model\": model, **metrics}\n",
    "\n",
    "    return train"
   ]
  },
  {
   "cell_type": "code",
   "execution_count": 13,
   "metadata": {},
   "outputs": [],
   "source": [
    "space = {\n",
    "    \"smote__random_state\": random_state,\n",
    "    \"classifier__boosting_type\": \"gbdt\",\n",
    "    \"classifier__learning_rate\": hp.loguniform(\"learning_rate\", -5, 0),  # between e^-5 and 1\n",
    "    \"classifier__n_estimators\": scope.int(hp.quniform(\"n_estimators\", 100, 1000, 1)),\n",
    "    \"classifier__max_depth\": scope.int(hp.quniform(\"max_depth\", 3, 10, 1)),\n",
    "    \"classifier__num_leaves\": scope.int(hp.quniform(\"num_leaves\", 20, 150, 1)),\n",
    "    \"classifier__min_child_samples\": scope.int(hp.quniform(\"min_child_samples\", 20, 500, 1)),\n",
    "    \"classifier__feature_fraction\": hp.uniform(\"feature_fraction\", 0.5, 1.0),\n",
    "    \"classifier__lambda_l1\": hp.uniform(\"lambda_l1\", 0, 5),\n",
    "    \"classifier__lambda_l2\": hp.uniform(\"lambda_l2\", 0, 5),\n",
    "    \"classifier__min_split_gain\": hp.uniform(\"min_split_gain\", 0, 1),\n",
    "    \"classifier__min_child_weight\": hp.uniform(\"min_child_weight\", 0.001, 10),\n",
    "    \"classifier__subsample\": hp.uniform(\"subsample\", 0.5, 1),\n",
    "    \"classifier__colsample_bytree\": hp.uniform(\"colsample_bytree\", 0.5, 1),\n",
    "    \"classifier__reg_alpha\": hp.uniform(\"reg_alpha\", 0.0, 1.0),\n",
    "    \"classifier__reg_lambda\": hp.uniform(\"reg_lambda\", 0.0, 1.0),\n",
    "    \"classifier__objective\": \"binary\",\n",
    "    \"classifier__verbose\": -1,\n",
    "    \"classifier__random_state\": random_state,\n",
    "}"
   ]
  },
  {
   "cell_type": "code",
   "execution_count": 14,
   "metadata": {},
   "outputs": [],
   "source": [
    "payouts = (\n",
    "    X_test[[\"meta_発走日時\", \"meta_複勝払戻金\", \"meta_複勝オッズ\"]]\n",
    "    .reset_index(drop=True)\n",
    "    .rename(\n",
    "        columns={\n",
    "            \"meta_発走日時\": \"発走日時\",\n",
    "            \"meta_複勝払戻金\": \"payout\",\n",
    "            \"meta_複勝オッズ\": \"odds\",\n",
    "        }\n",
    "    )\n",
    "    .assign(発走日時=lambda x: pd.to_datetime(x[\"発走日時\"]))\n",
    ")\n",
    "\n",
    "experiment_name = \"20240316-eda2-both-mu-sigma\"\n",
    "if mlflow.get_experiment_by_name(experiment_name) is None:\n",
    "    mlflow.create_experiment(experiment_name)\n",
    "\n",
    "fn = create_objective_fn(\n",
    "    X_train,\n",
    "    y_train,\n",
    "    X_test,\n",
    "    y_test,\n",
    "    payouts=payouts,\n",
    "    payout_column_name=\"payout\",\n",
    "    mlflow_experiment_name=experiment_name,\n",
    ")"
   ]
  },
  {
   "cell_type": "code",
   "execution_count": 15,
   "metadata": {},
   "outputs": [
    {
     "name": "stdout",
     "output_type": "stream",
     "text": [
      "  0%|          | 0/30 [00:00<?, ?trial/s, best loss=?]"
     ]
    },
    {
     "name": "stderr",
     "output_type": "stream",
     "text": [
      "build_posterior_wrapper took 0.001563 seconds\n",
      "TPE using 0 trials\n",
      "build_posterior_wrapper took 0.081475 seconds\n",
      "TPE using 1/1 trials with best loss inf\n",
      "build_posterior_wrapper took 0.001503 seconds\n",
      "TPE using 2/2 trials with best loss inf\n",
      "build_posterior_wrapper took 0.001622 seconds\n",
      "TPE using 3/3 trials with best loss inf\n",
      "Setuptools is replacing distutils.:>    (0 + 1) / 1][Stage 2:>    (0 + 1) / 1]1]\n",
      "Setuptools is replacing distutils.\n",
      "Closing down clientserver connection                                            \n"
     ]
    },
    {
     "name": "stdout",
     "output_type": "stream",
     "text": [
      "  3%|▎         | 1/30 [00:40<19:22, 40.08s/trial, best loss: -0.44030334106979]"
     ]
    },
    {
     "name": "stderr",
     "output_type": "stream",
     "text": [
      "build_posterior_wrapper took 0.001847 seconds\n",
      "TPE using 4/4 trials with best loss -0.440303\n",
      "Setuptools is replacing distutils.) / 1][Stage 1:>                  (0 + 1) / 1]\n",
      "Closing down clientserver connection                                            \n"
     ]
    },
    {
     "name": "stdout",
     "output_type": "stream",
     "text": [
      "  7%|▋         | 2/30 [01:08<15:27, 33.12s/trial, best loss: -0.45775745977744703]"
     ]
    },
    {
     "name": "stderr",
     "output_type": "stream",
     "text": [
      "build_posterior_wrapper took 0.001501 secondse 3:>                  (0 + 1) / 1]\n",
      "TPE using 5/5 trials with best loss -0.457757\n",
      "Setuptools is replacing distutils.\n",
      "Setuptools is replacing distutils.:>    (0 + 1) / 1][Stage 4:>    (0 + 1) / 1]\n",
      "Closing down clientserver connection                                            \n"
     ]
    },
    {
     "name": "stdout",
     "output_type": "stream",
     "text": [
      " 10%|█         | 3/30 [02:34<25:52, 57.51s/trial, best loss: -0.47163882917148997]"
     ]
    },
    {
     "name": "stderr",
     "output_type": "stream",
     "text": [
      "build_posterior_wrapper took 0.001597 secondse 4:>                  (0 + 1) / 1]\n",
      "TPE using 6/6 trials with best loss -0.471639\n",
      "Setuptools is replacing distutils.:>    (0 + 1) / 1][Stage 5:>    (0 + 1) / 1]\n",
      "Closing down clientserver connection                                            \n"
     ]
    },
    {
     "name": "stdout",
     "output_type": "stream",
     "text": [
      " 13%|█▎        | 4/30 [03:34<25:22, 58.54s/trial, best loss: -0.4813488405077654] "
     ]
    },
    {
     "name": "stderr",
     "output_type": "stream",
     "text": [
      "build_posterior_wrapper took 0.001509 secondse 5:>                  (0 + 1) / 1]\n",
      "TPE using 7/7 trials with best loss -0.481349\n",
      "Setuptools is replacing distutils.:>    (0 + 1) / 1][Stage 6:>    (0 + 1) / 1]\n",
      "Closing down clientserver connection                                            \n"
     ]
    },
    {
     "name": "stdout",
     "output_type": "stream",
     "text": [
      " 17%|█▋        | 5/30 [05:14<30:33, 73.36s/trial, best loss: -0.4813488405077654]"
     ]
    },
    {
     "name": "stderr",
     "output_type": "stream",
     "text": [
      "build_posterior_wrapper took 0.001690 seconds\n",
      "TPE using 8/8 trials with best loss -0.481349\n",
      "Closing down clientserver connection                                            \n"
     ]
    },
    {
     "name": "stdout",
     "output_type": "stream",
     "text": [
      " 20%|██        | 6/30 [05:32<21:51, 54.63s/trial, best loss: -0.4842728904847397]"
     ]
    },
    {
     "name": "stderr",
     "output_type": "stream",
     "text": [
      "build_posterior_wrapper took 0.001561 secondse 7:>                  (0 + 1) / 1]\n",
      "TPE using 9/9 trials with best loss -0.484273\n",
      "Setuptools is replacing distutils.:>    (0 + 1) / 1][Stage 8:>    (0 + 1) / 1]\n",
      "Setuptools is replacing distutils.\n",
      "Closing down clientserver connection                                            \n"
     ]
    },
    {
     "name": "stdout",
     "output_type": "stream",
     "text": [
      " 23%|██▎       | 7/30 [06:37<22:10, 57.85s/trial, best loss: -0.4842728904847397]"
     ]
    },
    {
     "name": "stderr",
     "output_type": "stream",
     "text": [
      "build_posterior_wrapper took 0.001553 secondse 8:>                  (0 + 1) / 1]\n",
      "TPE using 10/10 trials with best loss -0.484273\n",
      "Setuptools is replacing distutils.:>    (0 + 1) / 1][Stage 9:>    (0 + 1) / 1]\n",
      "Closing down clientserver connection                                            \n"
     ]
    },
    {
     "name": "stdout",
     "output_type": "stream",
     "text": [
      " 27%|██▋       | 8/30 [07:28<20:28, 55.83s/trial, best loss: -0.4842728904847397]"
     ]
    },
    {
     "name": "stderr",
     "output_type": "stream",
     "text": [
      "build_posterior_wrapper took 0.086643 secondse 9:>                  (0 + 1) / 1]\n",
      "TPE using 11/11 trials with best loss -0.484273                                 \n",
      "Closing down clientserver connection\n",
      "[Stage 7:>                                                          (0 + 1) / 1]\r"
     ]
    },
    {
     "name": "stdout",
     "output_type": "stream",
     "text": [
      " 30%|███       | 9/30 [07:30<13:36, 38.87s/trial, best loss: -0.4842728904847397]"
     ]
    },
    {
     "name": "stderr",
     "output_type": "stream",
     "text": [
      "build_posterior_wrapper took 0.001533 seconds\n",
      "TPE using 12/12 trials with best loss -0.484273\n",
      "Setuptools is replacing distutils.0:>   (0 + 1) / 1][Stage 11:>   (0 + 1) / 1]1]\n",
      "Setuptools is replacing distutils.\n",
      "Closing down clientserver connection                                            \n"
     ]
    },
    {
     "name": "stdout",
     "output_type": "stream",
     "text": [
      " 33%|███▎      | 10/30 [08:12<13:19, 39.99s/trial, best loss: -0.4842728904847397]"
     ]
    },
    {
     "name": "stderr",
     "output_type": "stream",
     "text": [
      "build_posterior_wrapper took 0.001627 seconds\n",
      "TPE using 13/13 trials with best loss -0.484273\n",
      "Closing down clientserver connection                                            \n",
      "[Stage 11:>                                                         (0 + 1) / 1]\r"
     ]
    },
    {
     "name": "stdout",
     "output_type": "stream",
     "text": [
      " 37%|███▋      | 11/30 [08:15<08:59, 28.40s/trial, best loss: -0.48629937326920275]"
     ]
    },
    {
     "name": "stderr",
     "output_type": "stream",
     "text": [
      "build_posterior_wrapper took 0.001536 seconds\n",
      "TPE using 14/14 trials with best loss -0.486299\n",
      "Closing down clientserver connection                                            \n"
     ]
    },
    {
     "name": "stdout",
     "output_type": "stream",
     "text": [
      " 40%|████      | 12/30 [08:35<07:45, 25.88s/trial, best loss: -0.48629937326920275]"
     ]
    },
    {
     "name": "stderr",
     "output_type": "stream",
     "text": [
      "build_posterior_wrapper took 0.001778 seconds\n",
      "TPE using 15/15 trials with best loss -0.486299\n",
      "Setuptools is replacing distutils.3:>   (0 + 1) / 1][Stage 14:>   (0 + 1) / 1]1]\n",
      "Setuptools is replacing distutils.\n",
      "Setuptools is replacing distutils.\n",
      "Closing down clientserver connection                                            \n",
      "[Stage 12:>                 (0 + 1) / 1][Stage 13:>                 (0 + 1) / 1]\r"
     ]
    },
    {
     "name": "stdout",
     "output_type": "stream",
     "text": [
      " 43%|████▎     | 13/30 [09:26<09:30, 33.56s/trial, best loss: -0.48629937326920275]"
     ]
    },
    {
     "name": "stderr",
     "output_type": "stream",
     "text": [
      "build_posterior_wrapper took 0.001546 seconds\n",
      "TPE using 16/16 trials with best loss -0.486299\n",
      "Setuptools is replacing distutils.3:>   (0 + 1) / 1][Stage 15:>   (0 + 1) / 1]\n",
      "Closing down clientserver connection                                            \n"
     ]
    },
    {
     "name": "stdout",
     "output_type": "stream",
     "text": [
      " 47%|████▋     | 14/30 [09:58<08:50, 33.15s/trial, best loss: -0.48629937326920275]"
     ]
    },
    {
     "name": "stderr",
     "output_type": "stream",
     "text": [
      "build_posterior_wrapper took 0.001448 secondse 13:>                 (0 + 1) / 1]\n",
      "TPE using 17/17 trials with best loss -0.486299\n",
      "Setuptools is replacing distutils.3:>   (0 + 1) / 1][Stage 16:>   (0 + 1) / 1]\n",
      "Closing down clientserver connection                                            \n",
      "[Stage 12:>                 (0 + 1) / 1][Stage 16:>                 (0 + 1) / 1]\r"
     ]
    },
    {
     "name": "stdout",
     "output_type": "stream",
     "text": [
      " 50%|█████     | 15/30 [12:52<18:51, 75.43s/trial, best loss: -0.48629937326920275]"
     ]
    },
    {
     "name": "stderr",
     "output_type": "stream",
     "text": [
      "build_posterior_wrapper took 0.001505 seconds\n",
      "TPE using 18/18 trials with best loss -0.486299\n",
      "Setuptools is replacing distutils.6:>   (0 + 1) / 1][Stage 17:>   (0 + 1) / 1]\n",
      "Closing down clientserver connection                                            \n"
     ]
    },
    {
     "name": "stdout",
     "output_type": "stream",
     "text": [
      " 53%|█████▎    | 16/30 [13:24<14:33, 62.38s/trial, best loss: -0.48629937326920275]"
     ]
    },
    {
     "name": "stderr",
     "output_type": "stream",
     "text": [
      "build_posterior_wrapper took 0.001550 secondse 16:>                 (0 + 1) / 1]\n",
      "TPE using 19/19 trials with best loss -0.486299\n",
      "Setuptools is replacing distutils.6:>   (0 + 1) / 1][Stage 18:>   (0 + 1) / 1]\n",
      "Closing down clientserver connection                                            \n",
      "[Stage 12:>                 (0 + 1) / 1][Stage 18:>                 (0 + 1) / 1]\r"
     ]
    },
    {
     "name": "stdout",
     "output_type": "stream",
     "text": [
      " 57%|█████▋    | 17/30 [14:41<14:31, 67.04s/trial, best loss: -0.48629937326920275]"
     ]
    },
    {
     "name": "stderr",
     "output_type": "stream",
     "text": [
      "build_posterior_wrapper took 0.001689 seconds\n",
      "TPE using 20/20 trials with best loss -0.486299\n",
      "Closing down clientserver connection                                            \n",
      "[Stage 12:>                 (0 + 1) / 1][Stage 19:>                 (0 + 1) / 1]\r"
     ]
    },
    {
     "name": "stdout",
     "output_type": "stream",
     "text": [
      " 60%|██████    | 18/30 [15:01<10:32, 52.68s/trial, best loss: -0.48629937326920275]"
     ]
    },
    {
     "name": "stderr",
     "output_type": "stream",
     "text": [
      "build_posterior_wrapper took 0.001694 seconds\n",
      "TPE using 21/21 trials with best loss -0.486299\n",
      "Closing down clientserver connection                                            \n",
      "[Stage 19:>                 (0 + 1) / 1][Stage 20:>                 (0 + 1) / 1]\r"
     ]
    },
    {
     "name": "stdout",
     "output_type": "stream",
     "text": [
      " 63%|██████▎   | 19/30 [15:07<07:05, 38.72s/trial, best loss: -0.48629937326920275]"
     ]
    },
    {
     "name": "stderr",
     "output_type": "stream",
     "text": [
      "build_posterior_wrapper took 0.001667 seconds\n",
      "TPE using 22/22 trials with best loss -0.486299\n",
      "Setuptools is replacing distutils.0:>   (0 + 1) / 1][Stage 21:>   (0 + 1) / 1]\n",
      "Setuptools is replacing distutils.\n",
      "Setuptools is replacing distutils.\n",
      "Closing down clientserver connection                                            \n"
     ]
    },
    {
     "name": "stdout",
     "output_type": "stream",
     "text": [
      " 67%|██████▋   | 20/30 [16:36<08:58, 53.85s/trial, best loss: -0.48629937326920275]"
     ]
    },
    {
     "name": "stderr",
     "output_type": "stream",
     "text": [
      "build_posterior_wrapper took 0.001603 secondse 20:>                 (0 + 1) / 1]\n",
      "TPE using 23/23 trials with best loss -0.486299\n",
      "Closing down clientserver connection                                            \n",
      "[Stage 19:>                 (0 + 1) / 1][Stage 22:>                 (0 + 1) / 1]\r"
     ]
    },
    {
     "name": "stdout",
     "output_type": "stream",
     "text": [
      " 70%|███████   | 21/30 [16:57<06:35, 43.98s/trial, best loss: -0.48629937326920275]"
     ]
    },
    {
     "name": "stderr",
     "output_type": "stream",
     "text": [
      "build_posterior_wrapper took 0.001631 seconds\n",
      "TPE using 24/24 trials with best loss -0.486299\n",
      "Setuptools is replacing distutils.2:>   (0 + 1) / 1][Stage 23:>   (0 + 1) / 1]\n",
      "Setuptools is replacing distutils.\n",
      "Closing down clientserver connection                                            \n"
     ]
    },
    {
     "name": "stdout",
     "output_type": "stream",
     "text": [
      " 73%|███████▎  | 22/30 [18:53<08:45, 65.74s/trial, best loss: -0.48629937326920275]"
     ]
    },
    {
     "name": "stderr",
     "output_type": "stream",
     "text": [
      "build_posterior_wrapper took 0.001597 seconds\n",
      "TPE using 25/25 trials with best loss -0.486299\n",
      "Closing down clientserver connection                                (0 + 1) / 1]\n"
     ]
    },
    {
     "name": "stdout",
     "output_type": "stream",
     "text": [
      " 77%|███████▋  | 23/30 [18:55<05:25, 46.55s/trial, best loss: -0.48629937326920275]"
     ]
    },
    {
     "name": "stderr",
     "output_type": "stream",
     "text": [
      "build_posterior_wrapper took 0.001476 seconds\n",
      "TPE using 26/26 trials with best loss -0.486299\n",
      "Setuptools is replacing distutils.4:>   (0 + 1) / 1][Stage 25:>   (0 + 1) / 1]1]\n",
      "Setuptools is replacing distutils.\n",
      "Closing down clientserver connection                                            \n",
      "[Stage 23:>                 (0 + 1) / 1][Stage 25:>                 (0 + 1) / 1]\r"
     ]
    },
    {
     "name": "stdout",
     "output_type": "stream",
     "text": [
      " 80%|████████  | 24/30 [20:16<05:41, 56.86s/trial, best loss: -0.48629937326920275]"
     ]
    },
    {
     "name": "stderr",
     "output_type": "stream",
     "text": [
      "build_posterior_wrapper took 0.001761 seconds\n",
      "TPE using 27/27 trials with best loss -0.486299\n",
      "Setuptools is replacing distutils.5:>   (0 + 1) / 1][Stage 26:>   (0 + 1) / 1]\n",
      "Closing down clientserver connection                                            \n"
     ]
    },
    {
     "name": "stdout",
     "output_type": "stream",
     "text": [
      " 83%|████████▎ | 25/30 [20:44<04:01, 48.25s/trial, best loss: -0.48629937326920275]"
     ]
    },
    {
     "name": "stderr",
     "output_type": "stream",
     "text": [
      "build_posterior_wrapper took 0.001559 secondse 26:>                 (0 + 1) / 1]\n",
      "TPE using 28/28 trials with best loss -0.486299\n",
      "Closing down clientserver connection                                            \n"
     ]
    },
    {
     "name": "stdout",
     "output_type": "stream",
     "text": [
      " 87%|████████▋ | 26/30 [21:01<02:34, 38.73s/trial, best loss: -0.48629937326920275]"
     ]
    },
    {
     "name": "stderr",
     "output_type": "stream",
     "text": [
      "build_posterior_wrapper took 0.001504 secondse 27:>                 (0 + 1) / 1]\n",
      "TPE using 29/29 trials with best loss -0.486299\n",
      "Setuptools is replacing distutils.7:>   (0 + 1) / 1][Stage 28:>   (0 + 1) / 1]\n",
      "Setuptools is replacing distutils.\n",
      "Closing down clientserver connection                                            \n"
     ]
    },
    {
     "name": "stdout",
     "output_type": "stream",
     "text": [
      " 90%|█████████ | 27/30 [22:04<02:18, 46.06s/trial, best loss: -0.48629937326920275]"
     ]
    },
    {
     "name": "stderr",
     "output_type": "stream",
     "text": [
      "Closing down clientserver connection                                            \n"
     ]
    },
    {
     "name": "stdout",
     "output_type": "stream",
     "text": [
      " 93%|█████████▎| 28/30 [22:10<01:08, 34.10s/trial, best loss: -0.48629937326920275]"
     ]
    },
    {
     "name": "stderr",
     "output_type": "stream",
     "text": [
      "Closing down clientserver connection                                            \n"
     ]
    },
    {
     "name": "stdout",
     "output_type": "stream",
     "text": [
      " 97%|█████████▋| 29/30 [22:17<00:25, 25.99s/trial, best loss: -0.48629937326920275]"
     ]
    },
    {
     "name": "stderr",
     "output_type": "stream",
     "text": [
      "Setuptools is replacing distutils.                                  (0 + 1) / 1]\n",
      "Closing down clientserver connection                                            \n"
     ]
    },
    {
     "name": "stdout",
     "output_type": "stream",
     "text": [
      "100%|██████████| 30/30 [25:25<00:00, 50.85s/trial, best loss: -0.486558037212424]  "
     ]
    },
    {
     "name": "stderr",
     "output_type": "stream",
     "text": [
      "Queue empty, exiting run.\n",
      "Closing down clientserver connection\n",
      "Total Trials: 30: 30 succeeded, 0 failed, 0 cancelled.\n",
      "Total Trials: 30: 30 succeeded, 0 failed, 0 cancelled.\n"
     ]
    },
    {
     "name": "stdout",
     "output_type": "stream",
     "text": [
      "\n"
     ]
    },
    {
     "data": {
      "text/plain": [
       "{'colsample_bytree': 0.5585821876657846,\n",
       " 'feature_fraction': 0.8232022730849241,\n",
       " 'lambda_l1': 4.033613525430295,\n",
       " 'lambda_l2': 0.6796479681897603,\n",
       " 'learning_rate': 0.17869131591184476,\n",
       " 'max_depth': 6.0,\n",
       " 'min_child_samples': 52.0,\n",
       " 'min_child_weight': 1.6156724500279371,\n",
       " 'min_split_gain': 0.2938780014580466,\n",
       " 'n_estimators': 916.0,\n",
       " 'num_leaves': 101.0,\n",
       " 'reg_alpha': 0.26936955523575307,\n",
       " 'reg_lambda': 0.9966121490086561,\n",
       " 'subsample': 0.8973387640163732}"
      ]
     },
     "execution_count": 15,
     "metadata": {},
     "output_type": "execute_result"
    }
   ],
   "source": [
    "# trials = Trials()\n",
    "# fmin(\n",
    "#     fn=fn,\n",
    "#     space=space,\n",
    "#     algo=tpe.suggest,\n",
    "#     max_evals=1,\n",
    "#     trials=trials,\n",
    "# )\n",
    "\n",
    "trials = SparkTrials(parallelism=3, spark_session=spark)\n",
    "fmin(fn=fn, space=space, algo=tpe.suggest, max_evals=30, trials=trials)"
   ]
  }
 ],
 "metadata": {
  "kernelspec": {
   "display_name": ".venv",
   "language": "python",
   "name": "python3"
  },
  "language_info": {
   "codemirror_mode": {
    "name": "ipython",
    "version": 3
   },
   "file_extension": ".py",
   "mimetype": "text/x-python",
   "name": "python",
   "nbconvert_exporter": "python",
   "pygments_lexer": "ipython3",
   "version": "3.11.6"
  }
 },
 "nbformat": 4,
 "nbformat_minor": 2
}
